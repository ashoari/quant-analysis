{
 "metadata": {
  "name": "",
  "signature": "sha256:831fc54e3043a363c924a12d88bdd31402b5919540d4afd1ca9adf36e0ef690f"
 },
 "nbformat": 3,
 "nbformat_minor": 0,
 "worksheets": [
  {
   "cells": [
    {
     "cell_type": "code",
     "collapsed": false,
     "input": [
      "import Quandl\n",
      "snp_data = Quandl.get('YAHOO/INDEX_GSPC')\n",
      "snp_data.columns = ['Open','High','Low','Close','Volume','AdjustedClose']\n",
      "percentage_change = snp_data.AdjustedClose.pct_change()\n",
      "percentage_change.fillna(0)\n",
      "mean = percentage_change.mean()\n",
      "std_dev = percentage_change.std()\n",
      "\n",
      "print \"The model for S&P 500 mean returns of {0} and standard deviation of {1}\".format(mean, std_dev)"
     ],
     "language": "python",
     "metadata": {},
     "outputs": [
      {
       "output_type": "stream",
       "stream": "stdout",
       "text": [
        "The model for S&P 500 mean returns of 0.000340686508169 and standard deviation of 0.00968522521835\n"
       ]
      }
     ],
     "prompt_number": 25
    },
    {
     "cell_type": "code",
     "collapsed": false,
     "input": [
      "str = \"\"\"MMM\n",
      "ABT\n",
      "ABBV\n",
      "ACE\n",
      "ACN\n",
      "ACT\n",
      "ADBE\n",
      "ADT\n",
      "AES\n",
      "AET\n",
      "AFL\n",
      "AMG\n",
      "A\n",
      "GAS\n",
      "APD\n",
      "ARG\n",
      "AKAM\n",
      "AA\n",
      "ALXN\n",
      "ATI\n",
      "ALLE\n",
      "AGN\n",
      "ADS\n",
      "ALL\n",
      "ALTR\n",
      "MO\n",
      "AMZN\n",
      "AEE\n",
      "AEP\n",
      "AXP\n",
      "AIG\n",
      "AMT\n",
      "AMP\n",
      "ABC\n",
      "AME\n",
      "AMGN\n",
      "APH\n",
      "APC\n",
      "ADI\n",
      "AON\n",
      "APA\n",
      "AIV\n",
      "AAPL\n",
      "AMAT\n",
      "ADM\n",
      "AIZ\n",
      "T\n",
      "ADSK\n",
      "ADP\n",
      "AN\n",
      "AZO\n",
      "AVGO\n",
      "AVB\n",
      "AVY\n",
      "AVP\n",
      "BHI\n",
      "BLL\n",
      "BAC\n",
      "BK\n",
      "BCR\n",
      "BAX\n",
      "BBT\n",
      "BDX\n",
      "BBBY\n",
      "BRK.B\n",
      "BBY\n",
      "BIIB\n",
      "BLK\n",
      "HRB\n",
      "BA\n",
      "BWA\n",
      "BXP\n",
      "BSX\n",
      "BMY\n",
      "BRCM\n",
      "BF.B\n",
      "CHRW\n",
      "CA\n",
      "CVC\n",
      "COG\n",
      "CAM\n",
      "CPB\n",
      "COF\n",
      "CAH\n",
      "CFN\n",
      "KMX\n",
      "CCL\n",
      "CAT\n",
      "CBG\n",
      "CBS\n",
      "CELG\n",
      "CNP\n",
      "CTL\n",
      "CERN\n",
      "CF\n",
      "SCHW\n",
      "CHK\n",
      "CVX\n",
      "CMG\n",
      "CB\n",
      "CI\n",
      "XEC\n",
      "CINF\n",
      "CTAS\n",
      "CSCO\n",
      "C\n",
      "CTXS\n",
      "CLX\n",
      "CME\n",
      "CMS\n",
      "COH\n",
      "KO\n",
      "CCE\n",
      "CTSH\n",
      "CL\n",
      "CMCSA\n",
      "CMA\n",
      "CSC\n",
      "CAG\n",
      "COP\n",
      "CNX\n",
      "ED\n",
      "STZ\n",
      "GLW\n",
      "COST\n",
      "COV\n",
      "CCI\n",
      "CSX\n",
      "CMI\n",
      "CVS\n",
      "DHI\n",
      "DHR\n",
      "DRI\n",
      "DVA\n",
      "DE\n",
      "DLPH\n",
      "DAL\n",
      "DNR\n",
      "XRAY\n",
      "DVN\n",
      "DO\n",
      "DTV\n",
      "DFS\n",
      "DISCA\n",
      "DISCK\n",
      "DG\n",
      "DLTR\n",
      "D\n",
      "DOV\n",
      "DOW\n",
      "DPS\n",
      "DTE\n",
      "DD\n",
      "DUK\n",
      "DNB\n",
      "ETFC\n",
      "EMN\n",
      "ETN\n",
      "EBAY\n",
      "ECL\n",
      "EIX\n",
      "EW\n",
      "EA\n",
      "EMC\n",
      "EMR\n",
      "ESV\n",
      "ETR\n",
      "EOG\n",
      "EQT\n",
      "EFX\n",
      "EQR\n",
      "ESS\n",
      "EL\n",
      "EXC\n",
      "EXPE\n",
      "EXPD\n",
      "ESRX\n",
      "XOM\n",
      "FFIV\n",
      "FB\n",
      "FDO\n",
      "FAST\n",
      "FDX\n",
      "FIS\n",
      "FITB\n",
      "FSLR\n",
      "FE\n",
      "FISV\n",
      "FLIR\n",
      "FLS\n",
      "FLR\n",
      "FMC\n",
      "FTI\n",
      "F\n",
      "FOSL\n",
      "BEN\n",
      "FCX\n",
      "FTR\n",
      "GME\n",
      "GCI\n",
      "GPS\n",
      "GRMN\n",
      "GD\n",
      "GE\n",
      "GGP\n",
      "GIS\n",
      "GM\n",
      "GPC\n",
      "GNW\n",
      "GILD\n",
      "GS\n",
      "GT\n",
      "GOOGL\n",
      "GOOG\n",
      "GWW\n",
      "HAL\n",
      "HOG\n",
      "HAR\n",
      "HRS\n",
      "HIG\n",
      "HAS\n",
      "HCP\n",
      "HCN\n",
      "HP\n",
      "HES\n",
      "HPQ\n",
      "HD\n",
      "HON\n",
      "HRL\n",
      "HSP\n",
      "HST\n",
      "HCBK\n",
      "HUM\n",
      "HBAN\n",
      "ITW\n",
      "IR\n",
      "TEG\n",
      "INTC\n",
      "ICE\n",
      "IBM\n",
      "IP\n",
      "IPG\n",
      "IFF\n",
      "INTU\n",
      "ISRG\n",
      "IVZ\n",
      "IRM\n",
      "JEC\n",
      "JNJ\n",
      "JCI\n",
      "JOY\n",
      "JPM\n",
      "JNPR\n",
      "KSU\n",
      "K\n",
      "KEY\n",
      "GMCR\n",
      "KMB\n",
      "KIM\n",
      "KMI\n",
      "KLAC\n",
      "KSS\n",
      "KRFT\n",
      "KR\n",
      "LB\n",
      "LLL\n",
      "LH\n",
      "LRCX\n",
      "LM\n",
      "LEG\n",
      "LEN\n",
      "LVLT\n",
      "LUK\n",
      "LLY\n",
      "LNC\n",
      "LLTC\n",
      "LMT\n",
      "L\n",
      "LO\n",
      "LOW\n",
      "LYB\n",
      "MTB\n",
      "MAC\n",
      "M\n",
      "MNK\n",
      "MRO\n",
      "MPC\n",
      "MAR\n",
      "MMC\n",
      "MAS\n",
      "MA\n",
      "MAT\n",
      "MKC\n",
      "MCD\n",
      "MHFI\n",
      "MCK\n",
      "MJN\n",
      "MWV\n",
      "MDT\n",
      "MRK\n",
      "MET\n",
      "KORS\n",
      "MCHP\n",
      "MU\n",
      "MSFT\n",
      "MHK\n",
      "TAP\n",
      "MDLZ\n",
      "MON\n",
      "MNST\n",
      "MCO\n",
      "MS\n",
      "MOS\n",
      "MSI\n",
      "MUR\n",
      "MYL\n",
      "NBR\n",
      "NDAQ\n",
      "NOV\n",
      "NAVI\n",
      "NTAP\n",
      "NFLX\n",
      "NWL\n",
      "NFX\n",
      "NEM\n",
      "NWSA\n",
      "NEE\n",
      "NLSN\n",
      "NKE\n",
      "NI\n",
      "NE\n",
      "NBL\n",
      "JWN\n",
      "NSC\n",
      "NTRS\n",
      "NOC\n",
      "NU\n",
      "NRG\n",
      "NUE\n",
      "NVDA\n",
      "ORLY\n",
      "OXY\n",
      "OMC\n",
      "OKE\n",
      "ORCL\n",
      "OI\n",
      "PCG\n",
      "PCAR\n",
      "PLL\n",
      "PH\n",
      "PDCO\n",
      "PAYX\n",
      "PNR\n",
      "PBCT\n",
      "POM\n",
      "PEP\n",
      "PKI\n",
      "PRGO\n",
      "PETM\n",
      "PFE\n",
      "PM\n",
      "PSX\n",
      "PNW\n",
      "PXD\n",
      "PBI\n",
      "PCL\n",
      "PNC\n",
      "RL\n",
      "PPG\n",
      "PPL\n",
      "PX\n",
      "PCP\n",
      "PCLN\n",
      "PFG\n",
      "PG\n",
      "PGR\n",
      "PLD\n",
      "PRU\n",
      "PEG\n",
      "PSA\n",
      "PHM\n",
      "PVH\n",
      "QEP\n",
      "PWR\n",
      "QCOM\n",
      "DGX\n",
      "RRC\n",
      "RTN\n",
      "RHT\n",
      "REGN\n",
      "RF\n",
      "RSG\n",
      "RAI\n",
      "RHI\n",
      "ROK\n",
      "COL\n",
      "ROP\n",
      "ROST\n",
      "RCL\n",
      "R\n",
      "SWY\n",
      "CRM\n",
      "SNDK\n",
      "SCG\n",
      "SLB\n",
      "SNI\n",
      "STX\n",
      "SEE\n",
      "SRE\n",
      "SHW\n",
      "SIAL\n",
      "SPG\n",
      "SJM\n",
      "SNA\n",
      "SO\n",
      "LUV\n",
      "SWN\n",
      "SE\n",
      "STJ\n",
      "SWK\n",
      "SPLS\n",
      "SBUX\n",
      "HOT\n",
      "STT\n",
      "SRCL\n",
      "SYK\n",
      "STI\n",
      "SYMC\n",
      "SYY\n",
      "TROW\n",
      "TGT\n",
      "TEL\n",
      "TE\n",
      "THC\n",
      "TDC\n",
      "TSO\n",
      "TXN\n",
      "TXT\n",
      "HSY\n",
      "TRV\n",
      "TMO\n",
      "TIF\n",
      "TWX\n",
      "TWC\n",
      "TJX\n",
      "TMK\n",
      "TSS\n",
      "TSCO\n",
      "RIG\n",
      "TRIP\n",
      "FOXA\n",
      "TSN\n",
      "TYC\n",
      "USB\n",
      "UA\n",
      "UNP\n",
      "UNH\n",
      "UPS\n",
      "MLM\n",
      "URI\n",
      "UTX\n",
      "UHS\n",
      "UNM\n",
      "URBN\n",
      "VFC\n",
      "VLO\n",
      "VAR\n",
      "VTR\n",
      "VRSN\n",
      "VZ\n",
      "VRTX\n",
      "VIAB\n",
      "V\n",
      "VNO\n",
      "VMC\n",
      "WMT\n",
      "WBA\n",
      "DIS\n",
      "WM\n",
      "WAT\n",
      "ANTM\n",
      "WFC\n",
      "WDC\n",
      "WU\n",
      "WY\n",
      "WHR\n",
      "WFM\n",
      "WMB\n",
      "WIN\n",
      "WEC\n",
      "WYN\n",
      "WYNN\n",
      "XEL\n",
      "XRX\n",
      "XLNX\n",
      "XL\n",
      "XYL\n",
      "YHOO\n",
      "YUM\n",
      "ZMH\n",
      "ZION\n",
      "ZTS\"\"\"\n",
      "snp_array = str.split(\"\\n\")"
     ],
     "language": "python",
     "metadata": {},
     "outputs": [],
     "prompt_number": 27
    },
    {
     "cell_type": "code",
     "collapsed": false,
     "input": [
      "import pandas.io.data as web\n",
      "import datetime\n",
      "\n",
      "securities_data = list()\n",
      "start = datetime.datetime(2009, 1, 1)\n",
      "end = datetime.datetime.today()\n",
      "\n",
      "for security_symbol in snp_array:\n",
      "    print 'now processing security {0}'.format(security_symbol)\n",
      "    f=web.DataReader(security_symbol, 'yahoo', start, end)\n",
      "    f.columns = ['Open','High','Low','Close','Volume','AdjClose'] \n",
      "    f.AdjClose.fillna(0)\n",
      "    percentage_change = f.AdjClose.pct_change()\n",
      "    mean = percentage_change.mean()\n",
      "    std_dev = percentage_change.std()\n",
      "    print 'mean => {0} and std. deviation => {1} for security => {2}'.format(mean, std_dev, security_symbol)\n",
      "    sec_dict = dict()\n",
      "    sec_dict['security_symbol'] = security_symbol\n",
      "    sec_dict['mean'] = mean\n",
      "    sec_dict['std_dev'] = std_dev\n",
      "    securities_data.append(sec_dict)"
     ],
     "language": "python",
     "metadata": {},
     "outputs": [
      {
       "output_type": "stream",
       "stream": "stdout",
       "text": [
        "now processing security MMM\n",
        "mean => 0.000872957374264 and std. deviation => 0.0136265932895 for security => MMM"
       ]
      },
      {
       "output_type": "stream",
       "stream": "stdout",
       "text": [
        "\n",
        "now processing security ABT\n",
        "mean => 0.000544042085207 and std. deviation => 0.0114773730785 for security => ABT"
       ]
      },
      {
       "output_type": "stream",
       "stream": "stdout",
       "text": [
        "\n",
        "now processing security ABBV\n",
        "mean => 0.00140562858257 and std. deviation => 0.0157148719265 for security => ABBV"
       ]
      },
      {
       "output_type": "stream",
       "stream": "stdout",
       "text": [
        "\n",
        "now processing security ACE\n",
        "mean => 0.000718010331602 and std. deviation => 0.0155087949969 for security => ACE"
       ]
      },
      {
       "output_type": "stream",
       "stream": "stdout",
       "text": [
        "\n",
        "now processing security ACN\n",
        "mean => 0.000844944243928 and std. deviation => 0.0153007263799 for security => ACN"
       ]
      },
      {
       "output_type": "stream",
       "stream": "stdout",
       "text": [
        "\n",
        "now processing security ACT\n",
        "mean => 0.00167795861033 and std. deviation => 0.0160799455442 for security => ACT"
       ]
      },
      {
       "output_type": "stream",
       "stream": "stdout",
       "text": [
        "\n",
        "now processing security ADBE\n",
        "mean => 0.000976832995945 and std. deviation => 0.020713552238 for security => ADBE"
       ]
      },
      {
       "output_type": "stream",
       "stream": "stdout",
       "text": [
        "\n",
        "now processing security ADT\n",
        "mean => 0.00010615201675 and std. deviation => 0.0179950579263 for security => ADT"
       ]
      },
      {
       "output_type": "stream",
       "stream": "stdout",
       "text": [
        "\n",
        "now processing security AES\n",
        "mean => 0.000534930855254 and std. deviation => 0.0224208788043 for security => AES"
       ]
      },
      {
       "output_type": "stream",
       "stream": "stdout",
       "text": [
        "\n",
        "now processing security AET\n",
        "mean => 0.00103506420012 and std. deviation => 0.020911944619 for security => AET"
       ]
      },
      {
       "output_type": "stream",
       "stream": "stdout",
       "text": [
        "\n",
        "now processing security AFL\n",
        "mean => 0.000717449373802 and std. deviation => 0.0296836269219 for security => AFL"
       ]
      },
      {
       "output_type": "stream",
       "stream": "stdout",
       "text": [
        "\n",
        "now processing security AMG\n",
        "mean => 0.00137731139574 and std. deviation => 0.0262481967491 for security => AMG"
       ]
      },
      {
       "output_type": "stream",
       "stream": "stdout",
       "text": [
        "\n",
        "now processing security A\n",
        "mean => 0.0010516030256 and std. deviation => 0.0212462562401 for security => A"
       ]
      },
      {
       "output_type": "stream",
       "stream": "stdout",
       "text": [
        "\n",
        "now processing security GAS\n",
        "mean => 0.000633937332212 and std. deviation => 0.0116309437039 for security => GAS"
       ]
      },
      {
       "output_type": "stream",
       "stream": "stdout",
       "text": [
        "\n",
        "now processing security APD\n",
        "mean => 0.0008857711371 and std. deviation => 0.0157014251006 for security => APD"
       ]
      },
      {
       "output_type": "stream",
       "stream": "stdout",
       "text": [
        "\n",
        "now processing security ARG\n",
        "mean => 0.000907193202696 and std. deviation => 0.0183275223566 for security => ARG"
       ]
      },
      {
       "output_type": "stream",
       "stream": "stdout",
       "text": [
        "\n",
        "now processing security AKAM\n",
        "mean => 0.00127152105344 and std. deviation => 0.027894859187 for security => AKAM"
       ]
      },
      {
       "output_type": "stream",
       "stream": "stdout",
       "text": [
        "\n",
        "now processing security AA\n",
        "mean => 0.000591644081745 and std. deviation => 0.026536181539 for security => AA"
       ]
      },
      {
       "output_type": "stream",
       "stream": "stdout",
       "text": [
        "\n",
        "now processing security ALXN\n",
        "mean => 0.00175226314061 and std. deviation => 0.0221006171464 for security => ALXN"
       ]
      },
      {
       "output_type": "stream",
       "stream": "stdout",
       "text": [
        "\n",
        "now processing security ATI\n",
        "mean => 0.000584421541345 and std. deviation => 0.0307033601537 for security => ATI"
       ]
      },
      {
       "output_type": "stream",
       "stream": "stdout",
       "text": [
        "\n",
        "now processing security ALLE\n",
        "mean => 0.000508545624704 and std. deviation => 0.014172842534 for security => ALLE"
       ]
      },
      {
       "output_type": "stream",
       "stream": "stdout",
       "text": [
        "\n",
        "now processing security AGN\n",
        "mean => 0.00125286051517 and std. deviation => 0.016690980188 for security => AGN"
       ]
      },
      {
       "output_type": "stream",
       "stream": "stdout",
       "text": [
        "\n",
        "now processing security ADS\n",
        "mean => 0.00140443895354 and std. deviation => 0.0204260858832 for security => ADS"
       ]
      },
      {
       "output_type": "stream",
       "stream": "stdout",
       "text": [
        "\n",
        "now processing security ALL\n",
        "mean => 0.000815942980362 and std. deviation => 0.0202558701215 for security => ALL"
       ]
      },
      {
       "output_type": "stream",
       "stream": "stdout",
       "text": [
        "\n",
        "now processing security ALTR\n",
        "mean => 0.000726395470564 and std. deviation => 0.0202863967211 for security => ALTR"
       ]
      },
      {
       "output_type": "stream",
       "stream": "stdout",
       "text": [
        "\n",
        "now processing security MO\n",
        "mean => 0.00111916825763 and std. deviation => 0.00996039915238 for security => MO"
       ]
      },
      {
       "output_type": "stream",
       "stream": "stdout",
       "text": [
        "\n",
        "now processing security AMZN\n",
        "mean => 0.00140533105122 and std. deviation => 0.0230556787822 for security => AMZN"
       ]
      },
      {
       "output_type": "stream",
       "stream": "stdout",
       "text": [
        "\n",
        "now processing security AEE\n",
        "mean => 0.000490676433475 and std. deviation => 0.0130288122042 for security => AEE"
       ]
      },
      {
       "output_type": "stream",
       "stream": "stdout",
       "text": [
        "\n",
        "now processing security AEP\n",
        "mean => 0.000664915675815 and std. deviation => 0.0113846261668 for security => AEP"
       ]
      },
      {
       "output_type": "stream",
       "stream": "stdout",
       "text": [
        "\n",
        "now processing security AXP\n",
        "mean => 0.00132122384338 and std. deviation => 0.0239336265126 for security => AXP"
       ]
      },
      {
       "output_type": "stream",
       "stream": "stdout",
       "text": [
        "\n",
        "now processing security AIG\n",
        "mean => 0.0014516058262 and std. deviation => 0.0474186954855 for security => AIG"
       ]
      },
      {
       "output_type": "stream",
       "stream": "stdout",
       "text": [
        "\n",
        "now processing security AMT\n",
        "mean => 0.00092727609007 and std. deviation => 0.0152811019074 for security => AMT"
       ]
      },
      {
       "output_type": "stream",
       "stream": "stdout",
       "text": [
        "\n",
        "now processing security AMP\n",
        "mean => 0.00150841003244 and std. deviation => 0.025043351725 for security => AMP"
       ]
      },
      {
       "output_type": "stream",
       "stream": "stdout",
       "text": [
        "\n",
        "now processing security ABC\n",
        "mean => 0.00123546885864 and std. deviation => 0.0132956929243 for security => ABC"
       ]
      },
      {
       "output_type": "stream",
       "stream": "stdout",
       "text": [
        "\n",
        "now processing security AME\n",
        "mean => 0.000991788147683 and std. deviation => 0.0170079893736 for security => AME"
       ]
      },
      {
       "output_type": "stream",
       "stream": "stdout",
       "text": [
        "\n",
        "now processing security AMGN\n",
        "mean => 0.000818650902161 and std. deviation => 0.0156173845404 for security => AMGN"
       ]
      },
      {
       "output_type": "stream",
       "stream": "stdout",
       "text": [
        "\n",
        "now processing security APH\n",
        "mean => 0.00115869160151 and std. deviation => 0.0191831683545 for security => APH"
       ]
      },
      {
       "output_type": "stream",
       "stream": "stdout",
       "text": [
        "\n",
        "now processing security APC\n",
        "mean => 0.000790326403267 and std. deviation => 0.024631965836 for security => APC"
       ]
      },
      {
       "output_type": "stream",
       "stream": "stdout",
       "text": [
        "\n",
        "now processing security ADI\n",
        "mean => 0.000931710994183 and std. deviation => 0.0169502926658 for security => ADI"
       ]
      },
      {
       "output_type": "stream",
       "stream": "stdout",
       "text": [
        "\n",
        "now processing security AON\n",
        "mean => 0.0006444468373 and std. deviation => 0.0142909382297 for security => AON"
       ]
      },
      {
       "output_type": "stream",
       "stream": "stdout",
       "text": [
        "\n",
        "now processing security APA\n",
        "mean => 9.19525884918e-05 and std. deviation => 0.0200297183725 for security => APA"
       ]
      },
      {
       "output_type": "stream",
       "stream": "stdout",
       "text": [
        "\n",
        "now processing security AIV\n",
        "mean => 0.00130968544259 and std. deviation => 0.0277745187369 for security => AIV"
       ]
      },
      {
       "output_type": "stream",
       "stream": "stdout",
       "text": [
        "\n",
        "now processing security AAPL\n",
        "mean => 0.00160947237041 and std. deviation => 0.017597958065 for security => AAPL"
       ]
      },
      {
       "output_type": "stream",
       "stream": "stdout",
       "text": [
        "\n",
        "now processing security AMAT\n",
        "mean => 0.000845226056095 and std. deviation => 0.0201230902192 for security => AMAT"
       ]
      },
      {
       "output_type": "stream",
       "stream": "stdout",
       "text": [
        "\n",
        "now processing security ADM\n",
        "mean => 0.000563737518454 and std. deviation => 0.0173533212175 for security => ADM"
       ]
      },
      {
       "output_type": "stream",
       "stream": "stdout",
       "text": [
        "\n",
        "now processing security AIZ\n",
        "mean => 0.0007941814544 and std. deviation => 0.0202348819367 for security => AIZ"
       ]
      },
      {
       "output_type": "stream",
       "stream": "stdout",
       "text": [
        "\n",
        "now processing security T\n",
        "mean => 0.000383544703874 and std. deviation => 0.0110828945104 for security => T"
       ]
      },
      {
       "output_type": "stream",
       "stream": "stdout",
       "text": [
        "\n",
        "now processing security ADSK\n",
        "mean => 0.000959771524585 and std. deviation => 0.0235641383249 for security => ADSK"
       ]
      },
      {
       "output_type": "stream",
       "stream": "stdout",
       "text": [
        "\n",
        "now processing security ADP\n",
        "mean => 0.000768579535083 and std. deviation => 0.0116304410164 for security => ADP"
       ]
      },
      {
       "output_type": "stream",
       "stream": "stdout",
       "text": [
        "\n",
        "now processing security AN\n",
        "mean => 0.00134797209898 and std. deviation => 0.0213567465187 for security => AN"
       ]
      },
      {
       "output_type": "stream",
       "stream": "stdout",
       "text": [
        "\n",
        "now processing security AZO\n",
        "mean => 0.00103175270804 and std. deviation => 0.012533327789 for security => AZO"
       ]
      },
      {
       "output_type": "stream",
       "stream": "stdout",
       "text": [
        "\n",
        "now processing security AVGO\n",
        "mean => 0.00166072810284 and std. deviation => 0.0222388572601 for security => AVGO"
       ]
      },
      {
       "output_type": "stream",
       "stream": "stdout",
       "text": [
        "\n",
        "now processing security AVB\n",
        "mean => 0.0011038549134 and std. deviation => 0.021994482641 for security => AVB"
       ]
      },
      {
       "output_type": "stream",
       "stream": "stdout",
       "text": [
        "\n",
        "now processing security AVY\n",
        "mean => 0.000618972955679 and std. deviation => 0.0191317404872 for security => AVY"
       ]
      },
      {
       "output_type": "stream",
       "stream": "stdout",
       "text": [
        "\n",
        "now processing security AVP\n",
        "mean => -0.000318324859124 and std. deviation => 0.0230374022515 for security => AVP"
       ]
      },
      {
       "output_type": "stream",
       "stream": "stdout",
       "text": [
        "\n",
        "now processing security BHI\n",
        "mean => 0.000688237066948 and std. deviation => 0.0242261971793 for security => BHI"
       ]
      },
      {
       "output_type": "stream",
       "stream": "stdout",
       "text": [
        "\n",
        "now processing security BLL\n",
        "mean => 0.00086613868281 and std. deviation => 0.0134741172743 for security => BLL"
       ]
      },
      {
       "output_type": "stream",
       "stream": "stdout",
       "text": [
        "\n",
        "now processing security BAC\n",
        "mean => 0.000827078873708 and std. deviation => 0.0385075854635 for security => BAC"
       ]
      },
      {
       "output_type": "stream",
       "stream": "stdout",
       "text": [
        "\n",
        "now processing security BK\n",
        "mean => 0.000550137798261 and std. deviation => 0.0235282697703 for security => BK"
       ]
      },
      {
       "output_type": "stream",
       "stream": "stdout",
       "text": [
        "\n",
        "now processing security BCR\n",
        "mean => 0.000595701046496 and std. deviation => 0.0123738064654 for security => BCR"
       ]
      },
      {
       "output_type": "stream",
       "stream": "stdout",
       "text": [
        "\n",
        "now processing security BAX\n",
        "mean => 0.000366881469022 and std. deviation => 0.0132761635304 for security => BAX"
       ]
      },
      {
       "output_type": "stream",
       "stream": "stdout",
       "text": [
        "\n",
        "now processing security BBT\n",
        "mean => 0.000619345032082 and std. deviation => 0.0238362476931 for security => BBT"
       ]
      },
      {
       "output_type": "stream",
       "stream": "stdout",
       "text": [
        "\n",
        "now processing security BDX\n",
        "mean => 0.000629194126282 and std. deviation => 0.0115494531714 for security => BDX"
       ]
      },
      {
       "output_type": "stream",
       "stream": "stdout",
       "text": [
        "\n",
        "now processing security BBBY\n",
        "mean => 0.000881109045039 and std. deviation => 0.0194573740157 for security => BBBY"
       ]
      },
      {
       "output_type": "stream",
       "stream": "stdout",
       "text": [
        "\n",
        "now processing security BRK.B\n",
        "mean => 0.000640574217784 and std. deviation => 0.0146305709979 for security => BRK.B"
       ]
      },
      {
       "output_type": "stream",
       "stream": "stdout",
       "text": [
        "\n",
        "now processing security BBY\n",
        "mean => 0.000594853292489 and std. deviation => 0.0274364941191 for security => BBY"
       ]
      },
      {
       "output_type": "stream",
       "stream": "stdout",
       "text": [
        "\n",
        "now processing security BIIB\n",
        "mean => 0.00148903609532 and std. deviation => 0.0192542867788 for security => BIIB"
       ]
      },
      {
       "output_type": "stream",
       "stream": "stdout",
       "text": [
        "\n",
        "now processing security BLK\n",
        "mean => 0.000958573636136 and std. deviation => 0.021528526398 for security => BLK"
       ]
      },
      {
       "output_type": "stream",
       "stream": "stdout",
       "text": [
        "\n",
        "now processing security HRB\n",
        "mean => 0.000607425762704 and std. deviation => 0.019406696415 for security => HRB"
       ]
      },
      {
       "output_type": "stream",
       "stream": "stdout",
       "text": [
        "\n",
        "now processing security BA\n",
        "mean => 0.000971618488991 and std. deviation => 0.0173094972695 for security => BA"
       ]
      },
      {
       "output_type": "stream",
       "stream": "stdout",
       "text": [
        "\n",
        "now processing security BWA\n",
        "mean => 0.00133322011596 and std. deviation => 0.0241658936078 for security => BWA"
       ]
      },
      {
       "output_type": "stream",
       "stream": "stdout",
       "text": [
        "\n",
        "now processing security BXP\n",
        "mean => 0.00103142289475 and std. deviation => 0.0230321070883 for security => BXP"
       ]
      },
      {
       "output_type": "stream",
       "stream": "stdout",
       "text": [
        "\n",
        "now processing security BSX\n",
        "mean => 0.000652083044551 and std. deviation => 0.021509167633 for security => BSX"
       ]
      },
      {
       "output_type": "stream",
       "stream": "stdout",
       "text": [
        "\n",
        "now processing security BMY\n",
        "mean => 0.000883943034859 and std. deviation => 0.0137555551779 for security => BMY"
       ]
      },
      {
       "output_type": "stream",
       "stream": "stdout",
       "text": [
        "\n",
        "now processing security BRCM\n",
        "mean => 0.000865039129178 and std. deviation => 0.0222661239336 for security => BRCM"
       ]
      },
      {
       "output_type": "stream",
       "stream": "stdout",
       "text": [
        "\n",
        "now processing security BF.B\n",
        "mean => 0.000813723871537 and std. deviation => 0.0135833821565 for security => BF.B"
       ]
      },
      {
       "output_type": "stream",
       "stream": "stdout",
       "text": [
        "\n",
        "now processing security CHRW\n",
        "mean => 0.000404600900071 and std. deviation => 0.0161161072302 for security => CHRW"
       ]
      },
      {
       "output_type": "stream",
       "stream": "stdout",
       "text": [
        "\n",
        "now processing security CA\n",
        "mean => 0.000529641852879 and std. deviation => 0.0159099580347 for security => CA"
       ]
      },
      {
       "output_type": "stream",
       "stream": "stdout",
       "text": [
        "\n",
        "now processing security CVC\n",
        "mean => 0.000814837137863 and std. deviation => 0.023107458012 for security => CVC"
       ]
      },
      {
       "output_type": "stream",
       "stream": "stdout",
       "text": [
        "\n",
        "now processing security COG\n",
        "mean => 0.00130416858292 and std. deviation => 0.0268056356554 for security => COG"
       ]
      },
      {
       "output_type": "stream",
       "stream": "stdout",
       "text": [
        "\n",
        "now processing security CAM\n",
        "mean => 0.000759633643931 and std. deviation => 0.0244888518987 for security => CAM"
       ]
      },
      {
       "output_type": "stream",
       "stream": "stdout",
       "text": [
        "\n",
        "now processing security CPB\n",
        "mean => 0.000472038067745 and std. deviation => 0.0105223533404 for security => CPB"
       ]
      },
      {
       "output_type": "stream",
       "stream": "stdout",
       "text": [
        "\n",
        "now processing security COF\n",
        "mean => 0.00111132328461 and std. deviation => 0.0322531073468 for security => COF"
       ]
      },
      {
       "output_type": "stream",
       "stream": "stdout",
       "text": [
        "\n",
        "now processing security CAH\n",
        "mean => 0.00121059335525 and std. deviation => 0.0229787590749 for security => CAH"
       ]
      },
      {
       "output_type": "stream",
       "stream": "stdout",
       "text": [
        "\n",
        "now processing security CFN\n",
        "mean => 0.000996312196191 and std. deviation => 0.0164792073015 for security => CFN"
       ]
      },
      {
       "output_type": "stream",
       "stream": "stdout",
       "text": [
        "\n",
        "now processing security KMX\n",
        "mean => 0.00164589697276 and std. deviation => 0.0247912984691 for security => KMX"
       ]
      },
      {
       "output_type": "stream",
       "stream": "stdout",
       "text": [
        "\n",
        "now processing security CCL\n",
        "mean => 0.000710665316651 and std. deviation => 0.0215400422789 for security => CCL"
       ]
      },
      {
       "output_type": "stream",
       "stream": "stdout",
       "text": [
        "\n",
        "now processing security CAT\n",
        "mean => 0.000729687562599 and std. deviation => 0.0207520081809 for security => CAT"
       ]
      },
      {
       "output_type": "stream",
       "stream": "stdout",
       "text": [
        "\n",
        "now processing security CBG\n",
        "mean => 0.00200066921082 and std. deviation => 0.0382251488805 for security => CBG"
       ]
      },
      {
       "output_type": "stream",
       "stream": "stdout",
       "text": [
        "\n",
        "now processing security CBS\n",
        "mean => 0.00166531048984 and std. deviation => 0.0282002204209 for security => CBS"
       ]
      },
      {
       "output_type": "stream",
       "stream": "stdout",
       "text": [
        "\n",
        "now processing security CELG\n",
        "mean => 0.00116356704209 and std. deviation => 0.0196939198045 for security => CELG"
       ]
      },
      {
       "output_type": "stream",
       "stream": "stdout",
       "text": [
        "\n",
        "now processing security CNP\n",
        "mean => 0.000649038731224 and std. deviation => 0.0133384385983 for security => CNP"
       ]
      },
      {
       "output_type": "stream",
       "stream": "stdout",
       "text": [
        "\n",
        "now processing security CTL\n",
        "mean => 0.000607829079847 and std. deviation => 0.0143863092127 for security => CTL"
       ]
      },
      {
       "output_type": "stream",
       "stream": "stdout",
       "text": [
        "\n",
        "now processing security CERN\n",
        "mean => 0.00142860310479 and std. deviation => 0.018203365219 for security => CERN"
       ]
      },
      {
       "output_type": "stream",
       "stream": "stdout",
       "text": [
        "\n",
        "now processing security CF\n",
        "mean => 0.00147116113806 and std. deviation => 0.0239950191339 for security => CF"
       ]
      },
      {
       "output_type": "stream",
       "stream": "stdout",
       "text": [
        "\n",
        "now processing security SCHW\n",
        "mean => 0.000655510692894 and std. deviation => 0.022307398556 for security => SCHW"
       ]
      },
      {
       "output_type": "stream",
       "stream": "stdout",
       "text": [
        "\n",
        "now processing security CHK\n",
        "mean => 0.000554864725175 and std. deviation => 0.0273897832289 for security => CHK"
       ]
      },
      {
       "output_type": "stream",
       "stream": "stdout",
       "text": [
        "\n",
        "now processing security CVX\n",
        "mean => 0.000461449876526 and std. deviation => 0.0137360732176 for security => CVX"
       ]
      },
      {
       "output_type": "stream",
       "stream": "stdout",
       "text": [
        "\n",
        "now processing security CMG\n",
        "mean => 0.0018305577534 and std. deviation => 0.0222779504601 for security => CMG"
       ]
      },
      {
       "output_type": "stream",
       "stream": "stdout",
       "text": [
        "\n",
        "now processing security CB\n",
        "mean => 0.000669583784625 and std. deviation => 0.0137491407754 for security => CB"
       ]
      },
      {
       "output_type": "stream",
       "stream": "stdout",
       "text": [
        "\n",
        "now processing security CI\n",
        "mean => 0.00144706593782 and std. deviation => 0.0216331084136 for security => CI"
       ]
      },
      {
       "output_type": "stream",
       "stream": "stdout",
       "text": [
        "\n",
        "now processing security XEC\n",
        "mean => 0.00119384933347 and std. deviation => 0.0259920132573 for security => XEC"
       ]
      },
      {
       "output_type": "stream",
       "stream": "stdout",
       "text": [
        "\n",
        "now processing security CINF\n",
        "mean => 0.000700826874682 and std. deviation => 0.0155248552733 for security => CINF"
       ]
      },
      {
       "output_type": "stream",
       "stream": "stdout",
       "text": [
        "\n",
        "now processing security CTAS\n",
        "mean => 0.000990095091765 and std. deviation => 0.0149630519107 for security => CTAS"
       ]
      },
      {
       "output_type": "stream",
       "stream": "stdout",
       "text": [
        "\n",
        "now processing security CSCO\n",
        "mean => 0.000570643275082 and std. deviation => 0.0181145847496 for security => CSCO"
       ]
      },
      {
       "output_type": "stream",
       "stream": "stdout",
       "text": [
        "\n",
        "now processing security C\n",
        "mean => 0.000503947673519 and std. deviation => 0.0383159105247 for security => C"
       ]
      },
      {
       "output_type": "stream",
       "stream": "stdout",
       "text": [
        "\n",
        "now processing security CTXS\n",
        "mean => 0.000857562484703 and std. deviation => 0.023108335126 for security => CTXS"
       ]
      },
      {
       "output_type": "stream",
       "stream": "stdout",
       "text": [
        "\n",
        "now processing security CLX\n",
        "mean => 0.000626285799903 and std. deviation => 0.0106334434982 for security => CLX"
       ]
      },
      {
       "output_type": "stream",
       "stream": "stdout",
       "text": [
        "\n",
        "now processing security CME\n",
        "mean => 0.000839652296337 and std. deviation => 0.0204983787776 for security => CME"
       ]
      },
      {
       "output_type": "stream",
       "stream": "stdout",
       "text": [
        "\n",
        "now processing security CMS\n",
        "mean => 0.00105252136167 and std. deviation => 0.0114749004981 for security => CMS"
       ]
      },
      {
       "output_type": "stream",
       "stream": "stdout",
       "text": [
        "\n",
        "now processing security COH\n",
        "mean => 0.000708800851845 and std. deviation => 0.0233261343072 for security => COH"
       ]
      },
      {
       "output_type": "stream",
       "stream": "stdout",
       "text": [
        "\n",
        "now processing security KO\n",
        "mean => 0.000597681178114 and std. deviation => 0.0105562851674 for security => KO"
       ]
      },
      {
       "output_type": "stream",
       "stream": "stdout",
       "text": [
        "\n",
        "now processing security CCE\n",
        "mean => 0.0013098547501 and std. deviation => 0.0175738437637 for security => CCE"
       ]
      },
      {
       "output_type": "stream",
       "stream": "stdout",
       "text": [
        "\n",
        "now processing security CTSH\n",
        "mean => 0.00137651788528 and std. deviation => 0.0205632230189 for security => CTSH"
       ]
      },
      {
       "output_type": "stream",
       "stream": "stdout",
       "text": [
        "\n",
        "now processing security CL\n",
        "mean => 0.000608974548068 and std. deviation => 0.0104606256307 for security => CL"
       ]
      },
      {
       "output_type": "stream",
       "stream": "stdout",
       "text": [
        "\n",
        "now processing security CMCSA\n",
        "mean => 0.000977454113509 and std. deviation => 0.0172575154432 for security => CMCSA"
       ]
      },
      {
       "output_type": "stream",
       "stream": "stdout",
       "text": [
        "\n",
        "now processing security CMA\n",
        "mean => 0.000885290866317 and std. deviation => 0.0270398137733 for security => CMA"
       ]
      },
      {
       "output_type": "stream",
       "stream": "stdout",
       "text": [
        "\n",
        "now processing security CSC\n",
        "mean => 0.00062805287608 and std. deviation => 0.0207423106883 for security => CSC"
       ]
      },
      {
       "output_type": "stream",
       "stream": "stdout",
       "text": [
        "\n",
        "now processing security CAG\n",
        "mean => 0.000730429051703 and std. deviation => 0.0118444566057 for security => CAG"
       ]
      },
      {
       "output_type": "stream",
       "stream": "stdout",
       "text": [
        "\n",
        "now processing security COP\n",
        "mean => 0.000573537374142 and std. deviation => 0.0155629489207 for security => COP"
       ]
      },
      {
       "output_type": "stream",
       "stream": "stdout",
       "text": [
        "\n",
        "now processing security CNX\n",
        "mean => 0.000437752564276 and std. deviation => 0.0288075056994 for security => CNX"
       ]
      },
      {
       "output_type": "stream",
       "stream": "stdout",
       "text": [
        "\n",
        "now processing security ED\n",
        "mean => 0.00060057131272 and std. deviation => 0.00919757198036 for security => ED"
       ]
      },
      {
       "output_type": "stream",
       "stream": "stdout",
       "text": [
        "\n",
        "now processing security STZ\n",
        "mean => 0.00147359041672 and std. deviation => 0.0213207371238 for security => STZ"
       ]
      },
      {
       "output_type": "stream",
       "stream": "stdout",
       "text": [
        "\n",
        "now processing security GLW\n",
        "mean => 0.000872027579532 and std. deviation => 0.0216908487485 for security => GLW"
       ]
      },
      {
       "output_type": "stream",
       "stream": "stdout",
       "text": [
        "\n",
        "now processing security COST\n",
        "mean => 0.000807751916764 and std. deviation => 0.0122804172884 for security => COST"
       ]
      },
      {
       "output_type": "stream",
       "stream": "stdout",
       "text": [
        "\n",
        "now processing security COV\n",
        "mean => 0.000961898433134 and std. deviation => 0.0159380720447 for security => COV"
       ]
      },
      {
       "output_type": "stream",
       "stream": "stdout",
       "text": [
        "\n",
        "now processing security CCI\n",
        "mean => 0.00117269604269 and std. deviation => 0.0173931852233 for security => CCI"
       ]
      },
      {
       "output_type": "stream",
       "stream": "stdout",
       "text": [
        "\n",
        "now processing security CSX\n",
        "mean => 0.00102383024895 and std. deviation => 0.0201305659351 for security => CSX"
       ]
      },
      {
       "output_type": "stream",
       "stream": "stdout",
       "text": [
        "\n",
        "now processing security CMI\n",
        "mean => 0.00144778256457 and std. deviation => 0.0253192232929 for security => CMI"
       ]
      },
      {
       "output_type": "stream",
       "stream": "stdout",
       "text": [
        "\n",
        "now processing security CVS\n",
        "mean => 0.00097450380875 and std. deviation => 0.0149171718357 for security => CVS"
       ]
      },
      {
       "output_type": "stream",
       "stream": "stdout",
       "text": [
        "\n",
        "now processing security DHI\n",
        "mean => 0.00124353694603 and std. deviation => 0.0294253172895 for security => DHI"
       ]
      },
      {
       "output_type": "stream",
       "stream": "stdout",
       "text": [
        "\n",
        "now processing security DHR\n",
        "mean => 0.000820170881714 and std. deviation => 0.0145824195803 for security => DHR"
       ]
      },
      {
       "output_type": "stream",
       "stream": "stdout",
       "text": [
        "\n",
        "now processing security DRI\n",
        "mean => 0.000793553476711 and std. deviation => 0.0186084571682 for security => DRI"
       ]
      },
      {
       "output_type": "stream",
       "stream": "stdout",
       "text": [
        "\n",
        "now processing security DVA\n",
        "mean => 0.000850068529545 and std. deviation => 0.014639302917 for security => DVA"
       ]
      },
      {
       "output_type": "stream",
       "stream": "stdout",
       "text": [
        "\n",
        "now processing security DE\n",
        "mean => 0.000784750070449 and std. deviation => 0.0195154660845 for security => DE"
       ]
      },
      {
       "output_type": "stream",
       "stream": "stdout",
       "text": [
        "\n",
        "now processing security DLPH\n",
        "mean => 0.00162651573833 and std. deviation => 0.0153153955845 for security => DLPH"
       ]
      },
      {
       "output_type": "stream",
       "stream": "stdout",
       "text": [
        "\n",
        "now processing security DAL\n",
        "mean => 0.00145181501667 and std. deviation => 0.0316990856203 for security => DAL"
       ]
      },
      {
       "output_type": "stream",
       "stream": "stdout",
       "text": [
        "\n",
        "now processing security DNR\n",
        "mean => -3.44493183902e-05 and std. deviation => 0.0277317377548 for security => DNR"
       ]
      },
      {
       "output_type": "stream",
       "stream": "stdout",
       "text": [
        "\n",
        "now processing security XRAY\n",
        "mean => 0.000499108683791 and std. deviation => 0.0147800126087 for security => XRAY"
       ]
      },
      {
       "output_type": "stream",
       "stream": "stdout",
       "text": [
        "\n",
        "now processing security DVN\n",
        "mean => 0.000181512271162 and std. deviation => 0.0203768780954 for security => DVN"
       ]
      },
      {
       "output_type": "stream",
       "stream": "stdout",
       "text": [
        "\n",
        "now processing security DO\n",
        "mean => 2.44385248799e-05 and std. deviation => 0.0204899998343 for security => DO"
       ]
      },
      {
       "output_type": "stream",
       "stream": "stdout",
       "text": [
        "\n",
        "now processing security DTV\n",
        "mean => 0.000940691377796 and std. deviation => 0.0149302788583 for security => DTV"
       ]
      },
      {
       "output_type": "stream",
       "stream": "stdout",
       "text": [
        "\n",
        "now processing security DFS\n",
        "mean => 0.00156519025303 and std. deviation => 0.0262114895391 for security => DFS"
       ]
      },
      {
       "output_type": "stream",
       "stream": "stdout",
       "text": [
        "\n",
        "now processing security DISCA\n",
        "mean => 0.00107385902222 and std. deviation => 0.0179875817863 for security => DISCA"
       ]
      },
      {
       "output_type": "stream",
       "stream": "stdout",
       "text": [
        "\n",
        "now processing security DISCK\n",
        "mean => 0.00110113441121 and std. deviation => 0.0179242901342 for security => DISCK"
       ]
      },
      {
       "output_type": "stream",
       "stream": "stdout",
       "text": [
        "\n",
        "now processing security DG\n",
        "mean => 0.000991041906519 and std. deviation => 0.0161874334108 for security => DG"
       ]
      },
      {
       "output_type": "stream",
       "stream": "stdout",
       "text": [
        "\n",
        "now processing security DLTR\n",
        "mean => 0.00118594487943 and std. deviation => 0.0159528748414 for security => DLTR"
       ]
      },
      {
       "output_type": "stream",
       "stream": "stdout",
       "text": [
        "\n",
        "now processing security D\n",
        "mean => 0.000725708209347 and std. deviation => 0.0105731169895 for security => D"
       ]
      },
      {
       "output_type": "stream",
       "stream": "stdout",
       "text": [
        "\n",
        "now processing security DOV\n",
        "mean => 0.000858945847997 and std. deviation => 0.0185506412005 for security => DOV"
       ]
      },
      {
       "output_type": "stream",
       "stream": "stdout",
       "text": [
        "\n",
        "now processing security DOW\n",
        "mean => 0.0011494032602 and std. deviation => 0.0251441525243 for security => DOW"
       ]
      },
      {
       "output_type": "stream",
       "stream": "stdout",
       "text": [
        "\n",
        "now processing security DPS\n",
        "mean => 0.0012478410025 and std. deviation => 0.0153901259206 for security => DPS"
       ]
      },
      {
       "output_type": "stream",
       "stream": "stdout",
       "text": [
        "\n",
        "now processing security DTE\n",
        "mean => 0.00084919944368 and std. deviation => 0.011446115217 for security => DTE"
       ]
      },
      {
       "output_type": "stream",
       "stream": "stdout",
       "text": [
        "\n",
        "now processing security DD\n",
        "mean => 0.00098727601826 and std. deviation => 0.0171560753732 for security => DD"
       ]
      },
      {
       "output_type": "stream",
       "stream": "stdout",
       "text": [
        "\n",
        "now processing security DUK\n",
        "mean => 0.000674414262413 and std. deviation => 0.00966244646954 for security => DUK"
       ]
      },
      {
       "output_type": "stream",
       "stream": "stdout",
       "text": [
        "\n",
        "now processing security DNB\n",
        "mean => 0.0004565358561 and std. deviation => 0.0146176544598 for security => DNB"
       ]
      },
      {
       "output_type": "stream",
       "stream": "stdout",
       "text": [
        "\n",
        "now processing security ETFC\n",
        "mean => 0.00104375319665 and std. deviation => 0.0372346428099 for security => ETFC"
       ]
      },
      {
       "output_type": "stream",
       "stream": "stdout",
       "text": [
        "\n",
        "now processing security EMN\n",
        "mean => 0.00130850645088 and std. deviation => 0.0218664049315 for security => EMN"
       ]
      },
      {
       "output_type": "stream",
       "stream": "stdout",
       "text": [
        "\n",
        "now processing security ETN\n",
        "mean => 0.000941556116215 and std. deviation => 0.0195438316501 for security => ETN"
       ]
      },
      {
       "output_type": "stream",
       "stream": "stdout",
       "text": [
        "\n",
        "now processing security EBAY\n",
        "mean => 0.00110730786454 and std. deviation => 0.0207462084585 for security => EBAY"
       ]
      },
      {
       "output_type": "stream",
       "stream": "stdout",
       "text": [
        "\n",
        "now processing security ECL\n",
        "mean => 0.000850421409424 and std. deviation => 0.0130720100319 for security => ECL"
       ]
      },
      {
       "output_type": "stream",
       "stream": "stdout",
       "text": [
        "\n",
        "now processing security EIX\n",
        "mean => 0.000676361391655 and std. deviation => 0.0121903641822 for security => EIX"
       ]
      },
      {
       "output_type": "stream",
       "stream": "stdout",
       "text": [
        "\n",
        "now processing security EW\n",
        "mean => 0.00120815108081 and std. deviation => 0.0197162794707 for security => EW"
       ]
      },
      {
       "output_type": "stream",
       "stream": "stdout",
       "text": [
        "\n",
        "now processing security EA\n",
        "mean => 0.000980968250316 and std. deviation => 0.0245806949563 for security => EA"
       ]
      },
      {
       "output_type": "stream",
       "stream": "stdout",
       "text": [
        "\n",
        "now processing security EMC\n",
        "mean => 0.000800472116138 and std. deviation => 0.0172136575331 for security => EMC"
       ]
      },
      {
       "output_type": "stream",
       "stream": "stdout",
       "text": [
        "\n",
        "now processing security EMR\n",
        "mean => 0.000558177838801 and std. deviation => 0.0169241509539 for security => EMR"
       ]
      },
      {
       "output_type": "stream",
       "stream": "stdout",
       "text": [
        "\n",
        "now processing security ESV\n",
        "mean => 0.000377411925826 and std. deviation => 0.0229425715921 for security => ESV"
       ]
      },
      {
       "output_type": "stream",
       "stream": "stdout",
       "text": [
        "\n",
        "now processing security ETR\n",
        "mean => 0.000287716367883 and std. deviation => 0.0118706199441 for security => ETR"
       ]
      },
      {
       "output_type": "stream",
       "stream": "stdout",
       "text": [
        "\n",
        "now processing security EOG\n",
        "mean => 0.000903810405466 and std. deviation => 0.0227433152059 for security => EOG"
       ]
      },
      {
       "output_type": "stream",
       "stream": "stdout",
       "text": [
        "\n",
        "now processing security EQT\n",
        "mean => 0.000780520369651 and std. deviation => 0.0206635710484 for security => EQT"
       ]
      },
      {
       "output_type": "stream",
       "stream": "stdout",
       "text": [
        "\n",
        "now processing security EFX\n",
        "mean => 0.00089723407122 and std. deviation => 0.0144308938717 for security => EFX"
       ]
      },
      {
       "output_type": "stream",
       "stream": "stdout",
       "text": [
        "\n",
        "now processing security EQR\n",
        "mean => 0.00111937716957 and std. deviation => 0.0243702498857 for security => EQR"
       ]
      },
      {
       "output_type": "stream",
       "stream": "stdout",
       "text": [
        "\n",
        "now processing security ESS\n",
        "mean => 0.00106902379397 and std. deviation => 0.0196092146253 for security => ESS"
       ]
      },
      {
       "output_type": "stream",
       "stream": "stdout",
       "text": [
        "\n",
        "now processing security EL\n",
        "mean => 0.00121375388776 and std. deviation => 0.018928918473 for security => EL"
       ]
      },
      {
       "output_type": "stream",
       "stream": "stdout",
       "text": [
        "\n",
        "now processing security EXC\n",
        "mean => -1.00847318638e-05 and std. deviation => 0.0131014412953 for security => EXC"
       ]
      },
      {
       "output_type": "stream",
       "stream": "stdout",
       "text": [
        "\n",
        "now processing security EXPE\n",
        "mean => 0.00171201852095 and std. deviation => 0.0293057714669 for security => EXPE"
       ]
      },
      {
       "output_type": "stream",
       "stream": "stdout",
       "text": [
        "\n",
        "now processing security EXPD\n",
        "mean => 0.000393232890173 and std. deviation => 0.0185225936892 for security => EXPD"
       ]
      },
      {
       "output_type": "stream",
       "stream": "stdout",
       "text": [
        "\n",
        "now processing security ESRX\n",
        "mean => 0.000878120704874 and std. deviation => 0.0177661838633 for security => ESRX"
       ]
      },
      {
       "output_type": "stream",
       "stream": "stdout",
       "text": [
        "\n",
        "now processing security XOM\n",
        "mean => 0.00026133357697 and std. deviation => 0.0123472182754 for security => XOM"
       ]
      },
      {
       "output_type": "stream",
       "stream": "stdout",
       "text": [
        "\n",
        "now processing security FFIV\n",
        "mean => 0.00140135170777 and std. deviation => 0.026745867945 for security => FFIV"
       ]
      },
      {
       "output_type": "stream",
       "stream": "stdout",
       "text": [
        "\n",
        "now processing security FB\n",
        "mean => 0.0014888809282 and std. deviation => 0.0299091299441 for security => FB"
       ]
      },
      {
       "output_type": "stream",
       "stream": "stdout",
       "text": [
        "\n",
        "now processing security FDO\n",
        "mean => 0.00094196896965 and std. deviation => 0.0189797741873 for security => FDO"
       ]
      },
      {
       "output_type": "stream",
       "stream": "stdout",
       "text": [
        "\n",
        "now processing security FAST\n",
        "mean => 0.000873912926446 and std. deviation => 0.0186387037222 for security => FAST"
       ]
      },
      {
       "output_type": "stream",
       "stream": "stdout",
       "text": [
        "\n",
        "now processing security FDX\n",
        "mean => 0.000884216692433 and std. deviation => 0.0190214094907 for security => FDX"
       ]
      },
      {
       "output_type": "stream",
       "stream": "stdout",
       "text": [
        "\n",
        "now processing security FIS\n",
        "mean => 0.00103521558989 and std. deviation => 0.0149777484438 for security => FIS"
       ]
      },
      {
       "output_type": "stream",
       "stream": "stdout",
       "text": [
        "\n",
        "now processing security FITB\n",
        "mean => 0.00146381758019 and std. deviation => 0.0442474326686 for security => FITB"
       ]
      },
      {
       "output_type": "stream",
       "stream": "stdout",
       "text": [
        "\n",
        "now processing security FSLR\n",
        "mean => -6.99427269256e-05 and std. deviation => 0.0396391915789 for security => FSLR"
       ]
      },
      {
       "output_type": "stream",
       "stream": "stdout",
       "text": [
        "\n",
        "now processing security FE\n",
        "mean => 0.0001795539193 and std. deviation => 0.0139132282133 for security => FE"
       ]
      },
      {
       "output_type": "stream",
       "stream": "stdout",
       "text": [
        "\n",
        "now processing security FISV\n",
        "mean => 0.000977900117497 and std. deviation => 0.0135022644779 for security => FISV"
       ]
      },
      {
       "output_type": "stream",
       "stream": "stdout",
       "text": [
        "\n",
        "now processing security FLIR\n",
        "mean => 0.000190407646746 and std. deviation => 0.0188550954686 for security => FLIR"
       ]
      },
      {
       "output_type": "stream",
       "stream": "stdout",
       "text": [
        "\n",
        "now processing security FLS\n",
        "mean => 0.00103424995097 and std. deviation => 0.0224392122266 for security => FLS"
       ]
      },
      {
       "output_type": "stream",
       "stream": "stdout",
       "text": [
        "\n",
        "now processing security FLR\n",
        "mean => 0.000396655584313 and std. deviation => 0.022978484623 for security => FLR"
       ]
      },
      {
       "output_type": "stream",
       "stream": "stdout",
       "text": [
        "\n",
        "now processing security FMC\n",
        "mean => 0.000845954182945 and std. deviation => 0.0190671691054 for security => FMC"
       ]
      },
      {
       "output_type": "stream",
       "stream": "stdout",
       "text": [
        "\n",
        "now processing security FTI\n",
        "mean => 0.0010166814451 and std. deviation => 0.0234780488247 for security => FTI"
       ]
      },
      {
       "output_type": "stream",
       "stream": "stdout",
       "text": [
        "\n",
        "now processing security F\n",
        "mean => 0.00154081070235 and std. deviation => 0.0246584042572 for security => F"
       ]
      },
      {
       "output_type": "stream",
       "stream": "stdout",
       "text": [
        "\n",
        "now processing security FOSL\n",
        "mean => 0.00159264677407 and std. deviation => 0.0292753668376 for security => FOSL"
       ]
      },
      {
       "output_type": "stream",
       "stream": "stdout",
       "text": [
        "\n",
        "now processing security BEN\n",
        "mean => 0.000901369759338 and std. deviation => 0.02120318132 for security => BEN"
       ]
      },
      {
       "output_type": "stream",
       "stream": "stdout",
       "text": [
        "\n",
        "now processing security FCX\n",
        "mean => 0.00078339398154 and std. deviation => 0.0273561527894 for security => FCX"
       ]
      },
      {
       "output_type": "stream",
       "stream": "stdout",
       "text": [
        "\n",
        "now processing security FTR\n",
        "mean => 0.000428537166451 and std. deviation => 0.0198406462588 for security => FTR"
       ]
      },
      {
       "output_type": "stream",
       "stream": "stdout",
       "text": [
        "\n",
        "now processing security GME\n",
        "mean => 0.000707329692244 and std. deviation => 0.0256164306212 for security => GME"
       ]
      },
      {
       "output_type": "stream",
       "stream": "stdout",
       "text": [
        "\n",
        "now processing security GCI\n",
        "mean => 0.00156512032177 and std. deviation => 0.0345123843698 for security => GCI"
       ]
      },
      {
       "output_type": "stream",
       "stream": "stdout",
       "text": [
        "\n",
        "now processing security GPS\n",
        "mean => 0.00100900298301 and std. deviation => 0.0203156981444 for security => GPS"
       ]
      },
      {
       "output_type": "stream",
       "stream": "stdout",
       "text": [
        "\n",
        "now processing security GRMN\n",
        "mean => 0.000984083263655 and std. deviation => 0.022148758477 for security => GRMN"
       ]
      },
      {
       "output_type": "stream",
       "stream": "stdout",
       "text": [
        "\n",
        "now processing security GD\n",
        "mean => 0.000786589987914 and std. deviation => 0.0151072667207 for security => GD"
       ]
      },
      {
       "output_type": "stream",
       "stream": "stdout",
       "text": [
        "\n",
        "now processing security GE\n",
        "mean => 0.00055901879262 and std. deviation => 0.0193896620726 for security => GE"
       ]
      },
      {
       "output_type": "stream",
       "stream": "stdout",
       "text": [
        "\n",
        "now processing security GGP\n",
        "mean => 0.00347587654415 and std. deviation => 0.0502470411929 for security => GGP"
       ]
      },
      {
       "output_type": "stream",
       "stream": "stdout",
       "text": [
        "\n",
        "now processing security GIS\n",
        "mean => 0.000571679041391 and std. deviation => 0.0102781397424 for security => GIS"
       ]
      },
      {
       "output_type": "stream",
       "stream": "stdout",
       "text": [
        "\n",
        "now processing security GM\n",
        "mean => 0.000212871385855 and std. deviation => 0.0195056505707 for security => GM"
       ]
      },
      {
       "output_type": "stream",
       "stream": "stdout",
       "text": [
        "\n",
        "now processing security GPC\n",
        "mean => 0.000836931604837 and std. deviation => 0.014131720051 for security => GPC"
       ]
      },
      {
       "output_type": "stream",
       "stream": "stdout",
       "text": [
        "\n",
        "now processing security GNW\n",
        "mean => 0.00158450327068 and std. deviation => 0.043742338091 for security => GNW"
       ]
      },
      {
       "output_type": "stream",
       "stream": "stdout",
       "text": [
        "\n",
        "now processing security GILD\n",
        "mean => 0.00109540428545 and std. deviation => 0.018946202998 for security => GILD"
       ]
      },
      {
       "output_type": "stream",
       "stream": "stdout",
       "text": [
        "\n",
        "now processing security GS\n",
        "mean => 0.000788067869377 and std. deviation => 0.0224613960284 for security => GS"
       ]
      },
      {
       "output_type": "stream",
       "stream": "stdout",
       "text": [
        "\n",
        "now processing security GT\n",
        "mean => 0.00141816776804 and std. deviation => 0.0316641073182 for security => GT"
       ]
      },
      {
       "output_type": "stream",
       "stream": "stdout",
       "text": [
        "\n",
        "now processing security GOOGL\n",
        "mean => 0.000923840759716 and std. deviation => 0.0162669513776 for security => GOOGL"
       ]
      },
      {
       "output_type": "stream",
       "stream": "stdout",
       "text": [
        "\n",
        "now processing security GOOG\n",
        "mean => -0.000123909017879 and std. deviation => 0.0133474423278 for security => GOOG"
       ]
      },
      {
       "output_type": "stream",
       "stream": "stdout",
       "text": [
        "\n",
        "now processing security GWW\n",
        "mean => 0.000912119228333 and std. deviation => 0.0151061736304 for security => GWW"
       ]
      },
      {
       "output_type": "stream",
       "stream": "stdout",
       "text": [
        "\n",
        "now processing security HAL\n",
        "mean => 0.000841607905918 and std. deviation => 0.0247582667031 for security => HAL"
       ]
      },
      {
       "output_type": "stream",
       "stream": "stdout",
       "text": [
        "\n",
        "now processing security HOG\n",
        "mean => 0.0012378761644 and std. deviation => 0.0262472306036 for security => HOG"
       ]
      },
      {
       "output_type": "stream",
       "stream": "stdout",
       "text": [
        "\n",
        "now processing security HAR\n",
        "mean => 0.00157268588817 and std. deviation => 0.029443418936 for security => HAR"
       ]
      },
      {
       "output_type": "stream",
       "stream": "stdout",
       "text": [
        "\n",
        "now processing security HRS\n",
        "mean => 0.000649319680774 and std. deviation => 0.0176883850982 for security => HRS"
       ]
      },
      {
       "output_type": "stream",
       "stream": "stdout",
       "text": [
        "\n",
        "now processing security HIG\n",
        "mean => 0.00137325454868 and std. deviation => 0.0385635057609 for security => HIG"
       ]
      },
      {
       "output_type": "stream",
       "stream": "stdout",
       "text": [
        "\n",
        "now processing security HAS\n",
        "mean => 0.000645231525284 and std. deviation => 0.0161617845651 for security => HAS"
       ]
      },
      {
       "output_type": "stream",
       "stream": "stdout",
       "text": [
        "\n",
        "now processing security HCP\n",
        "mean => 0.000869990666112 and std. deviation => 0.0228190212722 for security => HCP"
       ]
      },
      {
       "output_type": "stream",
       "stream": "stdout",
       "text": [
        "\n",
        "now processing security HCN\n",
        "mean => 0.000873421861449 and std. deviation => 0.0184733209646 for security => HCN"
       ]
      },
      {
       "output_type": "stream",
       "stream": "stdout",
       "text": [
        "\n",
        "now processing security HP\n",
        "mean => 0.00100760299296 and std. deviation => 0.0262196705418 for security => HP"
       ]
      },
      {
       "output_type": "stream",
       "stream": "stdout",
       "text": [
        "\n",
        "now processing security HES\n",
        "mean => 0.000426671771992 and std. deviation => 0.022018353447 for security => HES"
       ]
      },
      {
       "output_type": "stream",
       "stream": "stdout",
       "text": [
        "\n",
        "now processing security HPQ\n",
        "mean => 0.000348420334215 and std. deviation => 0.0211939815938 for security => HPQ"
       ]
      },
      {
       "output_type": "stream",
       "stream": "stdout",
       "text": [
        "\n",
        "now processing security HD\n",
        "mean => 0.0011921791698 and std. deviation => 0.0150703285673 for security => HD"
       ]
      },
      {
       "output_type": "stream",
       "stream": "stdout",
       "text": [
        "\n",
        "now processing security HON\n",
        "mean => 0.000930169110813 and std. deviation => 0.0164843488605 for security => HON"
       ]
      },
      {
       "output_type": "stream",
       "stream": "stdout",
       "text": [
        "\n",
        "now processing security HRL\n",
        "mean => 0.000946840062671 and std. deviation => 0.0111778821439 for security => HRL"
       ]
      },
      {
       "output_type": "stream",
       "stream": "stdout",
       "text": [
        "\n",
        "now processing security HSP\n",
        "mean => 0.000722650783268 and std. deviation => 0.0177362411422 for security => HSP"
       ]
      },
      {
       "output_type": "stream",
       "stream": "stdout",
       "text": [
        "\n",
        "now processing security HST\n",
        "mean => 0.00129125656964 and std. deviation => 0.0307779995707 for security => HST"
       ]
      },
      {
       "output_type": "stream",
       "stream": "stdout",
       "text": [
        "\n",
        "now processing security HCBK\n",
        "mean => 4.31752300931e-05 and std. deviation => 0.0206779888441 for security => HCBK"
       ]
      },
      {
       "output_type": "stream",
       "stream": "stdout",
       "text": [
        "\n",
        "now processing security HUM\n",
        "mean => 0.00120409964836 and std. deviation => 0.021859920761 for security => HUM"
       ]
      },
      {
       "output_type": "stream",
       "stream": "stdout",
       "text": [
        "\n",
        "now processing security HBAN\n",
        "mean => 0.00115245960963 and std. deviation => 0.0431841802895 for security => HBAN"
       ]
      },
      {
       "output_type": "stream",
       "stream": "stdout",
       "text": [
        "\n",
        "now processing security ITW\n",
        "mean => 0.000853807518671 and std. deviation => 0.0160587338859 for security => ITW"
       ]
      },
      {
       "output_type": "stream",
       "stream": "stdout",
       "text": [
        "\n",
        "now processing security IR\n",
        "mean => 0.00125719294158 and std. deviation => 0.0219585373592 for security => IR"
       ]
      },
      {
       "output_type": "stream",
       "stream": "stdout",
       "text": [
        "\n",
        "now processing security TEG\n",
        "mean => 0.00074171331973 and std. deviation => 0.0150735916542 for security => TEG"
       ]
      },
      {
       "output_type": "stream",
       "stream": "stdout",
       "text": [
        "\n",
        "now processing security INTC\n",
        "mean => 0.000850856983643 and std. deviation => 0.0164302264471 for security => INTC"
       ]
      },
      {
       "output_type": "stream",
       "stream": "stdout",
       "text": [
        "\n",
        "now processing security ICE\n",
        "mean => 0.000848873639987 and std. deviation => 0.0213138034348 for security => ICE"
       ]
      },
      {
       "output_type": "stream",
       "stream": "stdout",
       "text": [
        "\n",
        "now processing security IBM\n",
        "mean => 0.000536423507214 and std. deviation => 0.0128575575923 for security => IBM"
       ]
      },
      {
       "output_type": "stream",
       "stream": "stdout",
       "text": [
        "\n",
        "now processing security IP\n",
        "mean => 0.00146846772613 and std. deviation => 0.0270377404022 for security => IP"
       ]
      },
      {
       "output_type": "stream",
       "stream": "stdout",
       "text": [
        "\n",
        "now processing security IPG\n",
        "mean => 0.00142872682399 and std. deviation => 0.0257733084536 for security => IPG"
       ]
      },
      {
       "output_type": "stream",
       "stream": "stdout",
       "text": [
        "\n",
        "now processing security IFF\n",
        "mean => 0.00103595486175 and std. deviation => 0.0146032434138 for security => IFF"
       ]
      },
      {
       "output_type": "stream",
       "stream": "stdout",
       "text": [
        "\n",
        "now processing security INTU\n",
        "mean => 0.00100165881063 and std. deviation => 0.0160714556249 for security => INTU"
       ]
      },
      {
       "output_type": "stream",
       "stream": "stdout",
       "text": [
        "\n",
        "now processing security ISRG\n",
        "mean => 0.00117911082418 and std. deviation => 0.0236066908903 for security => ISRG"
       ]
      },
      {
       "output_type": "stream",
       "stream": "stdout",
       "text": [
        "\n",
        "now processing security IVZ\n",
        "mean => 0.00103989414504 and std. deviation => 0.0262666367208 for security => IVZ"
       ]
      },
      {
       "output_type": "stream",
       "stream": "stdout",
       "text": [
        "\n",
        "now processing security IRM\n",
        "mean => 0.000743827651639 and std. deviation => 0.0187529391678 for security => IRM"
       ]
      },
      {
       "output_type": "stream",
       "stream": "stdout",
       "text": [
        "\n",
        "now processing security JEC\n",
        "mean => 9.61204503984e-05 and std. deviation => 0.0225155313145 for security => JEC"
       ]
      },
      {
       "output_type": "stream",
       "stream": "stdout",
       "text": [
        "\n",
        "now processing security JNJ\n",
        "mean => 0.000523434234863 and std. deviation => 0.00909425658298 for security => JNJ"
       ]
      },
      {
       "output_type": "stream",
       "stream": "stdout",
       "text": [
        "\n",
        "now processing security JCI\n",
        "mean => 0.000939756409432 and std. deviation => 0.0226132240898 for security => JCI"
       ]
      },
      {
       "output_type": "stream",
       "stream": "stdout",
       "text": [
        "\n",
        "now processing security JOY\n",
        "mean => 0.000820949525188 and std. deviation => 0.0280351566093 for security => JOY"
       ]
      },
      {
       "output_type": "stream",
       "stream": "stdout",
       "text": [
        "\n",
        "now processing security JPM\n",
        "mean => 0.000824430983399 and std. deviation => 0.0265355664726 for security => JPM"
       ]
      },
      {
       "output_type": "stream",
       "stream": "stdout",
       "text": [
        "\n",
        "now processing security JNPR\n",
        "mean => 0.00044413699814 and std. deviation => 0.0252033515463 for security => JNPR"
       ]
      },
      {
       "output_type": "stream",
       "stream": "stdout",
       "text": [
        "\n",
        "now processing security KSU\n",
        "mean => 0.00143826666054 and std. deviation => 0.0240434061107 for security => KSU"
       ]
      },
      {
       "output_type": "stream",
       "stream": "stdout",
       "text": [
        "\n",
        "now processing security K\n",
        "mean => 0.000463521864987 and std. deviation => 0.0103193462486 for security => K"
       ]
      },
      {
       "output_type": "stream",
       "stream": "stdout",
       "text": [
        "\n",
        "now processing security KEY\n",
        "mean => 0.000850596547603 and std. deviation => 0.032458258607 for security => KEY"
       ]
      },
      {
       "output_type": "stream",
       "stream": "stdout",
       "text": [
        "\n",
        "now processing security GMCR\n",
        "mean => 0.00267268591995 and std. deviation => 0.0411772733438 for security => GMCR"
       ]
      },
      {
       "output_type": "stream",
       "stream": "stdout",
       "text": [
        "\n",
        "now processing security KMB\n",
        "mean => 0.000747617117008 and std. deviation => 0.00967398169907 for security => KMB"
       ]
      },
      {
       "output_type": "stream",
       "stream": "stdout",
       "text": [
        "\n",
        "now processing security KIM\n",
        "mean => 0.000869748982347 and std. deviation => 0.0282428475691 for security => KIM"
       ]
      },
      {
       "output_type": "stream",
       "stream": "stdout",
       "text": [
        "\n",
        "now processing security KMI\n",
        "mean => 0.0005645898457 and std. deviation => 0.0144145565489 for security => KMI"
       ]
      },
      {
       "output_type": "stream",
       "stream": "stdout",
       "text": [
        "\n",
        "now processing security KLAC\n",
        "mean => 0.00122214781458 and std. deviation => 0.0208019344865 for security => KLAC"
       ]
      },
      {
       "output_type": "stream",
       "stream": "stdout",
       "text": [
        "\n",
        "now processing security KSS\n",
        "mean => 0.000531848098685 and std. deviation => 0.0176063179033 for security => KSS"
       ]
      },
      {
       "output_type": "stream",
       "stream": "stdout",
       "text": [
        "\n",
        "now processing security KRFT\n",
        "mean => 0.000902707877102 and std. deviation => 0.0110467602746 for security => KRFT"
       ]
      },
      {
       "output_type": "stream",
       "stream": "stdout",
       "text": [
        "\n",
        "now processing security KR\n",
        "mean => 0.000782144289906 and std. deviation => 0.0139164379554 for security => KR"
       ]
      },
      {
       "output_type": "stream",
       "stream": "stdout",
       "text": [
        "\n",
        "now processing security LB\n",
        "mean => 0.00185169733616 and std. deviation => 0.0218133950513 for security => LB"
       ]
      },
      {
       "output_type": "stream",
       "stream": "stdout",
       "text": [
        "\n",
        "now processing security LLL\n",
        "mean => 0.000535362227535 and std. deviation => 0.0140646671254 for security => LLL"
       ]
      },
      {
       "output_type": "stream",
       "stream": "stdout",
       "text": [
        "\n",
        "now processing security LH\n",
        "mean => 0.00047963359186 and std. deviation => 0.0128014119681 for security => LH"
       ]
      },
      {
       "output_type": "stream",
       "stream": "stdout",
       "text": [
        "\n",
        "now processing security LRCX\n",
        "mean => 0.00111011725179 and std. deviation => 0.0224354651167 for security => LRCX"
       ]
      },
      {
       "output_type": "stream",
       "stream": "stdout",
       "text": [
        "\n",
        "now processing security LM\n",
        "mean => 0.000996742179152 and std. deviation => 0.0266434955273 for security => LM"
       ]
      },
      {
       "output_type": "stream",
       "stream": "stdout",
       "text": [
        "\n",
        "now processing security LEG\n",
        "mean => 0.00103109458806 and std. deviation => 0.0178597136507 for security => LEG"
       ]
      },
      {
       "output_type": "stream",
       "stream": "stdout",
       "text": [
        "\n",
        "now processing security LEN\n",
        "mean => 0.0015997751042 and std. deviation => 0.0329855143632 for security => LEN"
       ]
      },
      {
       "output_type": "stream",
       "stream": "stdout",
       "text": [
        "\n",
        "now processing security LVLT\n",
        "mean => 0.00165274241364 and std. deviation => 0.0363084433634 for security => LVLT"
       ]
      },
      {
       "output_type": "stream",
       "stream": "stdout",
       "text": [
        "\n",
        "now processing security LUK\n",
        "mean => 0.000418189983654 and std. deviation => 0.0252773871308 for security => LUK"
       ]
      },
      {
       "output_type": "stream",
       "stream": "stdout",
       "text": [
        "\n",
        "now processing security LLY\n",
        "mean => 0.000638677131573 and std. deviation => 0.0121694387635 for security => LLY"
       ]
      },
      {
       "output_type": "stream",
       "stream": "stdout",
       "text": [
        "\n",
        "now processing security LNC\n",
        "mean => 0.00147296052119 and std. deviation => 0.0397884024698 for security => LNC"
       ]
      },
      {
       "output_type": "stream",
       "stream": "stdout",
       "text": [
        "\n",
        "now processing security LLTC\n",
        "mean => 0.000717844248789 and std. deviation => 0.0159514508234 for security => LLTC"
       ]
      },
      {
       "output_type": "stream",
       "stream": "stdout",
       "text": [
        "\n",
        "now processing security LMT\n",
        "mean => 0.000792440819113 and std. deviation => 0.0133934227742 for security => LMT"
       ]
      },
      {
       "output_type": "stream",
       "stream": "stdout",
       "text": [
        "\n",
        "now processing security L\n",
        "mean => 0.000348248466396 and std. deviation => 0.0161510379689 for security => L"
       ]
      },
      {
       "output_type": "stream",
       "stream": "stdout",
       "text": [
        "\n",
        "now processing security LO\n",
        "mean => 0.00114756666993 and std. deviation => 0.0147432982162 for security => LO"
       ]
      },
      {
       "output_type": "stream",
       "stream": "stdout",
       "text": [
        "\n",
        "now processing security LOW\n",
        "mean => 0.000969948030675 and std. deviation => 0.0177550943083 for security => LOW"
       ]
      },
      {
       "output_type": "stream",
       "stream": "stdout",
       "text": [
        "\n",
        "now processing security LYB\n",
        "mean => 0.00162169037617 and std. deviation => 0.0230738361474 for security => LYB"
       ]
      },
      {
       "output_type": "stream",
       "stream": "stdout",
       "text": [
        "\n",
        "now processing security MTB\n",
        "mean => 0.000837867302492 and std. deviation => 0.021711285977 for security => MTB"
       ]
      },
      {
       "output_type": "stream",
       "stream": "stdout",
       "text": [
        "\n",
        "now processing security MAC\n",
        "mean => 0.00173079146107 and std. deviation => 0.0322108439845 for security => MAC"
       ]
      },
      {
       "output_type": "stream",
       "stream": "stdout",
       "text": [
        "\n",
        "now processing security M\n",
        "mean => 0.00153942206478 and std. deviation => 0.0246007182285 for security => M"
       ]
      },
      {
       "output_type": "stream",
       "stream": "stdout",
       "text": [
        "\n",
        "now processing security MNK\n",
        "mean => 0.00230793955542 and std. deviation => 0.0199828823793 for security => MNK"
       ]
      },
      {
       "output_type": "stream",
       "stream": "stdout",
       "text": [
        "\n",
        "now processing security MRO\n",
        "mean => 0.000601650561081 and std. deviation => 0.0206086266437 for security => MRO"
       ]
      },
      {
       "output_type": "stream",
       "stream": "stdout",
       "text": [
        "\n",
        "now processing security MPC\n",
        "mean => 0.00125453280251 and std. deviation => 0.0228617337833 for security => MPC"
       ]
      },
      {
       "output_type": "stream",
       "stream": "stdout",
       "text": [
        "\n",
        "now processing security MAR\n",
        "mean => 0.00119275284507 and std. deviation => 0.0204631983563 for security => MAR"
       ]
      },
      {
       "output_type": "stream",
       "stream": "stdout",
       "text": [
        "\n",
        "now processing security MMC\n",
        "mean => 0.000767225639043 and std. deviation => 0.0143860369739 for security => MMC"
       ]
      },
      {
       "output_type": "stream",
       "stream": "stdout",
       "text": [
        "\n",
        "now processing security MAS\n",
        "mean => 0.00104579898474 and std. deviation => 0.0296479568178 for security => MAS"
       ]
      },
      {
       "output_type": "stream",
       "stream": "stdout",
       "text": [
        "\n",
        "now processing security MA\n",
        "mean => 0.00134502293249 and std. deviation => 0.0197875443732 for security => MA"
       ]
      },
      {
       "output_type": "stream",
       "stream": "stdout",
       "text": [
        "\n",
        "now processing security MAT\n",
        "mean => 0.000641442663709 and std. deviation => 0.0170900990458 for security => MAT"
       ]
      },
      {
       "output_type": "stream",
       "stream": "stdout",
       "text": [
        "\n",
        "now processing security MKC\n",
        "mean => 0.000706791920709 and std. deviation => 0.0106905015365 for security => MKC"
       ]
      },
      {
       "output_type": "stream",
       "stream": "stdout",
       "text": [
        "\n",
        "now processing security MCD\n",
        "mean => 0.000410420884621 and std. deviation => 0.00998615632513 for security => MCD"
       ]
      },
      {
       "output_type": "stream",
       "stream": "stdout",
       "text": [
        "\n",
        "now processing security MHFI\n",
        "mean => 0.00114177274971 and std. deviation => 0.0191377072234 for security => MHFI"
       ]
      },
      {
       "output_type": "stream",
       "stream": "stdout",
       "text": [
        "\n",
        "now processing security MCK\n",
        "mean => 0.00128033392447 and std. deviation => 0.0150742842954 for security => MCK"
       ]
      },
      {
       "output_type": "stream",
       "stream": "stdout",
       "text": [
        "\n",
        "now processing security MJN\n",
        "mean => 0.00109264193159 and std. deviation => 0.0164994311976 for security => MJN"
       ]
      },
      {
       "output_type": "stream",
       "stream": "stdout",
       "text": [
        "\n",
        "now processing security MWV\n",
        "mean => 0.00128258359273 and std. deviation => 0.0206255037683 for security => MWV"
       ]
      },
      {
       "output_type": "stream",
       "stream": "stdout",
       "text": [
        "\n",
        "now processing security MDT\n",
        "mean => 0.000748436617186 and std. deviation => 0.0146288641341 for security => MDT"
       ]
      },
      {
       "output_type": "stream",
       "stream": "stdout",
       "text": [
        "\n",
        "now processing security MRK\n",
        "mean => 0.00072631111417 and std. deviation => 0.0142545605049 for security => MRK"
       ]
      },
      {
       "output_type": "stream",
       "stream": "stdout",
       "text": [
        "\n",
        "now processing security MET\n",
        "mean => 0.000747172268118 and std. deviation => 0.0297337272856 for security => MET"
       ]
      },
      {
       "output_type": "stream",
       "stream": "stdout",
       "text": [
        "\n",
        "now processing security KORS\n",
        "mean => 0.00166395434345 and std. deviation => 0.0255106505528 for security => KORS"
       ]
      },
      {
       "output_type": "stream",
       "stream": "stdout",
       "text": [
        "\n",
        "now processing security MCHP\n",
        "mean => 0.000874931835299 and std. deviation => 0.0165906973983 for security => MCHP"
       ]
      },
      {
       "output_type": "stream",
       "stream": "stdout",
       "text": [
        "\n",
        "now processing security MU\n",
        "mean => 0.00212822812083 and std. deviation => 0.0336187853787 for security => MU"
       ]
      },
      {
       "output_type": "stream",
       "stream": "stdout",
       "text": [
        "\n",
        "now processing security MSFT\n",
        "mean => 0.000779767575851 and std. deviation => 0.0158684061965 for security => MSFT"
       ]
      },
      {
       "output_type": "stream",
       "stream": "stdout",
       "text": [
        "\n",
        "now processing security MHK\n",
        "mean => 0.00121193230869 and std. deviation => 0.0260564142357 for security => MHK"
       ]
      },
      {
       "output_type": "stream",
       "stream": "stdout",
       "text": [
        "\n",
        "now processing security TAP\n",
        "mean => 0.000505420339188 and std. deviation => 0.0145140211281 for security => TAP"
       ]
      },
      {
       "output_type": "stream",
       "stream": "stdout",
       "text": [
        "\n",
        "now processing security MDLZ\n",
        "mean => 0.000667645903329 and std. deviation => 0.0120102766322 for security => MDLZ"
       ]
      },
      {
       "output_type": "stream",
       "stream": "stdout",
       "text": [
        "\n",
        "now processing security MON\n",
        "mean => 0.000539851966301 and std. deviation => 0.0176556351226 for security => MON"
       ]
      },
      {
       "output_type": "stream",
       "stream": "stdout",
       "text": [
        "\n",
        "now processing security MNST\n",
        "mean => 0.00154354768614 and std. deviation => 0.0237292258228 for security => MNST"
       ]
      },
      {
       "output_type": "stream",
       "stream": "stdout",
       "text": [
        "\n",
        "now processing security MCO\n",
        "mean => 0.00127667392724 and std. deviation => 0.0229627900055 for security => MCO"
       ]
      },
      {
       "output_type": "stream",
       "stream": "stdout",
       "text": [
        "\n",
        "now processing security MS\n",
        "mean => 0.000981920686395 and std. deviation => 0.0304050333758 for security => MS"
       ]
      },
      {
       "output_type": "stream",
       "stream": "stdout",
       "text": [
        "\n",
        "now processing security MOS\n",
        "mean => 0.000551380922137 and std. deviation => 0.0248432012146 for security => MOS"
       ]
      },
      {
       "output_type": "stream",
       "stream": "stdout",
       "text": [
        "\n",
        "now processing security MSI\n",
        "mean => 0.00106084672259 and std. deviation => 0.0200627172452 for security => MSI"
       ]
      },
      {
       "output_type": "stream",
       "stream": "stdout",
       "text": [
        "\n",
        "now processing security MUR\n",
        "mean => 0.000421396316628 and std. deviation => 0.0203786126341 for security => MUR"
       ]
      },
      {
       "output_type": "stream",
       "stream": "stdout",
       "text": [
        "\n",
        "now processing security MYL\n",
        "mean => 0.00128017542687 and std. deviation => 0.0183574124758 for security => MYL"
       ]
      },
      {
       "output_type": "stream",
       "stream": "stdout",
       "text": [
        "\n",
        "now processing security NBR\n",
        "mean => 0.00035005118986 and std. deviation => 0.0303763955567 for security => NBR"
       ]
      },
      {
       "output_type": "stream",
       "stream": "stdout",
       "text": [
        "\n",
        "now processing security NDAQ\n",
        "mean => 0.000648025436036 and std. deviation => 0.022025489277 for security => NDAQ"
       ]
      },
      {
       "output_type": "stream",
       "stream": "stdout",
       "text": [
        "\n",
        "now processing security NOV\n",
        "mean => 0.000922582154062 and std. deviation => 0.0238494303519 for security => NOV"
       ]
      },
      {
       "output_type": "stream",
       "stream": "stdout",
       "text": [
        "\n",
        "now processing security NAVI\n",
        "mean => 0.000974245616976 and std. deviation => 0.0123427468009 for security => NAVI"
       ]
      },
      {
       "output_type": "stream",
       "stream": "stdout",
       "text": [
        "\n",
        "now processing security NTAP\n",
        "mean => 0.000924741025707 and std. deviation => 0.0227386333368 for security => NTAP"
       ]
      },
      {
       "output_type": "stream",
       "stream": "stdout",
       "text": [
        "\n",
        "now processing security NFLX\n",
        "mean => 0.00242912561048 and std. deviation => 0.0370128576273 for security => NFLX"
       ]
      },
      {
       "output_type": "stream",
       "stream": "stdout",
       "text": [
        "\n",
        "now processing security NWL\n",
        "mean => 0.00113974094398 and std. deviation => 0.0206613812706 for security => NWL"
       ]
      },
      {
       "output_type": "stream",
       "stream": "stdout",
       "text": [
        "\n",
        "now processing security NFX\n",
        "mean => 0.000605250707553 and std. deviation => 0.0284381089162 for security => NFX"
       ]
      },
      {
       "output_type": "stream",
       "stream": "stdout",
       "text": [
        "\n",
        "now processing security NEM\n",
        "mean => 3.71199150495e-06 and std. deviation => 0.0230290828257 for security => NEM"
       ]
      },
      {
       "output_type": "stream",
       "stream": "stdout",
       "text": [
        "\n",
        "now processing security NWSA\n",
        "mean => -2.5849113525e-06 and std. deviation => 0.0137775455001 for security => NWSA"
       ]
      },
      {
       "output_type": "stream",
       "stream": "stdout",
       "text": [
        "\n",
        "now processing security NEE\n",
        "mean => 0.000699433773563 and std. deviation => 0.0113174524501 for security => NEE"
       ]
      },
      {
       "output_type": "stream",
       "stream": "stdout",
       "text": [
        "\n",
        "now processing security NLSN\n",
        "mean => 0.000728873120227 and std. deviation => 0.0151122761346 for security => NLSN"
       ]
      },
      {
       "output_type": "stream",
       "stream": "stdout",
       "text": [
        "\n",
        "now processing security NKE\n",
        "mean => 0.00103730050476 and std. deviation => 0.0164860268916 for security => NKE"
       ]
      },
      {
       "output_type": "stream",
       "stream": "stdout",
       "text": [
        "\n",
        "now processing security NI\n",
        "mean => 0.00118048813287 and std. deviation => 0.0135084524917 for security => NI"
       ]
      },
      {
       "output_type": "stream",
       "stream": "stdout",
       "text": [
        "\n",
        "now processing security NE\n",
        "mean => 0.000227514593326 and std. deviation => 0.0232348641361 for security => NE"
       ]
      },
      {
       "output_type": "stream",
       "stream": "stdout",
       "text": [
        "\n",
        "now processing security NBL\n",
        "mean => 0.000636135385922 and std. deviation => 0.0208008151007 for security => NBL"
       ]
      },
      {
       "output_type": "stream",
       "stream": "stdout",
       "text": [
        "\n",
        "now processing security JWN\n",
        "mean => 0.00145347113688 and std. deviation => 0.023389653027 for security => JWN"
       ]
      },
      {
       "output_type": "stream",
       "stream": "stdout",
       "text": [
        "\n",
        "now processing security NSC\n",
        "mean => 0.000777013962371 and std. deviation => 0.0182400356159 for security => NSC"
       ]
      },
      {
       "output_type": "stream",
       "stream": "stdout",
       "text": [
        "\n",
        "now processing security NTRS\n",
        "mean => 0.00046240281199 and std. deviation => 0.0207850790527 for security => NTRS"
       ]
      },
      {
       "output_type": "stream",
       "stream": "stdout",
       "text": [
        "\n",
        "now processing security NOC\n",
        "mean => 0.00108487920974 and std. deviation => 0.0142682422991 for security => NOC"
       ]
      },
      {
       "output_type": "stream",
       "stream": "stdout",
       "text": [
        "\n",
        "now processing security NU\n",
        "mean => 0.000747885037078 and std. deviation => 0.011211300602 for security => NU"
       ]
      },
      {
       "output_type": "stream",
       "stream": "stdout",
       "text": [
        "\n",
        "now processing security NRG\n",
        "mean => 0.000259715063272 and std. deviation => 0.0196255380032 for security => NRG"
       ]
      },
      {
       "output_type": "stream",
       "stream": "stdout",
       "text": [
        "\n",
        "now processing security NUE\n",
        "mean => 0.000286736732248 and std. deviation => 0.0202326290773 for security => NUE"
       ]
      },
      {
       "output_type": "stream",
       "stream": "stdout",
       "text": [
        "\n",
        "now processing security NVDA\n",
        "mean => 0.000948804619684 and std. deviation => 0.0265616272412 for security => NVDA"
       ]
      },
      {
       "output_type": "stream",
       "stream": "stdout",
       "text": [
        "\n",
        "now processing security ORLY\n",
        "mean => 0.00131098614512 and std. deviation => 0.0162807372812 for security => ORLY"
       ]
      },
      {
       "output_type": "stream",
       "stream": "stdout",
       "text": [
        "\n",
        "now processing security OXY\n",
        "mean => 0.000456808373927 and std. deviation => 0.0189883019256 for security => OXY"
       ]
      },
      {
       "output_type": "stream",
       "stream": "stdout",
       "text": [
        "\n",
        "now processing security OMC\n",
        "mean => 0.000847927521097 and std. deviation => 0.015072100593 for security => OMC"
       ]
      },
      {
       "output_type": "stream",
       "stream": "stdout",
       "text": [
        "\n",
        "now processing security OKE\n",
        "mean => 0.00107365470973 and std. deviation => 0.0171639634772 for security => OKE"
       ]
      },
      {
       "output_type": "stream",
       "stream": "stdout",
       "text": [
        "\n",
        "now processing security ORCL\n",
        "mean => 0.000753340608456 and std. deviation => 0.0168315169597 for security => ORCL"
       ]
      },
      {
       "output_type": "stream",
       "stream": "stdout",
       "text": [
        "\n",
        "now processing security OI\n",
        "mean => 0.000255959963465 and std. deviation => 0.0259492936567 for security => OI"
       ]
      },
      {
       "output_type": "stream",
       "stream": "stdout",
       "text": [
        "\n",
        "now processing security PCG\n",
        "mean => 0.000489842568596 and std. deviation => 0.0109690240087 for security => PCG"
       ]
      },
      {
       "output_type": "stream",
       "stream": "stdout",
       "text": [
        "\n",
        "now processing security PCAR\n",
        "mean => 0.000792975634874 and std. deviation => 0.0207284132449 for security => PCAR"
       ]
      },
      {
       "output_type": "stream",
       "stream": "stdout",
       "text": [
        "\n",
        "now processing security PLL\n",
        "mean => 0.00105564425885 and std. deviation => 0.0184365076635 for security => PLL"
       ]
      },
      {
       "output_type": "stream",
       "stream": "stdout",
       "text": [
        "\n",
        "now processing security PH\n",
        "mean => 0.000921833318703 and std. deviation => 0.0196318904934 for security => PH"
       ]
      },
      {
       "output_type": "stream",
       "stream": "stdout",
       "text": [
        "\n",
        "now processing security PDCO\n",
        "mean => 0.000804032768903 and std. deviation => 0.0148871490946 for security => PDCO"
       ]
      },
      {
       "output_type": "stream",
       "stream": "stdout",
       "text": [
        "\n",
        "now processing security PAYX\n",
        "mean => 0.000621109980466 and std. deviation => 0.0129476716776 for security => PAYX"
       ]
      },
      {
       "output_type": "stream",
       "stream": "stdout",
       "text": [
        "\n",
        "now processing security PNR\n",
        "mean => 0.000908700810647 and std. deviation => 0.0190416754385 for security => PNR"
       ]
      },
      {
       "output_type": "stream",
       "stream": "stdout",
       "text": [
        "\n",
        "now processing security PBCT\n",
        "mean => 0.000152424303077 and std. deviation => 0.0139276742909 for security => PBCT"
       ]
      },
      {
       "output_type": "stream",
       "stream": "stdout",
       "text": [
        "\n",
        "now processing security POM\n",
        "mean => 0.000584876973295 and std. deviation => 0.0131209871909 for security => POM"
       ]
      },
      {
       "output_type": "stream",
       "stream": "stdout",
       "text": [
        "\n",
        "now processing security PEP\n",
        "mean => 0.000541693509787 and std. deviation => 0.00995093630645 for security => PEP"
       ]
      },
      {
       "output_type": "stream",
       "stream": "stdout",
       "text": [
        "\n",
        "now processing security PKI\n",
        "mean => 0.000964013730609 and std. deviation => 0.0188527481289 for security => PKI"
       ]
      },
      {
       "output_type": "stream",
       "stream": "stdout",
       "text": [
        "\n",
        "now processing security PRGO\n",
        "mean => 0.00123353020162 and std. deviation => 0.0182287461913 for security => PRGO"
       ]
      },
      {
       "output_type": "stream",
       "stream": "stdout",
       "text": [
        "\n",
        "now processing security PETM\n",
        "mean => 0.0011451582487 and std. deviation => 0.0170913530265 for security => PETM"
       ]
      },
      {
       "output_type": "stream",
       "stream": "stdout",
       "text": [
        "\n",
        "now processing security PFE\n",
        "mean => 0.0006324225421 and std. deviation => 0.0134353380232 for security => PFE"
       ]
      },
      {
       "output_type": "stream",
       "stream": "stdout",
       "text": [
        "\n",
        "now processing security PM\n",
        "mean => 0.000670848952266 and std. deviation => 0.012045435683 for security => PM"
       ]
      },
      {
       "output_type": "stream",
       "stream": "stdout",
       "text": [
        "\n",
        "now processing security PSX\n",
        "mean => 0.00123449614122 and std. deviation => 0.0187345787545 for security => PSX"
       ]
      },
      {
       "output_type": "stream",
       "stream": "stdout",
       "text": [
        "\n",
        "now processing security PNW\n",
        "mean => 0.000771710754746 and std. deviation => 0.0114564904945 for security => PNW"
       ]
      },
      {
       "output_type": "stream",
       "stream": "stdout",
       "text": [
        "\n",
        "now processing security PXD\n",
        "mean => 0.00178108439979 and std. deviation => 0.0274294056264 for security => PXD"
       ]
      },
      {
       "output_type": "stream",
       "stream": "stdout",
       "text": [
        "\n",
        "now processing security PBI\n",
        "mean => 0.000411056151446 and std. deviation => 0.020478108481 for security => PBI"
       ]
      },
      {
       "output_type": "stream",
       "stream": "stdout",
       "text": [
        "\n",
        "now processing security PCL\n",
        "mean => 0.000532811743999 and std. deviation => 0.0184303243211 for security => PCL"
       ]
      },
      {
       "output_type": "stream",
       "stream": "stdout",
       "text": [
        "\n",
        "now processing security PNC\n",
        "mean => 0.000930911144438 and std. deviation => 0.0303044709789 for security => PNC"
       ]
      },
      {
       "output_type": "stream",
       "stream": "stdout",
       "text": [
        "\n",
        "now processing security RL\n",
        "mean => 0.00108324116264 and std. deviation => 0.0206360273709 for security => RL"
       ]
      },
      {
       "output_type": "stream",
       "stream": "stdout",
       "text": [
        "\n",
        "now processing security PPG\n",
        "mean => 0.00134105307656 and std. deviation => 0.0169158726713 for security => PPG"
       ]
      },
      {
       "output_type": "stream",
       "stream": "stdout",
       "text": [
        "\n",
        "now processing security PPL\n",
        "mean => 0.00035545634223 and std. deviation => 0.0123547575471 for security => PPL"
       ]
      },
      {
       "output_type": "stream",
       "stream": "stdout",
       "text": [
        "\n",
        "now processing security PX\n",
        "mean => 0.000641731597664 and std. deviation => 0.0134651008561 for security => PX"
       ]
      },
      {
       "output_type": "stream",
       "stream": "stdout",
       "text": [
        "\n",
        "now processing security PCP\n",
        "mean => 0.000944491742551 and std. deviation => 0.0177865294333 for security => PCP"
       ]
      },
      {
       "output_type": "stream",
       "stream": "stdout",
       "text": [
        "\n",
        "now processing security PCLN\n",
        "mean => 0.00198155773207 and std. deviation => 0.0231449270551 for security => PCLN"
       ]
      },
      {
       "output_type": "stream",
       "stream": "stdout",
       "text": [
        "\n",
        "now processing security PFG\n",
        "mean => 0.00113767774105 and std. deviation => 0.0333003827505 for security => PFG"
       ]
      },
      {
       "output_type": "stream",
       "stream": "stdout",
       "text": [
        "\n",
        "now processing security PG\n",
        "mean => 0.000427685880711 and std. deviation => 0.0101364180471 for security => PG"
       ]
      },
      {
       "output_type": "stream",
       "stream": "stdout",
       "text": [
        "\n",
        "now processing security PGR\n",
        "mean => 0.000646971691365 and std. deviation => 0.0160380879082 for security => PGR"
       ]
      },
      {
       "output_type": "stream",
       "stream": "stdout",
       "text": [
        "\n",
        "now processing security PLD\n",
        "mean => 0.00100893717861 and std. deviation => 0.0289126184571 for security => PLD"
       ]
      },
      {
       "output_type": "stream",
       "stream": "stdout",
       "text": [
        "\n",
        "now processing security PRU\n",
        "mean => 0.00127985877017 and std. deviation => 0.0328893757032 for security => PRU"
       ]
      },
      {
       "output_type": "stream",
       "stream": "stdout",
       "text": [
        "\n",
        "now processing security PEG\n",
        "mean => 0.000499026175258 and std. deviation => 0.0126794138492 for security => PEG"
       ]
      },
      {
       "output_type": "stream",
       "stream": "stdout",
       "text": [
        "\n",
        "now processing security PSA\n",
        "mean => 0.000976215536942 and std. deviation => 0.0196818971542 for security => PSA"
       ]
      },
      {
       "output_type": "stream",
       "stream": "stdout",
       "text": [
        "\n",
        "now processing security PHM\n",
        "mean => 0.000898753167867 and std. deviation => 0.0308521800798 for security => PHM"
       ]
      },
      {
       "output_type": "stream",
       "stream": "stdout",
       "text": [
        "\n",
        "now processing security PVH\n",
        "mean => 0.0013905352061 and std. deviation => 0.0238134954692 for security => PVH"
       ]
      },
      {
       "output_type": "stream",
       "stream": "stdout",
       "text": [
        "\n",
        "now processing security QEP\n",
        "mean => -0.000200065371276 and std. deviation => 0.0230244467266 for security => QEP"
       ]
      },
      {
       "output_type": "stream",
       "stream": "stdout",
       "text": [
        "\n",
        "now processing security PWR\n",
        "mean => 0.000411953631373 and std. deviation => 0.0219058400881 for security => PWR"
       ]
      },
      {
       "output_type": "stream",
       "stream": "stdout",
       "text": [
        "\n",
        "now processing security QCOM\n",
        "mean => 0.00064286605032 and std. deviation => 0.0165436394278 for security => QCOM"
       ]
      },
      {
       "output_type": "stream",
       "stream": "stdout",
       "text": [
        "\n",
        "now processing security DGX\n",
        "mean => 0.000353831960773 and std. deviation => 0.0139808032778 for security => DGX"
       ]
      },
      {
       "output_type": "stream",
       "stream": "stdout",
       "text": [
        "\n",
        "now processing security RRC\n",
        "mean => 0.000494779418068 and std. deviation => 0.0245531119631 for security => RRC"
       ]
      },
      {
       "output_type": "stream",
       "stream": "stdout",
       "text": [
        "\n",
        "now processing security RTN\n",
        "mean => 0.00068824095627 and std. deviation => 0.0133483772534 for security => RTN"
       ]
      },
      {
       "output_type": "stream",
       "stream": "stdout",
       "text": [
        "\n",
        "now processing security RHT\n",
        "mean => 0.00128273247412 and std. deviation => 0.0232066499739 for security => RHT"
       ]
      },
      {
       "output_type": "stream",
       "stream": "stdout",
       "text": [
        "\n",
        "now processing security REGN\n",
        "mean => 0.00250660962315 and std. deviation => 0.0305819294525 for security => REGN"
       ]
      },
      {
       "output_type": "stream",
       "stream": "stdout",
       "text": [
        "\n",
        "now processing security RF\n",
        "mean => 0.000852599052032 and std. deviation => 0.0393823437071 for security => RF"
       ]
      },
      {
       "output_type": "stream",
       "stream": "stdout",
       "text": [
        "\n",
        "now processing security RSG\n",
        "mean => 0.000538436308855 and std. deviation => 0.0141627132787 for security => RSG"
       ]
      },
      {
       "output_type": "stream",
       "stream": "stdout",
       "text": [
        "\n",
        "now processing security RAI\n",
        "mean => 0.00111683497294 and std. deviation => 0.0120897811323 for security => RAI"
       ]
      },
      {
       "output_type": "stream",
       "stream": "stdout",
       "text": [
        "\n",
        "now processing security RHI\n",
        "mean => 0.000963143122865 and std. deviation => 0.0210083091201 for security => RHI"
       ]
      },
      {
       "output_type": "stream",
       "stream": "stdout",
       "text": [
        "\n",
        "now processing security ROK\n",
        "mean => 0.0010970138998 and std. deviation => 0.0219440350269 for security => ROK"
       ]
      },
      {
       "output_type": "stream",
       "stream": "stdout",
       "text": [
        "\n",
        "now processing security COL\n",
        "mean => 0.000691023358993 and std. deviation => 0.015567822577 for security => COL"
       ]
      },
      {
       "output_type": "stream",
       "stream": "stdout",
       "text": [
        "\n",
        "now processing security ROP\n",
        "mean => 0.000954579321883 and std. deviation => 0.016441459469 for security => ROP"
       ]
      },
      {
       "output_type": "stream",
       "stream": "stdout",
       "text": [
        "\n",
        "now processing security ROST\n",
        "mean => 0.00135450918269 and std. deviation => 0.0156694605614 for security => ROST"
       ]
      },
      {
       "output_type": "stream",
       "stream": "stdout",
       "text": [
        "\n",
        "now processing security RCL\n",
        "mean => 0.00171411190004 and std. deviation => 0.0327134327946 for security => RCL"
       ]
      },
      {
       "output_type": "stream",
       "stream": "stdout",
       "text": [
        "\n",
        "now processing security R\n",
        "mean => 0.000898297100965 and std. deviation => 0.0233737514433 for security => R"
       ]
      },
      {
       "output_type": "stream",
       "stream": "stdout",
       "text": [
        "\n",
        "now processing security SWY\n",
        "mean => 0.000597953382438 and std. deviation => 0.0183555605386 for security => SWY"
       ]
      },
      {
       "output_type": "stream",
       "stream": "stdout",
       "text": [
        "\n",
        "now processing security CRM\n",
        "mean => 0.00158385305233 and std. deviation => 0.0255671145956 for security => CRM"
       ]
      },
      {
       "output_type": "stream",
       "stream": "stdout",
       "text": [
        "\n",
        "now processing security SNDK\n",
        "mean => 0.00173874366972 and std. deviation => 0.0294828890546 for security => SNDK"
       ]
      },
      {
       "output_type": "stream",
       "stream": "stdout",
       "text": [
        "\n",
        "now processing security SCG\n",
        "mean => 0.000605864246293 and std. deviation => 0.0104424658846 for security => SCG"
       ]
      },
      {
       "output_type": "stream",
       "stream": "stdout",
       "text": [
        "\n",
        "now processing security SLB\n",
        "mean => 0.000668715435307 and std. deviation => 0.0212095069526 for security => SLB"
       ]
      },
      {
       "output_type": "stream",
       "stream": "stdout",
       "text": [
        "\n",
        "now processing security SNI\n",
        "mean => 0.000920480115858 and std. deviation => 0.0172168932672 for security => SNI"
       ]
      },
      {
       "output_type": "stream",
       "stream": "stdout",
       "text": [
        "\n",
        "now processing security STX\n",
        "mean => 0.00225006816606 and std. deviation => 0.0313842115451 for security => STX"
       ]
      },
      {
       "output_type": "stream",
       "stream": "stdout",
       "text": [
        "\n",
        "now processing security SEE\n",
        "mean => 0.000979008134302 and std. deviation => 0.0200944948379 for security => SEE"
       ]
      },
      {
       "output_type": "stream",
       "stream": "stdout",
       "text": [
        "\n",
        "now processing security SRE\n",
        "mean => 0.000827646321941 and std. deviation => 0.0117728416302 for security => SRE"
       ]
      },
      {
       "output_type": "stream",
       "stream": "stdout",
       "text": [
        "\n",
        "now processing security SHW\n",
        "mean => 0.00118533391471 and std. deviation => 0.015193031316 for security => SHW"
       ]
      },
      {
       "output_type": "stream",
       "stream": "stdout",
       "text": [
        "\n",
        "now processing security SIAL\n",
        "mean => 0.000936897226939 and std. deviation => 0.0166748210515 for security => SIAL"
       ]
      },
      {
       "output_type": "stream",
       "stream": "stdout",
       "text": [
        "\n",
        "now processing security SPG\n",
        "mean => 0.00134476391849 and std. deviation => 0.0238596731118 for security => SPG"
       ]
      },
      {
       "output_type": "stream",
       "stream": "stdout",
       "text": [
        "\n",
        "now processing security SJM\n",
        "mean => 0.000759725684956 and std. deviation => 0.0117811656097 for security => SJM"
       ]
      },
      {
       "output_type": "stream",
       "stream": "stdout",
       "text": [
        "\n",
        "now processing security SNA\n",
        "mean => 0.00103800495885 and std. deviation => 0.0181959116587 for security => SNA"
       ]
      },
      {
       "output_type": "stream",
       "stream": "stdout",
       "text": [
        "\n",
        "now processing security SO\n",
        "mean => 0.000444934169778 and std. deviation => 0.00889735541776 for security => SO"
       ]
      },
      {
       "output_type": "stream",
       "stream": "stdout",
       "text": [
        "\n",
        "now processing security LUV\n",
        "mean => 0.00131278606117 and std. deviation => 0.0214816306947 for security => LUV"
       ]
      },
      {
       "output_type": "stream",
       "stream": "stdout",
       "text": [
        "\n",
        "now processing security SWN\n",
        "mean => 0.000132454704053 and std. deviation => 0.0229278003461 for security => SWN"
       ]
      },
      {
       "output_type": "stream",
       "stream": "stdout",
       "text": [
        "\n",
        "now processing security SE\n",
        "mean => 0.000738601864384 and std. deviation => 0.0141445064867 for security => SE"
       ]
      },
      {
       "output_type": "stream",
       "stream": "stdout",
       "text": [
        "\n",
        "now processing security STJ\n",
        "mean => 0.000638549036621 and std. deviation => 0.0172008663677 for security => STJ"
       ]
      },
      {
       "output_type": "stream",
       "stream": "stdout",
       "text": [
        "\n",
        "now processing security SWK\n",
        "mean => 0.00094002074913 and std. deviation => 0.0199055523245 for security => SWK"
       ]
      },
      {
       "output_type": "stream",
       "stream": "stdout",
       "text": [
        "\n",
        "now processing security SPLS\n",
        "mean => 0.00026228769482 and std. deviation => 0.0210592660081 for security => SPLS"
       ]
      },
      {
       "output_type": "stream",
       "stream": "stdout",
       "text": [
        "\n",
        "now processing security SBUX\n",
        "mean => 0.00163462689345 and std. deviation => 0.0195356816143 for security => SBUX"
       ]
      },
      {
       "output_type": "stream",
       "stream": "stdout",
       "text": [
        "\n",
        "now processing security HOT\n",
        "mean => 0.00125746635747 and std. deviation => 0.0260715035895 for security => HOT"
       ]
      },
      {
       "output_type": "stream",
       "stream": "stdout",
       "text": [
        "\n",
        "now processing security STT\n",
        "mean => 0.00104629258576 and std. deviation => 0.0320864912835 for security => STT"
       ]
      },
      {
       "output_type": "stream",
       "stream": "stdout",
       "text": [
        "\n",
        "now processing security SRCL\n",
        "mean => 0.00070537503017 and std. deviation => 0.0130690152063 for security => SRCL"
       ]
      },
      {
       "output_type": "stream",
       "stream": "stdout",
       "text": [
        "\n",
        "now processing security SYK\n",
        "mean => 0.000690698854175 and std. deviation => 0.014383301079 for security => SYK"
       ]
      },
      {
       "output_type": "stream",
       "stream": "stdout",
       "text": [
        "\n",
        "now processing security STI\n",
        "mean => 0.000828780329726 and std. deviation => 0.0346512394976 for security => STI"
       ]
      },
      {
       "output_type": "stream",
       "stream": "stdout",
       "text": [
        "\n",
        "now processing security SYMC\n",
        "mean => 0.000615758521105 and std. deviation => 0.0198252458456 for security => SYMC"
       ]
      },
      {
       "output_type": "stream",
       "stream": "stdout",
       "text": [
        "\n",
        "now processing security SYY\n",
        "mean => 0.000557891192835 and std. deviation => 0.0119805574145 for security => SYY"
       ]
      },
      {
       "output_type": "stream",
       "stream": "stdout",
       "text": [
        "\n",
        "now processing security TROW\n",
        "mean => 0.000888430027986 and std. deviation => 0.0228703986383 for security => TROW"
       ]
      },
      {
       "output_type": "stream",
       "stream": "stdout",
       "text": [
        "\n",
        "now processing security TGT\n",
        "mean => 0.000715811100308 and std. deviation => 0.0151857701425 for security => TGT"
       ]
      },
      {
       "output_type": "stream",
       "stream": "stdout",
       "text": [
        "\n",
        "now processing security TEL\n",
        "mean => 0.00115932875583 and std. deviation => 0.0208284041756 for security => TEL"
       ]
      },
      {
       "output_type": "stream",
       "stream": "stdout",
       "text": [
        "\n",
        "now processing security TE\n",
        "mean => 0.000633443448046 and std. deviation => 0.0129342791552 for security => TE"
       ]
      },
      {
       "output_type": "stream",
       "stream": "stdout",
       "text": [
        "\n",
        "now processing security THC\n",
        "mean => 0.00204730094327 and std. deviation => 0.0360594675927 for security => THC"
       ]
      },
      {
       "output_type": "stream",
       "stream": "stdout",
       "text": [
        "\n",
        "now processing security TDC\n",
        "mean => 0.000908164771649 and std. deviation => 0.0216842441511 for security => TDC"
       ]
      },
      {
       "output_type": "stream",
       "stream": "stdout",
       "text": [
        "\n",
        "now processing security TSO\n",
        "mean => 0.00155840317356 and std. deviation => 0.0279141513679 for security => TSO"
       ]
      },
      {
       "output_type": "stream",
       "stream": "stdout",
       "text": [
        "\n",
        "now processing security TXN\n",
        "mean => 0.0010408745289 and std. deviation => 0.016791704829 for security => TXN"
       ]
      },
      {
       "output_type": "stream",
       "stream": "stdout",
       "text": [
        "\n",
        "now processing security TXT\n",
        "mean => 0.00125947317592 and std. deviation => 0.0336822261958 for security => TXT"
       ]
      },
      {
       "output_type": "stream",
       "stream": "stdout",
       "text": [
        "\n",
        "now processing security HSY\n",
        "mean => 0.000905962644724 and std. deviation => 0.0114415967866 for security => HSY"
       ]
      },
      {
       "output_type": "stream",
       "stream": "stdout",
       "text": [
        "\n",
        "now processing security TRV\n",
        "mean => 0.000782762604691 and std. deviation => 0.0145091291296 for security => TRV"
       ]
      },
      {
       "output_type": "stream",
       "stream": "stdout",
       "text": [
        "\n",
        "now processing security TMO\n",
        "mean => 0.000985364440133 and std. deviation => 0.0162172945116 for security => TMO"
       ]
      },
      {
       "output_type": "stream",
       "stream": "stdout",
       "text": [
        "\n",
        "now processing security TIF\n",
        "mean => 0.00114942443956 and std. deviation => 0.0219965146201 for security => TIF"
       ]
      },
      {
       "output_type": "stream",
       "stream": "stdout",
       "text": [
        "\n",
        "now processing security TWX\n",
        "mean => 0.00102882307646 and std. deviation => 0.01886500895 for security => TWX"
       ]
      },
      {
       "output_type": "stream",
       "stream": "stdout",
       "text": [
        "\n",
        "now processing security TWC\n",
        "mean => 0.00131868805384 and std. deviation => 0.0183143357106 for security => TWC"
       ]
      },
      {
       "output_type": "stream",
       "stream": "stdout",
       "text": [
        "\n",
        "now processing security TJX\n",
        "mean => 0.00136745986002 and std. deviation => 0.0150795111958 for security => TJX"
       ]
      },
      {
       "output_type": "stream",
       "stream": "stdout",
       "text": [
        "\n",
        "now processing security TMK\n",
        "mean => 0.000928141591365 and std. deviation => 0.0223522372831 for security => TMK"
       ]
      },
      {
       "output_type": "stream",
       "stream": "stdout",
       "text": [
        "\n",
        "now processing security TSS\n",
        "mean => 0.000729998645982 and std. deviation => 0.0146814423488 for security => TSS"
       ]
      },
      {
       "output_type": "stream",
       "stream": "stdout",
       "text": [
        "\n",
        "now processing security TSCO\n",
        "mean => 0.00163467812852 and std. deviation => 0.0195356963773 for security => TSCO"
       ]
      },
      {
       "output_type": "stream",
       "stream": "stdout",
       "text": [
        "\n",
        "now processing security RIG\n",
        "mean => -0.000365908524882 and std. deviation => 0.024118824563 for security => RIG"
       ]
      },
      {
       "output_type": "stream",
       "stream": "stdout",
       "text": [
        "\n",
        "now processing security TRIP\n",
        "mean => 0.00158697724016 and std. deviation => 0.0273209540521 for security => TRIP"
       ]
      },
      {
       "output_type": "stream",
       "stream": "stdout",
       "text": [
        "\n",
        "now processing security FOXA\n",
        "mean => 0.00119274605768 and std. deviation => 0.0218248428581 for security => FOXA"
       ]
      },
      {
       "output_type": "stream",
       "stream": "stdout",
       "text": [
        "\n",
        "now processing security TSN\n",
        "mean => 0.00119773234568 and std. deviation => 0.0191296047799 for security => TSN"
       ]
      },
      {
       "output_type": "stream",
       "stream": "stdout",
       "text": [
        "\n",
        "now processing security TYC\n",
        "mean => 0.00109147664761 and std. deviation => 0.0167639044351 for security => TYC"
       ]
      },
      {
       "output_type": "stream",
       "stream": "stdout",
       "text": [
        "\n",
        "now processing security USB\n",
        "mean => 0.000753762990079 and std. deviation => 0.025600611105 for security => USB"
       ]
      },
      {
       "output_type": "stream",
       "stream": "stdout",
       "text": [
        "\n",
        "now processing security UA\n",
        "mean => 0.0019579042323 and std. deviation => 0.0276289596636 for security => UA"
       ]
      },
      {
       "output_type": "stream",
       "stream": "stdout",
       "text": [
        "\n",
        "now processing security UNP\n",
        "mean => 0.00126579428565 and std. deviation => 0.0179244807233 for security => UNP"
       ]
      },
      {
       "output_type": "stream",
       "stream": "stdout",
       "text": [
        "\n",
        "now processing security UNH\n",
        "mean => 0.00115800625886 and std. deviation => 0.0188631419365 for security => UNH"
       ]
      },
      {
       "output_type": "stream",
       "stream": "stdout",
       "text": [
        "\n",
        "now processing security UPS\n",
        "mean => 0.000672409745917 and std. deviation => 0.0132684130944 for security => UPS"
       ]
      },
      {
       "output_type": "stream",
       "stream": "stdout",
       "text": [
        "\n",
        "now processing security MLM\n",
        "mean => 0.000320512811221 and std. deviation => 0.0195030450279 for security => MLM"
       ]
      },
      {
       "output_type": "stream",
       "stream": "stdout",
       "text": [
        "\n",
        "now processing security URI\n",
        "mean => 0.00205632266734 and std. deviation => 0.033801726421 for security => URI"
       ]
      },
      {
       "output_type": "stream",
       "stream": "stdout",
       "text": [
        "\n",
        "now processing security UTX\n",
        "mean => 0.000709566118002 and std. deviation => 0.0140853993771 for security => UTX"
       ]
      },
      {
       "output_type": "stream",
       "stream": "stdout",
       "text": [
        "\n",
        "now processing security UHS\n",
        "mean => 0.0013739378381 and std. deviation => 0.0201447266876 for security => UHS"
       ]
      },
      {
       "output_type": "stream",
       "stream": "stdout",
       "text": [
        "\n",
        "now processing security UNM\n",
        "mean => 0.000740612772017 and std. deviation => 0.0242773539624 for security => UNM"
       ]
      },
      {
       "output_type": "stream",
       "stream": "stdout",
       "text": [
        "\n",
        "now processing security URBN\n",
        "mean => 0.000795761525269 and std. deviation => 0.0236552148098 for security => URBN"
       ]
      },
      {
       "output_type": "stream",
       "stream": "stdout",
       "text": [
        "\n",
        "now processing security VFC\n",
        "mean => 0.00130815854182 and std. deviation => 0.0168612007399 for security => VFC"
       ]
      },
      {
       "output_type": "stream",
       "stream": "stdout",
       "text": [
        "\n",
        "now processing security VLO\n",
        "mean => 0.00092618992349 and std. deviation => 0.0249460413167 for security => VLO"
       ]
      },
      {
       "output_type": "stream",
       "stream": "stdout",
       "text": [
        "\n",
        "now processing security VAR\n",
        "mean => 0.000725674826011 and std. deviation => 0.0168511032548 for security => VAR"
       ]
      },
      {
       "output_type": "stream",
       "stream": "stdout",
       "text": [
        "\n",
        "now processing security VTR\n",
        "mean => 0.00101833336231 and std. deviation => 0.0215023071137 for security => VTR"
       ]
      },
      {
       "output_type": "stream",
       "stream": "stdout",
       "text": [
        "\n",
        "now processing security VRSN\n",
        "mean => 0.000956938744121 and std. deviation => 0.019514899699 for security => VRSN"
       ]
      },
      {
       "output_type": "stream",
       "stream": "stdout",
       "text": [
        "\n",
        "now processing security VZ\n",
        "mean => 0.000530850314648 and std. deviation => 0.0114605005342 for security => VZ"
       ]
      },
      {
       "output_type": "stream",
       "stream": "stdout",
       "text": [
        "\n",
        "now processing security VRTX\n",
        "mean => 0.00145617038686 and std. deviation => 0.034466329923 for security => VRTX"
       ]
      },
      {
       "output_type": "stream",
       "stream": "stdout",
       "text": [
        "\n",
        "now processing security VIAB\n",
        "mean => 0.00104732703755 and std. deviation => 0.018543320181 for security => VIAB"
       ]
      },
      {
       "output_type": "stream",
       "stream": "stdout",
       "text": [
        "\n",
        "now processing security V\n",
        "mean => 0.00122731306523 and std. deviation => 0.0181858819103 for security => V"
       ]
      },
      {
       "output_type": "stream",
       "stream": "stdout",
       "text": [
        "\n",
        "now processing security VNO\n",
        "mean => 0.000958648150779 and std. deviation => 0.0242693166157 for security => VNO"
       ]
      },
      {
       "output_type": "stream",
       "stream": "stdout",
       "text": [
        "\n",
        "now processing security VMC\n",
        "mean => 0.000331496149905 and std. deviation => 0.0235263961153 for security => VMC"
       ]
      },
      {
       "output_type": "stream",
       "stream": "stdout",
       "text": [
        "\n",
        "now processing security WMT\n",
        "mean => 0.000432260198025 and std. deviation => 0.0101838435725 for security => WMT"
       ]
      },
      {
       "output_type": "stream",
       "stream": "stdout",
       "text": [
        "\n",
        "now processing security WBA\n",
        "mean => 0.000941175544604 and std. deviation => 0.0167633397437 for security => WBA"
       ]
      },
      {
       "output_type": "stream",
       "stream": "stdout",
       "text": [
        "\n",
        "now processing security DIS\n",
        "mean => 0.00109082576298 and std. deviation => 0.0162702243487 for security => DIS"
       ]
      },
      {
       "output_type": "stream",
       "stream": "stdout",
       "text": [
        "\n",
        "now processing security WM\n",
        "mean => 0.000521063311991 and std. deviation => 0.0124010038757 for security => WM"
       ]
      },
      {
       "output_type": "stream",
       "stream": "stdout",
       "text": [
        "\n",
        "now processing security WAT\n",
        "mean => 0.000882476555807 and std. deviation => 0.017464058448 for security => WAT"
       ]
      },
      {
       "output_type": "stream",
       "stream": "stdout",
       "text": [
        "\n",
        "now processing security ANTM\n",
        "mean => 0.000992784639049 and std. deviation => 0.018488250594 for security => ANTM"
       ]
      },
      {
       "output_type": "stream",
       "stream": "stdout",
       "text": [
        "\n",
        "now processing security WFC\n",
        "mean => 0.000941598797121 and std. deviation => 0.0311769511005 for security => WFC"
       ]
      },
      {
       "output_type": "stream",
       "stream": "stdout",
       "text": [
        "\n",
        "now processing security WDC\n",
        "mean => 0.00176579713608 and std. deviation => 0.0257039004757 for security => WDC"
       ]
      },
      {
       "output_type": "stream",
       "stream": "stdout",
       "text": [
        "\n",
        "now processing security WU\n",
        "mean => 0.000378093441287 and std. deviation => 0.0197570263855 for security => WU"
       ]
      },
      {
       "output_type": "stream",
       "stream": "stdout",
       "text": [
        "\n",
        "now processing security WY\n",
        "mean => 0.00105467377632 and std. deviation => 0.0208983739869 for security => WY"
       ]
      },
      {
       "output_type": "stream",
       "stream": "stdout",
       "text": [
        "\n",
        "now processing security WHR\n",
        "mean => 0.00145211059025 and std. deviation => 0.0265994470501 for security => WHR"
       ]
      },
      {
       "output_type": "stream",
       "stream": "stdout",
       "text": [
        "\n",
        "now processing security WFM\n",
        "mean => 0.00190143094458 and std. deviation => 0.0252572578217 for security => WFM"
       ]
      },
      {
       "output_type": "stream",
       "stream": "stdout",
       "text": [
        "\n",
        "now processing security WMB\n",
        "mean => 0.00118360988752 and std. deviation => 0.0215653178418 for security => WMB"
       ]
      },
      {
       "output_type": "stream",
       "stream": "stdout",
       "text": [
        "\n",
        "now processing security WIN\n",
        "mean => 0.000433140355792 and std. deviation => 0.0158549544282 for security => WIN"
       ]
      },
      {
       "output_type": "stream",
       "stream": "stdout",
       "text": [
        "\n",
        "now processing security WEC\n",
        "mean => 0.000820155622037 and std. deviation => 0.0103109533321 for security => WEC"
       ]
      },
      {
       "output_type": "stream",
       "stream": "stdout",
       "text": [
        "\n",
        "now processing security WYN\n",
        "mean => 0.00210476344722 and std. deviation => 0.0289677067415 for security => WYN"
       ]
      },
      {
       "output_type": "stream",
       "stream": "stdout",
       "text": [
        "\n",
        "now processing security WYNN\n",
        "mean => 0.0014519384835 and std. deviation => 0.0309469674695 for security => WYNN"
       ]
      },
      {
       "output_type": "stream",
       "stream": "stdout",
       "text": [
        "\n",
        "now processing security XEL\n",
        "mean => 0.000665937062698 and std. deviation => 0.00978126254303 for security => XEL"
       ]
      },
      {
       "output_type": "stream",
       "stream": "stdout",
       "text": [
        "\n",
        "now processing security XRX\n",
        "mean => 0.000675713163991 and std. deviation => 0.0225563602592 for security => XRX"
       ]
      },
      {
       "output_type": "stream",
       "stream": "stdout",
       "text": [
        "\n",
        "now processing security XLNX\n",
        "mean => 0.00075046422585 and std. deviation => 0.0179282628151 for security => XLNX"
       ]
      },
      {
       "output_type": "stream",
       "stream": "stdout",
       "text": [
        "\n",
        "now processing security XL\n",
        "mean => 0.00206521770343 and std. deviation => 0.0333507225733 for security => XL"
       ]
      },
      {
       "output_type": "stream",
       "stream": "stdout",
       "text": [
        "\n",
        "now processing security XYL\n",
        "mean => 0.000647240432585 and std. deviation => 0.0159851789726 for security => XYL"
       ]
      },
      {
       "output_type": "stream",
       "stream": "stdout",
       "text": [
        "\n",
        "now processing security YHOO\n",
        "mean => 0.00108885170852 and std. deviation => 0.0205481687292 for security => YHOO"
       ]
      },
      {
       "output_type": "stream",
       "stream": "stdout",
       "text": [
        "\n",
        "now processing security YUM\n",
        "mean => 0.000762536121549 and std. deviation => 0.0160319901336 for security => YUM"
       ]
      },
      {
       "output_type": "stream",
       "stream": "stdout",
       "text": [
        "\n",
        "now processing security ZMH\n",
        "mean => 0.000824290155285 and std. deviation => 0.0155195319697 for security => ZMH"
       ]
      },
      {
       "output_type": "stream",
       "stream": "stdout",
       "text": [
        "\n",
        "now processing security ZION\n",
        "mean => 0.00064676405412 and std. deviation => 0.0356700032882 for security => ZION"
       ]
      },
      {
       "output_type": "stream",
       "stream": "stdout",
       "text": [
        "\n",
        "now processing security ZTS\n",
        "mean => 0.000857383823037 and std. deviation => 0.0137811920701 for security => ZTS"
       ]
      },
      {
       "output_type": "stream",
       "stream": "stdout",
       "text": [
        "\n"
       ]
      }
     ],
     "prompt_number": 67
    },
    {
     "cell_type": "code",
     "collapsed": false,
     "input": [
      "securities_data"
     ],
     "language": "python",
     "metadata": {},
     "outputs": [
      {
       "metadata": {},
       "output_type": "pyout",
       "prompt_number": 68,
       "text": [
        "[{'mean': 0.00087295737426377562,\n",
        "  'security_symbol': 'MMM',\n",
        "  'std_dev': 0.013626593289525221},\n",
        " {'mean': 0.00054404208520722442,\n",
        "  'security_symbol': 'ABT',\n",
        "  'std_dev': 0.011477373078473439},\n",
        " {'mean': 0.0014056285825701283,\n",
        "  'security_symbol': 'ABBV',\n",
        "  'std_dev': 0.015714871926452961},\n",
        " {'mean': 0.00071801033160203711,\n",
        "  'security_symbol': 'ACE',\n",
        "  'std_dev': 0.015508794996903278},\n",
        " {'mean': 0.00084494424392797204,\n",
        "  'security_symbol': 'ACN',\n",
        "  'std_dev': 0.015300726379895482},\n",
        " {'mean': 0.0016779586103282127,\n",
        "  'security_symbol': 'ACT',\n",
        "  'std_dev': 0.016079945544208194},\n",
        " {'mean': 0.00097683299594524117,\n",
        "  'security_symbol': 'ADBE',\n",
        "  'std_dev': 0.020713552238043078},\n",
        " {'mean': 0.00010615201674954382,\n",
        "  'security_symbol': 'ADT',\n",
        "  'std_dev': 0.017995057926287302},\n",
        " {'mean': 0.00053493085525423145,\n",
        "  'security_symbol': 'AES',\n",
        "  'std_dev': 0.02242087880430578},\n",
        " {'mean': 0.0010350642001161834,\n",
        "  'security_symbol': 'AET',\n",
        "  'std_dev': 0.020911944618977354},\n",
        " {'mean': 0.00071744937380206395,\n",
        "  'security_symbol': 'AFL',\n",
        "  'std_dev': 0.029683626921937729},\n",
        " {'mean': 0.0013773113957350946,\n",
        "  'security_symbol': 'AMG',\n",
        "  'std_dev': 0.02624819674914914},\n",
        " {'mean': 0.0010516030255988788,\n",
        "  'security_symbol': 'A',\n",
        "  'std_dev': 0.021246256240051505},\n",
        " {'mean': 0.00063393733221155948,\n",
        "  'security_symbol': 'GAS',\n",
        "  'std_dev': 0.011630943703903763},\n",
        " {'mean': 0.0008857711370997771,\n",
        "  'security_symbol': 'APD',\n",
        "  'std_dev': 0.015701425100620361},\n",
        " {'mean': 0.00090719320269582945,\n",
        "  'security_symbol': 'ARG',\n",
        "  'std_dev': 0.018327522356606188},\n",
        " {'mean': 0.001271521053441583,\n",
        "  'security_symbol': 'AKAM',\n",
        "  'std_dev': 0.02789485918702319},\n",
        " {'mean': 0.00059164408174527093,\n",
        "  'security_symbol': 'AA',\n",
        "  'std_dev': 0.026536181539039909},\n",
        " {'mean': 0.0017522631406080883,\n",
        "  'security_symbol': 'ALXN',\n",
        "  'std_dev': 0.022100617146390261},\n",
        " {'mean': 0.00058442154134484396,\n",
        "  'security_symbol': 'ATI',\n",
        "  'std_dev': 0.030703360153656611},\n",
        " {'mean': 0.00050854562470425025,\n",
        "  'security_symbol': 'ALLE',\n",
        "  'std_dev': 0.01417284253397866},\n",
        " {'mean': 0.0012528605151717709,\n",
        "  'security_symbol': 'AGN',\n",
        "  'std_dev': 0.016690980188023459},\n",
        " {'mean': 0.0014044389535358987,\n",
        "  'security_symbol': 'ADS',\n",
        "  'std_dev': 0.020426085883202296},\n",
        " {'mean': 0.00081594298036230647,\n",
        "  'security_symbol': 'ALL',\n",
        "  'std_dev': 0.020255870121472123},\n",
        " {'mean': 0.00072639547056377091,\n",
        "  'security_symbol': 'ALTR',\n",
        "  'std_dev': 0.020286396721135327},\n",
        " {'mean': 0.0011191682576298127,\n",
        "  'security_symbol': 'MO',\n",
        "  'std_dev': 0.0099603991523849536},\n",
        " {'mean': 0.001405331051218894,\n",
        "  'security_symbol': 'AMZN',\n",
        "  'std_dev': 0.023055678782168961},\n",
        " {'mean': 0.00049067643347509512,\n",
        "  'security_symbol': 'AEE',\n",
        "  'std_dev': 0.013028812204248029},\n",
        " {'mean': 0.00066491567581504496,\n",
        "  'security_symbol': 'AEP',\n",
        "  'std_dev': 0.011384626166773455},\n",
        " {'mean': 0.0013212238433788521,\n",
        "  'security_symbol': 'AXP',\n",
        "  'std_dev': 0.023933626512632582},\n",
        " {'mean': 0.0014516058262040324,\n",
        "  'security_symbol': 'AIG',\n",
        "  'std_dev': 0.047418695485450892},\n",
        " {'mean': 0.00092727609007016323,\n",
        "  'security_symbol': 'AMT',\n",
        "  'std_dev': 0.015281101907376349},\n",
        " {'mean': 0.0015084100324396217,\n",
        "  'security_symbol': 'AMP',\n",
        "  'std_dev': 0.025043351725036772},\n",
        " {'mean': 0.0012354688586420387,\n",
        "  'security_symbol': 'ABC',\n",
        "  'std_dev': 0.013295692924307776},\n",
        " {'mean': 0.00099178814768345288,\n",
        "  'security_symbol': 'AME',\n",
        "  'std_dev': 0.017007989373629618},\n",
        " {'mean': 0.000818650902160806,\n",
        "  'security_symbol': 'AMGN',\n",
        "  'std_dev': 0.015617384540362203},\n",
        " {'mean': 0.001158691601512533,\n",
        "  'security_symbol': 'APH',\n",
        "  'std_dev': 0.019183168354491284},\n",
        " {'mean': 0.00079032640326651604,\n",
        "  'security_symbol': 'APC',\n",
        "  'std_dev': 0.024631965836020429},\n",
        " {'mean': 0.00093171099418274696,\n",
        "  'security_symbol': 'ADI',\n",
        "  'std_dev': 0.016950292665846297},\n",
        " {'mean': 0.00064444683729961312,\n",
        "  'security_symbol': 'AON',\n",
        "  'std_dev': 0.01429093822969325},\n",
        " {'mean': 9.1952588491798942e-05,\n",
        "  'security_symbol': 'APA',\n",
        "  'std_dev': 0.020029718372503683},\n",
        " {'mean': 0.0013096854425874111,\n",
        "  'security_symbol': 'AIV',\n",
        "  'std_dev': 0.027774518736938491},\n",
        " {'mean': 0.0016094723704131761,\n",
        "  'security_symbol': 'AAPL',\n",
        "  'std_dev': 0.017597958065017967},\n",
        " {'mean': 0.00084522605609501093,\n",
        "  'security_symbol': 'AMAT',\n",
        "  'std_dev': 0.020123090219195849},\n",
        " {'mean': 0.00056373751845357914,\n",
        "  'security_symbol': 'ADM',\n",
        "  'std_dev': 0.017353321217481552},\n",
        " {'mean': 0.00079418145439974996,\n",
        "  'security_symbol': 'AIZ',\n",
        "  'std_dev': 0.020234881936668572},\n",
        " {'mean': 0.00038354470387388999,\n",
        "  'security_symbol': 'T',\n",
        "  'std_dev': 0.011082894510442459},\n",
        " {'mean': 0.00095977152458469057,\n",
        "  'security_symbol': 'ADSK',\n",
        "  'std_dev': 0.023564138324853968},\n",
        " {'mean': 0.00076857953508267351,\n",
        "  'security_symbol': 'ADP',\n",
        "  'std_dev': 0.011630441016359046},\n",
        " {'mean': 0.001347972098976163,\n",
        "  'security_symbol': 'AN',\n",
        "  'std_dev': 0.021356746518710501},\n",
        " {'mean': 0.0010317527080383434,\n",
        "  'security_symbol': 'AZO',\n",
        "  'std_dev': 0.012533327788993593},\n",
        " {'mean': 0.0016607281028422523,\n",
        "  'security_symbol': 'AVGO',\n",
        "  'std_dev': 0.02223885726012708},\n",
        " {'mean': 0.0011038549134001145,\n",
        "  'security_symbol': 'AVB',\n",
        "  'std_dev': 0.021994482641016451},\n",
        " {'mean': 0.00061897295567920696,\n",
        "  'security_symbol': 'AVY',\n",
        "  'std_dev': 0.019131740487189859},\n",
        " {'mean': -0.00031832485912446616,\n",
        "  'security_symbol': 'AVP',\n",
        "  'std_dev': 0.023037402251477292},\n",
        " {'mean': 0.00068823706694819359,\n",
        "  'security_symbol': 'BHI',\n",
        "  'std_dev': 0.024226197179289581},\n",
        " {'mean': 0.00086613868280994099,\n",
        "  'security_symbol': 'BLL',\n",
        "  'std_dev': 0.013474117274323513},\n",
        " {'mean': 0.00082707887370831682,\n",
        "  'security_symbol': 'BAC',\n",
        "  'std_dev': 0.038507585463549501},\n",
        " {'mean': 0.00055013779826106296,\n",
        "  'security_symbol': 'BK',\n",
        "  'std_dev': 0.023528269770317831},\n",
        " {'mean': 0.00059570104649628677,\n",
        "  'security_symbol': 'BCR',\n",
        "  'std_dev': 0.012373806465441806},\n",
        " {'mean': 0.0003668814690218693,\n",
        "  'security_symbol': 'BAX',\n",
        "  'std_dev': 0.013276163530385335},\n",
        " {'mean': 0.00061934503208230858,\n",
        "  'security_symbol': 'BBT',\n",
        "  'std_dev': 0.023836247693090316},\n",
        " {'mean': 0.00062919412628206425,\n",
        "  'security_symbol': 'BDX',\n",
        "  'std_dev': 0.011549453171380097},\n",
        " {'mean': 0.00088110904503872311,\n",
        "  'security_symbol': 'BBBY',\n",
        "  'std_dev': 0.019457374015690008},\n",
        " {'mean': 0.00064057421778395676,\n",
        "  'security_symbol': 'BRK.B',\n",
        "  'std_dev': 0.014630570997914368},\n",
        " {'mean': 0.00059485329248869332,\n",
        "  'security_symbol': 'BBY',\n",
        "  'std_dev': 0.027436494119068632},\n",
        " {'mean': 0.0014890360953187672,\n",
        "  'security_symbol': 'BIIB',\n",
        "  'std_dev': 0.019254286778836442},\n",
        " {'mean': 0.00095857363613615287,\n",
        "  'security_symbol': 'BLK',\n",
        "  'std_dev': 0.021528526397976477},\n",
        " {'mean': 0.00060742576270362419,\n",
        "  'security_symbol': 'HRB',\n",
        "  'std_dev': 0.019406696415044358},\n",
        " {'mean': 0.00097161848899091346,\n",
        "  'security_symbol': 'BA',\n",
        "  'std_dev': 0.017309497269489004},\n",
        " {'mean': 0.0013332201159559117,\n",
        "  'security_symbol': 'BWA',\n",
        "  'std_dev': 0.024165893607763674},\n",
        " {'mean': 0.0010314228947501335,\n",
        "  'security_symbol': 'BXP',\n",
        "  'std_dev': 0.023032107088331623},\n",
        " {'mean': 0.00065208304455080762,\n",
        "  'security_symbol': 'BSX',\n",
        "  'std_dev': 0.02150916763297657},\n",
        " {'mean': 0.00088394303485851266,\n",
        "  'security_symbol': 'BMY',\n",
        "  'std_dev': 0.01375555517793888},\n",
        " {'mean': 0.00086503912917838778,\n",
        "  'security_symbol': 'BRCM',\n",
        "  'std_dev': 0.022266123933588951},\n",
        " {'mean': 0.00081372387153680727,\n",
        "  'security_symbol': 'BF.B',\n",
        "  'std_dev': 0.013583382156543065},\n",
        " {'mean': 0.00040460090007094271,\n",
        "  'security_symbol': 'CHRW',\n",
        "  'std_dev': 0.016116107230152263},\n",
        " {'mean': 0.00052964185287907733,\n",
        "  'security_symbol': 'CA',\n",
        "  'std_dev': 0.015909958034659662},\n",
        " {'mean': 0.00081483713786339952,\n",
        "  'security_symbol': 'CVC',\n",
        "  'std_dev': 0.023107458011982725},\n",
        " {'mean': 0.0013041685829202954,\n",
        "  'security_symbol': 'COG',\n",
        "  'std_dev': 0.02680563565541131},\n",
        " {'mean': 0.00075963364393073069,\n",
        "  'security_symbol': 'CAM',\n",
        "  'std_dev': 0.02448885189867505},\n",
        " {'mean': 0.00047203806774491383,\n",
        "  'security_symbol': 'CPB',\n",
        "  'std_dev': 0.010522353340423287},\n",
        " {'mean': 0.0011113232846128582,\n",
        "  'security_symbol': 'COF',\n",
        "  'std_dev': 0.032253107346837798},\n",
        " {'mean': 0.0012105933552537566,\n",
        "  'security_symbol': 'CAH',\n",
        "  'std_dev': 0.022978759074865664},\n",
        " {'mean': 0.00099631219619106064,\n",
        "  'security_symbol': 'CFN',\n",
        "  'std_dev': 0.016479207301520683},\n",
        " {'mean': 0.0016458969727603065,\n",
        "  'security_symbol': 'KMX',\n",
        "  'std_dev': 0.024791298469127272},\n",
        " {'mean': 0.00071066531665058593,\n",
        "  'security_symbol': 'CCL',\n",
        "  'std_dev': 0.021540042278851795},\n",
        " {'mean': 0.00072968756259869346,\n",
        "  'security_symbol': 'CAT',\n",
        "  'std_dev': 0.020752008180919157},\n",
        " {'mean': 0.0020006692108178068,\n",
        "  'security_symbol': 'CBG',\n",
        "  'std_dev': 0.038225148880452149},\n",
        " {'mean': 0.0016653104898445785,\n",
        "  'security_symbol': 'CBS',\n",
        "  'std_dev': 0.028200220420869584},\n",
        " {'mean': 0.0011635670420854503,\n",
        "  'security_symbol': 'CELG',\n",
        "  'std_dev': 0.019693919804485632},\n",
        " {'mean': 0.00064903873122377977,\n",
        "  'security_symbol': 'CNP',\n",
        "  'std_dev': 0.013338438598347746},\n",
        " {'mean': 0.00060782907984731067,\n",
        "  'security_symbol': 'CTL',\n",
        "  'std_dev': 0.01438630921267991},\n",
        " {'mean': 0.0014286031047855224,\n",
        "  'security_symbol': 'CERN',\n",
        "  'std_dev': 0.018203365219028784},\n",
        " {'mean': 0.0014711611380571425,\n",
        "  'security_symbol': 'CF',\n",
        "  'std_dev': 0.023995019133858361},\n",
        " {'mean': 0.00065551069289385231,\n",
        "  'security_symbol': 'SCHW',\n",
        "  'std_dev': 0.022307398556005012},\n",
        " {'mean': 0.00055486472517493721,\n",
        "  'security_symbol': 'CHK',\n",
        "  'std_dev': 0.027389783228923933},\n",
        " {'mean': 0.00046144987652630071,\n",
        "  'security_symbol': 'CVX',\n",
        "  'std_dev': 0.013736073217596985},\n",
        " {'mean': 0.0018305577533990736,\n",
        "  'security_symbol': 'CMG',\n",
        "  'std_dev': 0.022277950460081391},\n",
        " {'mean': 0.00066958378462461372,\n",
        "  'security_symbol': 'CB',\n",
        "  'std_dev': 0.013749140775376268},\n",
        " {'mean': 0.0014470659378239979,\n",
        "  'security_symbol': 'CI',\n",
        "  'std_dev': 0.021633108413602255},\n",
        " {'mean': 0.0011938493334741678,\n",
        "  'security_symbol': 'XEC',\n",
        "  'std_dev': 0.025992013257324018},\n",
        " {'mean': 0.00070082687468151189,\n",
        "  'security_symbol': 'CINF',\n",
        "  'std_dev': 0.015524855273305906},\n",
        " {'mean': 0.00099009509176485686,\n",
        "  'security_symbol': 'CTAS',\n",
        "  'std_dev': 0.014963051910718827},\n",
        " {'mean': 0.00057064327508232055,\n",
        "  'security_symbol': 'CSCO',\n",
        "  'std_dev': 0.018114584749623873},\n",
        " {'mean': 0.00050394767351916896,\n",
        "  'security_symbol': 'C',\n",
        "  'std_dev': 0.038315910524680703},\n",
        " {'mean': 0.00085756248470293206,\n",
        "  'security_symbol': 'CTXS',\n",
        "  'std_dev': 0.023108335126028275},\n",
        " {'mean': 0.00062628579990326263,\n",
        "  'security_symbol': 'CLX',\n",
        "  'std_dev': 0.010633443498156439},\n",
        " {'mean': 0.00083965229633701252,\n",
        "  'security_symbol': 'CME',\n",
        "  'std_dev': 0.020498378777591073},\n",
        " {'mean': 0.001052521361668831,\n",
        "  'security_symbol': 'CMS',\n",
        "  'std_dev': 0.011474900498097159},\n",
        " {'mean': 0.00070880085184543327,\n",
        "  'security_symbol': 'COH',\n",
        "  'std_dev': 0.023326134307157863},\n",
        " {'mean': 0.00059768117811357031,\n",
        "  'security_symbol': 'KO',\n",
        "  'std_dev': 0.010556285167427674},\n",
        " {'mean': 0.001309854750104827,\n",
        "  'security_symbol': 'CCE',\n",
        "  'std_dev': 0.017573843763737825},\n",
        " {'mean': 0.0013765178852760333,\n",
        "  'security_symbol': 'CTSH',\n",
        "  'std_dev': 0.020563223018913966},\n",
        " {'mean': 0.00060897454806848716,\n",
        "  'security_symbol': 'CL',\n",
        "  'std_dev': 0.010460625630677305},\n",
        " {'mean': 0.00097745411350895093,\n",
        "  'security_symbol': 'CMCSA',\n",
        "  'std_dev': 0.017257515443221523},\n",
        " {'mean': 0.00088529086631705721,\n",
        "  'security_symbol': 'CMA',\n",
        "  'std_dev': 0.027039813773337449},\n",
        " {'mean': 0.00062805287608015312,\n",
        "  'security_symbol': 'CSC',\n",
        "  'std_dev': 0.020742310688344014},\n",
        " {'mean': 0.00073042905170348209,\n",
        "  'security_symbol': 'CAG',\n",
        "  'std_dev': 0.011844456605737764},\n",
        " {'mean': 0.00057353737414213898,\n",
        "  'security_symbol': 'COP',\n",
        "  'std_dev': 0.015562948920748087},\n",
        " {'mean': 0.00043775256427624782,\n",
        "  'security_symbol': 'CNX',\n",
        "  'std_dev': 0.02880750569935886},\n",
        " {'mean': 0.00060057131272046795,\n",
        "  'security_symbol': 'ED',\n",
        "  'std_dev': 0.0091975719803567019},\n",
        " {'mean': 0.0014735904167207216,\n",
        "  'security_symbol': 'STZ',\n",
        "  'std_dev': 0.021320737123813698},\n",
        " {'mean': 0.0008720275795323359,\n",
        "  'security_symbol': 'GLW',\n",
        "  'std_dev': 0.021690848748531114},\n",
        " {'mean': 0.00080775191676432764,\n",
        "  'security_symbol': 'COST',\n",
        "  'std_dev': 0.01228041728838729},\n",
        " {'mean': 0.00096189843313374923,\n",
        "  'security_symbol': 'COV',\n",
        "  'std_dev': 0.015938072044702236},\n",
        " {'mean': 0.0011726960426903204,\n",
        "  'security_symbol': 'CCI',\n",
        "  'std_dev': 0.017393185223309099},\n",
        " {'mean': 0.0010238302489451187,\n",
        "  'security_symbol': 'CSX',\n",
        "  'std_dev': 0.020130565935127302},\n",
        " {'mean': 0.0014477825645666238,\n",
        "  'security_symbol': 'CMI',\n",
        "  'std_dev': 0.025319223292933016},\n",
        " {'mean': 0.00097450380875035644,\n",
        "  'security_symbol': 'CVS',\n",
        "  'std_dev': 0.014917171835709916},\n",
        " {'mean': 0.0012435369460265351,\n",
        "  'security_symbol': 'DHI',\n",
        "  'std_dev': 0.029425317289518929},\n",
        " {'mean': 0.00082017088171396871,\n",
        "  'security_symbol': 'DHR',\n",
        "  'std_dev': 0.014582419580334845},\n",
        " {'mean': 0.00079355347671060275,\n",
        "  'security_symbol': 'DRI',\n",
        "  'std_dev': 0.018608457168174622},\n",
        " {'mean': 0.00085006852954487794,\n",
        "  'security_symbol': 'DVA',\n",
        "  'std_dev': 0.014639302916971063},\n",
        " {'mean': 0.00078475007044879856,\n",
        "  'security_symbol': 'DE',\n",
        "  'std_dev': 0.019515466084509936},\n",
        " {'mean': 0.0016265157383309316,\n",
        "  'security_symbol': 'DLPH',\n",
        "  'std_dev': 0.015315395584462255},\n",
        " {'mean': 0.0014518150166654283,\n",
        "  'security_symbol': 'DAL',\n",
        "  'std_dev': 0.031699085620317237},\n",
        " {'mean': -3.4449318390199603e-05,\n",
        "  'security_symbol': 'DNR',\n",
        "  'std_dev': 0.027731737754798456},\n",
        " {'mean': 0.00049910868379096152,\n",
        "  'security_symbol': 'XRAY',\n",
        "  'std_dev': 0.014780012608716461},\n",
        " {'mean': 0.00018151227116216108,\n",
        "  'security_symbol': 'DVN',\n",
        "  'std_dev': 0.020376878095408654},\n",
        " {'mean': 2.443852487991732e-05,\n",
        "  'security_symbol': 'DO',\n",
        "  'std_dev': 0.02048999983427326},\n",
        " {'mean': 0.00094069137779583954,\n",
        "  'security_symbol': 'DTV',\n",
        "  'std_dev': 0.014930278858331709},\n",
        " {'mean': 0.0015651902530344475,\n",
        "  'security_symbol': 'DFS',\n",
        "  'std_dev': 0.026211489539090582},\n",
        " {'mean': 0.0010738590222248246,\n",
        "  'security_symbol': 'DISCA',\n",
        "  'std_dev': 0.017987581786346692},\n",
        " {'mean': 0.0011011344112071323,\n",
        "  'security_symbol': 'DISCK',\n",
        "  'std_dev': 0.01792429013423966},\n",
        " {'mean': 0.00099104190651945132,\n",
        "  'security_symbol': 'DG',\n",
        "  'std_dev': 0.016187433410754133},\n",
        " {'mean': 0.0011859448794309978,\n",
        "  'security_symbol': 'DLTR',\n",
        "  'std_dev': 0.015952874841422278},\n",
        " {'mean': 0.00072570820934654773,\n",
        "  'security_symbol': 'D',\n",
        "  'std_dev': 0.010573116989503474},\n",
        " {'mean': 0.00085894584799668628,\n",
        "  'security_symbol': 'DOV',\n",
        "  'std_dev': 0.018550641200547866},\n",
        " {'mean': 0.0011494032602008882,\n",
        "  'security_symbol': 'DOW',\n",
        "  'std_dev': 0.025144152524319487},\n",
        " {'mean': 0.001247841002502025,\n",
        "  'security_symbol': 'DPS',\n",
        "  'std_dev': 0.015390125920550047},\n",
        " {'mean': 0.00084919944367996476,\n",
        "  'security_symbol': 'DTE',\n",
        "  'std_dev': 0.01144611521702405},\n",
        " {'mean': 0.00098727601825959483,\n",
        "  'security_symbol': 'DD',\n",
        "  'std_dev': 0.017156075373212971},\n",
        " {'mean': 0.00067441426241254452,\n",
        "  'security_symbol': 'DUK',\n",
        "  'std_dev': 0.0096624464695401931},\n",
        " {'mean': 0.00045653585609966825,\n",
        "  'security_symbol': 'DNB',\n",
        "  'std_dev': 0.014617654459843732},\n",
        " {'mean': 0.0010437531966518599,\n",
        "  'security_symbol': 'ETFC',\n",
        "  'std_dev': 0.037234642809946747},\n",
        " {'mean': 0.0013085064508848998,\n",
        "  'security_symbol': 'EMN',\n",
        "  'std_dev': 0.021866404931536847},\n",
        " {'mean': 0.00094155611621545563,\n",
        "  'security_symbol': 'ETN',\n",
        "  'std_dev': 0.01954383165007912},\n",
        " {'mean': 0.0011073078645402019,\n",
        "  'security_symbol': 'EBAY',\n",
        "  'std_dev': 0.02074620845850882},\n",
        " {'mean': 0.00085042140942371755,\n",
        "  'security_symbol': 'ECL',\n",
        "  'std_dev': 0.013072010031886369},\n",
        " {'mean': 0.0006763613916554276,\n",
        "  'security_symbol': 'EIX',\n",
        "  'std_dev': 0.01219036418218683},\n",
        " {'mean': 0.0012081510808061846,\n",
        "  'security_symbol': 'EW',\n",
        "  'std_dev': 0.019716279470691669},\n",
        " {'mean': 0.00098096825031639351,\n",
        "  'security_symbol': 'EA',\n",
        "  'std_dev': 0.024580694956288524},\n",
        " {'mean': 0.00080047211613841214,\n",
        "  'security_symbol': 'EMC',\n",
        "  'std_dev': 0.017213657533051763},\n",
        " {'mean': 0.00055817783880122171,\n",
        "  'security_symbol': 'EMR',\n",
        "  'std_dev': 0.016924150953938368},\n",
        " {'mean': 0.00037741192582639745,\n",
        "  'security_symbol': 'ESV',\n",
        "  'std_dev': 0.022942571592137008},\n",
        " {'mean': 0.00028771636788304421,\n",
        "  'security_symbol': 'ETR',\n",
        "  'std_dev': 0.011870619944128699},\n",
        " {'mean': 0.00090381040546625064,\n",
        "  'security_symbol': 'EOG',\n",
        "  'std_dev': 0.022743315205949983},\n",
        " {'mean': 0.00078052036965074831,\n",
        "  'security_symbol': 'EQT',\n",
        "  'std_dev': 0.020663571048449906},\n",
        " {'mean': 0.00089723407122042236,\n",
        "  'security_symbol': 'EFX',\n",
        "  'std_dev': 0.014430893871748398},\n",
        " {'mean': 0.001119377169572736,\n",
        "  'security_symbol': 'EQR',\n",
        "  'std_dev': 0.024370249885655035},\n",
        " {'mean': 0.0010690237939706066,\n",
        "  'security_symbol': 'ESS',\n",
        "  'std_dev': 0.019609214625320424},\n",
        " {'mean': 0.0012137538877623911,\n",
        "  'security_symbol': 'EL',\n",
        "  'std_dev': 0.018928918473044683},\n",
        " {'mean': -1.0084731863750545e-05,\n",
        "  'security_symbol': 'EXC',\n",
        "  'std_dev': 0.013101441295254038},\n",
        " {'mean': 0.0017120185209516239,\n",
        "  'security_symbol': 'EXPE',\n",
        "  'std_dev': 0.029305771466869961},\n",
        " {'mean': 0.00039323289017347381,\n",
        "  'security_symbol': 'EXPD',\n",
        "  'std_dev': 0.018522593689210193},\n",
        " {'mean': 0.00087812070487418975,\n",
        "  'security_symbol': 'ESRX',\n",
        "  'std_dev': 0.017766183863346344},\n",
        " {'mean': 0.00026133357697022028,\n",
        "  'security_symbol': 'XOM',\n",
        "  'std_dev': 0.012347218275387629},\n",
        " {'mean': 0.001401351707766433,\n",
        "  'security_symbol': 'FFIV',\n",
        "  'std_dev': 0.02674586794497574},\n",
        " {'mean': 0.0014888809282031165,\n",
        "  'security_symbol': 'FB',\n",
        "  'std_dev': 0.029909129944075352},\n",
        " {'mean': 0.00094196896964974012,\n",
        "  'security_symbol': 'FDO',\n",
        "  'std_dev': 0.018979774187257957},\n",
        " {'mean': 0.00087391292644646503,\n",
        "  'security_symbol': 'FAST',\n",
        "  'std_dev': 0.018638703722219787},\n",
        " {'mean': 0.00088421669243301897,\n",
        "  'security_symbol': 'FDX',\n",
        "  'std_dev': 0.019021409490697548},\n",
        " {'mean': 0.0010352155898942941,\n",
        "  'security_symbol': 'FIS',\n",
        "  'std_dev': 0.014977748443836971},\n",
        " {'mean': 0.0014638175801941601,\n",
        "  'security_symbol': 'FITB',\n",
        "  'std_dev': 0.044247432668565949},\n",
        " {'mean': -6.994272692563205e-05,\n",
        "  'security_symbol': 'FSLR',\n",
        "  'std_dev': 0.039639191578871046},\n",
        " {'mean': 0.00017955391929975109,\n",
        "  'security_symbol': 'FE',\n",
        "  'std_dev': 0.013913228213258411},\n",
        " {'mean': 0.00097790011749727523,\n",
        "  'security_symbol': 'FISV',\n",
        "  'std_dev': 0.013502264477863903},\n",
        " {'mean': 0.00019040764674598952,\n",
        "  'security_symbol': 'FLIR',\n",
        "  'std_dev': 0.018855095468598728},\n",
        " {'mean': 0.0010342499509682908,\n",
        "  'security_symbol': 'FLS',\n",
        "  'std_dev': 0.022439212226621229},\n",
        " {'mean': 0.00039665558431335718,\n",
        "  'security_symbol': 'FLR',\n",
        "  'std_dev': 0.022978484623021024},\n",
        " {'mean': 0.00084595418294529292,\n",
        "  'security_symbol': 'FMC',\n",
        "  'std_dev': 0.019067169105404968},\n",
        " {'mean': 0.001016681445102771,\n",
        "  'security_symbol': 'FTI',\n",
        "  'std_dev': 0.023478048824683809},\n",
        " {'mean': 0.0015408107023476569,\n",
        "  'security_symbol': 'F',\n",
        "  'std_dev': 0.024658404257213544},\n",
        " {'mean': 0.0015926467740681248,\n",
        "  'security_symbol': 'FOSL',\n",
        "  'std_dev': 0.029275366837617587},\n",
        " {'mean': 0.00090136975933768188,\n",
        "  'security_symbol': 'BEN',\n",
        "  'std_dev': 0.021203181319994963},\n",
        " {'mean': 0.00078339398154010306,\n",
        "  'security_symbol': 'FCX',\n",
        "  'std_dev': 0.027356152789417745},\n",
        " {'mean': 0.00042853716645108994,\n",
        "  'security_symbol': 'FTR',\n",
        "  'std_dev': 0.019840646258816139},\n",
        " {'mean': 0.00070732969224430878,\n",
        "  'security_symbol': 'GME',\n",
        "  'std_dev': 0.025616430621184447},\n",
        " {'mean': 0.0015651203217729001,\n",
        "  'security_symbol': 'GCI',\n",
        "  'std_dev': 0.034512384369782621},\n",
        " {'mean': 0.0010090029830140466,\n",
        "  'security_symbol': 'GPS',\n",
        "  'std_dev': 0.020315698144372608},\n",
        " {'mean': 0.00098408326365535142,\n",
        "  'security_symbol': 'GRMN',\n",
        "  'std_dev': 0.022148758476991097},\n",
        " {'mean': 0.00078658998791441095,\n",
        "  'security_symbol': 'GD',\n",
        "  'std_dev': 0.01510726672068149},\n",
        " {'mean': 0.0005590187926195878,\n",
        "  'security_symbol': 'GE',\n",
        "  'std_dev': 0.019389662072561872},\n",
        " {'mean': 0.0034758765441456159,\n",
        "  'security_symbol': 'GGP',\n",
        "  'std_dev': 0.050247041192937145},\n",
        " {'mean': 0.00057167904139092407,\n",
        "  'security_symbol': 'GIS',\n",
        "  'std_dev': 0.01027813974242704},\n",
        " {'mean': 0.00021287138585475126,\n",
        "  'security_symbol': 'GM',\n",
        "  'std_dev': 0.019505650570702904},\n",
        " {'mean': 0.00083693160483728905,\n",
        "  'security_symbol': 'GPC',\n",
        "  'std_dev': 0.014131720051000664},\n",
        " {'mean': 0.0015845032706758248,\n",
        "  'security_symbol': 'GNW',\n",
        "  'std_dev': 0.043742338090991886},\n",
        " {'mean': 0.0010954042854520365,\n",
        "  'security_symbol': 'GILD',\n",
        "  'std_dev': 0.018946202997955065},\n",
        " {'mean': 0.00078806786937685863,\n",
        "  'security_symbol': 'GS',\n",
        "  'std_dev': 0.022461396028431679},\n",
        " {'mean': 0.0014181677680434989,\n",
        "  'security_symbol': 'GT',\n",
        "  'std_dev': 0.031664107318208602},\n",
        " {'mean': 0.00092384075971642615,\n",
        "  'security_symbol': 'GOOGL',\n",
        "  'std_dev': 0.016266951377619025},\n",
        " {'mean': -0.00012390901787894191,\n",
        "  'security_symbol': 'GOOG',\n",
        "  'std_dev': 0.013347442327767196},\n",
        " {'mean': 0.00091211922833310023,\n",
        "  'security_symbol': 'GWW',\n",
        "  'std_dev': 0.015106173630418367},\n",
        " {'mean': 0.00084160790591837717,\n",
        "  'security_symbol': 'HAL',\n",
        "  'std_dev': 0.024758266703125729},\n",
        " {'mean': 0.0012378761644042224,\n",
        "  'security_symbol': 'HOG',\n",
        "  'std_dev': 0.02624723060362124},\n",
        " {'mean': 0.0015726858881672248,\n",
        "  'security_symbol': 'HAR',\n",
        "  'std_dev': 0.029443418935968694},\n",
        " {'mean': 0.00064931968077437273,\n",
        "  'security_symbol': 'HRS',\n",
        "  'std_dev': 0.017688385098224804},\n",
        " {'mean': 0.001373254548680162,\n",
        "  'security_symbol': 'HIG',\n",
        "  'std_dev': 0.038563505760889162},\n",
        " {'mean': 0.00064523152528392911,\n",
        "  'security_symbol': 'HAS',\n",
        "  'std_dev': 0.01616178456510757},\n",
        " {'mean': 0.0008699906661117252,\n",
        "  'security_symbol': 'HCP',\n",
        "  'std_dev': 0.02281902127215683},\n",
        " {'mean': 0.00087342186144905422,\n",
        "  'security_symbol': 'HCN',\n",
        "  'std_dev': 0.018473320964607926},\n",
        " {'mean': 0.0010076029929562387,\n",
        "  'security_symbol': 'HP',\n",
        "  'std_dev': 0.026219670541786696},\n",
        " {'mean': 0.0004266717719919047,\n",
        "  'security_symbol': 'HES',\n",
        "  'std_dev': 0.02201835344702413},\n",
        " {'mean': 0.00034842033421522169,\n",
        "  'security_symbol': 'HPQ',\n",
        "  'std_dev': 0.021193981593782173},\n",
        " {'mean': 0.0011921791698019922,\n",
        "  'security_symbol': 'HD',\n",
        "  'std_dev': 0.015070328567319454},\n",
        " {'mean': 0.00093016911081286562,\n",
        "  'security_symbol': 'HON',\n",
        "  'std_dev': 0.016484348860544673},\n",
        " {'mean': 0.00094684006267131346,\n",
        "  'security_symbol': 'HRL',\n",
        "  'std_dev': 0.011177882143904975},\n",
        " {'mean': 0.00072265078326759014,\n",
        "  'security_symbol': 'HSP',\n",
        "  'std_dev': 0.017736241142249549},\n",
        " {'mean': 0.001291256569637391,\n",
        "  'security_symbol': 'HST',\n",
        "  'std_dev': 0.03077799957068059},\n",
        " {'mean': 4.3175230093084464e-05,\n",
        "  'security_symbol': 'HCBK',\n",
        "  'std_dev': 0.020677988844144325},\n",
        " {'mean': 0.0012040996483583056,\n",
        "  'security_symbol': 'HUM',\n",
        "  'std_dev': 0.021859920761016081},\n",
        " {'mean': 0.0011524596096346401,\n",
        "  'security_symbol': 'HBAN',\n",
        "  'std_dev': 0.043184180289497005},\n",
        " {'mean': 0.00085380751867070322,\n",
        "  'security_symbol': 'ITW',\n",
        "  'std_dev': 0.016058733885863912},\n",
        " {'mean': 0.001257192941578746,\n",
        "  'security_symbol': 'IR',\n",
        "  'std_dev': 0.021958537359213114},\n",
        " {'mean': 0.00074171331972976162,\n",
        "  'security_symbol': 'TEG',\n",
        "  'std_dev': 0.015073591654241991},\n",
        " {'mean': 0.00085085698364311443,\n",
        "  'security_symbol': 'INTC',\n",
        "  'std_dev': 0.016430226447138683},\n",
        " {'mean': 0.00084887363998726771,\n",
        "  'security_symbol': 'ICE',\n",
        "  'std_dev': 0.02131380343478002},\n",
        " {'mean': 0.00053642350721435446,\n",
        "  'security_symbol': 'IBM',\n",
        "  'std_dev': 0.012857557592267487},\n",
        " {'mean': 0.0014684677261252567,\n",
        "  'security_symbol': 'IP',\n",
        "  'std_dev': 0.027037740402241054},\n",
        " {'mean': 0.0014287268239883972,\n",
        "  'security_symbol': 'IPG',\n",
        "  'std_dev': 0.025773308453639909},\n",
        " {'mean': 0.0010359548617464873,\n",
        "  'security_symbol': 'IFF',\n",
        "  'std_dev': 0.014603243413767137},\n",
        " {'mean': 0.0010016588106312274,\n",
        "  'security_symbol': 'INTU',\n",
        "  'std_dev': 0.016071455624884736},\n",
        " {'mean': 0.0011791108241765861,\n",
        "  'security_symbol': 'ISRG',\n",
        "  'std_dev': 0.023606690890304361},\n",
        " {'mean': 0.0010398941450444914,\n",
        "  'security_symbol': 'IVZ',\n",
        "  'std_dev': 0.026266636720764965},\n",
        " {'mean': 0.00074382765163888138,\n",
        "  'security_symbol': 'IRM',\n",
        "  'std_dev': 0.018752939167783009},\n",
        " {'mean': 9.6120450398371737e-05,\n",
        "  'security_symbol': 'JEC',\n",
        "  'std_dev': 0.022515531314461726},\n",
        " {'mean': 0.00052343423486310295,\n",
        "  'security_symbol': 'JNJ',\n",
        "  'std_dev': 0.0090942565829759195},\n",
        " {'mean': 0.00093975640943204852,\n",
        "  'security_symbol': 'JCI',\n",
        "  'std_dev': 0.022613224089835123},\n",
        " {'mean': 0.00082094952518783849,\n",
        "  'security_symbol': 'JOY',\n",
        "  'std_dev': 0.028035156609276732},\n",
        " {'mean': 0.00082443098339863609,\n",
        "  'security_symbol': 'JPM',\n",
        "  'std_dev': 0.026535566472592382},\n",
        " {'mean': 0.00044413699813967305,\n",
        "  'security_symbol': 'JNPR',\n",
        "  'std_dev': 0.025203351546280311},\n",
        " {'mean': 0.0014382666605431643,\n",
        "  'security_symbol': 'KSU',\n",
        "  'std_dev': 0.024043406110691116},\n",
        " {'mean': 0.00046352186498741714,\n",
        "  'security_symbol': 'K',\n",
        "  'std_dev': 0.010319346248630243},\n",
        " {'mean': 0.00085059654760341922,\n",
        "  'security_symbol': 'KEY',\n",
        "  'std_dev': 0.032458258606957176},\n",
        " {'mean': 0.0026726859199495551,\n",
        "  'security_symbol': 'GMCR',\n",
        "  'std_dev': 0.041177273343842392},\n",
        " {'mean': 0.0007476171170079063,\n",
        "  'security_symbol': 'KMB',\n",
        "  'std_dev': 0.0096739816990749471},\n",
        " {'mean': 0.000869748982346786,\n",
        "  'security_symbol': 'KIM',\n",
        "  'std_dev': 0.028242847569130907},\n",
        " {'mean': 0.00056458984570031956,\n",
        "  'security_symbol': 'KMI',\n",
        "  'std_dev': 0.014414556548889143},\n",
        " {'mean': 0.0012221478145815253,\n",
        "  'security_symbol': 'KLAC',\n",
        "  'std_dev': 0.020801934486504928},\n",
        " {'mean': 0.00053184809868499065,\n",
        "  'security_symbol': 'KSS',\n",
        "  'std_dev': 0.017606317903342859},\n",
        " {'mean': 0.00090270787710207672,\n",
        "  'security_symbol': 'KRFT',\n",
        "  'std_dev': 0.011046760274615715},\n",
        " {'mean': 0.00078214428990635231,\n",
        "  'security_symbol': 'KR',\n",
        "  'std_dev': 0.013916437955362701},\n",
        " {'mean': 0.0018516973361558131,\n",
        "  'security_symbol': 'LB',\n",
        "  'std_dev': 0.021813395051335081},\n",
        " {'mean': 0.00053536222753524743,\n",
        "  'security_symbol': 'LLL',\n",
        "  'std_dev': 0.014064667125441093},\n",
        " {'mean': 0.00047963359185996683,\n",
        "  'security_symbol': 'LH',\n",
        "  'std_dev': 0.012801411968113676},\n",
        " {'mean': 0.0011101172517901897,\n",
        "  'security_symbol': 'LRCX',\n",
        "  'std_dev': 0.022435465116729454},\n",
        " {'mean': 0.0009967421791516654,\n",
        "  'security_symbol': 'LM',\n",
        "  'std_dev': 0.026643495527294475},\n",
        " {'mean': 0.0010310945880607093,\n",
        "  'security_symbol': 'LEG',\n",
        "  'std_dev': 0.017859713650708906},\n",
        " {'mean': 0.0015997751042023712,\n",
        "  'security_symbol': 'LEN',\n",
        "  'std_dev': 0.032985514363161439},\n",
        " {'mean': 0.001652742413638101,\n",
        "  'security_symbol': 'LVLT',\n",
        "  'std_dev': 0.036308443363367186},\n",
        " {'mean': 0.00041818998365362705,\n",
        "  'security_symbol': 'LUK',\n",
        "  'std_dev': 0.025277387130795765},\n",
        " {'mean': 0.00063867713157316592,\n",
        "  'security_symbol': 'LLY',\n",
        "  'std_dev': 0.01216943876346295},\n",
        " {'mean': 0.0014729605211894526,\n",
        "  'security_symbol': 'LNC',\n",
        "  'std_dev': 0.039788402469764568},\n",
        " {'mean': 0.0007178442487889915,\n",
        "  'security_symbol': 'LLTC',\n",
        "  'std_dev': 0.015951450823391191},\n",
        " {'mean': 0.00079244081911340226,\n",
        "  'security_symbol': 'LMT',\n",
        "  'std_dev': 0.01339342277423553},\n",
        " {'mean': 0.00034824846639632104,\n",
        "  'security_symbol': 'L',\n",
        "  'std_dev': 0.016151037968874418},\n",
        " {'mean': 0.001147566669934814,\n",
        "  'security_symbol': 'LO',\n",
        "  'std_dev': 0.014743298216184086},\n",
        " {'mean': 0.00096994803067457333,\n",
        "  'security_symbol': 'LOW',\n",
        "  'std_dev': 0.017755094308264916},\n",
        " {'mean': 0.0016216903761732738,\n",
        "  'security_symbol': 'LYB',\n",
        "  'std_dev': 0.02307383614737351},\n",
        " {'mean': 0.00083786730249200882,\n",
        "  'security_symbol': 'MTB',\n",
        "  'std_dev': 0.021711285976995974},\n",
        " {'mean': 0.0017307914610737692,\n",
        "  'security_symbol': 'MAC',\n",
        "  'std_dev': 0.032210843984468912},\n",
        " {'mean': 0.001539422064775917,\n",
        "  'security_symbol': 'M',\n",
        "  'std_dev': 0.024600718228503612},\n",
        " {'mean': 0.0023079395554205552,\n",
        "  'security_symbol': 'MNK',\n",
        "  'std_dev': 0.019982882379252786},\n",
        " {'mean': 0.00060165056108085898,\n",
        "  'security_symbol': 'MRO',\n",
        "  'std_dev': 0.02060862664371391},\n",
        " {'mean': 0.0012545328025066684,\n",
        "  'security_symbol': 'MPC',\n",
        "  'std_dev': 0.022861733783346109},\n",
        " {'mean': 0.0011927528450727241,\n",
        "  'security_symbol': 'MAR',\n",
        "  'std_dev': 0.020463198356251946},\n",
        " {'mean': 0.00076722563904272701,\n",
        "  'security_symbol': 'MMC',\n",
        "  'std_dev': 0.014386036973924236},\n",
        " {'mean': 0.0010457989847410579,\n",
        "  'security_symbol': 'MAS',\n",
        "  'std_dev': 0.02964795681784043},\n",
        " {'mean': 0.0013450229324857815,\n",
        "  'security_symbol': 'MA',\n",
        "  'std_dev': 0.01978754437322567},\n",
        " {'mean': 0.00064144266370886455,\n",
        "  'security_symbol': 'MAT',\n",
        "  'std_dev': 0.017090099045775332},\n",
        " {'mean': 0.0007067919207089827,\n",
        "  'security_symbol': 'MKC',\n",
        "  'std_dev': 0.010690501536547299},\n",
        " {'mean': 0.00041042088462120505,\n",
        "  'security_symbol': 'MCD',\n",
        "  'std_dev': 0.0099861563251300977},\n",
        " {'mean': 0.0011417727497081373,\n",
        "  'security_symbol': 'MHFI',\n",
        "  'std_dev': 0.019137707223447081},\n",
        " {'mean': 0.0012803339244686573,\n",
        "  'security_symbol': 'MCK',\n",
        "  'std_dev': 0.015074284295423162},\n",
        " {'mean': 0.0010926419315935984,\n",
        "  'security_symbol': 'MJN',\n",
        "  'std_dev': 0.016499431197620641},\n",
        " {'mean': 0.0012825835927305046,\n",
        "  'security_symbol': 'MWV',\n",
        "  'std_dev': 0.020625503768289182},\n",
        " {'mean': 0.00074843661718630348,\n",
        "  'security_symbol': 'MDT',\n",
        "  'std_dev': 0.014628864134056641},\n",
        " {'mean': 0.00072631111416957786,\n",
        "  'security_symbol': 'MRK',\n",
        "  'std_dev': 0.014254560504935811},\n",
        " {'mean': 0.00074717226811845945,\n",
        "  'security_symbol': 'MET',\n",
        "  'std_dev': 0.029733727285632498},\n",
        " {'mean': 0.0016639543434528374,\n",
        "  'security_symbol': 'KORS',\n",
        "  'std_dev': 0.025510650552781056},\n",
        " {'mean': 0.00087493183529911104,\n",
        "  'security_symbol': 'MCHP',\n",
        "  'std_dev': 0.016590697398335852},\n",
        " {'mean': 0.0021282281208300671,\n",
        "  'security_symbol': 'MU',\n",
        "  'std_dev': 0.033618785378724238},\n",
        " {'mean': 0.00077976757585138058,\n",
        "  'security_symbol': 'MSFT',\n",
        "  'std_dev': 0.0158684061965432},\n",
        " {'mean': 0.0012119323086883258,\n",
        "  'security_symbol': 'MHK',\n",
        "  'std_dev': 0.026056414235742297},\n",
        " {'mean': 0.00050542033918786163,\n",
        "  'security_symbol': 'TAP',\n",
        "  'std_dev': 0.014514021128103178},\n",
        " {'mean': 0.00066764590332907161,\n",
        "  'security_symbol': 'MDLZ',\n",
        "  'std_dev': 0.012010276632184316},\n",
        " {'mean': 0.00053985196630131755,\n",
        "  'security_symbol': 'MON',\n",
        "  'std_dev': 0.017655635122556152},\n",
        " {'mean': 0.0015435476861360448,\n",
        "  'security_symbol': 'MNST',\n",
        "  'std_dev': 0.023729225822838197},\n",
        " {'mean': 0.0012766739272363819,\n",
        "  'security_symbol': 'MCO',\n",
        "  'std_dev': 0.022962790005492534},\n",
        " {'mean': 0.0009819206863952237,\n",
        "  'security_symbol': 'MS',\n",
        "  'std_dev': 0.030405033375761028},\n",
        " {'mean': 0.00055138092213748917,\n",
        "  'security_symbol': 'MOS',\n",
        "  'std_dev': 0.024843201214640145},\n",
        " {'mean': 0.0010608467225932659,\n",
        "  'security_symbol': 'MSI',\n",
        "  'std_dev': 0.020062717245183565},\n",
        " {'mean': 0.00042139631662825746,\n",
        "  'security_symbol': 'MUR',\n",
        "  'std_dev': 0.020378612634108586},\n",
        " {'mean': 0.0012801754268679081,\n",
        "  'security_symbol': 'MYL',\n",
        "  'std_dev': 0.018357412475816858},\n",
        " {'mean': 0.0003500511898596395,\n",
        "  'security_symbol': 'NBR',\n",
        "  'std_dev': 0.030376395556698282},\n",
        " {'mean': 0.00064802543603608039,\n",
        "  'security_symbol': 'NDAQ',\n",
        "  'std_dev': 0.022025489276959444},\n",
        " {'mean': 0.0009225821540621204,\n",
        "  'security_symbol': 'NOV',\n",
        "  'std_dev': 0.023849430351904542},\n",
        " {'mean': 0.00097424561697585842,\n",
        "  'security_symbol': 'NAVI',\n",
        "  'std_dev': 0.012342746800858345},\n",
        " {'mean': 0.00092474102570736254,\n",
        "  'security_symbol': 'NTAP',\n",
        "  'std_dev': 0.022738633336750271},\n",
        " {'mean': 0.0024291256104787234,\n",
        "  'security_symbol': 'NFLX',\n",
        "  'std_dev': 0.037012857627257582},\n",
        " {'mean': 0.0011397409439831987,\n",
        "  'security_symbol': 'NWL',\n",
        "  'std_dev': 0.020661381270615915},\n",
        " {'mean': 0.00060525070755333297,\n",
        "  'security_symbol': 'NFX',\n",
        "  'std_dev': 0.028438108916159891},\n",
        " {'mean': 3.7119915049543316e-06,\n",
        "  'security_symbol': 'NEM',\n",
        "  'std_dev': 0.023029082825696236},\n",
        " {'mean': -2.5849113524959519e-06,\n",
        "  'security_symbol': 'NWSA',\n",
        "  'std_dev': 0.013777545500073854},\n",
        " {'mean': 0.00069943377356329898,\n",
        "  'security_symbol': 'NEE',\n",
        "  'std_dev': 0.01131745245006654},\n",
        " {'mean': 0.00072887312022703427,\n",
        "  'security_symbol': 'NLSN',\n",
        "  'std_dev': 0.015112276134556344},\n",
        " {'mean': 0.0010373005047570696,\n",
        "  'security_symbol': 'NKE',\n",
        "  'std_dev': 0.016486026891558356},\n",
        " {'mean': 0.0011804881328707731,\n",
        "  'security_symbol': 'NI',\n",
        "  'std_dev': 0.013508452491732451},\n",
        " {'mean': 0.00022751459332635504,\n",
        "  'security_symbol': 'NE',\n",
        "  'std_dev': 0.023234864136068588},\n",
        " {'mean': 0.00063613538592205605,\n",
        "  'security_symbol': 'NBL',\n",
        "  'std_dev': 0.020800815100674767},\n",
        " {'mean': 0.0014534711368776765,\n",
        "  'security_symbol': 'JWN',\n",
        "  'std_dev': 0.02338965302701632},\n",
        " {'mean': 0.0007770139623707983,\n",
        "  'security_symbol': 'NSC',\n",
        "  'std_dev': 0.018240035615862463},\n",
        " {'mean': 0.00046240281198983588,\n",
        "  'security_symbol': 'NTRS',\n",
        "  'std_dev': 0.020785079052695242},\n",
        " {'mean': 0.0010848792097355336,\n",
        "  'security_symbol': 'NOC',\n",
        "  'std_dev': 0.014268242299058259},\n",
        " {'mean': 0.00074788503707781543,\n",
        "  'security_symbol': 'NU',\n",
        "  'std_dev': 0.011211300602041398},\n",
        " {'mean': 0.00025971506327239496,\n",
        "  'security_symbol': 'NRG',\n",
        "  'std_dev': 0.019625538003213993},\n",
        " {'mean': 0.00028673673224786868,\n",
        "  'security_symbol': 'NUE',\n",
        "  'std_dev': 0.020232629077250121},\n",
        " {'mean': 0.00094880461968435291,\n",
        "  'security_symbol': 'NVDA',\n",
        "  'std_dev': 0.026561627241203447},\n",
        " {'mean': 0.0013109861451217921,\n",
        "  'security_symbol': 'ORLY',\n",
        "  'std_dev': 0.016280737281248046},\n",
        " {'mean': 0.00045680837392694871,\n",
        "  'security_symbol': 'OXY',\n",
        "  'std_dev': 0.018988301925581427},\n",
        " {'mean': 0.00084792752109677538,\n",
        "  'security_symbol': 'OMC',\n",
        "  'std_dev': 0.015072100593033729},\n",
        " {'mean': 0.0010736547097281582,\n",
        "  'security_symbol': 'OKE',\n",
        "  'std_dev': 0.017163963477164215},\n",
        " {'mean': 0.00075334060845635531,\n",
        "  'security_symbol': 'ORCL',\n",
        "  'std_dev': 0.016831516959708741},\n",
        " {'mean': 0.00025595996346490654,\n",
        "  'security_symbol': 'OI',\n",
        "  'std_dev': 0.025949293656715007},\n",
        " {'mean': 0.00048984256859638101,\n",
        "  'security_symbol': 'PCG',\n",
        "  'std_dev': 0.010969024008737947},\n",
        " {'mean': 0.00079297563487359317,\n",
        "  'security_symbol': 'PCAR',\n",
        "  'std_dev': 0.020728413244931729},\n",
        " {'mean': 0.001055644258850632,\n",
        "  'security_symbol': 'PLL',\n",
        "  'std_dev': 0.018436507663524344},\n",
        " {'mean': 0.0009218333187026456,\n",
        "  'security_symbol': 'PH',\n",
        "  'std_dev': 0.019631890493360553},\n",
        " {'mean': 0.00080403276890262374,\n",
        "  'security_symbol': 'PDCO',\n",
        "  'std_dev': 0.014887149094621398},\n",
        " {'mean': 0.00062110998046648264,\n",
        "  'security_symbol': 'PAYX',\n",
        "  'std_dev': 0.012947671677601011},\n",
        " {'mean': 0.00090870081064720943,\n",
        "  'security_symbol': 'PNR',\n",
        "  'std_dev': 0.019041675438480971},\n",
        " {'mean': 0.00015242430307699283,\n",
        "  'security_symbol': 'PBCT',\n",
        "  'std_dev': 0.013927674290885959},\n",
        " {'mean': 0.00058487697329462818,\n",
        "  'security_symbol': 'POM',\n",
        "  'std_dev': 0.013120987190940564},\n",
        " {'mean': 0.00054169350978657146,\n",
        "  'security_symbol': 'PEP',\n",
        "  'std_dev': 0.009950936306445118},\n",
        " {'mean': 0.00096401373060939048,\n",
        "  'security_symbol': 'PKI',\n",
        "  'std_dev': 0.018852748128884548},\n",
        " {'mean': 0.0012335302016170521,\n",
        "  'security_symbol': 'PRGO',\n",
        "  'std_dev': 0.018228746191282751},\n",
        " {'mean': 0.0011451582486972252,\n",
        "  'security_symbol': 'PETM',\n",
        "  'std_dev': 0.017091353026493415},\n",
        " {'mean': 0.00063242254210043886,\n",
        "  'security_symbol': 'PFE',\n",
        "  'std_dev': 0.01343533802324207},\n",
        " {'mean': 0.00067084895226568681,\n",
        "  'security_symbol': 'PM',\n",
        "  'std_dev': 0.01204543568296048},\n",
        " {'mean': 0.0012344961412212023,\n",
        "  'security_symbol': 'PSX',\n",
        "  'std_dev': 0.018734578754505685},\n",
        " {'mean': 0.00077171075474595518,\n",
        "  'security_symbol': 'PNW',\n",
        "  'std_dev': 0.01145649049446721},\n",
        " {'mean': 0.001781084399788501,\n",
        "  'security_symbol': 'PXD',\n",
        "  'std_dev': 0.027429405626420406},\n",
        " {'mean': 0.00041105615144559432,\n",
        "  'security_symbol': 'PBI',\n",
        "  'std_dev': 0.020478108480975178},\n",
        " {'mean': 0.00053281174399931192,\n",
        "  'security_symbol': 'PCL',\n",
        "  'std_dev': 0.018430324321084841},\n",
        " {'mean': 0.00093091114443791755,\n",
        "  'security_symbol': 'PNC',\n",
        "  'std_dev': 0.030304470978913558},\n",
        " {'mean': 0.0010832411626381009,\n",
        "  'security_symbol': 'RL',\n",
        "  'std_dev': 0.020636027370907094},\n",
        " {'mean': 0.0013410530765562434,\n",
        "  'security_symbol': 'PPG',\n",
        "  'std_dev': 0.01691587267133518},\n",
        " {'mean': 0.00035545634223021187,\n",
        "  'security_symbol': 'PPL',\n",
        "  'std_dev': 0.012354757547084483},\n",
        " {'mean': 0.00064173159766444385,\n",
        "  'security_symbol': 'PX',\n",
        "  'std_dev': 0.013465100856120989},\n",
        " {'mean': 0.00094449174255077466,\n",
        "  'security_symbol': 'PCP',\n",
        "  'std_dev': 0.017786529433270321},\n",
        " {'mean': 0.0019815577320739454,\n",
        "  'security_symbol': 'PCLN',\n",
        "  'std_dev': 0.023144927055131291},\n",
        " {'mean': 0.0011376777410522837,\n",
        "  'security_symbol': 'PFG',\n",
        "  'std_dev': 0.033300382750476157},\n",
        " {'mean': 0.0004276858807112598,\n",
        "  'security_symbol': 'PG',\n",
        "  'std_dev': 0.010136418047148267},\n",
        " {'mean': 0.00064697169136471535,\n",
        "  'security_symbol': 'PGR',\n",
        "  'std_dev': 0.016038087908154464},\n",
        " {'mean': 0.001008937178611636,\n",
        "  'security_symbol': 'PLD',\n",
        "  'std_dev': 0.028912618457051648},\n",
        " {'mean': 0.0012798587701685403,\n",
        "  'security_symbol': 'PRU',\n",
        "  'std_dev': 0.032889375703230403},\n",
        " {'mean': 0.00049902617525810508,\n",
        "  'security_symbol': 'PEG',\n",
        "  'std_dev': 0.012679413849203038},\n",
        " {'mean': 0.00097621553694169977,\n",
        "  'security_symbol': 'PSA',\n",
        "  'std_dev': 0.019681897154216841},\n",
        " {'mean': 0.00089875316786716208,\n",
        "  'security_symbol': 'PHM',\n",
        "  'std_dev': 0.030852180079770451},\n",
        " {'mean': 0.0013905352061027922,\n",
        "  'security_symbol': 'PVH',\n",
        "  'std_dev': 0.023813495469243974},\n",
        " {'mean': -0.00020006537127632373,\n",
        "  'security_symbol': 'QEP',\n",
        "  'std_dev': 0.023024446726581931},\n",
        " {'mean': 0.00041195363137333502,\n",
        "  'security_symbol': 'PWR',\n",
        "  'std_dev': 0.021905840088054775},\n",
        " {'mean': 0.00064286605032048982,\n",
        "  'security_symbol': 'QCOM',\n",
        "  'std_dev': 0.016543639427846368},\n",
        " {'mean': 0.00035383196077256739,\n",
        "  'security_symbol': 'DGX',\n",
        "  'std_dev': 0.013980803277793863},\n",
        " {'mean': 0.0004947794180683565,\n",
        "  'security_symbol': 'RRC',\n",
        "  'std_dev': 0.024553111963065227},\n",
        " {'mean': 0.00068824095626998714,\n",
        "  'security_symbol': 'RTN',\n",
        "  'std_dev': 0.013348377253405531},\n",
        " {'mean': 0.0012827324741220658,\n",
        "  'security_symbol': 'RHT',\n",
        "  'std_dev': 0.02320664997394473},\n",
        " {'mean': 0.0025066096231464432,\n",
        "  'security_symbol': 'REGN',\n",
        "  'std_dev': 0.030581929452476123},\n",
        " {'mean': 0.00085259905203180215,\n",
        "  'security_symbol': 'RF',\n",
        "  'std_dev': 0.039382343707050807},\n",
        " {'mean': 0.00053843630885496406,\n",
        "  'security_symbol': 'RSG',\n",
        "  'std_dev': 0.014162713278669975},\n",
        " {'mean': 0.001116834972943688,\n",
        "  'security_symbol': 'RAI',\n",
        "  'std_dev': 0.012089781132259567},\n",
        " {'mean': 0.00096314312286501023,\n",
        "  'security_symbol': 'RHI',\n",
        "  'std_dev': 0.021008309120083772},\n",
        " {'mean': 0.001097013899796553,\n",
        "  'security_symbol': 'ROK',\n",
        "  'std_dev': 0.021944035026921646},\n",
        " {'mean': 0.00069102335899332804,\n",
        "  'security_symbol': 'COL',\n",
        "  'std_dev': 0.015567822576983647},\n",
        " {'mean': 0.00095457932188342193,\n",
        "  'security_symbol': 'ROP',\n",
        "  'std_dev': 0.016441459469009927},\n",
        " {'mean': 0.0013545091826919183,\n",
        "  'security_symbol': 'ROST',\n",
        "  'std_dev': 0.015669460561362588},\n",
        " {'mean': 0.0017141119000361302,\n",
        "  'security_symbol': 'RCL',\n",
        "  'std_dev': 0.032713432794617178},\n",
        " {'mean': 0.00089829710096484396,\n",
        "  'security_symbol': 'R',\n",
        "  'std_dev': 0.023373751443259379},\n",
        " {'mean': 0.00059795338243751755,\n",
        "  'security_symbol': 'SWY',\n",
        "  'std_dev': 0.018355560538568412},\n",
        " {'mean': 0.0015838530523283069,\n",
        "  'security_symbol': 'CRM',\n",
        "  'std_dev': 0.025567114595606715},\n",
        " {'mean': 0.00173874366971948,\n",
        "  'security_symbol': 'SNDK',\n",
        "  'std_dev': 0.029482889054586438},\n",
        " {'mean': 0.00060586424629319679,\n",
        "  'security_symbol': 'SCG',\n",
        "  'std_dev': 0.010442465884558981},\n",
        " {'mean': 0.00066871543530694594,\n",
        "  'security_symbol': 'SLB',\n",
        "  'std_dev': 0.02120950695256249},\n",
        " {'mean': 0.00092048011585808072,\n",
        "  'security_symbol': 'SNI',\n",
        "  'std_dev': 0.017216893267221822},\n",
        " {'mean': 0.0022500681660613639,\n",
        "  'security_symbol': 'STX',\n",
        "  'std_dev': 0.031384211545106629},\n",
        " {'mean': 0.00097900813430155617,\n",
        "  'security_symbol': 'SEE',\n",
        "  'std_dev': 0.020094494837922597},\n",
        " {'mean': 0.00082764632194093715,\n",
        "  'security_symbol': 'SRE',\n",
        "  'std_dev': 0.011772841630204109},\n",
        " {'mean': 0.0011853339147137596,\n",
        "  'security_symbol': 'SHW',\n",
        "  'std_dev': 0.015193031315975349},\n",
        " {'mean': 0.00093689722693892676,\n",
        "  'security_symbol': 'SIAL',\n",
        "  'std_dev': 0.016674821051546784},\n",
        " {'mean': 0.0013447639184852741,\n",
        "  'security_symbol': 'SPG',\n",
        "  'std_dev': 0.023859673111810191},\n",
        " {'mean': 0.00075972568495592883,\n",
        "  'security_symbol': 'SJM',\n",
        "  'std_dev': 0.011781165609708046},\n",
        " {'mean': 0.0010380049588471403,\n",
        "  'security_symbol': 'SNA',\n",
        "  'std_dev': 0.018195911658651042},\n",
        " {'mean': 0.00044493416977794563,\n",
        "  'security_symbol': 'SO',\n",
        "  'std_dev': 0.0088973554177606377},\n",
        " {'mean': 0.001312786061169577,\n",
        "  'security_symbol': 'LUV',\n",
        "  'std_dev': 0.021481630694730917},\n",
        " {'mean': 0.00013245470405306807,\n",
        "  'security_symbol': 'SWN',\n",
        "  'std_dev': 0.022927800346118389},\n",
        " {'mean': 0.00073860186438393376,\n",
        "  'security_symbol': 'SE',\n",
        "  'std_dev': 0.014144506486695812},\n",
        " {'mean': 0.00063854903662141312,\n",
        "  'security_symbol': 'STJ',\n",
        "  'std_dev': 0.017200866367710652},\n",
        " {'mean': 0.00094002074912975233,\n",
        "  'security_symbol': 'SWK',\n",
        "  'std_dev': 0.019905552324514662},\n",
        " {'mean': 0.0002622876948198876,\n",
        "  'security_symbol': 'SPLS',\n",
        "  'std_dev': 0.021059266008131371},\n",
        " {'mean': 0.0016346268934503169,\n",
        "  'security_symbol': 'SBUX',\n",
        "  'std_dev': 0.019535681614298795},\n",
        " {'mean': 0.0012574663574684843,\n",
        "  'security_symbol': 'HOT',\n",
        "  'std_dev': 0.026071503589549249},\n",
        " {'mean': 0.0010462925857602186,\n",
        "  'security_symbol': 'STT',\n",
        "  'std_dev': 0.032086491283505748},\n",
        " {'mean': 0.00070537503017049832,\n",
        "  'security_symbol': 'SRCL',\n",
        "  'std_dev': 0.013069015206250801},\n",
        " {'mean': 0.0006906988541753187,\n",
        "  'security_symbol': 'SYK',\n",
        "  'std_dev': 0.014383301079033996},\n",
        " {'mean': 0.00082878032972630278,\n",
        "  'security_symbol': 'STI',\n",
        "  'std_dev': 0.03465123949763893},\n",
        " {'mean': 0.00061575852110479971,\n",
        "  'security_symbol': 'SYMC',\n",
        "  'std_dev': 0.01982524584556709},\n",
        " {'mean': 0.00055789119283450761,\n",
        "  'security_symbol': 'SYY',\n",
        "  'std_dev': 0.011980557414484543},\n",
        " {'mean': 0.00088843002798596224,\n",
        "  'security_symbol': 'TROW',\n",
        "  'std_dev': 0.022870398638319109},\n",
        " {'mean': 0.0007158111003075663,\n",
        "  'security_symbol': 'TGT',\n",
        "  'std_dev': 0.0151857701425247},\n",
        " {'mean': 0.0011593287558262092,\n",
        "  'security_symbol': 'TEL',\n",
        "  'std_dev': 0.020828404175641968},\n",
        " {'mean': 0.00063344344804590173,\n",
        "  'security_symbol': 'TE',\n",
        "  'std_dev': 0.01293427915518244},\n",
        " {'mean': 0.0020473009432727227,\n",
        "  'security_symbol': 'THC',\n",
        "  'std_dev': 0.036059467592726727},\n",
        " {'mean': 0.00090816477164869041,\n",
        "  'security_symbol': 'TDC',\n",
        "  'std_dev': 0.021684244151080233},\n",
        " {'mean': 0.0015584031735639541,\n",
        "  'security_symbol': 'TSO',\n",
        "  'std_dev': 0.02791415136787205},\n",
        " {'mean': 0.001040874528902377,\n",
        "  'security_symbol': 'TXN',\n",
        "  'std_dev': 0.016791704828964787},\n",
        " {'mean': 0.0012594731759249676,\n",
        "  'security_symbol': 'TXT',\n",
        "  'std_dev': 0.033682226195797423},\n",
        " {'mean': 0.00090596264472366363,\n",
        "  'security_symbol': 'HSY',\n",
        "  'std_dev': 0.011441596786569025},\n",
        " {'mean': 0.00078276260469141413,\n",
        "  'security_symbol': 'TRV',\n",
        "  'std_dev': 0.014509129129553168},\n",
        " {'mean': 0.00098536444013295446,\n",
        "  'security_symbol': 'TMO',\n",
        "  'std_dev': 0.016217294511631921},\n",
        " {'mean': 0.0011494244395591211,\n",
        "  'security_symbol': 'TIF',\n",
        "  'std_dev': 0.021996514620084253},\n",
        " {'mean': 0.0010288230764603768,\n",
        "  'security_symbol': 'TWX',\n",
        "  'std_dev': 0.018865008949981187},\n",
        " {'mean': 0.0013186880538432197,\n",
        "  'security_symbol': 'TWC',\n",
        "  'std_dev': 0.018314335710637702},\n",
        " {'mean': 0.0013674598600241475,\n",
        "  'security_symbol': 'TJX',\n",
        "  'std_dev': 0.015079511195844785},\n",
        " {'mean': 0.00092814159136482121,\n",
        "  'security_symbol': 'TMK',\n",
        "  'std_dev': 0.022352237283056589},\n",
        " {'mean': 0.00072999864598193042,\n",
        "  'security_symbol': 'TSS',\n",
        "  'std_dev': 0.014681442348801544},\n",
        " {'mean': 0.0016346781285243848,\n",
        "  'security_symbol': 'TSCO',\n",
        "  'std_dev': 0.01953569637725075},\n",
        " {'mean': -0.00036590852488159182,\n",
        "  'security_symbol': 'RIG',\n",
        "  'std_dev': 0.024118824562987397},\n",
        " {'mean': 0.0015869772401592526,\n",
        "  'security_symbol': 'TRIP',\n",
        "  'std_dev': 0.027320954052092582},\n",
        " {'mean': 0.0011927460576824772,\n",
        "  'security_symbol': 'FOXA',\n",
        "  'std_dev': 0.021824842858090002},\n",
        " {'mean': 0.0011977323456820628,\n",
        "  'security_symbol': 'TSN',\n",
        "  'std_dev': 0.019129604779917372},\n",
        " {'mean': 0.0010914766476098502,\n",
        "  'security_symbol': 'TYC',\n",
        "  'std_dev': 0.016763904435084083},\n",
        " {'mean': 0.00075376299007856725,\n",
        "  'security_symbol': 'USB',\n",
        "  'std_dev': 0.025600611104994606},\n",
        " {'mean': 0.0019579042322993498,\n",
        "  'security_symbol': 'UA',\n",
        "  'std_dev': 0.027628959663647298},\n",
        " {'mean': 0.0012657942856487095,\n",
        "  'security_symbol': 'UNP',\n",
        "  'std_dev': 0.017924480723338646},\n",
        " {'mean': 0.0011580062588594398,\n",
        "  'security_symbol': 'UNH',\n",
        "  'std_dev': 0.018863141936476133},\n",
        " {'mean': 0.00067240974591728476,\n",
        "  'security_symbol': 'UPS',\n",
        "  'std_dev': 0.013268413094353818},\n",
        " {'mean': 0.00032051281122088941,\n",
        "  'security_symbol': 'MLM',\n",
        "  'std_dev': 0.01950304502789911},\n",
        " {'mean': 0.0020563226673370972,\n",
        "  'security_symbol': 'URI',\n",
        "  'std_dev': 0.033801726421013936},\n",
        " {'mean': 0.0007095661180017514,\n",
        "  'security_symbol': 'UTX',\n",
        "  'std_dev': 0.014085399377088154},\n",
        " {'mean': 0.0013739378380953368,\n",
        "  'security_symbol': 'UHS',\n",
        "  'std_dev': 0.020144726687594816},\n",
        " {'mean': 0.00074061277201695934,\n",
        "  'security_symbol': 'UNM',\n",
        "  'std_dev': 0.024277353962402597},\n",
        " {'mean': 0.00079576152526915063,\n",
        "  'security_symbol': 'URBN',\n",
        "  'std_dev': 0.023655214809822498},\n",
        " {'mean': 0.0013081585418205832,\n",
        "  'security_symbol': 'VFC',\n",
        "  'std_dev': 0.016861200739917523},\n",
        " {'mean': 0.0009261899234902579,\n",
        "  'security_symbol': 'VLO',\n",
        "  'std_dev': 0.02494604131665553},\n",
        " {'mean': 0.00072567482601102113,\n",
        "  'security_symbol': 'VAR',\n",
        "  'std_dev': 0.016851103254838365},\n",
        " {'mean': 0.0010183333623069142,\n",
        "  'security_symbol': 'VTR',\n",
        "  'std_dev': 0.021502307113664586},\n",
        " {'mean': 0.00095693874412132647,\n",
        "  'security_symbol': 'VRSN',\n",
        "  'std_dev': 0.019514899699043048},\n",
        " {'mean': 0.00053085031464831318,\n",
        "  'security_symbol': 'VZ',\n",
        "  'std_dev': 0.011460500534193389},\n",
        " {'mean': 0.0014561703868564246,\n",
        "  'security_symbol': 'VRTX',\n",
        "  'std_dev': 0.03446632992295847},\n",
        " {'mean': 0.0010473270375511068,\n",
        "  'security_symbol': 'VIAB',\n",
        "  'std_dev': 0.018543320181024139},\n",
        " {'mean': 0.0012273130652341619,\n",
        "  'security_symbol': 'V',\n",
        "  'std_dev': 0.018185881910338028},\n",
        " {'mean': 0.0009586481507785963,\n",
        "  'security_symbol': 'VNO',\n",
        "  'std_dev': 0.024269316615674448},\n",
        " {'mean': 0.00033149614990511639,\n",
        "  'security_symbol': 'VMC',\n",
        "  'std_dev': 0.023526396115259831},\n",
        " {'mean': 0.00043226019802503405,\n",
        "  'security_symbol': 'WMT',\n",
        "  'std_dev': 0.010183843572494258},\n",
        " {'mean': 0.00094117554460388189,\n",
        "  'security_symbol': 'WBA',\n",
        "  'std_dev': 0.016763339743693956},\n",
        " {'mean': 0.0010908257629786231,\n",
        "  'security_symbol': 'DIS',\n",
        "  'std_dev': 0.016270224348749373},\n",
        " {'mean': 0.00052106331199062419,\n",
        "  'security_symbol': 'WM',\n",
        "  'std_dev': 0.012401003875684498},\n",
        " {'mean': 0.00088247655580652666,\n",
        "  'security_symbol': 'WAT',\n",
        "  'std_dev': 0.017464058448020472},\n",
        " {'mean': 0.00099278463904883146,\n",
        "  'security_symbol': 'ANTM',\n",
        "  'std_dev': 0.018488250593954435},\n",
        " {'mean': 0.0009415987971214901,\n",
        "  'security_symbol': 'WFC',\n",
        "  'std_dev': 0.031176951100510362},\n",
        " {'mean': 0.0017657971360795742,\n",
        "  'security_symbol': 'WDC',\n",
        "  'std_dev': 0.025703900475677197},\n",
        " {'mean': 0.00037809344128672431,\n",
        "  'security_symbol': 'WU',\n",
        "  'std_dev': 0.019757026385455456},\n",
        " {'mean': 0.0010546737763196727,\n",
        "  'security_symbol': 'WY',\n",
        "  'std_dev': 0.02089837398688826},\n",
        " {'mean': 0.0014521105902477148,\n",
        "  'security_symbol': 'WHR',\n",
        "  'std_dev': 0.026599447050056811},\n",
        " {'mean': 0.0019014309445776257,\n",
        "  'security_symbol': 'WFM',\n",
        "  'std_dev': 0.025257257821694908},\n",
        " {'mean': 0.0011836098875219545,\n",
        "  'security_symbol': 'WMB',\n",
        "  'std_dev': 0.021565317841825228},\n",
        " {'mean': 0.00043314035579197427,\n",
        "  'security_symbol': 'WIN',\n",
        "  'std_dev': 0.015854954428202332},\n",
        " {'mean': 0.00082015562203686411,\n",
        "  'security_symbol': 'WEC',\n",
        "  'std_dev': 0.010310953332136309},\n",
        " {'mean': 0.0021047634472154473,\n",
        "  'security_symbol': 'WYN',\n",
        "  'std_dev': 0.028967706741545567},\n",
        " {'mean': 0.0014519384834992607,\n",
        "  'security_symbol': 'WYNN',\n",
        "  'std_dev': 0.030946967469486886},\n",
        " {'mean': 0.00066593706269816135,\n",
        "  'security_symbol': 'XEL',\n",
        "  'std_dev': 0.0097812625430286938},\n",
        " {'mean': 0.00067571316399083435,\n",
        "  'security_symbol': 'XRX',\n",
        "  'std_dev': 0.022556360259234468},\n",
        " {'mean': 0.0007504642258499781,\n",
        "  'security_symbol': 'XLNX',\n",
        "  'std_dev': 0.017928262815069252},\n",
        " {'mean': 0.002065217703431987,\n",
        "  'security_symbol': 'XL',\n",
        "  'std_dev': 0.033350722573323381},\n",
        " {'mean': 0.000647240432584885,\n",
        "  'security_symbol': 'XYL',\n",
        "  'std_dev': 0.015985178972602914},\n",
        " {'mean': 0.0010888517085225235,\n",
        "  'security_symbol': 'YHOO',\n",
        "  'std_dev': 0.020548168729161913},\n",
        " {'mean': 0.00076253612154887174,\n",
        "  'security_symbol': 'YUM',\n",
        "  'std_dev': 0.016031990133621995},\n",
        " {'mean': 0.00082429015528500142,\n",
        "  'security_symbol': 'ZMH',\n",
        "  'std_dev': 0.015519531969742059},\n",
        " {'mean': 0.00064676405411970837,\n",
        "  'security_symbol': 'ZION',\n",
        "  'std_dev': 0.035670003288174205},\n",
        " {'mean': 0.00085738382303678193,\n",
        "  'security_symbol': 'ZTS',\n",
        "  'std_dev': 0.01378119207008692}]"
       ]
      }
     ],
     "prompt_number": 68
    },
    {
     "cell_type": "code",
     "collapsed": false,
     "input": [
      "securities_df = DataFrame(securities_data)"
     ],
     "language": "python",
     "metadata": {},
     "outputs": [],
     "prompt_number": 69
    },
    {
     "cell_type": "code",
     "collapsed": false,
     "input": [
      "securities_df.sort_index()"
     ],
     "language": "python",
     "metadata": {},
     "outputs": [
      {
       "html": [
        "<div style=\"max-height:1000px;max-width:1500px;overflow:auto;\">\n",
        "<table border=\"1\" class=\"dataframe\">\n",
        "  <thead>\n",
        "    <tr style=\"text-align: right;\">\n",
        "      <th></th>\n",
        "      <th>mean</th>\n",
        "      <th>security_symbol</th>\n",
        "      <th>std_dev</th>\n",
        "    </tr>\n",
        "  </thead>\n",
        "  <tbody>\n",
        "    <tr>\n",
        "      <th>0  </th>\n",
        "      <td> 0.000873</td>\n",
        "      <td>  MMM</td>\n",
        "      <td> 0.013627</td>\n",
        "    </tr>\n",
        "    <tr>\n",
        "      <th>1  </th>\n",
        "      <td> 0.000544</td>\n",
        "      <td>  ABT</td>\n",
        "      <td> 0.011477</td>\n",
        "    </tr>\n",
        "    <tr>\n",
        "      <th>2  </th>\n",
        "      <td> 0.001406</td>\n",
        "      <td> ABBV</td>\n",
        "      <td> 0.015715</td>\n",
        "    </tr>\n",
        "    <tr>\n",
        "      <th>3  </th>\n",
        "      <td> 0.000718</td>\n",
        "      <td>  ACE</td>\n",
        "      <td> 0.015509</td>\n",
        "    </tr>\n",
        "    <tr>\n",
        "      <th>4  </th>\n",
        "      <td> 0.000845</td>\n",
        "      <td>  ACN</td>\n",
        "      <td> 0.015301</td>\n",
        "    </tr>\n",
        "    <tr>\n",
        "      <th>5  </th>\n",
        "      <td> 0.001678</td>\n",
        "      <td>  ACT</td>\n",
        "      <td> 0.016080</td>\n",
        "    </tr>\n",
        "    <tr>\n",
        "      <th>6  </th>\n",
        "      <td> 0.000977</td>\n",
        "      <td> ADBE</td>\n",
        "      <td> 0.020714</td>\n",
        "    </tr>\n",
        "    <tr>\n",
        "      <th>7  </th>\n",
        "      <td> 0.000106</td>\n",
        "      <td>  ADT</td>\n",
        "      <td> 0.017995</td>\n",
        "    </tr>\n",
        "    <tr>\n",
        "      <th>8  </th>\n",
        "      <td> 0.000535</td>\n",
        "      <td>  AES</td>\n",
        "      <td> 0.022421</td>\n",
        "    </tr>\n",
        "    <tr>\n",
        "      <th>9  </th>\n",
        "      <td> 0.001035</td>\n",
        "      <td>  AET</td>\n",
        "      <td> 0.020912</td>\n",
        "    </tr>\n",
        "    <tr>\n",
        "      <th>10 </th>\n",
        "      <td> 0.000717</td>\n",
        "      <td>  AFL</td>\n",
        "      <td> 0.029684</td>\n",
        "    </tr>\n",
        "    <tr>\n",
        "      <th>11 </th>\n",
        "      <td> 0.001377</td>\n",
        "      <td>  AMG</td>\n",
        "      <td> 0.026248</td>\n",
        "    </tr>\n",
        "    <tr>\n",
        "      <th>12 </th>\n",
        "      <td> 0.001052</td>\n",
        "      <td>    A</td>\n",
        "      <td> 0.021246</td>\n",
        "    </tr>\n",
        "    <tr>\n",
        "      <th>13 </th>\n",
        "      <td> 0.000634</td>\n",
        "      <td>  GAS</td>\n",
        "      <td> 0.011631</td>\n",
        "    </tr>\n",
        "    <tr>\n",
        "      <th>14 </th>\n",
        "      <td> 0.000886</td>\n",
        "      <td>  APD</td>\n",
        "      <td> 0.015701</td>\n",
        "    </tr>\n",
        "    <tr>\n",
        "      <th>15 </th>\n",
        "      <td> 0.000907</td>\n",
        "      <td>  ARG</td>\n",
        "      <td> 0.018328</td>\n",
        "    </tr>\n",
        "    <tr>\n",
        "      <th>16 </th>\n",
        "      <td> 0.001272</td>\n",
        "      <td> AKAM</td>\n",
        "      <td> 0.027895</td>\n",
        "    </tr>\n",
        "    <tr>\n",
        "      <th>17 </th>\n",
        "      <td> 0.000592</td>\n",
        "      <td>   AA</td>\n",
        "      <td> 0.026536</td>\n",
        "    </tr>\n",
        "    <tr>\n",
        "      <th>18 </th>\n",
        "      <td> 0.001752</td>\n",
        "      <td> ALXN</td>\n",
        "      <td> 0.022101</td>\n",
        "    </tr>\n",
        "    <tr>\n",
        "      <th>19 </th>\n",
        "      <td> 0.000584</td>\n",
        "      <td>  ATI</td>\n",
        "      <td> 0.030703</td>\n",
        "    </tr>\n",
        "    <tr>\n",
        "      <th>20 </th>\n",
        "      <td> 0.000509</td>\n",
        "      <td> ALLE</td>\n",
        "      <td> 0.014173</td>\n",
        "    </tr>\n",
        "    <tr>\n",
        "      <th>21 </th>\n",
        "      <td> 0.001253</td>\n",
        "      <td>  AGN</td>\n",
        "      <td> 0.016691</td>\n",
        "    </tr>\n",
        "    <tr>\n",
        "      <th>22 </th>\n",
        "      <td> 0.001404</td>\n",
        "      <td>  ADS</td>\n",
        "      <td> 0.020426</td>\n",
        "    </tr>\n",
        "    <tr>\n",
        "      <th>23 </th>\n",
        "      <td> 0.000816</td>\n",
        "      <td>  ALL</td>\n",
        "      <td> 0.020256</td>\n",
        "    </tr>\n",
        "    <tr>\n",
        "      <th>24 </th>\n",
        "      <td> 0.000726</td>\n",
        "      <td> ALTR</td>\n",
        "      <td> 0.020286</td>\n",
        "    </tr>\n",
        "    <tr>\n",
        "      <th>25 </th>\n",
        "      <td> 0.001119</td>\n",
        "      <td>   MO</td>\n",
        "      <td> 0.009960</td>\n",
        "    </tr>\n",
        "    <tr>\n",
        "      <th>26 </th>\n",
        "      <td> 0.001405</td>\n",
        "      <td> AMZN</td>\n",
        "      <td> 0.023056</td>\n",
        "    </tr>\n",
        "    <tr>\n",
        "      <th>27 </th>\n",
        "      <td> 0.000491</td>\n",
        "      <td>  AEE</td>\n",
        "      <td> 0.013029</td>\n",
        "    </tr>\n",
        "    <tr>\n",
        "      <th>28 </th>\n",
        "      <td> 0.000665</td>\n",
        "      <td>  AEP</td>\n",
        "      <td> 0.011385</td>\n",
        "    </tr>\n",
        "    <tr>\n",
        "      <th>29 </th>\n",
        "      <td> 0.001321</td>\n",
        "      <td>  AXP</td>\n",
        "      <td> 0.023934</td>\n",
        "    </tr>\n",
        "    <tr>\n",
        "      <th>...</th>\n",
        "      <td>...</td>\n",
        "      <td>...</td>\n",
        "      <td>...</td>\n",
        "    </tr>\n",
        "    <tr>\n",
        "      <th>472</th>\n",
        "      <td> 0.001227</td>\n",
        "      <td>    V</td>\n",
        "      <td> 0.018186</td>\n",
        "    </tr>\n",
        "    <tr>\n",
        "      <th>473</th>\n",
        "      <td> 0.000959</td>\n",
        "      <td>  VNO</td>\n",
        "      <td> 0.024269</td>\n",
        "    </tr>\n",
        "    <tr>\n",
        "      <th>474</th>\n",
        "      <td> 0.000331</td>\n",
        "      <td>  VMC</td>\n",
        "      <td> 0.023526</td>\n",
        "    </tr>\n",
        "    <tr>\n",
        "      <th>475</th>\n",
        "      <td> 0.000432</td>\n",
        "      <td>  WMT</td>\n",
        "      <td> 0.010184</td>\n",
        "    </tr>\n",
        "    <tr>\n",
        "      <th>476</th>\n",
        "      <td> 0.000941</td>\n",
        "      <td>  WBA</td>\n",
        "      <td> 0.016763</td>\n",
        "    </tr>\n",
        "    <tr>\n",
        "      <th>477</th>\n",
        "      <td> 0.001091</td>\n",
        "      <td>  DIS</td>\n",
        "      <td> 0.016270</td>\n",
        "    </tr>\n",
        "    <tr>\n",
        "      <th>478</th>\n",
        "      <td> 0.000521</td>\n",
        "      <td>   WM</td>\n",
        "      <td> 0.012401</td>\n",
        "    </tr>\n",
        "    <tr>\n",
        "      <th>479</th>\n",
        "      <td> 0.000882</td>\n",
        "      <td>  WAT</td>\n",
        "      <td> 0.017464</td>\n",
        "    </tr>\n",
        "    <tr>\n",
        "      <th>480</th>\n",
        "      <td> 0.000993</td>\n",
        "      <td> ANTM</td>\n",
        "      <td> 0.018488</td>\n",
        "    </tr>\n",
        "    <tr>\n",
        "      <th>481</th>\n",
        "      <td> 0.000942</td>\n",
        "      <td>  WFC</td>\n",
        "      <td> 0.031177</td>\n",
        "    </tr>\n",
        "    <tr>\n",
        "      <th>482</th>\n",
        "      <td> 0.001766</td>\n",
        "      <td>  WDC</td>\n",
        "      <td> 0.025704</td>\n",
        "    </tr>\n",
        "    <tr>\n",
        "      <th>483</th>\n",
        "      <td> 0.000378</td>\n",
        "      <td>   WU</td>\n",
        "      <td> 0.019757</td>\n",
        "    </tr>\n",
        "    <tr>\n",
        "      <th>484</th>\n",
        "      <td> 0.001055</td>\n",
        "      <td>   WY</td>\n",
        "      <td> 0.020898</td>\n",
        "    </tr>\n",
        "    <tr>\n",
        "      <th>485</th>\n",
        "      <td> 0.001452</td>\n",
        "      <td>  WHR</td>\n",
        "      <td> 0.026599</td>\n",
        "    </tr>\n",
        "    <tr>\n",
        "      <th>486</th>\n",
        "      <td> 0.001901</td>\n",
        "      <td>  WFM</td>\n",
        "      <td> 0.025257</td>\n",
        "    </tr>\n",
        "    <tr>\n",
        "      <th>487</th>\n",
        "      <td> 0.001184</td>\n",
        "      <td>  WMB</td>\n",
        "      <td> 0.021565</td>\n",
        "    </tr>\n",
        "    <tr>\n",
        "      <th>488</th>\n",
        "      <td> 0.000433</td>\n",
        "      <td>  WIN</td>\n",
        "      <td> 0.015855</td>\n",
        "    </tr>\n",
        "    <tr>\n",
        "      <th>489</th>\n",
        "      <td> 0.000820</td>\n",
        "      <td>  WEC</td>\n",
        "      <td> 0.010311</td>\n",
        "    </tr>\n",
        "    <tr>\n",
        "      <th>490</th>\n",
        "      <td> 0.002105</td>\n",
        "      <td>  WYN</td>\n",
        "      <td> 0.028968</td>\n",
        "    </tr>\n",
        "    <tr>\n",
        "      <th>491</th>\n",
        "      <td> 0.001452</td>\n",
        "      <td> WYNN</td>\n",
        "      <td> 0.030947</td>\n",
        "    </tr>\n",
        "    <tr>\n",
        "      <th>492</th>\n",
        "      <td> 0.000666</td>\n",
        "      <td>  XEL</td>\n",
        "      <td> 0.009781</td>\n",
        "    </tr>\n",
        "    <tr>\n",
        "      <th>493</th>\n",
        "      <td> 0.000676</td>\n",
        "      <td>  XRX</td>\n",
        "      <td> 0.022556</td>\n",
        "    </tr>\n",
        "    <tr>\n",
        "      <th>494</th>\n",
        "      <td> 0.000750</td>\n",
        "      <td> XLNX</td>\n",
        "      <td> 0.017928</td>\n",
        "    </tr>\n",
        "    <tr>\n",
        "      <th>495</th>\n",
        "      <td> 0.002065</td>\n",
        "      <td>   XL</td>\n",
        "      <td> 0.033351</td>\n",
        "    </tr>\n",
        "    <tr>\n",
        "      <th>496</th>\n",
        "      <td> 0.000647</td>\n",
        "      <td>  XYL</td>\n",
        "      <td> 0.015985</td>\n",
        "    </tr>\n",
        "    <tr>\n",
        "      <th>497</th>\n",
        "      <td> 0.001089</td>\n",
        "      <td> YHOO</td>\n",
        "      <td> 0.020548</td>\n",
        "    </tr>\n",
        "    <tr>\n",
        "      <th>498</th>\n",
        "      <td> 0.000763</td>\n",
        "      <td>  YUM</td>\n",
        "      <td> 0.016032</td>\n",
        "    </tr>\n",
        "    <tr>\n",
        "      <th>499</th>\n",
        "      <td> 0.000824</td>\n",
        "      <td>  ZMH</td>\n",
        "      <td> 0.015520</td>\n",
        "    </tr>\n",
        "    <tr>\n",
        "      <th>500</th>\n",
        "      <td> 0.000647</td>\n",
        "      <td> ZION</td>\n",
        "      <td> 0.035670</td>\n",
        "    </tr>\n",
        "    <tr>\n",
        "      <th>501</th>\n",
        "      <td> 0.000857</td>\n",
        "      <td>  ZTS</td>\n",
        "      <td> 0.013781</td>\n",
        "    </tr>\n",
        "  </tbody>\n",
        "</table>\n",
        "<p>502 rows \u00d7 3 columns</p>\n",
        "</div>"
       ],
       "metadata": {},
       "output_type": "pyout",
       "prompt_number": 74,
       "text": [
        "         mean security_symbol   std_dev\n",
        "0    0.000873             MMM  0.013627\n",
        "1    0.000544             ABT  0.011477\n",
        "2    0.001406            ABBV  0.015715\n",
        "3    0.000718             ACE  0.015509\n",
        "4    0.000845             ACN  0.015301\n",
        "5    0.001678             ACT  0.016080\n",
        "6    0.000977            ADBE  0.020714\n",
        "7    0.000106             ADT  0.017995\n",
        "8    0.000535             AES  0.022421\n",
        "9    0.001035             AET  0.020912\n",
        "10   0.000717             AFL  0.029684\n",
        "11   0.001377             AMG  0.026248\n",
        "12   0.001052               A  0.021246\n",
        "13   0.000634             GAS  0.011631\n",
        "14   0.000886             APD  0.015701\n",
        "15   0.000907             ARG  0.018328\n",
        "16   0.001272            AKAM  0.027895\n",
        "17   0.000592              AA  0.026536\n",
        "18   0.001752            ALXN  0.022101\n",
        "19   0.000584             ATI  0.030703\n",
        "20   0.000509            ALLE  0.014173\n",
        "21   0.001253             AGN  0.016691\n",
        "22   0.001404             ADS  0.020426\n",
        "23   0.000816             ALL  0.020256\n",
        "24   0.000726            ALTR  0.020286\n",
        "25   0.001119              MO  0.009960\n",
        "26   0.001405            AMZN  0.023056\n",
        "27   0.000491             AEE  0.013029\n",
        "28   0.000665             AEP  0.011385\n",
        "29   0.001321             AXP  0.023934\n",
        "..        ...             ...       ...\n",
        "472  0.001227               V  0.018186\n",
        "473  0.000959             VNO  0.024269\n",
        "474  0.000331             VMC  0.023526\n",
        "475  0.000432             WMT  0.010184\n",
        "476  0.000941             WBA  0.016763\n",
        "477  0.001091             DIS  0.016270\n",
        "478  0.000521              WM  0.012401\n",
        "479  0.000882             WAT  0.017464\n",
        "480  0.000993            ANTM  0.018488\n",
        "481  0.000942             WFC  0.031177\n",
        "482  0.001766             WDC  0.025704\n",
        "483  0.000378              WU  0.019757\n",
        "484  0.001055              WY  0.020898\n",
        "485  0.001452             WHR  0.026599\n",
        "486  0.001901             WFM  0.025257\n",
        "487  0.001184             WMB  0.021565\n",
        "488  0.000433             WIN  0.015855\n",
        "489  0.000820             WEC  0.010311\n",
        "490  0.002105             WYN  0.028968\n",
        "491  0.001452            WYNN  0.030947\n",
        "492  0.000666             XEL  0.009781\n",
        "493  0.000676             XRX  0.022556\n",
        "494  0.000750            XLNX  0.017928\n",
        "495  0.002065              XL  0.033351\n",
        "496  0.000647             XYL  0.015985\n",
        "497  0.001089            YHOO  0.020548\n",
        "498  0.000763             YUM  0.016032\n",
        "499  0.000824             ZMH  0.015520\n",
        "500  0.000647            ZION  0.035670\n",
        "501  0.000857             ZTS  0.013781\n",
        "\n",
        "[502 rows x 3 columns]"
       ]
      }
     ],
     "prompt_number": 74
    },
    {
     "cell_type": "code",
     "collapsed": false,
     "input": [],
     "language": "python",
     "metadata": {},
     "outputs": []
    }
   ],
   "metadata": {}
  }
 ]
}