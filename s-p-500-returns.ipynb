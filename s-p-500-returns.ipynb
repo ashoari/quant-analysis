{
 "metadata": {
  "name": "",
  "signature": "sha256:38f11360ae7800385277be5aafe3301175ad1927f931a3802d06caaeba7f23fb"
 },
 "nbformat": 3,
 "nbformat_minor": 0,
 "worksheets": [
  {
   "cells": [
    {
     "cell_type": "code",
     "collapsed": false,
     "input": [
      "import Quandl\n",
      "snp_data = Quandl.get('YAHOO/INDEX_GSPC')\n",
      "snp_data.columns = ['Open','High','Low','Close','Volume','AdjustedClose']\n",
      "percentage_change = snp_data.AdjustedClose.pct_change()\n",
      "percentage_change.fillna(0)\n",
      "mean = percentage_change.mean()\n",
      "std_dev = percentage_change.std()\n",
      "\n",
      "print \"The model for S&P 500 mean returns of {0} and standard deviation of {1}\".format(mean, std_dev)"
     ],
     "language": "python",
     "metadata": {},
     "outputs": [
      {
       "output_type": "stream",
       "stream": "stdout",
       "text": [
        "The model for S&P 500 mean returns of 0.000340686508169 and standard deviation of 0.00968522521835\n"
       ]
      }
     ],
     "prompt_number": 25
    },
    {
     "cell_type": "code",
     "collapsed": false,
     "input": [],
     "language": "python",
     "metadata": {},
     "outputs": []
    }
   ],
   "metadata": {}
  }
 ]
}