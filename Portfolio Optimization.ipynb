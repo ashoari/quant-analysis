{
 "metadata": {
  "name": "",
  "signature": "sha256:f1e75294fd5cba4359b4470fa3e92decde1950257930befe7e0df29eae2cbdc3"
 },
 "nbformat": 3,
 "nbformat_minor": 0,
 "worksheets": [
  {
   "cells": [
    {
     "cell_type": "markdown",
     "metadata": {},
     "source": [
      "###Portfolio Optimisation\n",
      "\n",
      "|  Asset | mu   | sigma  |\n",
      "|--------|------|--------|\n",
      "|   A    | 0.04 |  0.07  |\n",
      "|   B    | 0.08 |  0.12  |\n",
      "|   C    | 0.12 |  0.18  |\n",
      "|   D    | 0.15 |  0.26  |\n"
     ]
    },
    {
     "cell_type": "code",
     "collapsed": false,
     "input": [
      "import numpy as NP\n",
      "from numpy import matrix, power\n",
      "from math import sqrt\n",
      "\n",
      "\n",
      "correlation_matrix = matrix([[1,0.2,0.5,0.3],[0.2,1,0.7,0.4],[0.5,0.7,1,0.9],[0.3,0.4,0.9,1]])\n",
      "variance_matrix = NP.array([0.07,0.12,0.18,0.26])\n",
      "variance_matrix_d = NP.diag(variance_matrix)\n",
      "variance_covariance_matrix = variance_matrix_d*correlation_matrix*variance_matrix_d\n",
      "\n",
      "mu = matrix([[0.04],[0.08],[0.12],[0.15]])\n",
      "risk_free_rate = 0.03\n",
      " \n",
      "def portfolio_optimizer(mu_matrix,variance_co_var_matrix,risk_free_rate):\n",
      "    (nr,nc)=variance_co_var_matrix.shape\n",
      "    A=matrix([[0.0] for r in xrange(nr)])\n",
      "    A=(1/variance_co_var_matrix)*(mu_matrix-risk_free_rate)\n",
      "    (nr,nc)=A.shape\n",
      "    A=A/sum(A[r,0] for r in xrange(nr))\n",
      "    w=[A[r,0] for r in xrange(nr)]\n",
      "    pret=mu_matrix.T*A\n",
      "    prsk=power(A.T*(variance_co_var_matrix*A),0.5)\n",
      "    return matrix(w),pret,prsk\n",
      "\n",
      "weights,returns,risk = TangentPortfolio(mu,variance_covariance_matrix,risk_free_rate)\n",
      "\n",
      "print(\"Portfolio weights\")\n",
      "print(weights.T)\n",
      " \n",
      "print(\"Expected Portfolio Return and Risk\")\n",
      "print returns\n",
      "print risk\n"
     ],
     "language": "python",
     "metadata": {},
     "outputs": [
      {
       "output_type": "stream",
       "stream": "stdout",
       "text": [
        "Portfolio weights\n",
        "[[ 0.60060618]\n",
        " [ 0.22052817]\n",
        " [ 0.09283506]\n",
        " [ 0.08603059]]\n",
        "Expected Portfolio Return and Risk\n",
        "[[ 0.0657113]]\n",
        "[[ 0.08200422]]\n"
       ]
      }
     ],
     "prompt_number": 52
    },
    {
     "cell_type": "code",
     "collapsed": false,
     "input": [],
     "language": "python",
     "metadata": {},
     "outputs": []
    }
   ],
   "metadata": {}
  }
 ]
}