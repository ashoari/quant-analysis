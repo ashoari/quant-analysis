{
 "cells": [
  {
   "cell_type": "code",
   "execution_count": 5,
   "metadata": {
    "collapsed": false
   },
   "outputs": [
    {
     "name": "stdout",
     "output_type": "stream",
     "text": [
      "SPY\n"
     ]
    },
    {
     "ename": "KeyError",
     "evalue": "'70:1d:close_price:True'",
     "output_type": "error",
     "traceback": [
      "\u001b[0;31m---------------------------------------------------------------------------\u001b[0m",
      "\u001b[0;31mKeyError\u001b[0m                                  Traceback (most recent call last)",
      "\u001b[0;32m<ipython-input-5-56f91eb045bc>\u001b[0m in \u001b[0;36m<module>\u001b[0;34m()\u001b[0m\n\u001b[1;32m     90\u001b[0m                         handle_data=handle_data)\n\u001b[1;32m     91\u001b[0m \u001b[0;31m# Run algorithm\u001b[0m\u001b[0;34m\u001b[0m\u001b[0;34m\u001b[0m\u001b[0m\n\u001b[0;32m---> 92\u001b[0;31m \u001b[0mresults\u001b[0m \u001b[0;34m=\u001b[0m \u001b[0malgo\u001b[0m\u001b[0;34m.\u001b[0m\u001b[0mrun\u001b[0m\u001b[0;34m(\u001b[0m\u001b[0mdata\u001b[0m\u001b[0;34m)\u001b[0m\u001b[0;34m\u001b[0m\u001b[0m\n\u001b[0m\u001b[1;32m     93\u001b[0m \u001b[0mresults\u001b[0m\u001b[0;34m.\u001b[0m\u001b[0mportfolio_value\u001b[0m\u001b[0;34m.\u001b[0m\u001b[0mplot\u001b[0m\u001b[0;34m(\u001b[0m\u001b[0;34m)\u001b[0m\u001b[0;34m\u001b[0m\u001b[0m\n",
      "\u001b[0;32m/Users/spurnaye/Library/Enthought/Canopy_64bit/User/lib/python2.7/site-packages/zipline/algorithm.pyc\u001b[0m in \u001b[0;36mrun\u001b[0;34m(self, source, overwrite_sim_params, benchmark_return_source)\u001b[0m\n\u001b[1;32m    421\u001b[0m             \u001b[0;31m# perf dictionary\u001b[0m\u001b[0;34m\u001b[0m\u001b[0;34m\u001b[0m\u001b[0m\n\u001b[1;32m    422\u001b[0m             \u001b[0mperfs\u001b[0m \u001b[0;34m=\u001b[0m \u001b[0;34m[\u001b[0m\u001b[0;34m]\u001b[0m\u001b[0;34m\u001b[0m\u001b[0m\n\u001b[0;32m--> 423\u001b[0;31m             \u001b[0;32mfor\u001b[0m \u001b[0mperf\u001b[0m \u001b[0;32min\u001b[0m \u001b[0mself\u001b[0m\u001b[0;34m.\u001b[0m\u001b[0mgen\u001b[0m\u001b[0;34m:\u001b[0m\u001b[0;34m\u001b[0m\u001b[0m\n\u001b[0m\u001b[1;32m    424\u001b[0m                 \u001b[0mperfs\u001b[0m\u001b[0;34m.\u001b[0m\u001b[0mappend\u001b[0m\u001b[0;34m(\u001b[0m\u001b[0mperf\u001b[0m\u001b[0;34m)\u001b[0m\u001b[0;34m\u001b[0m\u001b[0m\n\u001b[1;32m    425\u001b[0m \u001b[0;34m\u001b[0m\u001b[0m\n",
      "\u001b[0;32m/Users/spurnaye/Library/Enthought/Canopy_64bit/User/lib/python2.7/site-packages/zipline/gens/tradesimulation.pyc\u001b[0m in \u001b[0;36mtransform\u001b[0;34m(self, stream_in)\u001b[0m\n\u001b[1;32m    125\u001b[0m                         \u001b[0mdate\u001b[0m\u001b[0;34m,\u001b[0m\u001b[0;34m\u001b[0m\u001b[0m\n\u001b[1;32m    126\u001b[0m                         \u001b[0msnapshot\u001b[0m\u001b[0;34m,\u001b[0m\u001b[0;34m\u001b[0m\u001b[0m\n\u001b[0;32m--> 127\u001b[0;31m                         \u001b[0mself\u001b[0m\u001b[0;34m.\u001b[0m\u001b[0malgo\u001b[0m\u001b[0;34m.\u001b[0m\u001b[0minstant_fill\u001b[0m\u001b[0;34m,\u001b[0m\u001b[0;34m\u001b[0m\u001b[0m\n\u001b[0m\u001b[1;32m    128\u001b[0m                     )\n\u001b[1;32m    129\u001b[0m                     \u001b[0;31m# Perf messages are only emitted if the snapshot contained\u001b[0m\u001b[0;34m\u001b[0m\u001b[0;34m\u001b[0m\u001b[0m\n",
      "\u001b[0;32m/Users/spurnaye/Library/Enthought/Canopy_64bit/User/lib/python2.7/site-packages/zipline/gens/tradesimulation.pyc\u001b[0m in \u001b[0;36m_process_snapshot\u001b[0;34m(self, dt, snapshot, instant_fill)\u001b[0m\n\u001b[1;32m    212\u001b[0m \u001b[0;34m\u001b[0m\u001b[0m\n\u001b[1;32m    213\u001b[0m         \u001b[0;32mif\u001b[0m \u001b[0many_trade_occurred\u001b[0m\u001b[0;34m:\u001b[0m\u001b[0;34m\u001b[0m\u001b[0m\n\u001b[0;32m--> 214\u001b[0;31m             \u001b[0mnew_orders\u001b[0m \u001b[0;34m=\u001b[0m \u001b[0mself\u001b[0m\u001b[0;34m.\u001b[0m\u001b[0m_call_handle_data\u001b[0m\u001b[0;34m(\u001b[0m\u001b[0;34m)\u001b[0m\u001b[0;34m\u001b[0m\u001b[0m\n\u001b[0m\u001b[1;32m    215\u001b[0m             \u001b[0;32mfor\u001b[0m \u001b[0morder\u001b[0m \u001b[0;32min\u001b[0m \u001b[0mnew_orders\u001b[0m\u001b[0;34m:\u001b[0m\u001b[0;34m\u001b[0m\u001b[0m\n\u001b[1;32m    216\u001b[0m                 \u001b[0mself\u001b[0m\u001b[0;34m.\u001b[0m\u001b[0malgo\u001b[0m\u001b[0;34m.\u001b[0m\u001b[0mperf_tracker\u001b[0m\u001b[0;34m.\u001b[0m\u001b[0mprocess_event\u001b[0m\u001b[0;34m(\u001b[0m\u001b[0morder\u001b[0m\u001b[0;34m)\u001b[0m\u001b[0;34m\u001b[0m\u001b[0m\n",
      "\u001b[0;32m/Users/spurnaye/Library/Enthought/Canopy_64bit/User/lib/python2.7/site-packages/zipline/gens/tradesimulation.pyc\u001b[0m in \u001b[0;36m_call_handle_data\u001b[0;34m(self)\u001b[0m\n\u001b[1;32m    234\u001b[0m         \u001b[0mduring\u001b[0m \u001b[0mthe\u001b[0m \u001b[0mcall\u001b[0m\u001b[0;34m.\u001b[0m\u001b[0;34m\u001b[0m\u001b[0m\n\u001b[1;32m    235\u001b[0m         \"\"\"\n\u001b[0;32m--> 236\u001b[0;31m         \u001b[0mself\u001b[0m\u001b[0;34m.\u001b[0m\u001b[0malgo\u001b[0m\u001b[0;34m.\u001b[0m\u001b[0mhandle_data\u001b[0m\u001b[0;34m(\u001b[0m\u001b[0mself\u001b[0m\u001b[0;34m.\u001b[0m\u001b[0mcurrent_data\u001b[0m\u001b[0;34m)\u001b[0m\u001b[0;34m\u001b[0m\u001b[0m\n\u001b[0m\u001b[1;32m    237\u001b[0m         \u001b[0morders\u001b[0m \u001b[0;34m=\u001b[0m \u001b[0mself\u001b[0m\u001b[0;34m.\u001b[0m\u001b[0malgo\u001b[0m\u001b[0;34m.\u001b[0m\u001b[0mblotter\u001b[0m\u001b[0;34m.\u001b[0m\u001b[0mnew_orders\u001b[0m\u001b[0;34m\u001b[0m\u001b[0m\n\u001b[1;32m    238\u001b[0m         \u001b[0mself\u001b[0m\u001b[0;34m.\u001b[0m\u001b[0malgo\u001b[0m\u001b[0;34m.\u001b[0m\u001b[0mblotter\u001b[0m\u001b[0;34m.\u001b[0m\u001b[0mnew_orders\u001b[0m \u001b[0;34m=\u001b[0m \u001b[0;34m[\u001b[0m\u001b[0;34m]\u001b[0m\u001b[0;34m\u001b[0m\u001b[0m\n",
      "\u001b[0;32m/Users/spurnaye/Library/Enthought/Canopy_64bit/User/lib/python2.7/site-packages/zipline/algorithm.pyc\u001b[0m in \u001b[0;36mhandle_data\u001b[0;34m(self, data)\u001b[0m\n\u001b[1;32m    224\u001b[0m             \u001b[0mself\u001b[0m\u001b[0;34m.\u001b[0m\u001b[0mhistory_container\u001b[0m\u001b[0;34m.\u001b[0m\u001b[0mupdate\u001b[0m\u001b[0;34m(\u001b[0m\u001b[0mdata\u001b[0m\u001b[0;34m,\u001b[0m \u001b[0mself\u001b[0m\u001b[0;34m.\u001b[0m\u001b[0mdatetime\u001b[0m\u001b[0;34m)\u001b[0m\u001b[0;34m\u001b[0m\u001b[0m\n\u001b[1;32m    225\u001b[0m \u001b[0;34m\u001b[0m\u001b[0m\n\u001b[0;32m--> 226\u001b[0;31m         \u001b[0mself\u001b[0m\u001b[0;34m.\u001b[0m\u001b[0m_handle_data\u001b[0m\u001b[0;34m(\u001b[0m\u001b[0mself\u001b[0m\u001b[0;34m,\u001b[0m \u001b[0mdata\u001b[0m\u001b[0;34m)\u001b[0m\u001b[0;34m\u001b[0m\u001b[0m\n\u001b[0m\u001b[1;32m    227\u001b[0m \u001b[0;34m\u001b[0m\u001b[0m\n\u001b[1;32m    228\u001b[0m     \u001b[0;32mdef\u001b[0m \u001b[0manalyze\u001b[0m\u001b[0;34m(\u001b[0m\u001b[0mself\u001b[0m\u001b[0;34m,\u001b[0m \u001b[0mperf\u001b[0m\u001b[0;34m)\u001b[0m\u001b[0;34m:\u001b[0m\u001b[0;34m\u001b[0m\u001b[0m\n",
      "\u001b[0;32m<ipython-input-5-56f91eb045bc>\u001b[0m in \u001b[0;36mhandle_data\u001b[0;34m(context, data)\u001b[0m\n\u001b[1;32m     40\u001b[0m     \u001b[0mstock_data\u001b[0m \u001b[0;34m=\u001b[0m \u001b[0mdata\u001b[0m\u001b[0;34m[\u001b[0m\u001b[0mstock\u001b[0m\u001b[0;34m]\u001b[0m\u001b[0;34m\u001b[0m\u001b[0m\n\u001b[1;32m     41\u001b[0m \u001b[0;34m\u001b[0m\u001b[0m\n\u001b[0;32m---> 42\u001b[0;31m     \u001b[0mexpected_close\u001b[0m \u001b[0;34m=\u001b[0m \u001b[0mget_expected\u001b[0m\u001b[0;34m(\u001b[0m\u001b[0;34m\"close_price\"\u001b[0m\u001b[0;34m,\u001b[0m \u001b[0mPERIOD\u001b[0m\u001b[0;34m,\u001b[0m \u001b[0mstock\u001b[0m\u001b[0;34m,\u001b[0m \u001b[0;36m1\u001b[0m\u001b[0;34m)\u001b[0m\u001b[0;34m\u001b[0m\u001b[0m\n\u001b[0m\u001b[1;32m     43\u001b[0m     \u001b[0mexpected_open\u001b[0m \u001b[0;34m=\u001b[0m \u001b[0mget_expected\u001b[0m\u001b[0;34m(\u001b[0m\u001b[0;34m\"open_price\"\u001b[0m\u001b[0;34m,\u001b[0m \u001b[0mPERIOD\u001b[0m\u001b[0;34m,\u001b[0m \u001b[0mstock\u001b[0m\u001b[0;34m,\u001b[0m \u001b[0;36m1\u001b[0m\u001b[0;34m)\u001b[0m\u001b[0;34m\u001b[0m\u001b[0m\n\u001b[1;32m     44\u001b[0m     \u001b[0mexpected_high\u001b[0m \u001b[0;34m=\u001b[0m \u001b[0mget_expected\u001b[0m\u001b[0;34m(\u001b[0m\u001b[0;34m\"high\"\u001b[0m\u001b[0;34m,\u001b[0m \u001b[0mPERIOD\u001b[0m\u001b[0;34m,\u001b[0m \u001b[0mstock\u001b[0m\u001b[0;34m,\u001b[0m \u001b[0;36m1\u001b[0m\u001b[0;34m)\u001b[0m\u001b[0;34m\u001b[0m\u001b[0m\n",
      "\u001b[0;32m<ipython-input-5-56f91eb045bc>\u001b[0m in \u001b[0;36mget_expected\u001b[0;34m(data_field, period, stock, days_advanced)\u001b[0m\n\u001b[1;32m     10\u001b[0m \u001b[0;31m# stock N days in advance for the data field, and period.\u001b[0m\u001b[0;34m\u001b[0m\u001b[0;34m\u001b[0m\u001b[0m\n\u001b[1;32m     11\u001b[0m \u001b[0;32mdef\u001b[0m \u001b[0mget_expected\u001b[0m\u001b[0;34m(\u001b[0m\u001b[0mdata_field\u001b[0m\u001b[0;34m,\u001b[0m \u001b[0mperiod\u001b[0m\u001b[0;34m,\u001b[0m \u001b[0mstock\u001b[0m\u001b[0;34m,\u001b[0m \u001b[0mdays_advanced\u001b[0m\u001b[0;34m)\u001b[0m\u001b[0;34m:\u001b[0m\u001b[0;34m\u001b[0m\u001b[0m\n\u001b[0;32m---> 12\u001b[0;31m     \u001b[0mdata\u001b[0m \u001b[0;34m=\u001b[0m \u001b[0mhistory\u001b[0m\u001b[0;34m(\u001b[0m\u001b[0mbar_count\u001b[0m\u001b[0;34m=\u001b[0m\u001b[0mperiod\u001b[0m\u001b[0;34m,\u001b[0m \u001b[0mfrequency\u001b[0m\u001b[0;34m=\u001b[0m\u001b[0;34m\"1d\"\u001b[0m\u001b[0;34m,\u001b[0m \u001b[0mfield\u001b[0m\u001b[0;34m=\u001b[0m\u001b[0mdata_field\u001b[0m\u001b[0;34m)\u001b[0m\u001b[0;34m[\u001b[0m\u001b[0mstock\u001b[0m\u001b[0;34m]\u001b[0m\u001b[0;34m\u001b[0m\u001b[0m\n\u001b[0m\u001b[1;32m     13\u001b[0m     \u001b[0mday\u001b[0m \u001b[0;34m=\u001b[0m \u001b[0mlen\u001b[0m\u001b[0;34m(\u001b[0m\u001b[0mdata\u001b[0m\u001b[0;34m)\u001b[0m\u001b[0;34m\u001b[0m\u001b[0m\n\u001b[1;32m     14\u001b[0m     \u001b[0mdays\u001b[0m \u001b[0;34m=\u001b[0m \u001b[0mlist\u001b[0m\u001b[0;34m(\u001b[0m\u001b[0mrange\u001b[0m\u001b[0;34m(\u001b[0m\u001b[0mday\u001b[0m\u001b[0;34m)\u001b[0m\u001b[0;34m)\u001b[0m\u001b[0;34m\u001b[0m\u001b[0m\n",
      "\u001b[0;32m/Users/spurnaye/Library/Enthought/Canopy_64bit/User/lib/python2.7/site-packages/zipline/utils/api_support.pyc\u001b[0m in \u001b[0;36mwrapped\u001b[0;34m(*args, **kwargs)\u001b[0m\n\u001b[1;32m     58\u001b[0m     \u001b[0;32mdef\u001b[0m \u001b[0mwrapped\u001b[0m\u001b[0;34m(\u001b[0m\u001b[0;34m*\u001b[0m\u001b[0margs\u001b[0m\u001b[0;34m,\u001b[0m \u001b[0;34m**\u001b[0m\u001b[0mkwargs\u001b[0m\u001b[0;34m)\u001b[0m\u001b[0;34m:\u001b[0m\u001b[0;34m\u001b[0m\u001b[0m\n\u001b[1;32m     59\u001b[0m         \u001b[0;31m# Get the instance and call the method\u001b[0m\u001b[0;34m\u001b[0m\u001b[0;34m\u001b[0m\u001b[0m\n\u001b[0;32m---> 60\u001b[0;31m         \u001b[0;32mreturn\u001b[0m \u001b[0mgetattr\u001b[0m\u001b[0;34m(\u001b[0m\u001b[0mget_algo_instance\u001b[0m\u001b[0;34m(\u001b[0m\u001b[0;34m)\u001b[0m\u001b[0;34m,\u001b[0m \u001b[0mf\u001b[0m\u001b[0;34m.\u001b[0m\u001b[0m__name__\u001b[0m\u001b[0;34m)\u001b[0m\u001b[0;34m(\u001b[0m\u001b[0;34m*\u001b[0m\u001b[0margs\u001b[0m\u001b[0;34m,\u001b[0m \u001b[0;34m**\u001b[0m\u001b[0mkwargs\u001b[0m\u001b[0;34m)\u001b[0m\u001b[0;34m\u001b[0m\u001b[0m\n\u001b[0m\u001b[1;32m     61\u001b[0m     \u001b[0;31m# Add functor to zipline.api\u001b[0m\u001b[0;34m\u001b[0m\u001b[0;34m\u001b[0m\u001b[0m\n\u001b[1;32m     62\u001b[0m     \u001b[0msetattr\u001b[0m\u001b[0;34m(\u001b[0m\u001b[0mzipline\u001b[0m\u001b[0;34m.\u001b[0m\u001b[0mapi\u001b[0m\u001b[0;34m,\u001b[0m \u001b[0mf\u001b[0m\u001b[0;34m.\u001b[0m\u001b[0m__name__\u001b[0m\u001b[0;34m,\u001b[0m \u001b[0mwrapped\u001b[0m\u001b[0;34m)\u001b[0m\u001b[0;34m\u001b[0m\u001b[0m\n",
      "\u001b[0;32m/Users/spurnaye/Library/Enthought/Canopy_64bit/User/lib/python2.7/site-packages/zipline/algorithm.pyc\u001b[0m in \u001b[0;36mhistory\u001b[0;34m(self, bar_count, frequency, field, ffill)\u001b[0m\n\u001b[1;32m    845\u001b[0m         spec_key_str = HistorySpec.spec_key(\n\u001b[1;32m    846\u001b[0m             bar_count, frequency, field, ffill)\n\u001b[0;32m--> 847\u001b[0;31m         \u001b[0mhistory_spec\u001b[0m \u001b[0;34m=\u001b[0m \u001b[0mself\u001b[0m\u001b[0;34m.\u001b[0m\u001b[0mhistory_specs\u001b[0m\u001b[0;34m[\u001b[0m\u001b[0mspec_key_str\u001b[0m\u001b[0;34m]\u001b[0m\u001b[0;34m\u001b[0m\u001b[0m\n\u001b[0m\u001b[1;32m    848\u001b[0m         \u001b[0;32mreturn\u001b[0m \u001b[0mself\u001b[0m\u001b[0;34m.\u001b[0m\u001b[0mhistory_container\u001b[0m\u001b[0;34m.\u001b[0m\u001b[0mget_history\u001b[0m\u001b[0;34m(\u001b[0m\u001b[0mhistory_spec\u001b[0m\u001b[0;34m,\u001b[0m \u001b[0mself\u001b[0m\u001b[0;34m.\u001b[0m\u001b[0mdatetime\u001b[0m\u001b[0;34m)\u001b[0m\u001b[0;34m\u001b[0m\u001b[0m\n\u001b[1;32m    849\u001b[0m \u001b[0;34m\u001b[0m\u001b[0m\n",
      "\u001b[0;31mKeyError\u001b[0m: '70:1d:close_price:True'"
     ]
    }
   ],
   "source": [
    "%matplotlib inline\n",
    "import zipline\n",
    "from scipy import stats\n",
    "from zipline import TradingAlgorithm\n",
    "from zipline.api import order_target, record, symbol, history, add_history\n",
    "from zipline.utils.factory import load_bars_from_yahoo\n",
    "import pandas as pd\n",
    "\n",
    "# Returns the linear regression predicted value for the given \n",
    "# stock N days in advance for the data field, and period.\n",
    "def get_expected(data_field, period, stock, days_advanced):\n",
    "    data = history(bar_count=period, frequency=\"1d\", field=data_field)[stock]\n",
    "    day = len(data)\n",
    "    days = list(range(day))\n",
    "    slope, intercept, r_value, p_value, std_err = stats.linregress(days, data)    \n",
    "    return slope * (day + days_advanced) + intercept\n",
    "\n",
    "\n",
    "# Returns the slope of the linear regression for\n",
    "# the specified data of the given period and security.\n",
    "def get_slope(data_field, period, stock):   \n",
    "    data = history(bar_count=period, frequency=\"1d\", field=data_field)[stock]\n",
    "    days = list(range(len(data)))\n",
    "    slope, intercept, r_value, p_value, std_err = stats.linregress(days, data)\n",
    "    return slope\n",
    "\n",
    "\n",
    "# Put any initialization logic here.  The context object will be passed to\n",
    "# the other methods in your algorithm.\n",
    "def initialize(context):\n",
    "    context.stock = symbol('SPY')\n",
    "\n",
    "# Will be called on every trade event for the securities you specify. \n",
    "def handle_data(context, data):\n",
    "    \n",
    "    PERIOD = 70  # Number of days over which to make expectations.\n",
    "    TRADING_YEAR = 252\n",
    "    \n",
    "    stock = context.stock\n",
    "    stock_data = data[stock]\n",
    "    \n",
    "    expected_close = get_expected(\"close_price\", PERIOD, stock, 1)\n",
    "    expected_open = get_expected(\"open_price\", PERIOD, stock, 1)\n",
    "    expected_high = get_expected(\"high\", PERIOD, stock, 1)\n",
    "    expected_low = get_expected(\"low\", PERIOD, stock, 1)       \n",
    "    \n",
    "    current_close = stock_data.close_price\n",
    "    current_open = stock_data.open_price\n",
    "    current_low = stock_data.low\n",
    "    current_high = stock_data.high\n",
    "    \n",
    "    short_sdev = stock_data.stddev(int(PERIOD / 2))\n",
    "    long_sdev = stock_data.stddev(PERIOD)\n",
    "    \n",
    "    volume_confirmation = get_slope(\"volume\", PERIOD, stock) > 0\n",
    "    \n",
    "    market_type_slope = get_slope(\"close_price\", TRADING_YEAR, stock)\n",
    "    bull = market_type_slope > 0\n",
    "    bear = market_type_slope < 0\n",
    "    \n",
    "    expectations = [expected_close > current_close,\n",
    "                    expected_open > current_open,\n",
    "                    expected_high > current_high,\n",
    "                    expected_low > current_low]    \n",
    "    \n",
    "    # Returns the majority result\n",
    "    probably_buy = max(set(expectations), key=expectations.count)   \n",
    "    \n",
    "    if bull:\n",
    "        if probably_buy:\n",
    "            order_target_percent(stock, 1)        \n",
    "    elif bear:\n",
    "        if probably_buy:\n",
    "            if volume_confirmation:\n",
    "                if short_sdev < long_sdev:\n",
    "                    order_target_percent(stock, 1)\n",
    "                else:\n",
    "                    order_target_percent(stock, 0)\n",
    "        else:\n",
    "            order_target_percent(stock, 0)    \n",
    "\n",
    "\n",
    "end = pd.Timestamp.utcnow()\n",
    "start = end - 2500 * pd.tseries.offsets.BDay()\n",
    "\n",
    "data = load_bars_from_yahoo(stocks=['SPY'],\n",
    "                            start=start, end=end)\n",
    "# Instantinate algorithm        \n",
    "algo = TradingAlgorithm(initialize=initialize, \n",
    "                        handle_data=handle_data)\n",
    "# Run algorithm\n",
    "results = algo.run(data)\n",
    "results.portfolio_value.plot()"
   ]
  },
  {
   "cell_type": "code",
   "execution_count": null,
   "metadata": {
    "collapsed": true
   },
   "outputs": [],
   "source": []
  }
 ],
 "metadata": {
  "kernelspec": {
   "display_name": "Python 2",
   "language": "python",
   "name": "python2"
  },
  "language_info": {
   "codemirror_mode": {
    "name": "ipython",
    "version": 2
   },
   "file_extension": ".py",
   "mimetype": "text/x-python",
   "name": "python",
   "nbconvert_exporter": "python",
   "pygments_lexer": "ipython2",
   "version": "2.7.6"
  }
 },
 "nbformat": 4,
 "nbformat_minor": 0
}
