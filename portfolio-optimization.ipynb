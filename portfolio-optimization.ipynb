{
 "metadata": {
  "name": "",
  "signature": "sha256:751da70b490bdaf1168155e0d6e0dc12418ed04406083a8dd806704ad857f7d6"
 },
 "nbformat": 3,
 "nbformat_minor": 0,
 "worksheets": [
  {
   "cells": [
    {
     "cell_type": "markdown",
     "metadata": {},
     "source": [
      "###Portfolio Optimisation\n",
      "\n",
      "|  Asset | mu   | sigma  |\n",
      "|--------|------|--------|\n",
      "|   A    | 0.04 |  0.07  |\n",
      "|   B    | 0.08 |  0.12  |\n",
      "|   C    | 0.12 |  0.18  |\n",
      "|   D    | 0.15 |  0.26  |\n"
     ]
    },
    {
     "cell_type": "code",
     "collapsed": false,
     "input": [
      "import numpy as NP\n",
      "from numpy import matrix, power\n",
      "from math import sqrt\n",
      "\n",
      "\n",
      "correlation_matrix = matrix([[1,0.2,0.5,0.3],[0.2,1,0.7,0.4],[0.5,0.7,1,0.9],[0.3,0.4,0.9,1]])\n",
      "variance_matrix = NP.array([0.07,0.12,0.18,0.26])\n",
      "variance_matrix_d = NP.diag(variance_matrix)\n",
      "variance_covariance_matrix = variance_matrix_d*correlation_matrix*variance_matrix_d\n",
      "\n",
      "print variance_covariance_matrix\n",
      "\n",
      "mu = matrix([[0.04],[0.08],[0.12],[0.15]])\n",
      "risk_free_rate = 0.03\n",
      " \n",
      "def tangent_portfolio_optimizer(mu_matrix,variance_co_var_matrix,risk_free_rate):\n",
      "    (nr,nc)=variance_co_var_matrix.shape\n",
      "    A=matrix([[0.0] for r in xrange(nr)])\n",
      "    A=(1/variance_co_var_matrix)*(mu_matrix-risk_free_rate)\n",
      "    (nr,nc)=A.shape\n",
      "    A=A/sum(A[r,0] for r in xrange(nr))\n",
      "    w=[A[r,0] for r in xrange(nr)]\n",
      "    pret=mu_matrix.T*A\n",
      "    prsk=power(A.T*(variance_co_var_matrix*A),0.5)\n",
      "    return matrix(w),pret,prsk\n",
      "\n",
      "weights,returns,risk = tangent_portfolio_optimizer(mu,variance_covariance_matrix,risk_free_rate)\n",
      "\n",
      "print(\"Portfolio weights\")\n",
      "print(weights.T)\n",
      " \n",
      "print(\"Expected Portfolio Return and Risk\")\n",
      "print returns\n",
      "print risk\n"
     ],
     "language": "python",
     "metadata": {},
     "outputs": [
      {
       "output_type": "stream",
       "stream": "stdout",
       "text": [
        "[[ 0.0049   0.00168  0.0063   0.00546]\n",
        " [ 0.00168  0.0144   0.01512  0.01248]\n",
        " [ 0.0063   0.01512  0.0324   0.04212]\n",
        " [ 0.00546  0.01248  0.04212  0.0676 ]]\n",
        "Portfolio weights\n",
        "[[ 0.60060618]\n",
        " [ 0.22052817]\n",
        " [ 0.09283506]\n",
        " [ 0.08603059]]\n",
        "Expected Portfolio Return and Risk\n",
        "[[ 0.0657113]]\n",
        "[[ 0.08200422]]\n"
       ]
      }
     ],
     "prompt_number": 10
    },
    {
     "cell_type": "code",
     "collapsed": false,
     "input": [
      "0.60060618 + 0.22052817 + 0.09283506 + 0.08603059"
     ],
     "language": "python",
     "metadata": {},
     "outputs": [
      {
       "metadata": {},
       "output_type": "pyout",
       "prompt_number": 31,
       "text": [
        "1.0"
       ]
      }
     ],
     "prompt_number": 31
    },
    {
     "cell_type": "code",
     "collapsed": false,
     "input": [
      "correlation_matrix = matrix([[1,0.2,0.5,0.3],[0.2,1,0.7,0.4],[0.5,0.7,1,0.9],[0.3,0.4,0.9,1]])\n",
      "variance_matrix = NP.array([0.07,0.12,0.18,0.26])\n",
      "variance_matrix_d = NP.diag(variance_matrix)\n",
      "variance_covariance_matrix = variance_matrix_d*correlation_matrix*variance_matrix_d\n"
     ],
     "language": "python",
     "metadata": {},
     "outputs": []
    },
    {
     "cell_type": "code",
     "collapsed": false,
     "input": [
      "correlation_matrix"
     ],
     "language": "python",
     "metadata": {},
     "outputs": [
      {
       "metadata": {},
       "output_type": "pyout",
       "prompt_number": 41,
       "text": [
        "matrix([[ 1. ,  0.2,  0.5,  0.3],\n",
        "        [ 0.2,  1. ,  0.7,  0.4],\n",
        "        [ 0.5,  0.7,  1. ,  0.9],\n",
        "        [ 0.3,  0.4,  0.9,  1. ]])"
       ]
      }
     ],
     "prompt_number": 41
    },
    {
     "cell_type": "code",
     "collapsed": false,
     "input": [
      "one_matrix = matrix([[1],[1],[1],[1]])"
     ],
     "language": "python",
     "metadata": {},
     "outputs": [],
     "prompt_number": 12
    },
    {
     "cell_type": "code",
     "collapsed": false,
     "input": [
      " from numpy.linalg import inv"
     ],
     "language": "python",
     "metadata": {},
     "outputs": [],
     "prompt_number": 16
    },
    {
     "cell_type": "code",
     "collapsed": false,
     "input": [
      "a = one_matrix.T*inv(variance_covariance_matrix)*one_matrix"
     ],
     "language": "python",
     "metadata": {},
     "outputs": [],
     "prompt_number": 44
    },
    {
     "cell_type": "code",
     "collapsed": false,
     "input": [
      "b = mu.T*inv(variance_covariance_matrix)*one_matrix"
     ],
     "language": "python",
     "metadata": {},
     "outputs": [],
     "prompt_number": 45
    },
    {
     "cell_type": "code",
     "collapsed": false,
     "input": [
      "b"
     ],
     "language": "python",
     "metadata": {},
     "outputs": [
      {
       "metadata": {},
       "output_type": "pyout",
       "prompt_number": 20,
       "text": [
        "matrix([[ 50.58862248]])"
       ]
      }
     ],
     "prompt_number": 20
    },
    {
     "cell_type": "code",
     "collapsed": false,
     "input": [
      "c = mu.T*inv(variance_covariance_matrix)*mu"
     ],
     "language": "python",
     "metadata": {},
     "outputs": [],
     "prompt_number": 46
    },
    {
     "cell_type": "code",
     "collapsed": false,
     "input": [
      "c"
     ],
     "language": "python",
     "metadata": {},
     "outputs": [
      {
       "metadata": {},
       "output_type": "pyout",
       "prompt_number": 23,
       "text": [
        "matrix([[ 1.96129471]])"
       ]
      }
     ],
     "prompt_number": 23
    },
    {
     "cell_type": "code",
     "collapsed": false,
     "input": [
      "((1505.26*0.1) - 50.58)/(1505.26*1.9612 - (50.58)**2)"
     ],
     "language": "python",
     "metadata": {},
     "outputs": [
      {
       "metadata": {},
       "output_type": "pyout",
       "prompt_number": 24,
       "text": [
        "0.2538120876131308"
       ]
      }
     ],
     "prompt_number": 24
    },
    {
     "cell_type": "code",
     "collapsed": false,
     "input": [
      "((1.9612) - (50.58)*(0.1))/(1505.26*1.9612 - (50.58)**2)"
     ],
     "language": "python",
     "metadata": {},
     "outputs": [
      {
       "metadata": {},
       "output_type": "pyout",
       "prompt_number": 32,
       "text": [
        "-0.007864299450906923"
       ]
      }
     ],
     "prompt_number": 32
    },
    {
     "cell_type": "code",
     "collapsed": false,
     "input": [
      "w = inv(variance_covariance_matrix)*( ((0.2538)*mu) -(0.007864299450906923*one_matrix))"
     ],
     "language": "python",
     "metadata": {},
     "outputs": [],
     "prompt_number": 53
    },
    {
     "cell_type": "code",
     "collapsed": false,
     "input": [
      "0.06163214 + 0.7604556  - 0.3236144  + 0.50309677 "
     ],
     "language": "python",
     "metadata": {},
     "outputs": [
      {
       "metadata": {},
       "output_type": "pyout",
       "prompt_number": 38,
       "text": [
        "1.0015701099999998"
       ]
      }
     ],
     "prompt_number": 38
    },
    {
     "cell_type": "code",
     "collapsed": false,
     "input": [
      "m"
     ],
     "language": "python",
     "metadata": {},
     "outputs": [
      {
       "metadata": {},
       "output_type": "pyout",
       "prompt_number": 52,
       "text": [
        "0.1"
       ]
      }
     ],
     "prompt_number": 52
    },
    {
     "cell_type": "code",
     "collapsed": false,
     "input": [
      "m = .1"
     ],
     "language": "python",
     "metadata": {},
     "outputs": [],
     "prompt_number": 42
    },
    {
     "cell_type": "code",
     "collapsed": false,
     "input": [
      "(a*(m**2) - 2*b*m + c)/((a*c) - (b**2))"
     ],
     "language": "python",
     "metadata": {},
     "outputs": [
      {
       "metadata": {},
       "output_type": "pyout",
       "prompt_number": 47,
       "text": [
        "matrix([[ 0.01754523]])"
       ]
      }
     ],
     "prompt_number": 47
    },
    {
     "cell_type": "code",
     "collapsed": false,
     "input": [
      "sqrt(w.T*variance_covariance_matrix*w)"
     ],
     "language": "python",
     "metadata": {},
     "outputs": [
      {
       "metadata": {},
       "output_type": "pyout",
       "prompt_number": 56,
       "text": [
        "0.13223549666822929"
       ]
      }
     ],
     "prompt_number": 56
    },
    {
     "cell_type": "code",
     "collapsed": false,
     "input": [
      "r = 0.03"
     ],
     "language": "python",
     "metadata": {},
     "outputs": [],
     "prompt_number": 57
    },
    {
     "cell_type": "code",
     "collapsed": false,
     "input": [
      "(c - (b*r))/(b - (a*r))"
     ],
     "language": "python",
     "metadata": {},
     "outputs": [
      {
       "metadata": {},
       "output_type": "pyout",
       "prompt_number": 58,
       "text": [
        "matrix([[ 0.08168895]])"
       ]
      }
     ],
     "prompt_number": 58
    },
    {
     "cell_type": "code",
     "collapsed": false,
     "input": [
      "sqrt((c - (2*b*r) + a*(r**2))/(b - (a*r))**2)"
     ],
     "language": "python",
     "metadata": {},
     "outputs": [
      {
       "metadata": {},
       "output_type": "pyout",
       "prompt_number": 60,
       "text": [
        "0.09755894523577956"
       ]
      }
     ],
     "prompt_number": 60
    },
    {
     "cell_type": "code",
     "collapsed": false,
     "input": [
      "%matplotlib inline\n",
      "import numpy as np\n",
      "import matplotlib.pyplot as plt\n",
      "import cvxopt as opt\n",
      "from cvxopt import blas, solvers\n",
      "import pandas as pd"
     ],
     "language": "python",
     "metadata": {},
     "outputs": [],
     "prompt_number": 4
    },
    {
     "cell_type": "code",
     "collapsed": false,
     "input": [
      "from zipline.utils.factory import load_bars_from_yahoo\n",
      "end = pd.Timestamp.utcnow()\n",
      "start = end - 2500 * pd.tseries.offsets.BDay()\n",
      "\n",
      "data = load_bars_from_yahoo(stocks=['IBM', 'GLD', 'XOM', 'AAPL', \n",
      "                                    'MSFT', 'TLT', 'SHY'],\n",
      "                            start=start, end=end)\n",
      "\n",
      "\n",
      "data.loc[:, :, 'price'].plot(figsize=(8,5))\n",
      "plt.ylabel('price in $')\n",
      "\n"
     ],
     "language": "python",
     "metadata": {},
     "outputs": [
      {
       "output_type": "stream",
       "stream": "stdout",
       "text": [
        "IBM\n",
        "GLD"
       ]
      },
      {
       "output_type": "stream",
       "stream": "stdout",
       "text": [
        "\n",
        "XOM"
       ]
      },
      {
       "output_type": "stream",
       "stream": "stdout",
       "text": [
        "\n",
        "AAPL"
       ]
      },
      {
       "output_type": "stream",
       "stream": "stdout",
       "text": [
        "\n",
        "MSFT"
       ]
      },
      {
       "output_type": "stream",
       "stream": "stdout",
       "text": [
        "\n",
        "TLT"
       ]
      },
      {
       "output_type": "stream",
       "stream": "stdout",
       "text": [
        "\n",
        "SHY"
       ]
      },
      {
       "output_type": "stream",
       "stream": "stdout",
       "text": [
        "\n"
       ]
      },
      {
       "metadata": {},
       "output_type": "pyout",
       "prompt_number": 5,
       "text": [
        "<matplotlib.text.Text at 0x107008610>"
       ]
      },
      {
       "metadata": {},
       "output_type": "display_data",
       "png": "[encoded data removed]",
       "text": [
        "<matplotlib.figure.Figure at 0x106f9bbd0>"
       ]
      }
     ],
     "prompt_number": 5
    },
    {
     "cell_type": "code",
     "collapsed": false,
     "input": [],
     "language": "python",
     "metadata": {},
     "outputs": []
    }
   ],
   "metadata": {}
  }
 ]
}