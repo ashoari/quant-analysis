{
 "cells": [
  {
   "cell_type": "code",
   "execution_count": 117,
   "metadata": {
    "collapsed": false
   },
   "outputs": [],
   "source": [
    "import pandas as pd\n",
    "import quandl\n",
    "import numpy as np\n",
    "import matplotlib\n",
    "\n",
    "#startdate=raw_input('what is the start date of the analysis YYYY-MM-DD?')\n",
    "#stopdate=raw_input(\"what is the stop date of the analysis  YYYY-MM-DD?\")\n",
    "\n",
    "quandl.ApiConfig.api_key = 'gC2qhvaCj8ha4M8vyfqC'\n",
    "#data = quandl.get('NSE/OIL')\n",
    "#data.head() # get all data\n",
    "oil = quandl.get('NSE/OIL', start_date='2016-01-01', end_date='2016-07-17',\n",
    "                  collapse='daily', transformation='rdiff',\n",
    "                  column_index=4) # Use “transform=none|diff|rdiff|cumul|normalize” to get changes, % changes, cumulative sums, or returns from 100 \n",
    "\n",
    "oilchanges = quandl.get('NSE/OIL', start_date='2016-01-01', end_date='2016-07-17',\n",
    "                  collapse='daily', transformation='rdiff',\n",
    "                  column_index=5) # Use “transform=none|diff|rdiff|cumul|normalize” to get changes, % changes, cumulative sums, or returns from 100 \n",
    "\n",
    "oilpercentchanges = quandl.get('NSE/OIL', start_date='2016-01-01', end_date='2016-07-17',\n",
    "                  collapse='daily', transformation='rdiff',\n",
    "                  rows=50,column_index=5) # Use “transform=none|diff|rdiff|cumul|normalize” to get changes, % changes, cumulative sums, or returns from 100 \n",
    "\n",
    "\n",
    "comp1 = quandl.get('wiki/BP', start_date='2016-01-01', end_date='2016-07-17',\n",
    "                  collapse='daily', transformation='rdiff',\n",
    "                  column_index=4) # return only first 5 rows\n",
    "\n",
    "#oilchangesList = oilchanges['Close'].tolist()\n",
    "oilchangesClose=oilchanges['Close']\n",
    "oilchangesVec=oilchangesClose.values\n",
    "oilchangesInd=np.sign(oilchangesVec)\n",
    "\n",
    "\n",
    "comp1changesClose=comp1['Close']\n",
    "comp1Vec=comp1changesClose.values\n",
    "comp1Ind=np.sign(comp1Vec)\n",
    "\n",
    "for dt in oilchangesClose['Date']:\n",
    "    \n",
    "#correlator=np.dot(comp1Ind,oilchangesInd)"
   ]
  },
  {
   "cell_type": "code",
   "execution_count": 111,
   "metadata": {
    "collapsed": false
   },
   "outputs": [
    {
     "data": {
      "text/plain": [
       "Date\n",
       "2016-01-04     9.90\n",
       "2016-01-05     3.35\n",
       "2016-01-06    -2.55\n",
       "2016-01-07   -11.35\n",
       "2016-01-08     5.45\n",
       "2016-01-11   -17.60\n",
       "2016-01-12    -1.85\n",
       "2016-01-13   -11.60\n",
       "2016-01-14    -4.75\n",
       "2016-01-15    -2.90\n",
       "2016-01-18    -8.15\n",
       "2016-01-19    -3.85\n",
       "2016-01-20    -3.30\n",
       "2016-01-21    -6.15\n",
       "2016-01-22    10.30\n",
       "2016-01-25     2.05\n",
       "2016-01-27     1.00\n",
       "2016-01-28     1.20\n",
       "2016-01-29     3.30\n",
       "2016-02-01     4.50\n",
       "2016-02-02    -8.65\n",
       "2016-02-03    -7.50\n",
       "2016-02-04     1.65\n",
       "2016-02-05    -0.05\n",
       "2016-02-08    -5.65\n",
       "2016-02-09     3.25\n",
       "2016-02-10    -7.45\n",
       "2016-02-11    -4.90\n",
       "2016-02-12   -11.00\n",
       "2016-02-15     7.25\n",
       "              ...  \n",
       "2016-06-03    -1.50\n",
       "2016-06-06    -2.05\n",
       "2016-06-07     2.90\n",
       "2016-06-08    -0.70\n",
       "2016-06-09     7.35\n",
       "2016-06-10    -0.70\n",
       "2016-06-13    -7.95\n",
       "2016-06-14     0.00\n",
       "2016-06-15    -0.40\n",
       "2016-06-16     2.00\n",
       "2016-06-17    -1.75\n",
       "2016-06-20     2.45\n",
       "2016-06-21     4.55\n",
       "2016-06-22     1.05\n",
       "2016-06-23     1.35\n",
       "2016-06-24   -11.00\n",
       "2016-06-27     0.20\n",
       "2016-06-28    -2.40\n",
       "2016-06-29     5.55\n",
       "2016-06-30     0.60\n",
       "2016-07-01    11.35\n",
       "2016-07-04     9.05\n",
       "2016-07-05     1.70\n",
       "2016-07-07    -5.95\n",
       "2016-07-08    -7.70\n",
       "2016-07-11     3.70\n",
       "2016-07-12     1.10\n",
       "2016-07-13     6.05\n",
       "2016-07-14    -3.00\n",
       "2016-07-15     5.95\n",
       "Name: Close, dtype: float64"
      ]
     },
     "execution_count": 111,
     "metadata": {},
     "output_type": "execute_result"
    }
   ],
   "source": [
    "oilchangesClose"
   ]
  },
  {
   "cell_type": "code",
   "execution_count": 119,
   "metadata": {
    "collapsed": false
   },
   "outputs": [
    {
     "data": {
      "text/plain": [
       "132"
      ]
     },
     "execution_count": 119,
     "metadata": {},
     "output_type": "execute_result"
    }
   ],
   "source": [
    "len(oilchangesInd)"
   ]
  },
  {
   "cell_type": "code",
   "execution_count": 48,
   "metadata": {
    "collapsed": false
   },
   "outputs": [
    {
     "ename": "NameError",
     "evalue": "name 'raw_input' is not defined",
     "output_type": "error",
     "traceback": [
      "\u001b[1;31m---------------------------------------------------------------------------\u001b[0m",
      "\u001b[1;31mNameError\u001b[0m                                 Traceback (most recent call last)",
      "\u001b[1;32m<ipython-input-48-a5d8129718aa>\u001b[0m in \u001b[0;36m<module>\u001b[1;34m()\u001b[0m\n\u001b[1;32m----> 1\u001b[1;33m \u001b[0mstartdate\u001b[0m\u001b[1;33m=\u001b[0m\u001b[0mraw_input\u001b[0m\u001b[1;33m(\u001b[0m\u001b[1;33m)\u001b[0m\u001b[1;33m\u001b[0m\u001b[0m\n\u001b[0m",
      "\u001b[1;31mNameError\u001b[0m: name 'raw_input' is not defined"
     ]
    }
   ],
   "source": [
    "startdate=raw_input()"
   ]
  },
  {
   "cell_type": "code",
   "execution_count": null,
   "metadata": {
    "collapsed": true
   },
   "outputs": [],
   "source": [
    "raw_input"
   ]
  }
 ],
 "metadata": {
  "kernelspec": {
   "display_name": "Python [Root]",
   "language": "python",
   "name": "Python [Root]"
  },
  "language_info": {
   "codemirror_mode": {
    "name": "ipython",
    "version": 3
   },
   "file_extension": ".py",
   "mimetype": "text/x-python",
   "name": "python",
   "nbconvert_exporter": "python",
   "pygments_lexer": "ipython3",
   "version": "3.5.1"
  }
 },
 "nbformat": 4,
 "nbformat_minor": 0
}
