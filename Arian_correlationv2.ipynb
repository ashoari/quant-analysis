{
 "cells": [
  {
   "cell_type": "code",
   "execution_count": 96,
   "metadata": {
    "collapsed": false
   },
   "outputs": [],
   "source": [
    "import pandas as pd\n",
    "import quandl\n",
    "import numpy as np\n",
    "import matplotlib\n",
    "\n",
    "#startdate=raw_input('what is the start date of the analysis YYYY-MM-DD?')\n",
    "#stopdate=raw_input(\"what is the stop date of the analysis  YYYY-MM-DD?\")\n",
    "\n",
    "quandl.ApiConfig.api_key = 'gC2qhvaCj8ha4M8vyfqC'\n",
    "#data = quandl.get('NSE/OIL')\n",
    "#data.head() # get all data\n",
    "oil = quandl.get('NSE/OIL', start_date='2016-01-01', end_date='2016-07-17',\n",
    "                  collapse='daily', transformation='none',\n",
    "                  rows=5,column_index=4) # Use “transform=none|diff|rdiff|cumul|normalize” to get changes, % changes, cumulative sums, or returns from 100 \n",
    "\n",
    "oilchanges = quandl.get('NSE/OIL', start_date='2016-01-01', end_date='2016-07-17',\n",
    "                  collapse='daily', transformation='diff',\n",
    "                  rows=5,column_index=5) # Use “transform=none|diff|rdiff|cumul|normalize” to get changes, % changes, cumulative sums, or returns from 100 \n",
    "\n",
    "oilpercentchanges = quandl.get('NSE/OIL', start_date='2016-01-01', end_date='2016-07-17',\n",
    "                  collapse='daily', transformation='rdiff',\n",
    "                  rows=5,column_index=5) # Use “transform=none|diff|rdiff|cumul|normalize” to get changes, % changes, cumulative sums, or returns from 100 \n",
    "\n",
    "\n",
    "comp1 = quandl.get('wiki/BP', start_date='2016-01-01', end_date='2016-07-17',\n",
    "                  collapse='daily', transformation='rdiff',\n",
    "                  rows=5,column_index=4) # return only first 5 rows\n",
    "\n",
    "#oilchangesList = oilchanges['Close'].tolist()\n",
    "oilchangesClose=oilchanges['Close']\n",
    "oilchangesVec=oilchangesClose.values\n",
    "oilchangesInd=np.sign(oilchangesVec)\n",
    "\n",
    "\n",
    "comp1changesClose=comp1['Close']\n",
    "comp1Vec=comp1changesClose.values\n",
    "comp1Ind=np.sign(comp1Vec)\n",
    "\n",
    "correlator=np.dot(comp1Ind,"
   ]
  },
  {
   "cell_type": "code",
   "execution_count": 98,
   "metadata": {
    "collapsed": false
   },
   "outputs": [
    {
     "data": {
      "text/plain": [
       "array([ 1.,  1., -1., -1.,  1.])"
      ]
     },
     "execution_count": 98,
     "metadata": {},
     "output_type": "execute_result"
    }
   ],
   "source": [
    "oilchangesInd"
   ]
  },
  {
   "cell_type": "code",
   "execution_count": 83,
   "metadata": {
    "collapsed": false
   },
   "outputs": [
    {
     "data": {
      "text/plain": [
       "array([  9.9 ,   3.35,  -2.55, -11.35,   5.45])"
      ]
     },
     "execution_count": 83,
     "metadata": {},
     "output_type": "execute_result"
    }
   ],
   "source": [
    "oilchangesVec"
   ]
  },
  {
   "cell_type": "code",
   "execution_count": 48,
   "metadata": {
    "collapsed": false
   },
   "outputs": [
    {
     "ename": "NameError",
     "evalue": "name 'raw_input' is not defined",
     "output_type": "error",
     "traceback": [
      "\u001b[1;31m---------------------------------------------------------------------------\u001b[0m",
      "\u001b[1;31mNameError\u001b[0m                                 Traceback (most recent call last)",
      "\u001b[1;32m<ipython-input-48-a5d8129718aa>\u001b[0m in \u001b[0;36m<module>\u001b[1;34m()\u001b[0m\n\u001b[1;32m----> 1\u001b[1;33m \u001b[0mstartdate\u001b[0m\u001b[1;33m=\u001b[0m\u001b[0mraw_input\u001b[0m\u001b[1;33m(\u001b[0m\u001b[1;33m)\u001b[0m\u001b[1;33m\u001b[0m\u001b[0m\n\u001b[0m",
      "\u001b[1;31mNameError\u001b[0m: name 'raw_input' is not defined"
     ]
    }
   ],
   "source": [
    "startdate=raw_input()"
   ]
  },
  {
   "cell_type": "code",
   "execution_count": null,
   "metadata": {
    "collapsed": true
   },
   "outputs": [],
   "source": [
    "raw_input"
   ]
  }
 ],
 "metadata": {
  "kernelspec": {
   "display_name": "Python [Root]",
   "language": "python",
   "name": "Python [Root]"
  },
  "language_info": {
   "codemirror_mode": {
    "name": "ipython",
    "version": 3
   },
   "file_extension": ".py",
   "mimetype": "text/x-python",
   "name": "python",
   "nbconvert_exporter": "python",
   "pygments_lexer": "ipython3",
   "version": "3.5.1"
  }
 },
 "nbformat": 4,
 "nbformat_minor": 0
}
