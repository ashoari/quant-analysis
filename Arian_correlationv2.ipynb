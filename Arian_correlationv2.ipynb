{
 "cells": [
  {
   "cell_type": "code",
   "execution_count": 122,
   "metadata": {
    "collapsed": false
   },
   "outputs": [],
   "source": [
    "import pandas as pd\n",
    "import quandl\n",
    "import numpy as np\n",
    "import matplotlib as plt\n",
    "\n",
    "#startdate=raw_input('what is the start date of the analysis YYYY-MM-DD?')\n",
    "#stopdate=raw_input(\"what is the stop date of the analysis  YYYY-MM-DD?\")\n",
    "\n",
    "quandl.ApiConfig.api_key = 'gC2qhvaCj8ha4M8vyfqC'\n",
    "#data = quandl.get('NSE/OIL')\n",
    "#data.head() # get all data\n",
    "oil = quandl.get('NSE/OIL', start_date='2016-01-01', end_date='2016-07-17',\n",
    "                  collapse='daily', transformation='rdiff',\n",
    "                  column_index=4) # Use “transform=none|diff|rdiff|cumul|normalize” to get changes, % changes, cumulative sums, or returns from 100 \n",
    "\n",
    "oilchanges = quandl.get('NSE/OIL', start_date='2016-01-01', end_date='2016-07-17',\n",
    "                  collapse='daily', transformation='rdiff',\n",
    "                  column_index=5) # Use “transform=none|diff|rdiff|cumul|normalize” to get changes, % changes, cumulative sums, or returns from 100 \n",
    "\n",
    "oilpercentchanges = quandl.get('NSE/OIL', start_date='2016-01-01', end_date='2016-07-17',\n",
    "                  collapse='daily', transformation='rdiff',\n",
    "                  rows=50,column_index=5) # Use “transform=none|diff|rdiff|cumul|normalize” to get changes, % changes, cumulative sums, or returns from 100 \n",
    "\n",
    "\n",
    "comp1 = quandl.get('wiki/BP', start_date='2016-01-01', end_date='2016-07-17',\n",
    "                  collapse='daily', transformation='rdiff',\n",
    "                  column_index=4) # return only first 5 rows\n",
    "\n",
    "#oilchangesList = oilchanges['Close'].tolist()\n",
    "oilchangesClose=oilchanges['Close']\n",
    "oilchangesVec=oilchangesClose.values\n",
    "oilchangesInd=np.sign(oilchangesVec)\n",
    "\n",
    "\n",
    "comp1changesClose=comp1['Close']\n",
    "comp1Vec=comp1changesClose.values\n",
    "comp1Ind=np.sign(comp1Vec)\n",
    "\n",
    "#corr=0;\n",
    "#for dt in oilchangesClose['Date']:\n",
    "    \n",
    "    \n",
    "#correlator=np.dot(comp1Ind,oilchangesInd)"
   ]
  },
  {
   "cell_type": "code",
   "execution_count": 120,
   "metadata": {
    "collapsed": false,
    "scrolled": false
   },
   "outputs": [
    {
     "data": {
      "text/plain": [
       "<matplotlib.axes._subplots.AxesSubplot at 0x9410da0>"
      ]
     },
     "execution_count": 120,
     "metadata": {},
     "output_type": "execute_result"
    }
   ],
   "source": [
    "comp1changesClose.plot()"
   ]
  },
  {
   "cell_type": "code",
   "execution_count": 123,
   "metadata": {
    "collapsed": false
   },
   "outputs": [
    {
     "data": {
      "text/plain": [
       "<matplotlib.axes._subplots.AxesSubplot at 0x9410da0>"
      ]
     },
     "execution_count": 123,
     "metadata": {},
     "output_type": "execute_result"
    }
   ],
   "source": [
    "comp1changesClose.plot()"
   ]
  },
  {
   "cell_type": "code",
   "execution_count": 124,
   "metadata": {
    "collapsed": false
   },
   "outputs": [
    {
     "data": {
      "text/plain": [
       "134"
      ]
     },
     "execution_count": 124,
     "metadata": {},
     "output_type": "execute_result"
    }
   ],
   "source": [
    "len(comp1changesClose)"
   ]
  },
  {
   "cell_type": "code",
   "execution_count": null,
   "metadata": {
    "collapsed": true
   },
   "outputs": [],
   "source": []
  }
 ],
 "metadata": {
  "kernelspec": {
   "display_name": "Python [Root]",
   "language": "python",
   "name": "Python [Root]"
  },
  "language_info": {
   "codemirror_mode": {
    "name": "ipython",
    "version": 3
   },
   "file_extension": ".py",
   "mimetype": "text/x-python",
   "name": "python",
   "nbconvert_exporter": "python",
   "pygments_lexer": "ipython3",
   "version": "3.5.1"
  }
 },
 "nbformat": 4,
 "nbformat_minor": 0
}
