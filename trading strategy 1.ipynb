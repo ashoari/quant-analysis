{
 "cells": [
  {
   "cell_type": "code",
   "execution_count": 1,
   "metadata": {
    "collapsed": false
   },
   "outputs": [
    {
     "ename": "ImportError",
     "evalue": "No module named 'zipline'",
     "output_type": "error",
     "traceback": [
      "\u001b[1;31m---------------------------------------------------------------------------\u001b[0m",
      "\u001b[1;31mImportError\u001b[0m                               Traceback (most recent call last)",
      "\u001b[1;32m<ipython-input-1-0a6a8142e469>\u001b[0m in \u001b[0;36m<module>\u001b[1;34m()\u001b[0m\n\u001b[0;32m      1\u001b[0m \u001b[0mget_ipython\u001b[0m\u001b[1;33m(\u001b[0m\u001b[1;33m)\u001b[0m\u001b[1;33m.\u001b[0m\u001b[0mmagic\u001b[0m\u001b[1;33m(\u001b[0m\u001b[1;34m'matplotlib inline'\u001b[0m\u001b[1;33m)\u001b[0m\u001b[1;33m\u001b[0m\u001b[0m\n\u001b[1;32m----> 2\u001b[1;33m \u001b[1;32mimport\u001b[0m \u001b[0mzipline\u001b[0m\u001b[1;33m\u001b[0m\u001b[0m\n\u001b[0m\u001b[0;32m      3\u001b[0m \u001b[1;32mfrom\u001b[0m \u001b[0mscipy\u001b[0m \u001b[1;32mimport\u001b[0m \u001b[0mstats\u001b[0m\u001b[1;33m\u001b[0m\u001b[0m\n\u001b[0;32m      4\u001b[0m \u001b[1;32mfrom\u001b[0m \u001b[0mzipline\u001b[0m \u001b[1;32mimport\u001b[0m \u001b[0mTradingAlgorithm\u001b[0m\u001b[1;33m\u001b[0m\u001b[0m\n\u001b[0;32m      5\u001b[0m \u001b[1;32mfrom\u001b[0m \u001b[0mzipline\u001b[0m\u001b[1;33m.\u001b[0m\u001b[0mapi\u001b[0m \u001b[1;32mimport\u001b[0m \u001b[0morder_target\u001b[0m\u001b[1;33m,\u001b[0m \u001b[0mrecord\u001b[0m\u001b[1;33m,\u001b[0m \u001b[0msymbol\u001b[0m\u001b[1;33m,\u001b[0m \u001b[0mhistory\u001b[0m\u001b[1;33m,\u001b[0m \u001b[0madd_history\u001b[0m\u001b[1;33m\u001b[0m\u001b[0m\n",
      "\u001b[1;31mImportError\u001b[0m: No module named 'zipline'"
     ]
    }
   ],
   "source": [
    "%matplotlib inline\n",
    "import zipline\n",
    "from scipy import stats\n",
    "from zipline import TradingAlgorithm\n",
    "from zipline.api import order_target, record, symbol, history, add_history\n",
    "\n",
    "# Returns the linear regression predicted value for the given \n",
    "# stock N days in advance for the data field, and period.\n",
    "def get_expected(data_field, period, stock, days_advanced):\n",
    "    data = history(bar_count=period, frequency=\"1d\", field=data_field)[stock]\n",
    "    day = len(data)\n",
    "    days = list(range(day))\n",
    "    slope, intercept, r_value, p_value, std_err = stats.linregress(days, data)    \n",
    "    return slope * (day + days_advanced) + intercept\n",
    "\n",
    "\n",
    "# Returns the slope of the linear regression for\n",
    "# the specified data of the given period and security.\n",
    "def get_slope(data_field, period, stock):   \n",
    "    data = history(bar_count=period, frequency=\"1d\", field=data_field)[stock]\n",
    "    days = list(range(len(data)))\n",
    "    slope, intercept, r_value, p_value, std_err = stats.linregress(days, data)\n",
    "    return slope\n",
    "\n",
    "\n",
    "# Put any initialization logic here.  The context object will be passed to\n",
    "# the other methods in your algorithm.\n",
    "def initialize(context):\n",
    "    context.stock = symbol('SPY')\n",
    "    set_benchmark(context.stock)\n",
    "\n",
    "\n",
    "# Will be called on every trade event for the securities you specify. \n",
    "def handle_data(context, data):\n",
    "    \n",
    "    if get_open_orders(context.stock):\n",
    "        return\n",
    "    \n",
    "    PERIOD = 70  # Number of days over which to make expectations.\n",
    "    TRADING_YEAR = 252\n",
    "    \n",
    "    stock = context.stock\n",
    "    stock_data = data[stock]\n",
    "    \n",
    "    expected_close = get_expected(\"close_price\", PERIOD, stock, 1)\n",
    "    expected_open = get_expected(\"open_price\", PERIOD, stock, 1)\n",
    "    expected_high = get_expected(\"high\", PERIOD, stock, 1)\n",
    "    expected_low = get_expected(\"low\", PERIOD, stock, 1)       \n",
    "    \n",
    "    current_close = stock_data.close_price\n",
    "    current_open = stock_data.open_price\n",
    "    current_low = stock_data.low\n",
    "    current_high = stock_data.high\n",
    "    \n",
    "    short_sdev = stock_data.stddev(int(PERIOD / 2))\n",
    "    long_sdev = stock_data.stddev(PERIOD)\n",
    "    \n",
    "    volume_confirmation = get_slope(\"volume\", PERIOD, stock) > 0\n",
    "    \n",
    "    market_type_slope = get_slope(\"close_price\", TRADING_YEAR, stock)\n",
    "    bull = market_type_slope > 0\n",
    "    bear = market_type_slope < 0\n",
    "    \n",
    "    expectations = [expected_close > current_close,\n",
    "                    expected_open > current_open,\n",
    "                    expected_high > current_high,\n",
    "                    expected_low > current_low]    \n",
    "    \n",
    "    # Returns the majority result\n",
    "    probably_buy = max(set(expectations), key=expectations.count)   \n",
    "    \n",
    "    if bull:\n",
    "        if probably_buy:\n",
    "            order_target_percent(stock, 1)        \n",
    "    elif bear:\n",
    "        if probably_buy:\n",
    "            if volume_confirmation:\n",
    "                if short_sdev < long_sdev:\n",
    "                    order_target_percent(stock, 1)\n",
    "                else:\n",
    "                    order_target_percent(stock, 0)\n",
    "        else:\n",
    "            order_target_percent(stock, 0)    \n",
    "\n",
    "# Instantinate algorithm        \n",
    "algo = TradingAlgorithm(initialize=initialize, \n",
    "                        handle_data=handle_data)\n",
    "# Run algorithm\n",
    "results = algo.run(data)\n",
    "results.portfolio_value.plot()"
   ]
  },
  {
   "cell_type": "code",
   "execution_count": null,
   "metadata": {
    "collapsed": true
   },
   "outputs": [],
   "source": []
  }
 ],
 "metadata": {
  "anaconda-cloud": {},
  "kernelspec": {
   "display_name": "Python [Root]",
   "language": "python",
   "name": "Python [Root]"
  },
  "language_info": {
   "codemirror_mode": {
    "name": "ipython",
    "version": 3
   },
   "file_extension": ".py",
   "mimetype": "text/x-python",
   "name": "python",
   "nbconvert_exporter": "python",
   "pygments_lexer": "ipython3",
   "version": "3.5.1"
  }
 },
 "nbformat": 4,
 "nbformat_minor": 0
}
