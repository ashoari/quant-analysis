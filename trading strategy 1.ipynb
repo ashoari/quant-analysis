{
 "cells": [
  {
   "cell_type": "code",
   "execution_count": 2,
   "metadata": {
    "collapsed": false
   },
   "outputs": [
    {
     "ename": "NameError",
     "evalue": "global name 'set_benchmark' is not defined",
     "output_type": "error",
     "traceback": [
      "\u001b[0;31m---------------------------------------------------------------------------\u001b[0m",
      "\u001b[0;31mNameError\u001b[0m                                 Traceback (most recent call last)",
      "\u001b[0;32m<ipython-input-2-e12f11cb4025>\u001b[0m in \u001b[0;36m<module>\u001b[0;34m()\u001b[0m\n\u001b[1;32m     85\u001b[0m \u001b[0;31m# Instantinate algorithm\u001b[0m\u001b[0;34m\u001b[0m\u001b[0;34m\u001b[0m\u001b[0m\n\u001b[1;32m     86\u001b[0m algo = TradingAlgorithm(initialize=initialize, \n\u001b[0;32m---> 87\u001b[0;31m                         handle_data=handle_data)\n\u001b[0m\u001b[1;32m     88\u001b[0m \u001b[0;31m# Run algorithm\u001b[0m\u001b[0;34m\u001b[0m\u001b[0;34m\u001b[0m\u001b[0m\n\u001b[1;32m     89\u001b[0m \u001b[0mresults\u001b[0m \u001b[0;34m=\u001b[0m \u001b[0malgo\u001b[0m\u001b[0;34m.\u001b[0m\u001b[0mrun\u001b[0m\u001b[0;34m(\u001b[0m\u001b[0mdata\u001b[0m\u001b[0;34m)\u001b[0m\u001b[0;34m\u001b[0m\u001b[0m\n",
      "\u001b[0;32m/Library/Python/2.7/site-packages/zipline/algorithm.pyc\u001b[0m in \u001b[0;36m__init__\u001b[0;34m(self, *args, **kwargs)\u001b[0m\n\u001b[1;32m    208\u001b[0m         \u001b[0;31m# is manually set to False.\u001b[0m\u001b[0;34m\u001b[0m\u001b[0;34m\u001b[0m\u001b[0m\n\u001b[1;32m    209\u001b[0m         \u001b[0mself\u001b[0m\u001b[0;34m.\u001b[0m\u001b[0minitialized\u001b[0m \u001b[0;34m=\u001b[0m \u001b[0mFalse\u001b[0m\u001b[0;34m\u001b[0m\u001b[0m\n\u001b[0;32m--> 210\u001b[0;31m         \u001b[0mself\u001b[0m\u001b[0;34m.\u001b[0m\u001b[0minitialize\u001b[0m\u001b[0;34m(\u001b[0m\u001b[0;34m*\u001b[0m\u001b[0margs\u001b[0m\u001b[0;34m,\u001b[0m \u001b[0;34m**\u001b[0m\u001b[0mkwargs\u001b[0m\u001b[0;34m)\u001b[0m\u001b[0;34m\u001b[0m\u001b[0m\n\u001b[0m\u001b[1;32m    211\u001b[0m         \u001b[0;32mif\u001b[0m \u001b[0mself\u001b[0m\u001b[0;34m.\u001b[0m\u001b[0mAUTO_INITIALIZE\u001b[0m\u001b[0;34m:\u001b[0m\u001b[0;34m\u001b[0m\u001b[0m\n\u001b[1;32m    212\u001b[0m             \u001b[0mself\u001b[0m\u001b[0;34m.\u001b[0m\u001b[0minitialized\u001b[0m \u001b[0;34m=\u001b[0m \u001b[0mTrue\u001b[0m\u001b[0;34m\u001b[0m\u001b[0m\n",
      "\u001b[0;32m/Library/Python/2.7/site-packages/zipline/algorithm.pyc\u001b[0m in \u001b[0;36minitialize\u001b[0;34m(self, *args, **kwargs)\u001b[0m\n\u001b[1;32m    218\u001b[0m         \"\"\"\n\u001b[1;32m    219\u001b[0m         \u001b[0;32mwith\u001b[0m \u001b[0mZiplineAPI\u001b[0m\u001b[0;34m(\u001b[0m\u001b[0mself\u001b[0m\u001b[0;34m)\u001b[0m\u001b[0;34m:\u001b[0m\u001b[0;34m\u001b[0m\u001b[0m\n\u001b[0;32m--> 220\u001b[0;31m             \u001b[0mself\u001b[0m\u001b[0;34m.\u001b[0m\u001b[0m_initialize\u001b[0m\u001b[0;34m(\u001b[0m\u001b[0mself\u001b[0m\u001b[0;34m)\u001b[0m\u001b[0;34m\u001b[0m\u001b[0m\n\u001b[0m\u001b[1;32m    221\u001b[0m \u001b[0;34m\u001b[0m\u001b[0m\n\u001b[1;32m    222\u001b[0m     \u001b[0;32mdef\u001b[0m \u001b[0mhandle_data\u001b[0m\u001b[0;34m(\u001b[0m\u001b[0mself\u001b[0m\u001b[0;34m,\u001b[0m \u001b[0mdata\u001b[0m\u001b[0;34m)\u001b[0m\u001b[0;34m:\u001b[0m\u001b[0;34m\u001b[0m\u001b[0m\n",
      "\u001b[0;32m<ipython-input-2-e12f11cb4025>\u001b[0m in \u001b[0;36minitialize\u001b[0;34m(context)\u001b[0m\n\u001b[1;32m     28\u001b[0m \u001b[0;32mdef\u001b[0m \u001b[0minitialize\u001b[0m\u001b[0;34m(\u001b[0m\u001b[0mcontext\u001b[0m\u001b[0;34m)\u001b[0m\u001b[0;34m:\u001b[0m\u001b[0;34m\u001b[0m\u001b[0m\n\u001b[1;32m     29\u001b[0m     \u001b[0mcontext\u001b[0m\u001b[0;34m.\u001b[0m\u001b[0mstock\u001b[0m \u001b[0;34m=\u001b[0m \u001b[0msymbol\u001b[0m\u001b[0;34m(\u001b[0m\u001b[0;34m'SPY'\u001b[0m\u001b[0;34m)\u001b[0m\u001b[0;34m\u001b[0m\u001b[0m\n\u001b[0;32m---> 30\u001b[0;31m     \u001b[0mset_benchmark\u001b[0m\u001b[0;34m(\u001b[0m\u001b[0mcontext\u001b[0m\u001b[0;34m.\u001b[0m\u001b[0mstock\u001b[0m\u001b[0;34m)\u001b[0m\u001b[0;34m\u001b[0m\u001b[0m\n\u001b[0m\u001b[1;32m     31\u001b[0m \u001b[0;34m\u001b[0m\u001b[0m\n\u001b[1;32m     32\u001b[0m \u001b[0;34m\u001b[0m\u001b[0m\n",
      "\u001b[0;31mNameError\u001b[0m: global name 'set_benchmark' is not defined"
     ]
    }
   ],
   "source": [
    "%matplotlib inline\n",
    "import zipline\n",
    "from scipy import stats\n",
    "from zipline import TradingAlgorithm\n",
    "from zipline.api import order_target, record, symbol, history, add_history\n",
    "\n",
    "# Returns the linear regression predicted value for the given \n",
    "# stock N days in advance for the data field, and period.\n",
    "def get_expected(data_field, period, stock, days_advanced):\n",
    "    data = history(bar_count=period, frequency=\"1d\", field=data_field)[stock]\n",
    "    day = len(data)\n",
    "    days = list(range(day))\n",
    "    slope, intercept, r_value, p_value, std_err = stats.linregress(days, data)    \n",
    "    return slope * (day + days_advanced) + intercept\n",
    "\n",
    "\n",
    "# Returns the slope of the linear regression for\n",
    "# the specified data of the given period and security.\n",
    "def get_slope(data_field, period, stock):   \n",
    "    data = history(bar_count=period, frequency=\"1d\", field=data_field)[stock]\n",
    "    days = list(range(len(data)))\n",
    "    slope, intercept, r_value, p_value, std_err = stats.linregress(days, data)\n",
    "    return slope\n",
    "\n",
    "\n",
    "# Put any initialization logic here.  The context object will be passed to\n",
    "# the other methods in your algorithm.\n",
    "def initialize(context):\n",
    "    context.stock = symbol('SPY')\n",
    "    set_benchmark(context.stock)\n",
    "\n",
    "\n",
    "# Will be called on every trade event for the securities you specify. \n",
    "def handle_data(context, data):\n",
    "    \n",
    "    if get_open_orders(context.stock):\n",
    "        return\n",
    "    \n",
    "    PERIOD = 70  # Number of days over which to make expectations.\n",
    "    TRADING_YEAR = 252\n",
    "    \n",
    "    stock = context.stock\n",
    "    stock_data = data[stock]\n",
    "    \n",
    "    expected_close = get_expected(\"close_price\", PERIOD, stock, 1)\n",
    "    expected_open = get_expected(\"open_price\", PERIOD, stock, 1)\n",
    "    expected_high = get_expected(\"high\", PERIOD, stock, 1)\n",
    "    expected_low = get_expected(\"low\", PERIOD, stock, 1)       \n",
    "    \n",
    "    current_close = stock_data.close_price\n",
    "    current_open = stock_data.open_price\n",
    "    current_low = stock_data.low\n",
    "    current_high = stock_data.high\n",
    "    \n",
    "    short_sdev = stock_data.stddev(int(PERIOD / 2))\n",
    "    long_sdev = stock_data.stddev(PERIOD)\n",
    "    \n",
    "    volume_confirmation = get_slope(\"volume\", PERIOD, stock) > 0\n",
    "    \n",
    "    market_type_slope = get_slope(\"close_price\", TRADING_YEAR, stock)\n",
    "    bull = market_type_slope > 0\n",
    "    bear = market_type_slope < 0\n",
    "    \n",
    "    expectations = [expected_close > current_close,\n",
    "                    expected_open > current_open,\n",
    "                    expected_high > current_high,\n",
    "                    expected_low > current_low]    \n",
    "    \n",
    "    # Returns the majority result\n",
    "    probably_buy = max(set(expectations), key=expectations.count)   \n",
    "    \n",
    "    if bull:\n",
    "        if probably_buy:\n",
    "            order_target_percent(stock, 1)        \n",
    "    elif bear:\n",
    "        if probably_buy:\n",
    "            if volume_confirmation:\n",
    "                if short_sdev < long_sdev:\n",
    "                    order_target_percent(stock, 1)\n",
    "                else:\n",
    "                    order_target_percent(stock, 0)\n",
    "        else:\n",
    "            order_target_percent(stock, 0)    \n",
    "\n",
    "# Instantinate algorithm        \n",
    "algo = TradingAlgorithm(initialize=initialize, \n",
    "                        handle_data=handle_data)\n",
    "# Run algorithm\n",
    "results = algo.run(data)\n",
    "results.portfolio_value.plot()"
   ]
  },
  {
   "cell_type": "code",
   "execution_count": null,
   "metadata": {
    "collapsed": true
   },
   "outputs": [],
   "source": []
  }
 ],
 "metadata": {
  "kernelspec": {
   "display_name": "Python 2",
   "language": "python",
   "name": "python2"
  },
  "language_info": {
   "codemirror_mode": {
    "name": "ipython",
    "version": 2
   },
   "file_extension": ".py",
   "mimetype": "text/x-python",
   "name": "python",
   "nbconvert_exporter": "python",
   "pygments_lexer": "ipython2",
   "version": "2.7.9"
  }
 },
 "nbformat": 4,
 "nbformat_minor": 0
}
