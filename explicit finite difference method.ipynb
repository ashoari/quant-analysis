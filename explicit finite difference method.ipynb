{
 "cells": [
  {
   "cell_type": "code",
   "execution_count": 16,
   "metadata": {
    "collapsed": false
   },
   "outputs": [
    {
     "name": "stdout",
     "output_type": "stream",
     "text": [
      "[[0.0, 0, 2.0], [2.0, 0, 2.0], [4.0, 0, 2.0], [6.0, 0, 2.0], [8.0, 0, 2.0], [10.0, 0, 2.0], [12.0, 0, 2.0], [14.0, 0, 2.0], [16.0, 0, 2.0], [18.0, 0, 2.0], [20.0, 0, 2.0], [22.0, 0, 2.0], [24.0, 0, 2.0], [26.0, 0, 2.0], [28.0, 0, 2.0], [30.0, 0, 2.0], [32.0, 0, 2.0], [34.0, 0, 2.0], [36.0, 0, 2.0], [38.0, 0, 2.0], [40.0, 0, 2.0], [42.0, 0, 2.0], [44.0, 0, 2.0], [46.0, 0, 2.0], [48.0, 0, 2.0], [50.0, 0, 2.0], [52.0, 0, 2.0], [54.0, 0, 2.0], [56.0, 0, 2.0], [58.0, 0, 2.0], [60.0, 0, 2.0], [62.0, 0, 2.0], [64.0, 0, 2.0], [66.0, 0, 2.0], [68.0, 0, 2.0], [70.0, 0, 2.0], [72.0, 0, 2.0], [74.0, 0, 2.0], [76.0, 0, 2.0], [78.0, 0, 2.0], [80.0, 0, 2.0], [82.0, 0, 2.0], [84.0, 0, 2.0], [86.0, 0, 2.0], [88.0, 0, 2.0], [90.0, 0, 2.0], [92.0, 0, 2.0], [94.0, 0, 2.0], [96.0, 0, 2.0], [98.0, 0, 2.0], [100.0, 0.0, 2.0], [102.0, 2.0, 2.0], [104.0, 4.0, 2.0], [106.0, 6.0, 2.0], [108.0, 8.0, 2.0], [110.0, 10.0, 2.0], [112.0, 12.0, 2.0], [114.0, 14.0, 2.0], [116.0, 16.0, 2.0], [118.0, 18.0, 2.0], [120.0, 20.0, 2.0], [122.0, 22.0, 2.0], [124.0, 24.0, 2.0], [126.0, 26.0, 2.0], [128.0, 28.0, 2.0], [130.0, 30.0, 2.0], [132.0, 32.0, 2.0], [134.0, 34.0, 2.0], [136.0, 36.0, 2.0], [138.0, 38.0, 2.0], [140.0, 40.0, 2.0], [142.0, 42.0, 2.0], [144.0, 44.0, 2.0], [146.0, 46.0, 2.0], [148.0, 48.0, 2.0], [150.0, 50.0, 2.0], [152.0, 52.0, 2.0], [154.0, 54.0, 2.0], [156.0, 56.0, 2.0], [158.0, 58.0, 2.0], [160.0, 60.0, 2.0], [162.0, 62.0, 2.0], [164.0, 64.0, 2.0], [166.0, 66.0, 2.0], [168.0, 68.0, 2.0], [170.0, 70.0, 2.0], [172.0, 72.0, 2.0], [174.0, 74.0, 2.0], [176.0, 76.0, 2.0], [178.0, 78.0, 2.0], [180.0, 80.0, 2.0], [182.0, 82.0, 2.0], [184.0, 84.0, 2.0], [186.0, 86.0, 2.0], [188.0, 88.0, 2.0], [190.0, 90.0, 2.0], [192.0, 92.0, 2.0], [194.0, 94.0, 2.0], [196.0, 96.0, 2.0], [198.0, 98.0, 2.0]]\n"
     ]
    }
   ],
   "source": [
    "volatility = 0.20\n",
    "interest_rate = 0.05\n",
    "expiration = 1\n",
    "option_type = 'c'\n",
    "strike_price = 100\n",
    "option_exercise_type = 'a'\n",
    "number_of_steps = 100\n",
    "\n",
    "\n",
    "def option_value(volatility, interest_rate, expiration, option_type, strike_price, option_exercise_type, number_of_steps):\n",
    "    s = range(number_of_steps)\n",
    "    v_old = range(number_of_steps)\n",
    "    v_new = range(number_of_steps)\n",
    "    temp_array = [range(3) for y in range(number_of_steps)]\n",
    "    ds = float(2 * strike_price)/ number_of_steps\n",
    "    dt = 0.9 / (volatility * volatility * number_of_steps * number_of_steps)\n",
    "    number_time_steps = int((expiration / dt) + 1)\n",
    "    dt = expiration / number_time_steps\n",
    "    q = 1\n",
    "    \n",
    "    if option_type == 'p':\n",
    "        q = -1\n",
    "        \n",
    "    for i in range(number_of_steps):\n",
    "        s[i] = i * ds\n",
    "        temp_array[i][0] = s[i]\n",
    "        v_old[i] = max(q * (s[i] - strike_price), 0)\n",
    "        temp_array[i][1] = v_old[i]\n",
    "\n",
    "    for k in range(number_time_steps):\n",
    "        for i in range(number_of_steps):\n",
    "            i = i + 1\n",
    "            if i + 1 < number_of_steps:\n",
    "                delta = float(v_old[i + 1] - v_old[i - 1])/(2 * ds)\n",
    "                gamma = float(v_old[i + 1] - 2 * v_old[i] + v_old[i - 1])/(ds*ds)\n",
    "                theta = float(-0.5 * volatility * volatility * s[i] * s[i] * gamma) - float(interest_rate * s[i] * delta) +  float(interest_rate * v_old[i])\n",
    "                v_new[i] = v_old[i] - theta * dt\n",
    "                \n",
    "        v_new[0] = float(1 - interest_rate*dt)*v_old[0]\n",
    "        v_new[number_of_steps -1] = 2 * v_old[number_of_steps - 1] - v_old[number_of_steps - 2]\n",
    "    \n",
    "        for i in range(number_of_steps):\n",
    "            v_old[i] = v_new[i]\n",
    "    \n",
    "        if option_exercise_type == 'a':\n",
    "            for i in range(number_of_steps):\n",
    "                v_old[i] = max(v_old[0], temp_array[i][2])\n",
    "    \n",
    "    for i in range(number_of_steps):\n",
    "        temp_array[i][2] = v_old[i]\n",
    "\n",
    "option_value(volatility, interest_rate, expiration, option_type, strike_price, option_exercise_type, number_of_steps)"
   ]
  },
  {
   "cell_type": "code",
   "execution_count": null,
   "metadata": {
    "collapsed": true
   },
   "outputs": [],
   "source": [
    "Function optval(Vol, intrate, Expn, Payoff, Strike, Etype, NAS)\n",
    "\n",
    "ReDim S(0 To NAS)\n",
    "ReDim VOld(0 To NAS)\n",
    "ReDim VNew(0 To NAS)\n",
    "ReDim Dummy(0 To NAS, 1 To 3)\n",
    "\n",
    "dS = 2 * Strike / NAS\n",
    "dt = 0.9 / Vol / Vol / NAS / NAS\n",
    "NTS = Int(Expn / dt) + 1\n",
    "dt = Expn / NTS\n",
    "\n",
    "q = 1\n",
    "If Payoff = \"P\" Then q = -1\n",
    "For i = 0 To NAS\n",
    "    S(i) = i * dS\n",
    "    Dummy(i, 1) = S(i)\n",
    "    VOld(i) = Application.Max(q * (S(i) - Strike), 0)\n",
    "    Dummy(i, 2) = VOld(i)\n",
    "Next i\n",
    "\n",
    "For k = 1 To NTS\n",
    "    For i = 1 To NAS - 1\n",
    "        Delta = (VOld(i + 1) - VOld(i - 1)) / 2 / dS\n",
    "        Gamma = (VOld(i + 1) - 2 * VOld(i) + VOld(i - 1)) _\n",
    "           / dS / dS\n",
    "        Theta = -0.5 * Vol * Vol * S(i) * S(i) * Gamma _\n",
    "            - intrate * S(i) * Delta _\n",
    "            + intrate * VOld(i)\n",
    "        VNew(i) = VOld(i) - Theta * dt\n",
    "    Next i\n",
    "\n",
    "    VNew(0) = (1 - intrate * dt) * VOld(0)\n",
    "    VNew(NAS) = 2 * VOld(NAS - 1) - VOld(NAS - 2)\n",
    "    \n",
    "    For i = 0 To NAS\n",
    "        VOld(i) = VNew(i)\n",
    "    Next i\n",
    "    \n",
    "    If Etype = \"Y\" Then\n",
    "        For i = 0 To NAS\n",
    "            VOld(i) = _\n",
    "                Application.Max(VOld(i), Dummy(i, 2))\n",
    "        Next i\n",
    "    End If\n",
    "\n",
    "Next k\n",
    "\n",
    "For i = 0 To NAS\n",
    "    Dummy(i, 3) = VOld(i)\n",
    "Next i\n",
    "\n",
    "optval = Dummy\n",
    "\n",
    "End Function"
   ]
  },
  {
   "cell_type": "code",
   "execution_count": 32,
   "metadata": {
    "collapsed": false
   },
   "outputs": [],
   "source": [
    "x= [range(10) for y in range(3)]"
   ]
  },
  {
   "cell_type": "code",
   "execution_count": 9,
   "metadata": {
    "collapsed": false
   },
   "outputs": [
    {
     "name": "stdout",
     "output_type": "stream",
     "text": [
      "[0, 1, 2, 3, 4, 5, 6, 7, 8, 9]\n"
     ]
    }
   ],
   "source": [
    "print  range(10)"
   ]
  },
  {
   "cell_type": "code",
   "execution_count": 62,
   "metadata": {
    "collapsed": false
   },
   "outputs": [
    {
     "data": {
      "text/plain": [
       "1.6666666666666667"
      ]
     },
     "execution_count": 62,
     "metadata": {},
     "output_type": "execute_result"
    }
   ],
   "source": [
    "10.0/6"
   ]
  },
  {
   "cell_type": "code",
   "execution_count": 89,
   "metadata": {
    "collapsed": false
   },
   "outputs": [
    {
     "name": "stdout",
     "output_type": "stream",
     "text": [
      "1\n",
      "2\n",
      "3\n",
      "4\n",
      "5\n",
      "6\n",
      "7\n",
      "8\n",
      "9\n",
      "10\n"
     ]
    }
   ],
   "source": [
    "for i in range(10):\n",
    "    i= i+1\n",
    "    print i"
   ]
  },
  {
   "cell_type": "code",
   "execution_count": 30,
   "metadata": {
    "collapsed": true
   },
   "outputs": [],
   "source": [
    "\n"
   ]
  },
  {
   "cell_type": "code",
   "execution_count": 31,
   "metadata": {
    "collapsed": false
   },
   "outputs": [],
   "source": [
    "temp_array[0] = 100"
   ]
  },
  {
   "cell_type": "code",
   "execution_count": 36,
   "metadata": {
    "collapsed": false
   },
   "outputs": [],
   "source": [
    "x[0][0] = 100"
   ]
  },
  {
   "cell_type": "code",
   "execution_count": 37,
   "metadata": {
    "collapsed": false
   },
   "outputs": [
    {
     "data": {
      "text/plain": [
       "[[100, 1, 2, 3, 4, 5, 6, 7, 8, 9],\n",
       " [0, 1, 2, 3, 4, 5, 6, 7, 8, 9],\n",
       " [0, 1, 2, 3, 4, 5, 6, 7, 8, 9]]"
      ]
     },
     "execution_count": 37,
     "metadata": {},
     "output_type": "execute_result"
    }
   ],
   "source": [
    "x"
   ]
  },
  {
   "cell_type": "code",
   "execution_count": 80,
   "metadata": {
    "collapsed": false
   },
   "outputs": [
    {
     "ename": "SyntaxError",
     "evalue": "can't assign to operator (<ipython-input-80-66f9eee488bd>, line 2)",
     "output_type": "error",
     "traceback": [
      "\u001b[0;36m  File \u001b[0;32m\"<ipython-input-80-66f9eee488bd>\"\u001b[0;36m, line \u001b[0;32m2\u001b[0m\n\u001b[0;31m    for (i +1) in range(a -1):\u001b[0m\n\u001b[0;31mSyntaxError\u001b[0m\u001b[0;31m:\u001b[0m can't assign to operator\n"
     ]
    }
   ],
   "source": [
    "a = 10\n",
    "for (i +1) in range(a -1):\n",
    "    print i"
   ]
  },
  {
   "cell_type": "code",
   "execution_count": null,
   "metadata": {
    "collapsed": true
   },
   "outputs": [],
   "source": []
  }
 ],
 "metadata": {
  "kernelspec": {
   "display_name": "Python 2",
   "language": "python",
   "name": "python2"
  },
  "language_info": {
   "codemirror_mode": {
    "name": "ipython",
    "version": 2
   },
   "file_extension": ".py",
   "mimetype": "text/x-python",
   "name": "python",
   "nbconvert_exporter": "python",
   "pygments_lexer": "ipython2",
   "version": "2.7.6"
  }
 },
 "nbformat": 4,
 "nbformat_minor": 0
}
