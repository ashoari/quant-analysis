{
 "metadata": {
  "name": "",
  "signature": "sha256:ab081f4882b20d21e8d279a8854ce39b8c4c78737dfdb4fa2e0d39064565830d"
 },
 "nbformat": 3,
 "nbformat_minor": 0,
 "worksheets": [
  {
   "cells": [
    {
     "cell_type": "code",
     "collapsed": false,
     "input": [
      "import Quandl\n",
      "snp_data = Quandl.get('YAHOO/INDEX_GSPC')\n",
      "snp_data.columns = ['Open','High','Low','Close','Volume','AdjustedClose']\n",
      "percentage_change = snp_data.AdjustedClose.pct_change()\n",
      "percentage_change.fillna(0)\n",
      "mean = percentage_change.mean()\n",
      "std_dev = percentage_change.std()\n",
      "\n",
      "print \"The model for S&P 500 mean returns of {0} and standard deviation of {1}\".format(mean, std_dev)"
     ],
     "language": "python",
     "metadata": {},
     "outputs": [
      {
       "output_type": "stream",
       "stream": "stdout",
       "text": [
        "The model for S&P 500 mean returns of 0.000340686508169 and standard deviation of 0.00968522521835\n"
       ]
      }
     ],
     "prompt_number": 25
    },
    {
     "cell_type": "code",
     "collapsed": false,
     "input": [
      "str = \"\"\"MMM\n",
      "ABT\n",
      "ABBV\n",
      "ACE\n",
      "ACN\n",
      "ACT\n",
      "ADBE\n",
      "ADT\n",
      "AES\n",
      "AET\n",
      "AFL\n",
      "AMG\n",
      "A\n",
      "GAS\n",
      "APD\n",
      "ARG\n",
      "AKAM\n",
      "AA\n",
      "ALXN\n",
      "ATI\n",
      "ALLE\n",
      "AGN\n",
      "ADS\n",
      "ALL\n",
      "ALTR\n",
      "MO\n",
      "AMZN\n",
      "AEE\n",
      "AEP\n",
      "AXP\n",
      "AIG\n",
      "AMT\n",
      "AMP\n",
      "ABC\n",
      "AME\n",
      "AMGN\n",
      "APH\n",
      "APC\n",
      "ADI\n",
      "AON\n",
      "APA\n",
      "AIV\n",
      "AAPL\n",
      "AMAT\n",
      "ADM\n",
      "AIZ\n",
      "T\n",
      "ADSK\n",
      "ADP\n",
      "AN\n",
      "AZO\n",
      "AVGO\n",
      "AVB\n",
      "AVY\n",
      "AVP\n",
      "BHI\n",
      "BLL\n",
      "BAC\n",
      "BK\n",
      "BCR\n",
      "BAX\n",
      "BBT\n",
      "BDX\n",
      "BBBY\n",
      "BRK.B\n",
      "BBY\n",
      "BIIB\n",
      "BLK\n",
      "HRB\n",
      "BA\n",
      "BWA\n",
      "BXP\n",
      "BSX\n",
      "BMY\n",
      "BRCM\n",
      "BF.B\n",
      "CHRW\n",
      "CA\n",
      "CVC\n",
      "COG\n",
      "CAM\n",
      "CPB\n",
      "COF\n",
      "CAH\n",
      "CFN\n",
      "KMX\n",
      "CCL\n",
      "CAT\n",
      "CBG\n",
      "CBS\n",
      "CELG\n",
      "CNP\n",
      "CTL\n",
      "CERN\n",
      "CF\n",
      "SCHW\n",
      "CHK\n",
      "CVX\n",
      "CMG\n",
      "CB\n",
      "CI\n",
      "XEC\n",
      "CINF\n",
      "CTAS\n",
      "CSCO\n",
      "C\n",
      "CTXS\n",
      "CLX\n",
      "CME\n",
      "CMS\n",
      "COH\n",
      "KO\n",
      "CCE\n",
      "CTSH\n",
      "CL\n",
      "CMCSA\n",
      "CMA\n",
      "CSC\n",
      "CAG\n",
      "COP\n",
      "CNX\n",
      "ED\n",
      "STZ\n",
      "GLW\n",
      "COST\n",
      "COV\n",
      "CCI\n",
      "CSX\n",
      "CMI\n",
      "CVS\n",
      "DHI\n",
      "DHR\n",
      "DRI\n",
      "DVA\n",
      "DE\n",
      "DLPH\n",
      "DAL\n",
      "DNR\n",
      "XRAY\n",
      "DVN\n",
      "DO\n",
      "DTV\n",
      "DFS\n",
      "DISCA\n",
      "DISCK\n",
      "DG\n",
      "DLTR\n",
      "D\n",
      "DOV\n",
      "DOW\n",
      "DPS\n",
      "DTE\n",
      "DD\n",
      "DUK\n",
      "DNB\n",
      "ETFC\n",
      "EMN\n",
      "ETN\n",
      "EBAY\n",
      "ECL\n",
      "EIX\n",
      "EW\n",
      "EA\n",
      "EMC\n",
      "EMR\n",
      "ESV\n",
      "ETR\n",
      "EOG\n",
      "EQT\n",
      "EFX\n",
      "EQR\n",
      "ESS\n",
      "EL\n",
      "EXC\n",
      "EXPE\n",
      "EXPD\n",
      "ESRX\n",
      "XOM\n",
      "FFIV\n",
      "FB\n",
      "FDO\n",
      "FAST\n",
      "FDX\n",
      "FIS\n",
      "FITB\n",
      "FSLR\n",
      "FE\n",
      "FISV\n",
      "FLIR\n",
      "FLS\n",
      "FLR\n",
      "FMC\n",
      "FTI\n",
      "F\n",
      "FOSL\n",
      "BEN\n",
      "FCX\n",
      "FTR\n",
      "GME\n",
      "GCI\n",
      "GPS\n",
      "GRMN\n",
      "GD\n",
      "GE\n",
      "GGP\n",
      "GIS\n",
      "GM\n",
      "GPC\n",
      "GNW\n",
      "GILD\n",
      "GS\n",
      "GT\n",
      "GOOGL\n",
      "GOOG\n",
      "GWW\n",
      "HAL\n",
      "HOG\n",
      "HAR\n",
      "HRS\n",
      "HIG\n",
      "HAS\n",
      "HCP\n",
      "HCN\n",
      "HP\n",
      "HES\n",
      "HPQ\n",
      "HD\n",
      "HON\n",
      "HRL\n",
      "HSP\n",
      "HST\n",
      "HCBK\n",
      "HUM\n",
      "HBAN\n",
      "ITW\n",
      "IR\n",
      "TEG\n",
      "INTC\n",
      "ICE\n",
      "IBM\n",
      "IP\n",
      "IPG\n",
      "IFF\n",
      "INTU\n",
      "ISRG\n",
      "IVZ\n",
      "IRM\n",
      "JEC\n",
      "JNJ\n",
      "JCI\n",
      "JOY\n",
      "JPM\n",
      "JNPR\n",
      "KSU\n",
      "K\n",
      "KEY\n",
      "GMCR\n",
      "KMB\n",
      "KIM\n",
      "KMI\n",
      "KLAC\n",
      "KSS\n",
      "KRFT\n",
      "KR\n",
      "LB\n",
      "LLL\n",
      "LH\n",
      "LRCX\n",
      "LM\n",
      "LEG\n",
      "LEN\n",
      "LVLT\n",
      "LUK\n",
      "LLY\n",
      "LNC\n",
      "LLTC\n",
      "LMT\n",
      "L\n",
      "LO\n",
      "LOW\n",
      "LYB\n",
      "MTB\n",
      "MAC\n",
      "M\n",
      "MNK\n",
      "MRO\n",
      "MPC\n",
      "MAR\n",
      "MMC\n",
      "MAS\n",
      "MA\n",
      "MAT\n",
      "MKC\n",
      "MCD\n",
      "MHFI\n",
      "MCK\n",
      "MJN\n",
      "MWV\n",
      "MDT\n",
      "MRK\n",
      "MET\n",
      "KORS\n",
      "MCHP\n",
      "MU\n",
      "MSFT\n",
      "MHK\n",
      "TAP\n",
      "MDLZ\n",
      "MON\n",
      "MNST\n",
      "MCO\n",
      "MS\n",
      "MOS\n",
      "MSI\n",
      "MUR\n",
      "MYL\n",
      "NBR\n",
      "NDAQ\n",
      "NOV\n",
      "NAVI\n",
      "NTAP\n",
      "NFLX\n",
      "NWL\n",
      "NFX\n",
      "NEM\n",
      "NWSA\n",
      "NEE\n",
      "NLSN\n",
      "NKE\n",
      "NI\n",
      "NE\n",
      "NBL\n",
      "JWN\n",
      "NSC\n",
      "NTRS\n",
      "NOC\n",
      "NU\n",
      "NRG\n",
      "NUE\n",
      "NVDA\n",
      "ORLY\n",
      "OXY\n",
      "OMC\n",
      "OKE\n",
      "ORCL\n",
      "OI\n",
      "PCG\n",
      "PCAR\n",
      "PLL\n",
      "PH\n",
      "PDCO\n",
      "PAYX\n",
      "PNR\n",
      "PBCT\n",
      "POM\n",
      "PEP\n",
      "PKI\n",
      "PRGO\n",
      "PETM\n",
      "PFE\n",
      "PM\n",
      "PSX\n",
      "PNW\n",
      "PXD\n",
      "PBI\n",
      "PCL\n",
      "PNC\n",
      "RL\n",
      "PPG\n",
      "PPL\n",
      "PX\n",
      "PCP\n",
      "PCLN\n",
      "PFG\n",
      "PG\n",
      "PGR\n",
      "PLD\n",
      "PRU\n",
      "PEG\n",
      "PSA\n",
      "PHM\n",
      "PVH\n",
      "QEP\n",
      "PWR\n",
      "QCOM\n",
      "DGX\n",
      "RRC\n",
      "RTN\n",
      "RHT\n",
      "REGN\n",
      "RF\n",
      "RSG\n",
      "RAI\n",
      "RHI\n",
      "ROK\n",
      "COL\n",
      "ROP\n",
      "ROST\n",
      "RCL\n",
      "R\n",
      "SWY\n",
      "CRM\n",
      "SNDK\n",
      "SCG\n",
      "SLB\n",
      "SNI\n",
      "STX\n",
      "SEE\n",
      "SRE\n",
      "SHW\n",
      "SIAL\n",
      "SPG\n",
      "SJM\n",
      "SNA\n",
      "SO\n",
      "LUV\n",
      "SWN\n",
      "SE\n",
      "STJ\n",
      "SWK\n",
      "SPLS\n",
      "SBUX\n",
      "HOT\n",
      "STT\n",
      "SRCL\n",
      "SYK\n",
      "STI\n",
      "SYMC\n",
      "SYY\n",
      "TROW\n",
      "TGT\n",
      "TEL\n",
      "TE\n",
      "THC\n",
      "TDC\n",
      "TSO\n",
      "TXN\n",
      "TXT\n",
      "HSY\n",
      "TRV\n",
      "TMO\n",
      "TIF\n",
      "TWX\n",
      "TWC\n",
      "TJX\n",
      "TMK\n",
      "TSS\n",
      "TSCO\n",
      "RIG\n",
      "TRIP\n",
      "FOXA\n",
      "TSN\n",
      "TYC\n",
      "USB\n",
      "UA\n",
      "UNP\n",
      "UNH\n",
      "UPS\n",
      "MLM\n",
      "URI\n",
      "UTX\n",
      "UHS\n",
      "UNM\n",
      "URBN\n",
      "VFC\n",
      "VLO\n",
      "VAR\n",
      "VTR\n",
      "VRSN\n",
      "VZ\n",
      "VRTX\n",
      "VIAB\n",
      "V\n",
      "VNO\n",
      "VMC\n",
      "WMT\n",
      "WBA\n",
      "DIS\n",
      "WM\n",
      "WAT\n",
      "ANTM\n",
      "WFC\n",
      "WDC\n",
      "WU\n",
      "WY\n",
      "WHR\n",
      "WFM\n",
      "WMB\n",
      "WIN\n",
      "WEC\n",
      "WYN\n",
      "WYNN\n",
      "XEL\n",
      "XRX\n",
      "XLNX\n",
      "XL\n",
      "XYL\n",
      "YHOO\n",
      "YUM\n",
      "ZMH\n",
      "ZION\n",
      "ZTS\"\"\"\n",
      "snp_array = str.split(\"\\n\")"
     ],
     "language": "python",
     "metadata": {},
     "outputs": [
      {
       "ename": "AttributeError",
       "evalue": "'list' object has no attribute 'join'",
       "output_type": "pyerr",
       "traceback": [
        "\u001b[0;31m---------------------------------------------------------------------------\u001b[0m\n\u001b[0;31mAttributeError\u001b[0m                            Traceback (most recent call last)",
        "\u001b[0;32m<ipython-input-110-99e7a90c644e>\u001b[0m in \u001b[0;36m<module>\u001b[0;34m()\u001b[0m\n\u001b[1;32m    501\u001b[0m \u001b[0mZION\u001b[0m\u001b[0;34m\u001b[0m\u001b[0m\n\u001b[1;32m    502\u001b[0m ZTS\"\"\"\n\u001b[0;32m--> 503\u001b[0;31m \u001b[0msnp_array\u001b[0m \u001b[0;34m=\u001b[0m \u001b[0mstr\u001b[0m\u001b[0;34m.\u001b[0m\u001b[0msplit\u001b[0m\u001b[0;34m(\u001b[0m\u001b[0;34m\"\\n\"\u001b[0m\u001b[0;34m)\u001b[0m\u001b[0;34m.\u001b[0m\u001b[0mjoin\u001b[0m\u001b[0;34m(\u001b[0m\u001b[0;34m\", \"\u001b[0m\u001b[0;34m)\u001b[0m\u001b[0;34m\u001b[0m\u001b[0m\n\u001b[0m",
        "\u001b[0;31mAttributeError\u001b[0m: 'list' object has no attribute 'join'"
       ]
      }
     ],
     "prompt_number": 110
    },
    {
     "cell_type": "code",
     "collapsed": false,
     "input": [
      "import pandas.io.data as web\n",
      "import datetime\n",
      "import re\n",
      "securities_data = list()\n",
      "start = datetime.datetime(2009, 1, 1)\n",
      "end = datetime.datetime.today()\n",
      "\n",
      "for security_symbol in snp_array:\n",
      "    print 'now processing security {0}'.format(security_symbol)\n",
      "    f=web.DataReader(security_symbol, 'yahoo', start, end)\n",
      "    f.columns = ['Open','High','Low','Close','Volume','AdjClose'] \n",
      "    f.AdjClose.fillna(0)\n",
      "    updated_security_symbol = re.sub(\"[^A-Za-z]\", \"\", security_symbol)  \n",
      "    exec(\"df_{0}=f\".format(updated_security_symbol))\n",
      "    percentage_change = f.AdjClose.pct_change()\n",
      "    mean = percentage_change.mean()\n",
      "    std_dev = percentage_change.std()\n",
      "    print 'mean => {0} and std. deviation => {1} for security => {2}'.format(mean, std_dev, security_symbol)\n",
      "    sec_dict = dict()\n",
      "    sec_dict['security_symbol'] = security_symbol\n",
      "    sec_dict['mean'] = mean\n",
      "    sec_dict['std_dev'] = std_dev\n",
      "    securities_data.append(sec_dict)"
     ],
     "language": "python",
     "metadata": {},
     "outputs": [
      {
       "output_type": "stream",
       "stream": "stdout",
       "text": [
        "now processing security MMM\n",
        "mean => 0.000864987894366 and std. deviation => 0.0136256712852 for security => MMM"
       ]
      },
      {
       "output_type": "stream",
       "stream": "stdout",
       "text": [
        "\n",
        "now processing security ABT\n",
        "mean => 0.000534393445058 and std. deviation => 0.0114797856101 for security => ABT"
       ]
      },
      {
       "output_type": "stream",
       "stream": "stdout",
       "text": [
        "\n",
        "now processing security ABBV\n",
        "mean => 0.00138605607355 and std. deviation => 0.0157059849489 for security => ABBV"
       ]
      },
      {
       "output_type": "stream",
       "stream": "stdout",
       "text": [
        "\n",
        "now processing security ACE\n",
        "mean => 0.000714357565354 and std. deviation => 0.0155043584065 for security => ACE"
       ]
      },
      {
       "output_type": "stream",
       "stream": "stdout",
       "text": [
        "\n",
        "now processing security ACN\n",
        "mean => 0.000842337002547 and std. deviation => 0.0152960409795 for security => ACN"
       ]
      },
      {
       "output_type": "stream",
       "stream": "stdout",
       "text": [
        "\n",
        "now processing security ACT\n",
        "mean => 0.00167947744466 and std. deviation => 0.0160747749942 for security => ACT"
       ]
      },
      {
       "output_type": "stream",
       "stream": "stdout",
       "text": [
        "\n",
        "now processing security ADBE\n",
        "mean => 0.000981371362943 and std. deviation => 0.0207075088135 for security => ADBE"
       ]
      },
      {
       "output_type": "stream",
       "stream": "stdout",
       "text": [
        "\n",
        "now processing security ADT\n",
        "mean => 0.000120887985916 and std. deviation => 0.0179830135909 for security => ADT"
       ]
      },
      {
       "output_type": "stream",
       "stream": "stdout",
       "text": [
        "\n",
        "now processing security AES\n",
        "mean => 0.000522390971889 and std. deviation => 0.022418862234 for security => AES"
       ]
      },
      {
       "output_type": "stream",
       "stream": "stdout",
       "text": [
        "\n",
        "now processing security AET\n",
        "mean => 0.00102325658999 and std. deviation => 0.0209101594076 for security => AET"
       ]
      },
      {
       "output_type": "stream",
       "stream": "stdout",
       "text": [
        "\n",
        "now processing security AFL\n",
        "mean => 0.00071231942558 and std. deviation => 0.0296745559788 for security => AFL"
       ]
      },
      {
       "output_type": "stream",
       "stream": "stdout",
       "text": [
        "\n",
        "now processing security AMG\n",
        "mean => 0.00136378843392 and std. deviation => 0.0262448881071 for security => AMG"
       ]
      },
      {
       "output_type": "stream",
       "stream": "stdout",
       "text": [
        "\n",
        "now processing security A\n",
        "mean => 0.00103701183463 and std. deviation => 0.0212469168875 for security => A"
       ]
      },
      {
       "output_type": "stream",
       "stream": "stdout",
       "text": [
        "\n",
        "now processing security GAS\n",
        "mean => 0.000638812112533 and std. deviation => 0.011628681914 for security => GAS"
       ]
      },
      {
       "output_type": "stream",
       "stream": "stdout",
       "text": [
        "\n",
        "now processing security APD\n",
        "mean => 0.00088127983055 and std. deviation => 0.0156972487284 for security => APD"
       ]
      },
      {
       "output_type": "stream",
       "stream": "stdout",
       "text": [
        "\n",
        "now processing security ARG\n",
        "mean => 0.00090304519253 and std. deviation => 0.018322220045 for security => ARG"
       ]
      },
      {
       "output_type": "stream",
       "stream": "stdout",
       "text": [
        "\n",
        "now processing security AKAM\n",
        "mean => 0.00127479859262 and std. deviation => 0.0278859933572 for security => AKAM"
       ]
      },
      {
       "output_type": "stream",
       "stream": "stdout",
       "text": [
        "\n",
        "now processing security AA\n",
        "mean => 0.000579801559971 and std. deviation => 0.0265314965288 for security => AA"
       ]
      },
      {
       "output_type": "stream",
       "stream": "stdout",
       "text": [
        "\n",
        "now processing security ALXN\n",
        "mean => 0.00176203008712 and std. deviation => 0.0220966502035 for security => ALXN"
       ]
      },
      {
       "output_type": "stream",
       "stream": "stdout",
       "text": [
        "\n",
        "now processing security ATI\n",
        "mean => 0.000556870405969 and std. deviation => 0.0307121175855 for security => ATI"
       ]
      },
      {
       "output_type": "stream",
       "stream": "stdout",
       "text": [
        "\n",
        "now processing security ALLE\n",
        "mean => 0.000514285354076 and std. deviation => 0.0141491449784 for security => ALLE"
       ]
      },
      {
       "output_type": "stream",
       "stream": "stdout",
       "text": [
        "\n",
        "now processing security AGN\n",
        "mean => 0.00125610284678 and std. deviation => 0.0166859797412 for security => AGN"
       ]
      },
      {
       "output_type": "stream",
       "stream": "stdout",
       "text": [
        "\n",
        "now processing security ADS\n",
        "mean => 0.00141267696955 and std. deviation => 0.0204219113012 for security => ADS"
       ]
      },
      {
       "output_type": "stream",
       "stream": "stdout",
       "text": [
        "\n",
        "now processing security ALL\n",
        "mean => 0.000810665300494 and std. deviation => 0.0202502671847 for security => ALL"
       ]
      },
      {
       "output_type": "stream",
       "stream": "stdout",
       "text": [
        "\n",
        "now processing security ALTR\n",
        "mean => 0.00070857765038 and std. deviation => 0.0202916610484 for security => ALTR"
       ]
      },
      {
       "output_type": "stream",
       "stream": "stdout",
       "text": [
        "\n",
        "now processing security MO\n",
        "mean => 0.00111279176298 and std. deviation => 0.00996023974406 for security => MO"
       ]
      },
      {
       "output_type": "stream",
       "stream": "stdout",
       "text": [
        "\n",
        "now processing security AMZN\n",
        "mean => 0.00140878590856 and std. deviation => 0.0230485029909 for security => AMZN"
       ]
      },
      {
       "output_type": "stream",
       "stream": "stdout",
       "text": [
        "\n",
        "now processing security AEE\n",
        "mean => 0.000490779630149 and std. deviation => 0.0130245347736 for security => AEE"
       ]
      },
      {
       "output_type": "stream",
       "stream": "stdout",
       "text": [
        "\n",
        "now processing security AEP\n",
        "mean => 0.000668984902392 and std. deviation => 0.0113819966037 for security => AEP"
       ]
      },
      {
       "output_type": "stream",
       "stream": "stdout",
       "text": [
        "\n",
        "now processing security AXP\n",
        "mean => 0.00131849035463 and std. deviation => 0.0239260057966 for security => AXP"
       ]
      },
      {
       "output_type": "stream",
       "stream": "stdout",
       "text": [
        "\n",
        "now processing security AIG\n",
        "mean => 0.00144098903392 and std. deviation => 0.0474049372666 for security => AIG"
       ]
      },
      {
       "output_type": "stream",
       "stream": "stdout",
       "text": [
        "\n",
        "now processing security AMT\n",
        "mean => 0.000931779948627 and std. deviation => 0.0152770961147 for security => AMT"
       ]
      },
      {
       "output_type": "stream",
       "stream": "stdout",
       "text": [
        "\n",
        "now processing security AMP\n",
        "mean => 0.00150364136333 and std. deviation => 0.0250358207967 for security => AMP"
       ]
      },
      {
       "output_type": "stream",
       "stream": "stdout",
       "text": [
        "\n",
        "now processing security ABC\n",
        "mean => 0.00123870042919 and std. deviation => 0.0132919259324 for security => ABC"
       ]
      },
      {
       "output_type": "stream",
       "stream": "stdout",
       "text": [
        "\n",
        "now processing security AME\n",
        "mean => 0.000985013666084 and std. deviation => 0.0170044614417 for security => AME"
       ]
      },
      {
       "output_type": "stream",
       "stream": "stdout",
       "text": [
        "\n",
        "now processing security AMGN\n",
        "mean => 0.000819100633927 and std. deviation => 0.0156122663921 for security => AMGN"
       ]
      },
      {
       "output_type": "stream",
       "stream": "stdout",
       "text": [
        "\n",
        "now processing security APH\n",
        "mean => 0.00115972869739 and std. deviation => 0.0191769122356 for security => APH"
       ]
      },
      {
       "output_type": "stream",
       "stream": "stdout",
       "text": [
        "\n",
        "now processing security APC\n",
        "mean => 0.00078916388314 and std. deviation => 0.0246239196698 for security => APC"
       ]
      },
      {
       "output_type": "stream",
       "stream": "stdout",
       "text": [
        "\n",
        "now processing security ADI\n",
        "mean => 0.000928223282478 and std. deviation => 0.0169452739901 for security => ADI"
       ]
      },
      {
       "output_type": "stream",
       "stream": "stdout",
       "text": [
        "\n",
        "now processing security AON\n",
        "mean => 0.000635247639495 and std. deviation => 0.0142907587823 for security => AON"
       ]
      },
      {
       "output_type": "stream",
       "stream": "stdout",
       "text": [
        "\n",
        "now processing security APA\n",
        "mean => 8.28359814211e-05 and std. deviation => 0.0200263042257 for security => APA"
       ]
      },
      {
       "output_type": "stream",
       "stream": "stdout",
       "text": [
        "\n",
        "now processing security AIV\n",
        "mean => 0.00130963615286 and std. deviation => 0.0277653989483 for security => AIV"
       ]
      },
      {
       "output_type": "stream",
       "stream": "stdout",
       "text": [
        "\n",
        "now processing security AAPL\n",
        "mean => 0.00161180220636 and std. deviation => 0.0175924148336 for security => AAPL"
       ]
      },
      {
       "output_type": "stream",
       "stream": "stdout",
       "text": [
        "\n",
        "now processing security AMAT\n",
        "mean => 0.000831079014088 and std. deviation => 0.0201240624424 for security => AMAT"
       ]
      },
      {
       "output_type": "stream",
       "stream": "stdout",
       "text": [
        "\n",
        "now processing security ADM\n",
        "mean => 0.000560501653634 and std. deviation => 0.017348083125 for security => ADM"
       ]
      },
      {
       "output_type": "stream",
       "stream": "stdout",
       "text": [
        "\n",
        "now processing security AIZ\n",
        "mean => 0.00078689571962 and std. deviation => 0.0202302372496 for security => AIZ"
       ]
      },
      {
       "output_type": "stream",
       "stream": "stdout",
       "text": [
        "\n",
        "now processing security T\n",
        "mean => 0.000375137054506 and std. deviation => 0.0110841160997 for security => T"
       ]
      },
      {
       "output_type": "stream",
       "stream": "stdout",
       "text": [
        "\n",
        "now processing security ADSK\n",
        "mean => 0.000958240887646 and std. deviation => 0.023556476748 for security => ADSK"
       ]
      },
      {
       "output_type": "stream",
       "stream": "stdout",
       "text": [
        "\n",
        "now processing security ADP\n",
        "mean => 0.000769893487228 and std. deviation => 0.0116267352735 for security => ADP"
       ]
      },
      {
       "output_type": "stream",
       "stream": "stdout",
       "text": [
        "\n",
        "now processing security AN\n",
        "mean => 0.00135638462269 and std. deviation => 0.0213522597047 for security => AN"
       ]
      },
      {
       "output_type": "stream",
       "stream": "stdout",
       "text": [
        "\n",
        "now processing security AZO\n",
        "mean => 0.00103534008608 and std. deviation => 0.0125299950871 for security => AZO"
       ]
      },
      {
       "output_type": "stream",
       "stream": "stdout",
       "text": [
        "\n",
        "now processing security AVGO\n",
        "mean => 0.00167182586574 and std. deviation => 0.0222345715273 for security => AVGO"
       ]
      },
      {
       "output_type": "stream",
       "stream": "stdout",
       "text": [
        "\n",
        "now processing security AVB\n",
        "mean => 0.00110291060542 and std. deviation => 0.0219872915834 for security => AVB"
       ]
      },
      {
       "output_type": "stream",
       "stream": "stdout",
       "text": [
        "\n",
        "now processing security AVY\n",
        "mean => 0.000602616164279 and std. deviation => 0.0191361151095 for security => AVY"
       ]
      },
      {
       "output_type": "stream",
       "stream": "stdout",
       "text": [
        "\n",
        "now processing security AVP\n",
        "mean => -0.000369639567192 and std. deviation => 0.0231167996661 for security => AVP"
       ]
      },
      {
       "output_type": "stream",
       "stream": "stdout",
       "text": [
        "\n",
        "now processing security BHI\n",
        "mean => 0.000689927228964 and std. deviation => 0.0242183323082 for security => BHI"
       ]
      },
      {
       "output_type": "stream",
       "stream": "stdout",
       "text": [
        "\n",
        "now processing security BLL\n",
        "mean => 0.000843724564115 and std. deviation => 0.0134980841641 for security => BLL"
       ]
      },
      {
       "output_type": "stream",
       "stream": "stdout",
       "text": [
        "\n",
        "now processing security BAC\n",
        "mean => 0.000811854973245 and std. deviation => 0.0384995288831 for security => BAC"
       ]
      },
      {
       "output_type": "stream",
       "stream": "stdout",
       "text": [
        "\n",
        "now processing security BK\n",
        "mean => 0.000518934209003 and std. deviation => 0.0235520670571 for security => BK"
       ]
      },
      {
       "output_type": "stream",
       "stream": "stdout",
       "text": [
        "\n",
        "now processing security BCR\n",
        "mean => 0.000593877244702 and std. deviation => 0.0123699483869 for security => BCR"
       ]
      },
      {
       "output_type": "stream",
       "stream": "stdout",
       "text": [
        "\n",
        "now processing security BAX\n",
        "mean => 0.000359103791238 and std. deviation => 0.0132752769646 for security => BAX"
       ]
      },
      {
       "output_type": "stream",
       "stream": "stdout",
       "text": [
        "\n",
        "now processing security BBT\n",
        "mean => 0.000617338661597 and std. deviation => 0.0238285497124 for security => BBT"
       ]
      },
      {
       "output_type": "stream",
       "stream": "stdout",
       "text": [
        "\n",
        "now processing security BDX\n",
        "mean => 0.000620780874377 and std. deviation => 0.0115503315072 for security => BDX"
       ]
      },
      {
       "output_type": "stream",
       "stream": "stdout",
       "text": [
        "\n",
        "now processing security BBBY\n",
        "mean => 0.000884927758099 and std. deviation => 0.0194515563919 for security => BBBY"
       ]
      },
      {
       "output_type": "stream",
       "stream": "stdout",
       "text": [
        "\n",
        "now processing security BRK.B\n",
        "mean => 0.000635652707891 and std. deviation => 0.0146270288705 for security => BRK.B"
       ]
      },
      {
       "output_type": "stream",
       "stream": "stdout",
       "text": [
        "\n",
        "now processing security BBY\n",
        "mean => 0.000596719780428 and std. deviation => 0.0274275820426 for security => BBY"
       ]
      },
      {
       "output_type": "stream",
       "stream": "stdout",
       "text": [
        "\n",
        "now processing security BIIB\n",
        "mean => 0.00149525805281 and std. deviation => 0.0192494970927 for security => BIIB"
       ]
      },
      {
       "output_type": "stream",
       "stream": "stdout",
       "text": [
        "\n",
        "now processing security BLK\n",
        "mean => 0.000947632634289 and std. deviation => 0.0215256953741 for security => BLK"
       ]
      },
      {
       "output_type": "stream",
       "stream": "stdout",
       "text": [
        "\n",
        "now processing security HRB\n",
        "mean => 0.000611465972756 and std. deviation => 0.0194009652928 for security => HRB"
       ]
      },
      {
       "output_type": "stream",
       "stream": "stdout",
       "text": [
        "\n",
        "now processing security BA\n",
        "mean => 0.000966046622769 and std. deviation => 0.0173051807294 for security => BA"
       ]
      },
      {
       "output_type": "stream",
       "stream": "stdout",
       "text": [
        "\n",
        "now processing security BWA\n",
        "mean => 0.00132829781933 and std. deviation => 0.0241587228853 for security => BWA"
       ]
      },
      {
       "output_type": "stream",
       "stream": "stdout",
       "text": [
        "\n",
        "now processing security BXP\n",
        "mean => 0.0010285002132 and std. deviation => 0.0230248271186 for security => BXP"
       ]
      },
      {
       "output_type": "stream",
       "stream": "stdout",
       "text": [
        "\n",
        "now processing security BSX\n",
        "mean => 0.000647699701819 and std. deviation => 0.021502785918 for security => BSX"
       ]
      },
      {
       "output_type": "stream",
       "stream": "stdout",
       "text": [
        "\n",
        "now processing security BMY\n",
        "mean => 0.000883151659467 and std. deviation => 0.0137510732001 for security => BMY"
       ]
      },
      {
       "output_type": "stream",
       "stream": "stdout",
       "text": [
        "\n",
        "now processing security BRCM\n",
        "mean => 0.00085873605512 and std. deviation => 0.0222601727955 for security => BRCM"
       ]
      },
      {
       "output_type": "stream",
       "stream": "stdout",
       "text": [
        "\n",
        "now processing security BF.B\n",
        "mean => 0.000809957577412 and std. deviation => 0.0135797179939 for security => BF.B"
       ]
      },
      {
       "output_type": "stream",
       "stream": "stdout",
       "text": [
        "\n",
        "now processing security CHRW\n",
        "mean => 0.000398979299006 and std. deviation => 0.0161123100955 for security => CHRW"
       ]
      },
      {
       "output_type": "stream",
       "stream": "stdout",
       "text": [
        "\n",
        "now processing security CA\n",
        "mean => 0.000539392516305 and std. deviation => 0.0159092883844 for security => CA"
       ]
      },
      {
       "output_type": "stream",
       "stream": "stdout",
       "text": [
        "\n",
        "now processing security CVC\n",
        "mean => 0.000802842448232 and std. deviation => 0.0231046160673 for security => CVC"
       ]
      },
      {
       "output_type": "stream",
       "stream": "stdout",
       "text": [
        "\n",
        "now processing security COG\n",
        "mean => 0.0013010169301 and std. deviation => 0.0267971163889 for security => COG"
       ]
      },
      {
       "output_type": "stream",
       "stream": "stdout",
       "text": [
        "\n",
        "now processing security CAM\n",
        "mean => 0.000751446883249 and std. deviation => 0.0244828970017 for security => CAM"
       ]
      },
      {
       "output_type": "stream",
       "stream": "stdout",
       "text": [
        "\n",
        "now processing security CPB\n",
        "mean => 0.000461629182741 and std. deviation => 0.0105267439819 for security => CPB"
       ]
      },
      {
       "output_type": "stream",
       "stream": "stdout",
       "text": [
        "\n",
        "now processing security COF\n",
        "mean => 0.00112264964953 and std. deviation => 0.0322455486355 for security => COF"
       ]
      },
      {
       "output_type": "stream",
       "stream": "stdout",
       "text": [
        "\n",
        "now processing security CAH\n",
        "mean => 0.00120628046607 and std. deviation => 0.0229718309467 for security => CAH"
       ]
      },
      {
       "output_type": "stream",
       "stream": "stdout",
       "text": [
        "\n",
        "now processing security CFN\n",
        "mean => 0.000993014924012 and std. deviation => 0.0164736110974 for security => CFN"
       ]
      },
      {
       "output_type": "stream",
       "stream": "stdout",
       "text": [
        "\n",
        "now processing security KMX\n",
        "mean => 0.00165125201008 and std. deviation => 0.0247840398534 for security => KMX"
       ]
      },
      {
       "output_type": "stream",
       "stream": "stdout",
       "text": [
        "\n",
        "now processing security CCL\n",
        "mean => 0.000712043364875 and std. deviation => 0.0215330367361 for security => CCL"
       ]
      },
      {
       "output_type": "stream",
       "stream": "stdout",
       "text": [
        "\n",
        "now processing security CAT\n",
        "mean => 0.00072006383001 and std. deviation => 0.0207485958349 for security => CAT"
       ]
      },
      {
       "output_type": "stream",
       "stream": "stdout",
       "text": [
        "\n",
        "now processing security CBG\n",
        "mean => 0.00199618558474 and std. deviation => 0.0382129983973 for security => CBG"
       ]
      },
      {
       "output_type": "stream",
       "stream": "stdout",
       "text": [
        "\n",
        "now processing security CBS\n",
        "mean => 0.00165438623492 and std. deviation => 0.0281941863359 for security => CBS"
       ]
      },
      {
       "output_type": "stream",
       "stream": "stdout",
       "text": [
        "\n",
        "now processing security CELG\n",
        "mean => 0.0011637582814 and std. deviation => 0.0196874546561 for security => CELG"
       ]
      },
      {
       "output_type": "stream",
       "stream": "stdout",
       "text": [
        "\n",
        "now processing security CNP\n",
        "mean => 0.000650906144111 and std. deviation => 0.0133342581607 for security => CNP"
       ]
      },
      {
       "output_type": "stream",
       "stream": "stdout",
       "text": [
        "\n",
        "now processing security CTL\n",
        "mean => 0.000605263570868 and std. deviation => 0.0143819341509 for security => CTL"
       ]
      },
      {
       "output_type": "stream",
       "stream": "stdout",
       "text": [
        "\n",
        "now processing security CERN\n",
        "mean => 0.00142815413945 and std. deviation => 0.0181973965242 for security => CERN"
       ]
      },
      {
       "output_type": "stream",
       "stream": "stdout",
       "text": [
        "\n",
        "now processing security CF\n",
        "mean => 0.00145844992189 and std. deviation => 0.0239922724977 for security => CF"
       ]
      },
      {
       "output_type": "stream",
       "stream": "stdout",
       "text": [
        "\n",
        "now processing security SCHW\n",
        "mean => 0.000644164210793 and std. deviation => 0.0223044725878 for security => SCHW"
       ]
      },
      {
       "output_type": "stream",
       "stream": "stdout",
       "text": [
        "\n",
        "now processing security CHK\n",
        "mean => 0.00055583839398 and std. deviation => 0.0273808160862 for security => CHK"
       ]
      },
      {
       "output_type": "stream",
       "stream": "stdout",
       "text": [
        "\n",
        "now processing security CVX\n",
        "mean => 0.000448676763651 and std. deviation => 0.0137406136996 for security => CVX"
       ]
      },
      {
       "output_type": "stream",
       "stream": "stdout",
       "text": [
        "\n",
        "now processing security CMG\n",
        "mean => 0.00182958653105 and std. deviation => 0.0222706676956 for security => CMG"
       ]
      },
      {
       "output_type": "stream",
       "stream": "stdout",
       "text": [
        "\n",
        "now processing security CB\n",
        "mean => 0.00066599552424 and std. deviation => 0.0137453400029 for security => CB"
       ]
      },
      {
       "output_type": "stream",
       "stream": "stdout",
       "text": [
        "\n",
        "now processing security CI\n",
        "mean => 0.00143318959445 and std. deviation => 0.021632788717 for security => CI"
       ]
      },
      {
       "output_type": "stream",
       "stream": "stdout",
       "text": [
        "\n",
        "now processing security XEC\n",
        "mean => 0.00117859967538 and std. deviation => 0.0259902976969 for security => XEC"
       ]
      },
      {
       "output_type": "stream",
       "stream": "stdout",
       "text": [
        "\n",
        "now processing security CINF\n",
        "mean => 0.000694247442588 and std. deviation => 0.0155218829203 for security => CINF"
       ]
      },
      {
       "output_type": "stream",
       "stream": "stdout",
       "text": [
        "\n",
        "now processing security CTAS\n",
        "mean => 0.000989034444754 and std. deviation => 0.0149581960514 for security => CTAS"
       ]
      },
      {
       "output_type": "stream",
       "stream": "stdout",
       "text": [
        "\n",
        "now processing security CSCO\n",
        "mean => 0.000563592040258 and std. deviation => 0.0181107288273 for security => CSCO"
       ]
      },
      {
       "output_type": "stream",
       "stream": "stdout",
       "text": [
        "\n",
        "now processing security C\n",
        "mean => 0.000491041659672 and std. deviation => 0.038306642845 for security => C"
       ]
      },
      {
       "output_type": "stream",
       "stream": "stdout",
       "text": [
        "\n",
        "now processing security CTXS\n",
        "mean => 0.000867052644618 and std. deviation => 0.0231037180542 for security => CTXS"
       ]
      },
      {
       "output_type": "stream",
       "stream": "stdout",
       "text": [
        "\n",
        "now processing security CLX\n",
        "mean => 0.000615684611963 and std. deviation => 0.0106380051675 for security => CLX"
       ]
      },
      {
       "output_type": "stream",
       "stream": "stdout",
       "text": [
        "\n",
        "now processing security CME\n",
        "mean => 0.000838730920005 and std. deviation => 0.0204916796353 for security => CME"
       ]
      },
      {
       "output_type": "stream",
       "stream": "stdout",
       "text": [
        "\n",
        "now processing security CMS\n",
        "mean => 0.00106068589926 and std. deviation => 0.0114755598654 for security => CMS"
       ]
      },
      {
       "output_type": "stream",
       "stream": "stdout",
       "text": [
        "\n",
        "now processing security COH\n",
        "mean => 0.000697528286828 and std. deviation => 0.0233226271348 for security => COH"
       ]
      },
      {
       "output_type": "stream",
       "stream": "stdout",
       "text": [
        "\n",
        "now processing security KO\n",
        "mean => 0.000590244710372 and std. deviation => 0.0105568114101 for security => KO"
       ]
      },
      {
       "output_type": "stream",
       "stream": "stdout",
       "text": [
        "\n",
        "now processing security CCE\n",
        "mean => 0.00129725143429 and std. deviation => 0.017574961686 for security => CCE"
       ]
      },
      {
       "output_type": "stream",
       "stream": "stdout",
       "text": [
        "\n",
        "now processing security CTSH\n",
        "mean => 0.00137421308912 and std. deviation => 0.0205566679272 for security => CTSH"
       ]
      },
      {
       "output_type": "stream",
       "stream": "stdout",
       "text": [
        "\n",
        "now processing security CL\n",
        "mean => 0.000587939554629 and std. deviation => 0.0104893834991 for security => CL"
       ]
      },
      {
       "output_type": "stream",
       "stream": "stdout",
       "text": [
        "\n",
        "now processing security CMCSA\n",
        "mean => 0.000973796941743 and std. deviation => 0.0172524396293 for security => CMCSA"
       ]
      },
      {
       "output_type": "stream",
       "stream": "stdout",
       "text": [
        "\n",
        "now processing security CMA\n",
        "mean => 0.000871804766556 and std. deviation => 0.0270360617138 for security => CMA"
       ]
      },
      {
       "output_type": "stream",
       "stream": "stdout",
       "text": [
        "\n",
        "now processing security CSC\n",
        "mean => 0.000636828771376 and std. deviation => 0.0207383299291 for security => CSC"
       ]
      },
      {
       "output_type": "stream",
       "stream": "stdout",
       "text": [
        "\n",
        "now processing security CAG\n",
        "mean => 0.000722711971708 and std. deviation => 0.0118443993746 for security => CAG"
       ]
      },
      {
       "output_type": "stream",
       "stream": "stdout",
       "text": [
        "\n",
        "now processing security COP\n",
        "mean => 0.000566629503035 and std. deviation => 0.0155601757901 for security => COP"
       ]
      },
      {
       "output_type": "stream",
       "stream": "stdout",
       "text": [
        "\n",
        "now processing security CNX\n",
        "mean => 0.000421013668885 and std. deviation => 0.0288054595849 for security => CNX"
       ]
      },
      {
       "output_type": "stream",
       "stream": "stdout",
       "text": [
        "\n",
        "now processing security ED\n",
        "mean => 0.000603174721043 and std. deviation => 0.00919511361582 for security => ED"
       ]
      },
      {
       "output_type": "stream",
       "stream": "stdout",
       "text": [
        "\n",
        "now processing security STZ\n",
        "mean => 0.00146797023801 and std. deviation => 0.0213148656235 for security => STZ"
       ]
      },
      {
       "output_type": "stream",
       "stream": "stdout",
       "text": [
        "\n",
        "now processing security GLW\n",
        "mean => 0.000875051581831 and std. deviation => 0.0216840478392 for security => GLW"
       ]
      },
      {
       "output_type": "stream",
       "stream": "stdout",
       "text": [
        "\n",
        "now processing security COST\n",
        "mean => 0.000810844823716 and std. deviation => 0.0122769787282 for security => COST"
       ]
      },
      {
       "output_type": "stream",
       "stream": "stdout",
       "text": [
        "\n",
        "now processing security COV\n",
        "mean => 0.000971253101091 and std. deviation => 0.015937023399 for security => COV"
       ]
      },
      {
       "output_type": "stream",
       "stream": "stdout",
       "text": [
        "\n",
        "now processing security CCI\n",
        "mean => 0.00118408779354 and std. deviation => 0.0173931603956 for security => CCI"
       ]
      },
      {
       "output_type": "stream",
       "stream": "stdout",
       "text": [
        "\n",
        "now processing security CSX\n",
        "mean => 0.00100863898266 and std. deviation => 0.0201326924533 for security => CSX"
       ]
      },
      {
       "output_type": "stream",
       "stream": "stdout",
       "text": [
        "\n",
        "now processing security CMI\n",
        "mean => 0.00144024105623 and std. deviation => 0.0253126218202 for security => CMI"
       ]
      },
      {
       "output_type": "stream",
       "stream": "stdout",
       "text": [
        "\n",
        "now processing security CVS\n",
        "mean => 0.000976089112407 and std. deviation => 0.0149124021533 for security => CVS"
       ]
      },
      {
       "output_type": "stream",
       "stream": "stdout",
       "text": [
        "\n",
        "now processing security DHI\n",
        "mean => 0.00122637909815 and std. deviation => 0.0294232804932 for security => DHI"
       ]
      },
      {
       "output_type": "stream",
       "stream": "stdout",
       "text": [
        "\n",
        "now processing security DHR\n",
        "mean => 0.000816837203294 and std. deviation => 0.0145782123017 for security => DHR"
       ]
      },
      {
       "output_type": "stream",
       "stream": "stdout",
       "text": [
        "\n",
        "now processing security DRI\n",
        "mean => 0.000796047656381 and std. deviation => 0.0186026018432 for security => DRI"
       ]
      },
      {
       "output_type": "stream",
       "stream": "stdout",
       "text": [
        "\n",
        "now processing security DVA\n",
        "mean => 0.000846925707079 and std. deviation => 0.0146350103447 for security => DVA"
       ]
      },
      {
       "output_type": "stream",
       "stream": "stdout",
       "text": [
        "\n",
        "now processing security DE\n",
        "mean => 0.000775731569174 and std. deviation => 0.0195122346399 for security => DE"
       ]
      },
      {
       "output_type": "stream",
       "stream": "stdout",
       "text": [
        "\n",
        "now processing security DLPH\n",
        "mean => 0.00163207772606 and std. deviation => 0.0153065908445 for security => DLPH"
       ]
      },
      {
       "output_type": "stream",
       "stream": "stdout",
       "text": [
        "\n",
        "now processing security DAL\n",
        "mean => 0.00144905047845 and std. deviation => 0.0316888608989 for security => DAL"
       ]
      },
      {
       "output_type": "stream",
       "stream": "stdout",
       "text": [
        "\n",
        "now processing security DNR\n",
        "mean => -2.6615190291e-05 and std. deviation => 0.027724318844 for security => DNR"
       ]
      },
      {
       "output_type": "stream",
       "stream": "stdout",
       "text": [
        "\n",
        "now processing security XRAY\n",
        "mean => 0.000498910148487 and std. deviation => 0.0147751615754 for security => XRAY"
       ]
      },
      {
       "output_type": "stream",
       "stream": "stdout",
       "text": [
        "\n",
        "now processing security DVN\n",
        "mean => 0.000169716056832 and std. deviation => 0.0203753919089 for security => DVN"
       ]
      },
      {
       "output_type": "stream",
       "stream": "stdout",
       "text": [
        "\n",
        "now processing security DO\n",
        "mean => 2.81215256267e-05 and std. deviation => 0.0204837764826 for security => DO"
       ]
      },
      {
       "output_type": "stream",
       "stream": "stdout",
       "text": [
        "\n",
        "now processing security DTV\n",
        "mean => 0.000938155057509 and std. deviation => 0.0149257048744 for security => DTV"
       ]
      },
      {
       "output_type": "stream",
       "stream": "stdout",
       "text": [
        "\n",
        "now processing security DFS\n",
        "mean => 0.00155569211044 and std. deviation => 0.0262055062915 for security => DFS"
       ]
      },
      {
       "output_type": "stream",
       "stream": "stdout",
       "text": [
        "\n",
        "now processing security DISCA\n",
        "mean => 0.0010683520964 and std. deviation => 0.0179829605771 for security => DISCA"
       ]
      },
      {
       "output_type": "stream",
       "stream": "stdout",
       "text": [
        "\n",
        "now processing security DISCK\n",
        "mean => 0.00110268393185 and std. deviation => 0.0179185067396 for security => DISCK"
       ]
      },
      {
       "output_type": "stream",
       "stream": "stdout",
       "text": [
        "\n",
        "now processing security DG\n",
        "mean => 0.000987317078924 and std. deviation => 0.0161817848487 for security => DG"
       ]
      },
      {
       "output_type": "stream",
       "stream": "stdout",
       "text": [
        "\n",
        "now processing security DLTR\n",
        "mean => 0.00120216635478 and std. deviation => 0.015960204722 for security => DLTR"
       ]
      },
      {
       "output_type": "stream",
       "stream": "stdout",
       "text": [
        "\n",
        "now processing security D\n",
        "mean => 0.000728316145726 and std. deviation => 0.0105701355902 for security => D"
       ]
      },
      {
       "output_type": "stream",
       "stream": "stdout",
       "text": [
        "\n",
        "now processing security DOV\n",
        "mean => 0.000837615119853 and std. deviation => 0.0185632366785 for security => DOV"
       ]
      },
      {
       "output_type": "stream",
       "stream": "stdout",
       "text": [
        "\n",
        "now processing security DOW\n",
        "mean => 0.00113722108893 and std. deviation => 0.0251403948938 for security => DOW"
       ]
      },
      {
       "output_type": "stream",
       "stream": "stdout",
       "text": [
        "\n",
        "now processing security DPS\n",
        "mean => 0.00124015783533 and std. deviation => 0.0153879959653 for security => DPS"
       ]
      },
      {
       "output_type": "stream",
       "stream": "stdout",
       "text": [
        "\n",
        "now processing security DTE\n",
        "mean => 0.000852548849225 and std. deviation => 0.0114431039162 for security => DTE"
       ]
      },
      {
       "output_type": "stream",
       "stream": "stdout",
       "text": [
        "\n",
        "now processing security DD\n",
        "mean => 0.000975268252983 and std. deviation => 0.0171568471751 for security => DD"
       ]
      },
      {
       "output_type": "stream",
       "stream": "stdout",
       "text": [
        "\n",
        "now processing security DUK\n",
        "mean => 0.000674638044078 and std. deviation => 0.00965927772376 for security => DUK"
       ]
      },
      {
       "output_type": "stream",
       "stream": "stdout",
       "text": [
        "\n",
        "now processing security DNB\n",
        "mean => 0.000455184296986 and std. deviation => 0.0146129499597 for security => DNB"
       ]
      },
      {
       "output_type": "stream",
       "stream": "stdout",
       "text": [
        "\n",
        "now processing security ETFC\n",
        "mean => 0.00109840080664 and std. deviation => 0.0372835019672 for security => ETFC"
       ]
      },
      {
       "output_type": "stream",
       "stream": "stdout",
       "text": [
        "\n",
        "now processing security EMN\n",
        "mean => 0.00127741052952 and std. deviation => 0.0218929066168 for security => EMN"
       ]
      },
      {
       "output_type": "stream",
       "stream": "stdout",
       "text": [
        "\n",
        "now processing security ETN\n",
        "mean => 0.000934442544494 and std. deviation => 0.0195393878874 for security => ETN"
       ]
      },
      {
       "output_type": "stream",
       "stream": "stdout",
       "text": [
        "\n",
        "now processing security EBAY\n",
        "mean => 0.00110210349784 and std. deviation => 0.0207403915122 for security => EBAY"
       ]
      },
      {
       "output_type": "stream",
       "stream": "stdout",
       "text": [
        "\n",
        "now processing security ECL\n",
        "mean => 0.000846840711648 and std. deviation => 0.0130684654093 for security => ECL"
       ]
      },
      {
       "output_type": "stream",
       "stream": "stdout",
       "text": [
        "\n",
        "now processing security EIX\n",
        "mean => 0.000677938636238 and std. deviation => 0.0121865169879 for security => EIX"
       ]
      },
      {
       "output_type": "stream",
       "stream": "stdout",
       "text": [
        "\n",
        "now processing security EW\n",
        "mean => 0.00120378399237 and std. deviation => 0.0197105428721 for security => EW"
       ]
      },
      {
       "output_type": "stream",
       "stream": "stdout",
       "text": [
        "\n",
        "now processing security EA\n",
        "mean => 0.000986040782497 and std. deviation => 0.0245734216991 for security => EA"
       ]
      },
      {
       "output_type": "stream",
       "stream": "stdout",
       "text": [
        "\n",
        "now processing security EMC\n",
        "mean => 0.000803625459096 and std. deviation => 0.0172084456843 for security => EMC"
       ]
      },
      {
       "output_type": "stream",
       "stream": "stdout",
       "text": [
        "\n",
        "now processing security EMR\n",
        "mean => 0.000539270803174 and std. deviation => 0.0169346866335 for security => EMR"
       ]
      },
      {
       "output_type": "stream",
       "stream": "stdout",
       "text": [
        "\n",
        "now processing security ESV\n",
        "mean => 0.000350372950407 and std. deviation => 0.0229593159458 for security => ESV"
       ]
      },
      {
       "output_type": "stream",
       "stream": "stdout",
       "text": [
        "\n",
        "now processing security ETR\n",
        "mean => 0.000288848425706 and std. deviation => 0.0118668044791 for security => ETR"
       ]
      },
      {
       "output_type": "stream",
       "stream": "stdout",
       "text": [
        "\n",
        "now processing security EOG\n",
        "mean => 0.000906339888669 and std. deviation => 0.0227360618028 for security => EOG"
       ]
      },
      {
       "output_type": "stream",
       "stream": "stdout",
       "text": [
        "\n",
        "now processing security EQT\n",
        "mean => 0.000773088438859 and std. deviation => 0.0206588234861 for security => EQT"
       ]
      },
      {
       "output_type": "stream",
       "stream": "stdout",
       "text": [
        "\n",
        "now processing security EFX\n",
        "mean => 0.000893428074258 and std. deviation => 0.0144269205602 for security => EFX"
       ]
      },
      {
       "output_type": "stream",
       "stream": "stdout",
       "text": [
        "\n",
        "now processing security EQR\n",
        "mean => 0.00112269666469 and std. deviation => 0.0243625924835 for security => EQR"
       ]
      },
      {
       "output_type": "stream",
       "stream": "stdout",
       "text": [
        "\n",
        "now processing security ESS\n",
        "mean => 0.00106556942307 and std. deviation => 0.0196032397168 for security => ESS"
       ]
      },
      {
       "output_type": "stream",
       "stream": "stdout",
       "text": [
        "\n",
        "now processing security EL\n",
        "mean => 0.00120063956956 and std. deviation => 0.0189296275258 for security => EL"
       ]
      },
      {
       "output_type": "stream",
       "stream": "stdout",
       "text": [
        "\n",
        "now processing security EXC\n",
        "mean => -7.96428485461e-06 and std. deviation => 0.0130974009883 for security => EXC"
       ]
      },
      {
       "output_type": "stream",
       "stream": "stdout",
       "text": [
        "\n",
        "now processing security EXPE\n",
        "mean => 0.00172413946848 and std. deviation => 0.0292999699271 for security => EXPE"
       ]
      },
      {
       "output_type": "stream",
       "stream": "stdout",
       "text": [
        "\n",
        "now processing security EXPD\n",
        "mean => 0.000386084806369 and std. deviation => 0.0185186143039 for security => EXPD"
       ]
      },
      {
       "output_type": "stream",
       "stream": "stdout",
       "text": [
        "\n",
        "now processing security ESRX\n",
        "mean => 0.000876077609186 and std. deviation => 0.017760529371 for security => ESRX"
       ]
      },
      {
       "output_type": "stream",
       "stream": "stdout",
       "text": [
        "\n",
        "now processing security XOM\n",
        "mean => 0.000247172514974 and std. deviation => 0.0123555378081 for security => XOM"
       ]
      },
      {
       "output_type": "stream",
       "stream": "stdout",
       "text": [
        "\n",
        "now processing security FFIV\n",
        "mean => 0.00140882234058 and std. deviation => 0.0267386763838 for security => FFIV"
       ]
      },
      {
       "output_type": "stream",
       "stream": "stdout",
       "text": [
        "\n",
        "now processing security FB\n",
        "mean => 0.00149011304274 and std. deviation => 0.0298868849346 for security => FB"
       ]
      },
      {
       "output_type": "stream",
       "stream": "stdout",
       "text": [
        "\n",
        "now processing security FDO\n",
        "mean => 0.000945557084768 and std. deviation => 0.0189740591664 for security => FDO"
       ]
      },
      {
       "output_type": "stream",
       "stream": "stdout",
       "text": [
        "\n",
        "now processing security FAST\n",
        "mean => 0.000871079280138 and std. deviation => 0.0186329120165 for security => FAST"
       ]
      },
      {
       "output_type": "stream",
       "stream": "stdout",
       "text": [
        "\n",
        "now processing security FDX\n",
        "mean => 0.000864139555047 and std. deviation => 0.0190313100894 for security => FDX"
       ]
      },
      {
       "output_type": "stream",
       "stream": "stdout",
       "text": [
        "\n",
        "now processing security FIS\n",
        "mean => 0.00103628362905 and std. deviation => 0.0149728885034 for security => FIS"
       ]
      },
      {
       "output_type": "stream",
       "stream": "stdout",
       "text": [
        "\n",
        "now processing security FITB\n",
        "mean => 0.00145406419923 and std. deviation => 0.0442345426241 for security => FITB"
       ]
      },
      {
       "output_type": "stream",
       "stream": "stdout",
       "text": [
        "\n",
        "now processing security FSLR\n",
        "mean => -5.98742192261e-05 and std. deviation => 0.0396281252801 for security => FSLR"
       ]
      },
      {
       "output_type": "stream",
       "stream": "stdout",
       "text": [
        "\n",
        "now processing security FE\n",
        "mean => 0.0001850539783 and std. deviation => 0.0139103169723 for security => FE"
       ]
      },
      {
       "output_type": "stream",
       "stream": "stdout",
       "text": [
        "\n",
        "now processing security FISV\n",
        "mean => 0.00098109047888 and std. deviation => 0.0134984055591 for security => FISV"
       ]
      },
      {
       "output_type": "stream",
       "stream": "stdout",
       "text": [
        "\n",
        "now processing security FLIR\n",
        "mean => 0.000189433298958 and std. deviation => 0.0188489427147 for security => FLIR"
       ]
      },
      {
       "output_type": "stream",
       "stream": "stdout",
       "text": [
        "\n",
        "now processing security FLS\n",
        "mean => 0.00102182703036 and std. deviation => 0.022437086112 for security => FLS"
       ]
      },
      {
       "output_type": "stream",
       "stream": "stdout",
       "text": [
        "\n",
        "now processing security FLR\n",
        "mean => 0.000388634955246 and std. deviation => 0.0229730734557 for security => FLR"
       ]
      },
      {
       "output_type": "stream",
       "stream": "stdout",
       "text": [
        "\n",
        "now processing security FMC\n",
        "mean => 0.000829157860194 and std. deviation => 0.0190721832028 for security => FMC"
       ]
      },
      {
       "output_type": "stream",
       "stream": "stdout",
       "text": [
        "\n",
        "now processing security FTI\n",
        "mean => 0.000998905656995 and std. deviation => 0.023480596212 for security => FTI"
       ]
      },
      {
       "output_type": "stream",
       "stream": "stdout",
       "text": [
        "\n",
        "now processing security F\n",
        "mean => 0.0015345608056 and std. deviation => 0.0246515150343 for security => F"
       ]
      },
      {
       "output_type": "stream",
       "stream": "stdout",
       "text": [
        "\n",
        "now processing security FOSL\n",
        "mean => 0.00158133184014 and std. deviation => 0.029269087475 for security => FOSL"
       ]
      },
      {
       "output_type": "stream",
       "stream": "stdout",
       "text": [
        "\n",
        "now processing security BEN\n",
        "mean => 0.000889765530668 and std. deviation => 0.021201059566 for security => BEN"
       ]
      },
      {
       "output_type": "stream",
       "stream": "stdout",
       "text": [
        "\n",
        "now processing security FCX\n",
        "mean => 0.0007573149573 and std. deviation => 0.0273661144442 for security => FCX"
       ]
      },
      {
       "output_type": "stream",
       "stream": "stdout",
       "text": [
        "\n",
        "now processing security FTR\n",
        "mean => 0.000429213883543 and std. deviation => 0.0198341491105 for security => FTR"
       ]
      },
      {
       "output_type": "stream",
       "stream": "stdout",
       "text": [
        "\n",
        "now processing security GME\n",
        "mean => 0.000711815108095 and std. deviation => 0.02560861804 for security => GME"
       ]
      },
      {
       "output_type": "stream",
       "stream": "stdout",
       "text": [
        "\n",
        "now processing security GCI\n",
        "mean => 0.00155815794649 and std. deviation => 0.0345021227226 for security => GCI"
       ]
      },
      {
       "output_type": "stream",
       "stream": "stdout",
       "text": [
        "\n",
        "now processing security GPS\n",
        "mean => 0.00100974330885 and std. deviation => 0.0203090479817 for security => GPS"
       ]
      },
      {
       "output_type": "stream",
       "stream": "stdout",
       "text": [
        "\n",
        "now processing security GRMN\n",
        "mean => 0.000981832311327 and std. deviation => 0.0221416602316 for security => GRMN"
       ]
      },
      {
       "output_type": "stream",
       "stream": "stdout",
       "text": [
        "\n",
        "now processing security GD\n",
        "mean => 0.000786584995572 and std. deviation => 0.0151023062008 for security => GD"
       ]
      },
      {
       "output_type": "stream",
       "stream": "stdout",
       "text": [
        "\n",
        "now processing security GE\n",
        "mean => 0.000564056990452 and std. deviation => 0.0193842932658 for security => GE"
       ]
      },
      {
       "output_type": "stream",
       "stream": "stdout",
       "text": [
        "\n",
        "now processing security GGP\n",
        "mean => 0.00347023189943 and std. deviation => 0.0502310257564 for security => GGP"
       ]
      },
      {
       "output_type": "stream",
       "stream": "stdout",
       "text": [
        "\n",
        "now processing security GIS\n",
        "mean => 0.000568668711143 and std. deviation => 0.0102754369243 for security => GIS"
       ]
      },
      {
       "output_type": "stream",
       "stream": "stdout",
       "text": [
        "\n",
        "now processing security GM\n",
        "mean => 0.000210697431016 and std. deviation => 0.0194964783583 for security => GM"
       ]
      },
      {
       "output_type": "stream",
       "stream": "stdout",
       "text": [
        "\n",
        "now processing security GPC\n",
        "mean => 0.000835184321514 and std. deviation => 0.0141272445285 for security => GPC"
       ]
      },
      {
       "output_type": "stream",
       "stream": "stdout",
       "text": [
        "\n",
        "now processing security GNW\n",
        "mean => 0.00156836904311 and std. deviation => 0.0437325111115 for security => GNW"
       ]
      },
      {
       "output_type": "stream",
       "stream": "stdout",
       "text": [
        "\n",
        "now processing security GILD\n",
        "mean => 0.0010971818753 and std. deviation => 0.0189401090761 for security => GILD"
       ]
      },
      {
       "output_type": "stream",
       "stream": "stdout",
       "text": [
        "\n",
        "now processing security GS\n",
        "mean => 0.000781963748614 and std. deviation => 0.0224552851847 for security => GS"
       ]
      },
      {
       "output_type": "stream",
       "stream": "stdout",
       "text": [
        "\n",
        "now processing security GT\n",
        "mean => 0.00140458940955 and std. deviation => 0.0316581483766 for security => GT"
       ]
      },
      {
       "output_type": "stream",
       "stream": "stdout",
       "text": [
        "\n",
        "now processing security GOOGL\n",
        "mean => 0.000928913294012 and std. deviation => 0.0162628157315 for security => GOOGL"
       ]
      },
      {
       "output_type": "stream",
       "stream": "stdout",
       "text": [
        "\n",
        "now processing security GOOG\n",
        "mean => -7.32922134198e-05 and std. deviation => 0.013335159428 for security => GOOG"
       ]
      },
      {
       "output_type": "stream",
       "stream": "stdout",
       "text": [
        "\n",
        "now processing security GWW\n",
        "mean => 0.000913742210555 and std. deviation => 0.0151013463816 for security => GWW"
       ]
      },
      {
       "output_type": "stream",
       "stream": "stdout",
       "text": [
        "\n",
        "now processing security HAL\n",
        "mean => 0.00084378836345 and std. deviation => 0.0247502836206 for security => HAL"
       ]
      },
      {
       "output_type": "stream",
       "stream": "stdout",
       "text": [
        "\n",
        "now processing security HOG\n",
        "mean => 0.00123086421225 and std. deviation => 0.0262400400805 for security => HOG"
       ]
      },
      {
       "output_type": "stream",
       "stream": "stdout",
       "text": [
        "\n",
        "now processing security HAR\n",
        "mean => 0.00158943843015 and std. deviation => 0.0294410157835 for security => HAR"
       ]
      },
      {
       "output_type": "stream",
       "stream": "stdout",
       "text": [
        "\n",
        "now processing security HRS\n",
        "mean => 0.000654686966771 and std. deviation => 0.0176838184352 for security => HRS"
       ]
      },
      {
       "output_type": "stream",
       "stream": "stdout",
       "text": [
        "\n",
        "now processing security HIG\n",
        "mean => 0.00136444004166 and std. deviation => 0.0385523790133 for security => HIG"
       ]
      },
      {
       "output_type": "stream",
       "stream": "stdout",
       "text": [
        "\n",
        "now processing security HAS\n",
        "mean => 0.000658214251573 and std. deviation => 0.0161644253398 for security => HAS"
       ]
      },
      {
       "output_type": "stream",
       "stream": "stdout",
       "text": [
        "\n",
        "now processing security HCP\n",
        "mean => 0.00087105920142 and std. deviation => 0.0228115667106 for security => HCP"
       ]
      },
      {
       "output_type": "stream",
       "stream": "stdout",
       "text": [
        "\n",
        "now processing security HCN\n",
        "mean => 0.000874746331808 and std. deviation => 0.0184673275713 for security => HCN"
       ]
      },
      {
       "output_type": "stream",
       "stream": "stdout",
       "text": [
        "\n",
        "now processing security HP\n",
        "mean => 0.00099356732155 and std. deviation => 0.0262167877266 for security => HP"
       ]
      },
      {
       "output_type": "stream",
       "stream": "stdout",
       "text": [
        "\n",
        "now processing security HES\n",
        "mean => 0.00041510210898 and std. deviation => 0.0220157571402 for security => HES"
       ]
      },
      {
       "output_type": "stream",
       "stream": "stdout",
       "text": [
        "\n",
        "now processing security HPQ\n",
        "mean => 0.000348519304549 and std. deviation => 0.0211870228319 for security => HPQ"
       ]
      },
      {
       "output_type": "stream",
       "stream": "stdout",
       "text": [
        "\n",
        "now processing security HD\n",
        "mean => 0.00118706657489 and std. deviation => 0.0150667021967 for security => HD"
       ]
      },
      {
       "output_type": "stream",
       "stream": "stdout",
       "text": [
        "\n",
        "now processing security HON\n",
        "mean => 0.0009500908334 and std. deviation => 0.0164972778009 for security => HON"
       ]
      },
      {
       "output_type": "stream",
       "stream": "stdout",
       "text": [
        "\n",
        "now processing security HRL\n",
        "mean => 0.000941578094761 and std. deviation => 0.0111760998309 for security => HRL"
       ]
      },
      {
       "output_type": "stream",
       "stream": "stdout",
       "text": [
        "\n",
        "now processing security HSP\n",
        "mean => 0.000728764634881 and std. deviation => 0.0177320237606 for security => HSP"
       ]
      },
      {
       "output_type": "stream",
       "stream": "stdout",
       "text": [
        "\n",
        "now processing security HST\n",
        "mean => 0.00129095360031 and std. deviation => 0.0307678957857 for security => HST"
       ]
      },
      {
       "output_type": "stream",
       "stream": "stdout",
       "text": [
        "\n",
        "now processing security HCBK\n",
        "mean => 3.19542691177e-05 and std. deviation => 0.0206758400413 for security => HCBK"
       ]
      },
      {
       "output_type": "stream",
       "stream": "stdout",
       "text": [
        "\n",
        "now processing security HUM\n",
        "mean => 0.00119399978651 and std. deviation => 0.0218562996615 for security => HUM"
       ]
      },
      {
       "output_type": "stream",
       "stream": "stdout",
       "text": [
        "\n",
        "now processing security HBAN\n",
        "mean => 0.00114459222247 and std. deviation => 0.0431710931383 for security => HBAN"
       ]
      },
      {
       "output_type": "stream",
       "stream": "stdout",
       "text": [
        "\n",
        "now processing security ITW\n",
        "mean => 0.00084603359149 and std. deviation => 0.0160563292728 for security => ITW"
       ]
      },
      {
       "output_type": "stream",
       "stream": "stdout",
       "text": [
        "\n",
        "now processing security IR\n",
        "mean => 0.00125555717713 and std. deviation => 0.0219514200833 for security => IR"
       ]
      },
      {
       "output_type": "stream",
       "stream": "stdout",
       "text": [
        "\n",
        "now processing security TEG\n",
        "mean => 0.000744913418428 and std. deviation => 0.0150691600358 for security => TEG"
       ]
      },
      {
       "output_type": "stream",
       "stream": "stdout",
       "text": [
        "\n",
        "now processing security INTC\n",
        "mean => 0.000842121022878 and std. deviation => 0.0164283717343 for security => INTC"
       ]
      },
      {
       "output_type": "stream",
       "stream": "stdout",
       "text": [
        "\n",
        "now processing security ICE\n",
        "mean => 0.000856036619979 and std. deviation => 0.0213086398472 for security => ICE"
       ]
      },
      {
       "output_type": "stream",
       "stream": "stdout",
       "text": [
        "\n",
        "now processing security IBM\n",
        "mean => 0.000538098427397 and std. deviation => 0.0128535020829 for security => IBM"
       ]
      },
      {
       "output_type": "stream",
       "stream": "stdout",
       "text": [
        "\n",
        "now processing security IP\n",
        "mean => 0.00145430470002 and std. deviation => 0.0270345169663 for security => IP"
       ]
      },
      {
       "output_type": "stream",
       "stream": "stdout",
       "text": [
        "\n",
        "now processing security IPG\n",
        "mean => 0.00141929627331 and std. deviation => 0.0257674758453 for security => IPG"
       ]
      },
      {
       "output_type": "stream",
       "stream": "stdout",
       "text": [
        "\n",
        "now processing security IFF\n",
        "mean => 0.00102409646892 and std. deviation => 0.0146057866115 for security => IFF"
       ]
      },
      {
       "output_type": "stream",
       "stream": "stdout",
       "text": [
        "\n",
        "now processing security INTU\n",
        "mean => 0.00100565732429 and std. deviation => 0.0160669367886 for security => INTU"
       ]
      },
      {
       "output_type": "stream",
       "stream": "stdout",
       "text": [
        "\n",
        "now processing security ISRG\n",
        "mean => 0.00116858290977 and std. deviation => 0.023602518164 for security => ISRG"
       ]
      },
      {
       "output_type": "stream",
       "stream": "stdout",
       "text": [
        "\n",
        "now processing security IVZ\n",
        "mean => 0.00103411295967 and std. deviation => 0.0262589818655 for security => IVZ"
       ]
      },
      {
       "output_type": "stream",
       "stream": "stdout",
       "text": [
        "\n",
        "now processing security IRM\n",
        "mean => 0.000750008610739 and std. deviation => 0.0187483344012 for security => IRM"
       ]
      },
      {
       "output_type": "stream",
       "stream": "stdout",
       "text": [
        "\n",
        "now processing security JEC\n",
        "mean => 9.9205659944e-05 and std. deviation => 0.0225084605067 for security => JEC"
       ]
      },
      {
       "output_type": "stream",
       "stream": "stdout",
       "text": [
        "\n",
        "now processing security JNJ\n",
        "mean => 0.00051322548835 and std. deviation => 0.009100001509 for security => JNJ"
       ]
      },
      {
       "output_type": "stream",
       "stream": "stdout",
       "text": [
        "\n",
        "now processing security JCI\n",
        "mean => 0.000933265271452 and std. deviation => 0.0226072192073 for security => JCI"
       ]
      },
      {
       "output_type": "stream",
       "stream": "stdout",
       "text": [
        "\n",
        "now processing security JOY\n",
        "mean => 0.000803377138396 and std. deviation => 0.0280343456001 for security => JOY"
       ]
      },
      {
       "output_type": "stream",
       "stream": "stdout",
       "text": [
        "\n",
        "now processing security JPM\n",
        "mean => 0.000813521675403 and std. deviation => 0.0265302719319 for security => JPM"
       ]
      },
      {
       "output_type": "stream",
       "stream": "stdout",
       "text": [
        "\n",
        "now processing security JNPR\n",
        "mean => 0.000442655242264 and std. deviation => 0.0251951423459 for security => JNPR"
       ]
      },
      {
       "output_type": "stream",
       "stream": "stdout",
       "text": [
        "\n",
        "now processing security KSU\n",
        "mean => 0.00140321603162 and std. deviation => 0.0240744285961 for security => KSU"
       ]
      },
      {
       "output_type": "stream",
       "stream": "stdout",
       "text": [
        "\n",
        "now processing security K\n",
        "mean => 0.000452319165012 and std. deviation => 0.0103252239322 for security => K"
       ]
      },
      {
       "output_type": "stream",
       "stream": "stdout",
       "text": [
        "\n",
        "now processing security KEY\n",
        "mean => 0.000850038413386 and std. deviation => 0.0324476081457 for security => KEY"
       ]
      },
      {
       "output_type": "stream",
       "stream": "stdout",
       "text": [
        "\n",
        "now processing security GMCR\n",
        "mean => 0.00265329797905 and std. deviation => 0.0411707103653 for security => GMCR"
       ]
      },
      {
       "output_type": "stream",
       "stream": "stdout",
       "text": [
        "\n",
        "now processing security KMB\n",
        "mean => 0.000706702018656 and std. deviation => 0.00980182220328 for security => KMB"
       ]
      },
      {
       "output_type": "stream",
       "stream": "stdout",
       "text": [
        "\n",
        "now processing security KIM\n",
        "mean => 0.000868241567169 and std. deviation => 0.0282336352638 for security => KIM"
       ]
      },
      {
       "output_type": "stream",
       "stream": "stdout",
       "text": [
        "\n",
        "now processing security KMI\n",
        "mean => 0.000568572324813 and std. deviation => 0.0144078279876 for security => KMI"
       ]
      },
      {
       "output_type": "stream",
       "stream": "stdout",
       "text": [
        "\n",
        "now processing security KLAC\n",
        "mean => 0.00116853799928 and std. deviation => 0.0209001518982 for security => KLAC"
       ]
      },
      {
       "output_type": "stream",
       "stream": "stdout",
       "text": [
        "\n",
        "now processing security KSS\n",
        "mean => 0.000531390100881 and std. deviation => 0.0176005458919 for security => KSS"
       ]
      },
      {
       "output_type": "stream",
       "stream": "stdout",
       "text": [
        "\n",
        "now processing security KRFT\n",
        "mean => 0.000888070250244 and std. deviation => 0.0110431038582 for security => KRFT"
       ]
      },
      {
       "output_type": "stream",
       "stream": "stdout",
       "text": [
        "\n",
        "now processing security KR\n",
        "mean => 0.000784151067061 and std. deviation => 0.0139120890259 for security => KR"
       ]
      },
      {
       "output_type": "stream",
       "stream": "stdout",
       "text": [
        "\n",
        "now processing security LB\n",
        "mean => 0.00185775395394 and std. deviation => 0.0218075143555 for security => LB"
       ]
      },
      {
       "output_type": "stream",
       "stream": "stdout",
       "text": [
        "\n",
        "now processing security LLL\n",
        "mean => 0.000532401617027 and std. deviation => 0.0140605239779 for security => LLL"
       ]
      },
      {
       "output_type": "stream",
       "stream": "stdout",
       "text": [
        "\n",
        "now processing security LH\n",
        "mean => 0.0004705971975 and std. deviation => 0.012802069828 for security => LH"
       ]
      },
      {
       "output_type": "stream",
       "stream": "stdout",
       "text": [
        "\n",
        "now processing security LRCX\n",
        "mean => 0.00110581828782 and std. deviation => 0.022428726248 for security => LRCX"
       ]
      },
      {
       "output_type": "stream",
       "stream": "stdout",
       "text": [
        "\n",
        "now processing security LM\n",
        "mean => 0.000988873612672 and std. deviation => 0.0266365183107 for security => LM"
       ]
      },
      {
       "output_type": "stream",
       "stream": "stdout",
       "text": [
        "\n",
        "now processing security LEG\n",
        "mean => 0.00102997555694 and std. deviation => 0.0178539027995 for security => LEG"
       ]
      },
      {
       "output_type": "stream",
       "stream": "stdout",
       "text": [
        "\n",
        "now processing security LEN\n",
        "mean => 0.00159722830799 and std. deviation => 0.0329748333463 for security => LEN"
       ]
      },
      {
       "output_type": "stream",
       "stream": "stdout",
       "text": [
        "\n",
        "now processing security LVLT\n",
        "mean => 0.00164969296999 and std. deviation => 0.0362967165881 for security => LVLT"
       ]
      },
      {
       "output_type": "stream",
       "stream": "stdout",
       "text": [
        "\n",
        "now processing security LUK\n",
        "mean => 0.000414234016804 and std. deviation => 0.025269559135 for security => LUK"
       ]
      },
      {
       "output_type": "stream",
       "stream": "stdout",
       "text": [
        "\n",
        "now processing security LLY\n",
        "mean => 0.00063526970772 and std. deviation => 0.0121661701088 for security => LLY"
       ]
      },
      {
       "output_type": "stream",
       "stream": "stdout",
       "text": [
        "\n",
        "now processing security LNC\n",
        "mean => 0.00146184006294 and std. deviation => 0.039777706862 for security => LNC"
       ]
      },
      {
       "output_type": "stream",
       "stream": "stdout",
       "text": [
        "\n",
        "now processing security LLTC\n",
        "mean => 0.00071597294927 and std. deviation => 0.0159463804447 for security => LLTC"
       ]
      },
      {
       "output_type": "stream",
       "stream": "stdout",
       "text": [
        "\n",
        "now processing security LMT\n",
        "mean => 0.000789767736708 and std. deviation => 0.0133894316526 for security => LMT"
       ]
      },
      {
       "output_type": "stream",
       "stream": "stdout",
       "text": [
        "\n",
        "now processing security L\n",
        "mean => 0.000341268918726 and std. deviation => 0.0161480336258 for security => L"
       ]
      },
      {
       "output_type": "stream",
       "stream": "stdout",
       "text": [
        "\n",
        "now processing security LO\n",
        "mean => 0.00114601952157 and std. deviation => 0.014738580961 for security => LO"
       ]
      },
      {
       "output_type": "stream",
       "stream": "stdout",
       "text": [
        "\n",
        "now processing security LOW\n",
        "mean => 0.000970821098394 and std. deviation => 0.0177492970884 for security => LOW"
       ]
      },
      {
       "output_type": "stream",
       "stream": "stdout",
       "text": [
        "\n",
        "now processing security LYB\n",
        "mean => 0.00161405028618 and std. deviation => 0.0230656650723 for security => LYB"
       ]
      },
      {
       "output_type": "stream",
       "stream": "stdout",
       "text": [
        "\n",
        "now processing security MTB\n",
        "mean => 0.00082661760754 and std. deviation => 0.0217085997258 for security => MTB"
       ]
      },
      {
       "output_type": "stream",
       "stream": "stdout",
       "text": [
        "\n",
        "now processing security MAC\n",
        "mean => 0.00172236015207 and std. deviation => 0.0322019496336 for security => MAC"
       ]
      },
      {
       "output_type": "stream",
       "stream": "stdout",
       "text": [
        "\n",
        "now processing security M\n",
        "mean => 0.00154171782979 and std. deviation => 0.0245928038075 for security => M"
       ]
      },
      {
       "output_type": "stream",
       "stream": "stdout",
       "text": [
        "\n",
        "now processing security MNK\n",
        "mean => 0.00234339079049 and std. deviation => 0.0199707905159 for security => MNK"
       ]
      },
      {
       "output_type": "stream",
       "stream": "stdout",
       "text": [
        "\n",
        "now processing security MRO\n",
        "mean => 0.000593674261278 and std. deviation => 0.0206042127586 for security => MRO"
       ]
      },
      {
       "output_type": "stream",
       "stream": "stdout",
       "text": [
        "\n",
        "now processing security MPC\n",
        "mean => 0.00129534971967 and std. deviation => 0.0228818030797 for security => MPC"
       ]
      },
      {
       "output_type": "stream",
       "stream": "stdout",
       "text": [
        "\n",
        "now processing security MAR\n",
        "mean => 0.00119222102759 and std. deviation => 0.0204564897326 for security => MAR"
       ]
      },
      {
       "output_type": "stream",
       "stream": "stdout",
       "text": [
        "\n",
        "now processing security MMC\n",
        "mean => 0.000760981457923 and std. deviation => 0.0143833790136 for security => MMC"
       ]
      },
      {
       "output_type": "stream",
       "stream": "stdout",
       "text": [
        "\n",
        "now processing security MAS\n",
        "mean => 0.00104591231974 and std. deviation => 0.0296382221431 for security => MAS"
       ]
      },
      {
       "output_type": "stream",
       "stream": "stdout",
       "text": [
        "\n",
        "now processing security MA\n",
        "mean => 0.00134421813496 and std. deviation => 0.0197810720179 for security => MA"
       ]
      },
      {
       "output_type": "stream",
       "stream": "stdout",
       "text": [
        "\n",
        "now processing security MAT\n",
        "mean => 0.000632476111275 and std. deviation => 0.0170880730269 for security => MAT"
       ]
      },
      {
       "output_type": "stream",
       "stream": "stdout",
       "text": [
        "\n",
        "now processing security MKC\n",
        "mean => 0.000697600187198 and std. deviation => 0.0106930137084 for security => MKC"
       ]
      },
      {
       "output_type": "stream",
       "stream": "stdout",
       "text": [
        "\n",
        "now processing security MCD\n",
        "mean => 0.000400549825678 and std. deviation => 0.00999031206477 for security => MCD"
       ]
      },
      {
       "output_type": "stream",
       "stream": "stdout",
       "text": [
        "\n",
        "now processing security MHFI\n",
        "mean => 0.0011420255567 and std. deviation => 0.0191314258394 for security => MHFI"
       ]
      },
      {
       "output_type": "stream",
       "stream": "stdout",
       "text": [
        "\n",
        "now processing security MCK\n",
        "mean => 0.0012758366084 and std. deviation => 0.0150703573153 for security => MCK"
       ]
      },
      {
       "output_type": "stream",
       "stream": "stdout",
       "text": [
        "\n",
        "now processing security MJN\n",
        "mean => 0.0010812854881 and std. deviation => 0.0164997673743 for security => MJN"
       ]
      },
      {
       "output_type": "stream",
       "stream": "stdout",
       "text": [
        "\n",
        "now processing security MWV\n",
        "mean => 0.0012714176811 and std. deviation => 0.0206233384714 for security => MWV"
       ]
      },
      {
       "output_type": "stream",
       "stream": "stdout",
       "text": [
        "\n",
        "now processing security MDT\n",
        "mean => 0.000760724623153 and std. deviation => 0.0146319263194 for security => MDT"
       ]
      },
      {
       "output_type": "stream",
       "stream": "stdout",
       "text": [
        "\n",
        "now processing security MRK\n",
        "mean => 0.000724786172944 and std. deviation => 0.0142500043234 for security => MRK"
       ]
      },
      {
       "output_type": "stream",
       "stream": "stdout",
       "text": [
        "\n",
        "now processing security MET\n",
        "mean => 0.000727863397925 and std. deviation => 0.0297335204702 for security => MET"
       ]
      },
      {
       "output_type": "stream",
       "stream": "stdout",
       "text": [
        "\n",
        "now processing security KORS\n",
        "mean => 0.00166627754701 and std. deviation => 0.0254943327206 for security => KORS"
       ]
      },
      {
       "output_type": "stream",
       "stream": "stdout",
       "text": [
        "\n",
        "now processing security MCHP\n",
        "mean => 0.000874075752822 and std. deviation => 0.0165852834594 for security => MCHP"
       ]
      },
      {
       "output_type": "stream",
       "stream": "stdout",
       "text": [
        "\n",
        "now processing security MU\n",
        "mean => 0.00212810617073 and std. deviation => 0.0336077468762 for security => MU"
       ]
      },
      {
       "output_type": "stream",
       "stream": "stdout",
       "text": [
        "\n",
        "now processing security MSFT\n",
        "mean => 0.000779952042925 and std. deviation => 0.0158631973873 for security => MSFT"
       ]
      },
      {
       "output_type": "stream",
       "stream": "stdout",
       "text": [
        "\n",
        "now processing security MHK\n",
        "mean => 0.00120719460483 and std. deviation => 0.0260485151445 for security => MHK"
       ]
      },
      {
       "output_type": "stream",
       "stream": "stdout",
       "text": [
        "\n",
        "now processing security TAP\n",
        "mean => 0.000505088698545 and std. deviation => 0.0145092611774 for security => TAP"
       ]
      },
      {
       "output_type": "stream",
       "stream": "stdout",
       "text": [
        "\n",
        "now processing security MDLZ\n",
        "mean => 0.000655861468396 and std. deviation => 0.0120151435634 for security => MDLZ"
       ]
      },
      {
       "output_type": "stream",
       "stream": "stdout",
       "text": [
        "\n",
        "now processing security MON\n",
        "mean => 0.000531022229666 and std. deviation => 0.0176532034815 for security => MON"
       ]
      },
      {
       "output_type": "stream",
       "stream": "stdout",
       "text": [
        "\n",
        "now processing security MNST\n",
        "mean => 0.00153881626447 and std. deviation => 0.0237221533553 for security => MNST"
       ]
      },
      {
       "output_type": "stream",
       "stream": "stdout",
       "text": [
        "\n",
        "now processing security MCO\n",
        "mean => 0.00127180296513 and std. deviation => 0.0229560376778 for security => MCO"
       ]
      },
      {
       "output_type": "stream",
       "stream": "stdout",
       "text": [
        "\n",
        "now processing security MS\n",
        "mean => 0.000974258542135 and std. deviation => 0.03039652156 for security => MS"
       ]
      },
      {
       "output_type": "stream",
       "stream": "stdout",
       "text": [
        "\n",
        "now processing security MOS\n",
        "mean => 0.000541310102981 and std. deviation => 0.0248381555292 for security => MOS"
       ]
      },
      {
       "output_type": "stream",
       "stream": "stdout",
       "text": [
        "\n",
        "now processing security MSI\n",
        "mean => 0.00106135534372 and std. deviation => 0.0200561394141 for security => MSI"
       ]
      },
      {
       "output_type": "stream",
       "stream": "stdout",
       "text": [
        "\n",
        "now processing security MUR\n",
        "mean => 0.000400934222477 and std. deviation => 0.0203875763655 for security => MUR"
       ]
      },
      {
       "output_type": "stream",
       "stream": "stdout",
       "text": [
        "\n",
        "now processing security MYL\n",
        "mean => 0.00127656321551 and std. deviation => 0.0183519265424 for security => MYL"
       ]
      },
      {
       "output_type": "stream",
       "stream": "stdout",
       "text": [
        "\n",
        "now processing security NBR\n",
        "mean => 0.000358793712323 and std. deviation => 0.0303683392453 for security => NBR"
       ]
      },
      {
       "output_type": "stream",
       "stream": "stdout",
       "text": [
        "\n",
        "now processing security NDAQ\n",
        "mean => 0.000647882202718 and std. deviation => 0.0220182578445 for security => NDAQ"
       ]
      },
      {
       "output_type": "stream",
       "stream": "stdout",
       "text": [
        "\n",
        "now processing security NOV\n",
        "mean => 0.000903347058487 and std. deviation => 0.0238534215755 for security => NOV"
       ]
      },
      {
       "output_type": "stream",
       "stream": "stdout",
       "text": [
        "\n",
        "now processing security NAVI\n",
        "mean => 0.000911305565294 and std. deviation => 0.0123415762064 for security => NAVI"
       ]
      },
      {
       "output_type": "stream",
       "stream": "stdout",
       "text": [
        "\n",
        "now processing security NTAP\n",
        "mean => 0.000921156170761 and std. deviation => 0.0227315978277 for security => NTAP"
       ]
      },
      {
       "output_type": "stream",
       "stream": "stdout",
       "text": [
        "\n",
        "now processing security NFLX\n",
        "mean => 0.00244134608118 and std. deviation => 0.0370037797411 for security => NFLX"
       ]
      },
      {
       "output_type": "stream",
       "stream": "stdout",
       "text": [
        "\n",
        "now processing security NWL\n",
        "mean => 0.00112710972537 and std. deviation => 0.0206604823141 for security => NWL"
       ]
      },
      {
       "output_type": "stream",
       "stream": "stdout",
       "text": [
        "\n",
        "now processing security NFX\n",
        "mean => 0.000603933592294 and std. deviation => 0.0284288176678 for security => NFX"
       ]
      },
      {
       "output_type": "stream",
       "stream": "stdout",
       "text": [
        "\n",
        "now processing security NEM\n",
        "mean => -7.23921907884e-08 and std. deviation => 0.023021995181 for security => NEM"
       ]
      },
      {
       "output_type": "stream",
       "stream": "stdout",
       "text": [
        "\n",
        "now processing security NWSA\n",
        "mean => -5.85158936825e-06 and std. deviation => 0.0137605116672 for security => NWSA"
       ]
      },
      {
       "output_type": "stream",
       "stream": "stdout",
       "text": [
        "\n",
        "now processing security NEE\n",
        "mean => 0.000698555550854 and std. deviation => 0.0113137882736 for security => NEE"
       ]
      },
      {
       "output_type": "stream",
       "stream": "stdout",
       "text": [
        "\n",
        "now processing security NLSN\n",
        "mean => 0.000722181605056 and std. deviation => 0.0151062197664 for security => NLSN"
       ]
      },
      {
       "output_type": "stream",
       "stream": "stdout",
       "text": [
        "\n",
        "now processing security NKE\n",
        "mean => 0.00103874205307 and std. deviation => 0.0164807097312 for security => NKE"
       ]
      },
      {
       "output_type": "stream",
       "stream": "stdout",
       "text": [
        "\n",
        "now processing security NI\n",
        "mean => 0.0011785285809 and std. deviation => 0.0135042336182 for security => NI"
       ]
      },
      {
       "output_type": "stream",
       "stream": "stdout",
       "text": [
        "\n",
        "now processing security NE\n",
        "mean => 0.00021035211103 and std. deviation => 0.0232368960086 for security => NE"
       ]
      },
      {
       "output_type": "stream",
       "stream": "stdout",
       "text": [
        "\n",
        "now processing security NBL\n",
        "mean => 0.000629119793889 and std. deviation => 0.0207957886294 for security => NBL"
       ]
      },
      {
       "output_type": "stream",
       "stream": "stdout",
       "text": [
        "\n",
        "now processing security JWN\n",
        "mean => 0.00144980457647 and std. deviation => 0.0233824110712 for security => JWN"
       ]
      },
      {
       "output_type": "stream",
       "stream": "stdout",
       "text": [
        "\n",
        "now processing security NSC\n",
        "mean => 0.000768401744279 and std. deviation => 0.0182371457499 for security => NSC"
       ]
      },
      {
       "output_type": "stream",
       "stream": "stdout",
       "text": [
        "\n",
        "now processing security NTRS\n",
        "mean => 0.000451291925476 and std. deviation => 0.0207827810523 for security => NTRS"
       ]
      },
      {
       "output_type": "stream",
       "stream": "stdout",
       "text": [
        "\n",
        "now processing security NOC\n",
        "mean => 0.00108286758908 and std. deviation => 0.0142637734546 for security => NOC"
       ]
      },
      {
       "output_type": "stream",
       "stream": "stdout",
       "text": [
        "\n",
        "now processing security NU\n",
        "mean => 0.000750701120933 and std. deviation => 0.0112081585001 for security => NU"
       ]
      },
      {
       "output_type": "stream",
       "stream": "stdout",
       "text": [
        "\n",
        "now processing security NRG\n",
        "mean => 0.000258237018069 and std. deviation => 0.0196191787425 for security => NRG"
       ]
      },
      {
       "output_type": "stream",
       "stream": "stdout",
       "text": [
        "\n",
        "now processing security NUE\n",
        "mean => 0.000271186792635 and std. deviation => 0.0202350932468 for security => NUE"
       ]
      },
      {
       "output_type": "stream",
       "stream": "stdout",
       "text": [
        "\n",
        "now processing security NVDA\n",
        "mean => 0.000950088585818 and std. deviation => 0.0265529529524 for security => NVDA"
       ]
      },
      {
       "output_type": "stream",
       "stream": "stdout",
       "text": [
        "\n",
        "now processing security ORLY\n",
        "mean => 0.00131276001721 and std. deviation => 0.0162755387687 for security => ORLY"
       ]
      },
      {
       "output_type": "stream",
       "stream": "stdout",
       "text": [
        "\n",
        "now processing security OXY\n",
        "mean => 0.000456425424207 and std. deviation => 0.0189820729407 for security => OXY"
       ]
      },
      {
       "output_type": "stream",
       "stream": "stdout",
       "text": [
        "\n",
        "now processing security OMC\n",
        "mean => 0.000837977429072 and std. deviation => 0.0150721577919 for security => OMC"
       ]
      },
      {
       "output_type": "stream",
       "stream": "stdout",
       "text": [
        "\n",
        "now processing security OKE\n",
        "mean => 0.00106646225884 and std. deviation => 0.0171606248643 for security => OKE"
       ]
      },
      {
       "output_type": "stream",
       "stream": "stdout",
       "text": [
        "\n",
        "now processing security ORCL\n",
        "mean => 0.000754931727863 and std. deviation => 0.0168261049264 for security => ORCL"
       ]
      },
      {
       "output_type": "stream",
       "stream": "stdout",
       "text": [
        "\n",
        "now processing security OI\n",
        "mean => 0.000236023020858 and std. deviation => 0.0259524463615 for security => OI"
       ]
      },
      {
       "output_type": "stream",
       "stream": "stdout",
       "text": [
        "\n",
        "now processing security PCG\n",
        "mean => 0.000497074973401 and std. deviation => 0.0109690566128 for security => PCG"
       ]
      },
      {
       "output_type": "stream",
       "stream": "stdout",
       "text": [
        "\n",
        "now processing security PCAR\n",
        "mean => 0.000791237741114 and std. deviation => 0.0207217180666 for security => PCAR"
       ]
      },
      {
       "output_type": "stream",
       "stream": "stdout",
       "text": [
        "\n",
        "now processing security PLL\n",
        "mean => 0.00105151682305 and std. deviation => 0.0184311582971 for security => PLL"
       ]
      },
      {
       "output_type": "stream",
       "stream": "stdout",
       "text": [
        "\n",
        "now processing security PH\n",
        "mean => 0.000915786605775 and std. deviation => 0.0196268638724 for security => PH"
       ]
      },
      {
       "output_type": "stream",
       "stream": "stdout",
       "text": [
        "\n",
        "now processing security PDCO\n",
        "mean => 0.000800189276304 and std. deviation => 0.0148830172073 for security => PDCO"
       ]
      },
      {
       "output_type": "stream",
       "stream": "stdout",
       "text": [
        "\n",
        "now processing security PAYX\n",
        "mean => 0.000626448686351 and std. deviation => 0.0129450981036 for security => PAYX"
       ]
      },
      {
       "output_type": "stream",
       "stream": "stdout",
       "text": [
        "\n",
        "now processing security PNR\n",
        "mean => 0.000887719901853 and std. deviation => 0.0190530363177 for security => PNR"
       ]
      },
      {
       "output_type": "stream",
       "stream": "stdout",
       "text": [
        "\n",
        "now processing security PBCT\n",
        "mean => 0.000145196868485 and std. deviation => 0.0139259596228 for security => PBCT"
       ]
      },
      {
       "output_type": "stream",
       "stream": "stdout",
       "text": [
        "\n",
        "now processing security POM\n",
        "mean => 0.00058377528768 and std. deviation => 0.0131167493804 for security => POM"
       ]
      },
      {
       "output_type": "stream",
       "stream": "stdout",
       "text": [
        "\n",
        "now processing security PEP\n",
        "mean => 0.000538883243258 and std. deviation => 0.00994827382791 for security => PEP"
       ]
      },
      {
       "output_type": "stream",
       "stream": "stdout",
       "text": [
        "\n",
        "now processing security PKI\n",
        "mean => 0.000970116476547 and std. deviation => 0.0188480635279 for security => PKI"
       ]
      },
      {
       "output_type": "stream",
       "stream": "stdout",
       "text": [
        "\n",
        "now processing security PRGO\n",
        "mean => 0.00123603923342 and std. deviation => 0.0182230239609 for security => PRGO"
       ]
      },
      {
       "output_type": "stream",
       "stream": "stdout",
       "text": [
        "\n",
        "now processing security PETM\n",
        "mean => 0.00114464845569 and std. deviation => 0.0170857526147 for security => PETM"
       ]
      },
      {
       "output_type": "stream",
       "stream": "stdout",
       "text": [
        "\n",
        "now processing security PFE\n",
        "mean => 0.000624807918022 and std. deviation => 0.0134342157042 for security => PFE"
       ]
      },
      {
       "output_type": "stream",
       "stream": "stdout",
       "text": [
        "\n",
        "now processing security PM\n",
        "mean => 0.000652378782969 and std. deviation => 0.012063049427 for security => PM"
       ]
      },
      {
       "output_type": "stream",
       "stream": "stdout",
       "text": [
        "\n",
        "now processing security PSX\n",
        "mean => 0.00125844754376 and std. deviation => 0.0187318603769 for security => PSX"
       ]
      },
      {
       "output_type": "stream",
       "stream": "stdout",
       "text": [
        "\n",
        "now processing security PNW\n",
        "mean => 0.000769302971578 and std. deviation => 0.0114531144389 for security => PNW"
       ]
      },
      {
       "output_type": "stream",
       "stream": "stdout",
       "text": [
        "\n",
        "now processing security PXD\n",
        "mean => 0.00178163725713 and std. deviation => 0.027420407584 for security => PXD"
       ]
      },
      {
       "output_type": "stream",
       "stream": "stdout",
       "text": [
        "\n",
        "now processing security PBI\n",
        "mean => 0.000408096113944 and std. deviation => 0.0204717105621 for security => PBI"
       ]
      },
      {
       "output_type": "stream",
       "stream": "stdout",
       "text": [
        "\n",
        "now processing security PCL\n",
        "mean => 0.00052809253191 and std. deviation => 0.0184251937332 for security => PCL"
       ]
      },
      {
       "output_type": "stream",
       "stream": "stdout",
       "text": [
        "\n",
        "now processing security PNC\n",
        "mean => 0.000924421479391 and std. deviation => 0.030295579727 for security => PNC"
       ]
      },
      {
       "output_type": "stream",
       "stream": "stdout",
       "text": [
        "\n",
        "now processing security RL\n",
        "mean => 0.0010746177945 and std. deviation => 0.0206319980694 for security => RL"
       ]
      },
      {
       "output_type": "stream",
       "stream": "stdout",
       "text": [
        "\n",
        "now processing security PPG\n",
        "mean => 0.00133013277188 and std. deviation => 0.016915691126 for security => PPG"
       ]
      },
      {
       "output_type": "stream",
       "stream": "stdout",
       "text": [
        "\n",
        "now processing security PPL\n",
        "mean => 0.000356509707041 and std. deviation => 0.0123507692788 for security => PPL"
       ]
      },
      {
       "output_type": "stream",
       "stream": "stdout",
       "text": [
        "\n",
        "now processing security PX\n",
        "mean => 0.000635544719678 and std. deviation => 0.0134628462324 for security => PX"
       ]
      },
      {
       "output_type": "stream",
       "stream": "stdout",
       "text": [
        "\n",
        "now processing security PCP\n",
        "mean => 0.000940542630324 and std. deviation => 0.0177813575069 for security => PCP"
       ]
      },
      {
       "output_type": "stream",
       "stream": "stdout",
       "text": [
        "\n",
        "now processing security PCLN\n",
        "mean => 0.00197294993344 and std. deviation => 0.023139767416 for security => PCLN"
       ]
      },
      {
       "output_type": "stream",
       "stream": "stdout",
       "text": [
        "\n",
        "now processing security PFG\n",
        "mean => 0.00112948082645 and std. deviation => 0.0332909863985 for security => PFG"
       ]
      },
      {
       "output_type": "stream",
       "stream": "stdout",
       "text": [
        "\n",
        "now processing security PG\n",
        "mean => 0.00041637601 and std. deviation => 0.010142704125 for security => PG"
       ]
      },
      {
       "output_type": "stream",
       "stream": "stdout",
       "text": [
        "\n",
        "now processing security PGR\n",
        "mean => 0.000641630211753 and std. deviation => 0.0160341777179 for security => PGR"
       ]
      },
      {
       "output_type": "stream",
       "stream": "stdout",
       "text": [
        "\n",
        "now processing security PLD\n",
        "mean => 0.00101103826505 and std. deviation => 0.0289032412879 for security => PLD"
       ]
      },
      {
       "output_type": "stream",
       "stream": "stdout",
       "text": [
        "\n",
        "now processing security PRU\n",
        "mean => 0.00126680859313 and std. deviation => 0.0328825232002 for security => PRU"
       ]
      },
      {
       "output_type": "stream",
       "stream": "stdout",
       "text": [
        "\n",
        "now processing security PEG\n",
        "mean => 0.000501394080243 and std. deviation => 0.0126755875925 for security => PEG"
       ]
      },
      {
       "output_type": "stream",
       "stream": "stdout",
       "text": [
        "\n",
        "now processing security PSA\n",
        "mean => 0.000967677427042 and std. deviation => 0.0196782576166 for security => PSA"
       ]
      },
      {
       "output_type": "stream",
       "stream": "stdout",
       "text": [
        "\n",
        "now processing security PHM\n",
        "mean => 0.000890639291723 and std. deviation => 0.0308436761752 for security => PHM"
       ]
      },
      {
       "output_type": "stream",
       "stream": "stdout",
       "text": [
        "\n",
        "now processing security PVH\n",
        "mean => 0.001380040316 and std. deviation => 0.0238092015453 for security => PVH"
       ]
      },
      {
       "output_type": "stream",
       "stream": "stdout",
       "text": [
        "\n",
        "now processing security QEP\n",
        "mean => -0.000185158631693 and std. deviation => 0.0230200976485 for security => QEP"
       ]
      },
      {
       "output_type": "stream",
       "stream": "stdout",
       "text": [
        "\n",
        "now processing security PWR\n",
        "mean => 0.000414333044442 and std. deviation => 0.021898844237 for security => PWR"
       ]
      },
      {
       "output_type": "stream",
       "stream": "stdout",
       "text": [
        "\n",
        "now processing security QCOM\n",
        "mean => 0.000644907931762 and std. deviation => 0.0165383993679 for security => QCOM"
       ]
      },
      {
       "output_type": "stream",
       "stream": "stdout",
       "text": [
        "\n",
        "now processing security DGX\n",
        "mean => 0.000343394147569 and std. deviation => 0.0139821513465 for security => DGX"
       ]
      },
      {
       "output_type": "stream",
       "stream": "stdout",
       "text": [
        "\n",
        "now processing security RRC\n",
        "mean => 0.000489235393722 and std. deviation => 0.0245460040529 for security => RRC"
       ]
      },
      {
       "output_type": "stream",
       "stream": "stdout",
       "text": [
        "\n",
        "now processing security RTN\n",
        "mean => 0.000683031862274 and std. deviation => 0.0133455436864 for security => RTN"
       ]
      },
      {
       "output_type": "stream",
       "stream": "stdout",
       "text": [
        "\n",
        "now processing security RHT\n",
        "mean => 0.00128328434678 and std. deviation => 0.0231990399972 for security => RHT"
       ]
      },
      {
       "output_type": "stream",
       "stream": "stdout",
       "text": [
        "\n",
        "now processing security REGN\n",
        "mean => 0.00250402928768 and std. deviation => 0.030572053727 for security => REGN"
       ]
      },
      {
       "output_type": "stream",
       "stream": "stdout",
       "text": [
        "\n",
        "now processing security RF\n",
        "mean => 0.000839187565073 and std. deviation => 0.0393728935977 for security => RF"
       ]
      },
      {
       "output_type": "stream",
       "stream": "stdout",
       "text": [
        "\n",
        "now processing security RSG\n",
        "mean => 0.000541137191256 and std. deviation => 0.0141584555104 for security => RSG"
       ]
      },
      {
       "output_type": "stream",
       "stream": "stdout",
       "text": [
        "\n",
        "now processing security RAI\n",
        "mean => 0.00111439509959 and std. deviation => 0.0120861867371 for security => RAI"
       ]
      },
      {
       "output_type": "stream",
       "stream": "stdout",
       "text": [
        "\n",
        "now processing security RHI\n",
        "mean => 0.00096897914442 and std. deviation => 0.0210026467132 for security => RHI"
       ]
      },
      {
       "output_type": "stream",
       "stream": "stdout",
       "text": [
        "\n",
        "now processing security ROK\n",
        "mean => 0.00108625685688 and std. deviation => 0.0219408487147 for security => ROK"
       ]
      },
      {
       "output_type": "stream",
       "stream": "stdout",
       "text": [
        "\n",
        "now processing security COL\n",
        "mean => 0.000692682222166 and std. deviation => 0.0155628455685 for security => COL"
       ]
      },
      {
       "output_type": "stream",
       "stream": "stdout",
       "text": [
        "\n",
        "now processing security ROP\n",
        "mean => 0.000951638046836 and std. deviation => 0.0164364619341 for security => ROP"
       ]
      },
      {
       "output_type": "stream",
       "stream": "stdout",
       "text": [
        "\n",
        "now processing security ROST\n",
        "mean => 0.00135647451205 and std. deviation => 0.0156645033355 for security => ROST"
       ]
      },
      {
       "output_type": "stream",
       "stream": "stdout",
       "text": [
        "\n",
        "now processing security RCL\n",
        "mean => 0.0017082082971 and std. deviation => 0.0327035033133 for security => RCL"
       ]
      },
      {
       "output_type": "stream",
       "stream": "stdout",
       "text": [
        "\n",
        "now processing security R\n",
        "mean => 0.000897997462017 and std. deviation => 0.0233660795224 for security => R"
       ]
      },
      {
       "output_type": "stream",
       "stream": "stdout",
       "text": [
        "\n",
        "now processing security SWY\n",
        "mean => 0.000597561024575 and std. deviation => 0.0183495398222 for security => SWY"
       ]
      },
      {
       "output_type": "stream",
       "stream": "stdout",
       "text": [
        "\n",
        "now processing security CRM\n",
        "mean => 0.0015898279881 and std. deviation => 0.0255597838714 for security => CRM"
       ]
      },
      {
       "output_type": "stream",
       "stream": "stdout",
       "text": [
        "\n",
        "now processing security SNDK\n",
        "mean => 0.00174408959353 and std. deviation => 0.0294739471195 for security => SNDK"
       ]
      },
      {
       "output_type": "stream",
       "stream": "stdout",
       "text": [
        "\n",
        "now processing security SCG\n",
        "mean => 0.000607428490117 and std. deviation => 0.0104392156738 for security => SCG"
       ]
      },
      {
       "output_type": "stream",
       "stream": "stdout",
       "text": [
        "\n",
        "now processing security SLB\n",
        "mean => 0.000667158268283 and std. deviation => 0.0212026298844 for security => SLB"
       ]
      },
      {
       "output_type": "stream",
       "stream": "stdout",
       "text": [
        "\n",
        "now processing security SNI\n",
        "mean => 0.000917000167463 and std. deviation => 0.0172117761875 for security => SNI"
       ]
      },
      {
       "output_type": "stream",
       "stream": "stdout",
       "text": [
        "\n",
        "now processing security STX\n",
        "mean => 0.0022490022332 and std. deviation => 0.0313739340311 for security => STX"
       ]
      },
      {
       "output_type": "stream",
       "stream": "stdout",
       "text": [
        "\n",
        "now processing security SEE\n",
        "mean => 0.000932487328973 and std. deviation => 0.0201698243432 for security => SEE"
       ]
      },
      {
       "output_type": "stream",
       "stream": "stdout",
       "text": [
        "\n",
        "now processing security SRE\n",
        "mean => 0.00083036947475 and std. deviation => 0.0117694561004 for security => SRE"
       ]
      },
      {
       "output_type": "stream",
       "stream": "stdout",
       "text": [
        "\n",
        "now processing security SHW\n",
        "mean => 0.00117721565539 and std. deviation => 0.0151913488537 for security => SHW"
       ]
      },
      {
       "output_type": "stream",
       "stream": "stdout",
       "text": [
        "\n",
        "now processing security SIAL\n",
        "mean => 0.000936282464979 and std. deviation => 0.016669363095 for security => SIAL"
       ]
      },
      {
       "output_type": "stream",
       "stream": "stdout",
       "text": [
        "\n",
        "now processing security SPG\n",
        "mean => 0.00134092277365 and std. deviation => 0.0238523100662 for security => SPG"
       ]
      },
      {
       "output_type": "stream",
       "stream": "stdout",
       "text": [
        "\n",
        "now processing security SJM\n",
        "mean => 0.000756894026432 and std. deviation => 0.0117778160029 for security => SJM"
       ]
      },
      {
       "output_type": "stream",
       "stream": "stdout",
       "text": [
        "\n",
        "now processing security SNA\n",
        "mean => 0.0010346968462 and std. deviation => 0.0181903954069 for security => SNA"
       ]
      },
      {
       "output_type": "stream",
       "stream": "stdout",
       "text": [
        "\n",
        "now processing security SO\n",
        "mean => 0.000445900932934 and std. deviation => 0.00889451401253 for security => SO"
       ]
      },
      {
       "output_type": "stream",
       "stream": "stdout",
       "text": [
        "\n",
        "now processing security LUV\n",
        "mean => 0.00131814631189 and std. deviation => 0.0214755966371 for security => LUV"
       ]
      },
      {
       "output_type": "stream",
       "stream": "stdout",
       "text": [
        "\n",
        "now processing security SWN\n",
        "mean => 0.000127996766579 and std. deviation => 0.0229209326155 for security => SWN"
       ]
      },
      {
       "output_type": "stream",
       "stream": "stdout",
       "text": [
        "\n",
        "now processing security SE\n",
        "mean => 0.000734638270916 and std. deviation => 0.0141407086847 for security => SE"
       ]
      },
      {
       "output_type": "stream",
       "stream": "stdout",
       "text": [
        "\n",
        "now processing security STJ\n",
        "mean => 0.000621499509029 and std. deviation => 0.0172080952489 for security => STJ"
       ]
      },
      {
       "output_type": "stream",
       "stream": "stdout",
       "text": [
        "\n",
        "now processing security SWK\n",
        "mean => 0.000936048652327 and std. deviation => 0.0198996204366 for security => SWK"
       ]
      },
      {
       "output_type": "stream",
       "stream": "stdout",
       "text": [
        "\n",
        "now processing security SPLS\n",
        "mean => 0.000257459164399 and std. deviation => 0.0210531949984 for security => SPLS"
       ]
      },
      {
       "output_type": "stream",
       "stream": "stdout",
       "text": [
        "\n",
        "now processing security SBUX\n",
        "mean => 0.00167701333825 and std. deviation => 0.0195992424496 for security => SBUX"
       ]
      },
      {
       "output_type": "stream",
       "stream": "stdout",
       "text": [
        "\n",
        "now processing security HOT\n",
        "mean => 0.00125028505637 and std. deviation => 0.0260644506606 for security => HOT"
       ]
      },
      {
       "output_type": "stream",
       "stream": "stdout",
       "text": [
        "\n",
        "now processing security STT\n",
        "mean => 0.00100568610665 and std. deviation => 0.0321151028133 for security => STT"
       ]
      },
      {
       "output_type": "stream",
       "stream": "stdout",
       "text": [
        "\n",
        "now processing security SRCL\n",
        "mean => 0.000703651815726 and std. deviation => 0.0130648971448 for security => SRCL"
       ]
      },
      {
       "output_type": "stream",
       "stream": "stdout",
       "text": [
        "\n",
        "now processing security SYK\n",
        "mean => 0.000685537140765 and std. deviation => 0.0143799901794 for security => SYK"
       ]
      },
      {
       "output_type": "stream",
       "stream": "stdout",
       "text": [
        "\n",
        "now processing security STI\n",
        "mean => 0.000821487166122 and std. deviation => 0.0346410316955 for security => STI"
       ]
      },
      {
       "output_type": "stream",
       "stream": "stdout",
       "text": [
        "\n",
        "now processing security SYMC\n",
        "mean => 0.00061437108858 and std. deviation => 0.0198188101723 for security => SYMC"
       ]
      },
      {
       "output_type": "stream",
       "stream": "stdout",
       "text": [
        "\n",
        "now processing security SYY\n",
        "mean => 0.000562201669903 and std. deviation => 0.0119778056467 for security => SYY"
       ]
      },
      {
       "output_type": "stream",
       "stream": "stdout",
       "text": [
        "\n",
        "now processing security TROW\n",
        "mean => 0.00088003554509 and std. deviation => 0.0228652375611 for security => TROW"
       ]
      },
      {
       "output_type": "stream",
       "stream": "stdout",
       "text": [
        "\n",
        "now processing security TGT\n",
        "mean => 0.000711184609385 and std. deviation => 0.0151818582021 for security => TGT"
       ]
      },
      {
       "output_type": "stream",
       "stream": "stdout",
       "text": [
        "\n",
        "now processing security TEL\n",
        "mean => 0.00115950840954 and std. deviation => 0.0208215662812 for security => TEL"
       ]
      },
      {
       "output_type": "stream",
       "stream": "stdout",
       "text": [
        "\n",
        "now processing security TE\n",
        "mean => 0.00063607266575 and std. deviation => 0.0129304395235 for security => TE"
       ]
      },
      {
       "output_type": "stream",
       "stream": "stdout",
       "text": [
        "\n",
        "now processing security THC\n",
        "mean => 0.00202217814616 and std. deviation => 0.036060966674 for security => THC"
       ]
      },
      {
       "output_type": "stream",
       "stream": "stdout",
       "text": [
        "\n",
        "now processing security TDC\n",
        "mean => 0.000894223073602 and std. deviation => 0.02168395556 for security => TDC"
       ]
      },
      {
       "output_type": "stream",
       "stream": "stdout",
       "text": [
        "\n",
        "now processing security TSO\n",
        "mean => 0.00158360674893 and std. deviation => 0.0279223262013 for security => TSO"
       ]
      },
      {
       "output_type": "stream",
       "stream": "stdout",
       "text": [
        "\n",
        "now processing security TXN\n",
        "mean => 0.00104126585578 and std. deviation => 0.0167861981685 for security => TXN"
       ]
      },
      {
       "output_type": "stream",
       "stream": "stdout",
       "text": [
        "\n",
        "now processing security TXT\n",
        "mean => 0.00124218970676 and std. deviation => 0.0336779260326 for security => TXT"
       ]
      },
      {
       "output_type": "stream",
       "stream": "stdout",
       "text": [
        "\n",
        "now processing security HSY\n",
        "mean => 0.00089257414932 and std. deviation => 0.0114497756023 for security => HSY"
       ]
      },
      {
       "output_type": "stream",
       "stream": "stdout",
       "text": [
        "\n",
        "now processing security TRV\n",
        "mean => 0.000775151666195 and std. deviation => 0.014507407905 for security => TRV"
       ]
      },
      {
       "output_type": "stream",
       "stream": "stdout",
       "text": [
        "\n",
        "now processing security TMO\n",
        "mean => 0.00097371285353 and std. deviation => 0.0162183492625 for security => TMO"
       ]
      },
      {
       "output_type": "stream",
       "stream": "stdout",
       "text": [
        "\n",
        "now processing security TIF\n",
        "mean => 0.0011494636557 and std. deviation => 0.0219892920448 for security => TIF"
       ]
      },
      {
       "output_type": "stream",
       "stream": "stdout",
       "text": [
        "\n",
        "now processing security TWX\n",
        "mean => 0.00101409642983 and std. deviation => 0.018867575436 for security => TWX"
       ]
      },
      {
       "output_type": "stream",
       "stream": "stdout",
       "text": [
        "\n",
        "now processing security TWC\n",
        "mean => 0.00130915411529 and std. deviation => 0.0183121048757 for security => TWC"
       ]
      },
      {
       "output_type": "stream",
       "stream": "stdout",
       "text": [
        "\n",
        "now processing security TJX\n",
        "mean => 0.00136782630757 and std. deviation => 0.0150745665762 for security => TJX"
       ]
      },
      {
       "output_type": "stream",
       "stream": "stdout",
       "text": [
        "\n",
        "now processing security TMK\n",
        "mean => 0.00092113032339 and std. deviation => 0.0223465741583 for security => TMK"
       ]
      },
      {
       "output_type": "stream",
       "stream": "stdout",
       "text": [
        "\n",
        "now processing security TSS\n",
        "mean => 0.000733877675871 and std. deviation => 0.0146774028509 for security => TSS"
       ]
      },
      {
       "output_type": "stream",
       "stream": "stdout",
       "text": [
        "\n",
        "now processing security TSCO\n",
        "mean => 0.00163352320632 and std. deviation => 0.0195293338109 for security => TSCO"
       ]
      },
      {
       "output_type": "stream",
       "stream": "stdout",
       "text": [
        "\n",
        "now processing security RIG\n",
        "mean => -0.000383589837155 and std. deviation => 0.0241207833505 for security => RIG"
       ]
      },
      {
       "output_type": "stream",
       "stream": "stdout",
       "text": [
        "\n",
        "now processing security TRIP\n",
        "mean => 0.00156077471852 and std. deviation => 0.0273133924035 for security => TRIP"
       ]
      },
      {
       "output_type": "stream",
       "stream": "stdout",
       "text": [
        "\n",
        "now processing security FOXA\n",
        "mean => 0.00118683710358 and std. deviation => 0.0218188960249 for security => FOXA"
       ]
      },
      {
       "output_type": "stream",
       "stream": "stdout",
       "text": [
        "\n",
        "now processing security TSN\n",
        "mean => 0.00119966050887 and std. deviation => 0.0191234716525 for security => TSN"
       ]
      },
      {
       "output_type": "stream",
       "stream": "stdout",
       "text": [
        "\n",
        "now processing security TYC\n",
        "mean => 0.00108783251016 and std. deviation => 0.0167590037667 for security => TYC"
       ]
      },
      {
       "output_type": "stream",
       "stream": "stdout",
       "text": [
        "\n",
        "now processing security USB\n",
        "mean => 0.00075160644519 and std. deviation => 0.0255923435318 for security => USB"
       ]
      },
      {
       "output_type": "stream",
       "stream": "stdout",
       "text": [
        "\n",
        "now processing security UA\n",
        "mean => 0.00196040037666 and std. deviation => 0.0276200595012 for security => UA"
       ]
      },
      {
       "output_type": "stream",
       "stream": "stdout",
       "text": [
        "\n",
        "now processing security UNP\n",
        "mean => 0.00126638742619 and std. deviation => 0.0179186101218 for security => UNP"
       ]
      },
      {
       "output_type": "stream",
       "stream": "stdout",
       "text": [
        "\n",
        "now processing security UNH\n",
        "mean => 0.00114658404279 and std. deviation => 0.0188622195326 for security => UNH"
       ]
      },
      {
       "output_type": "stream",
       "stream": "stdout",
       "text": [
        "\n",
        "now processing security UPS\n",
        "mean => 0.000606954777055 and std. deviation => 0.0135079437813 for security => UPS"
       ]
      },
      {
       "output_type": "stream",
       "stream": "stdout",
       "text": [
        "\n",
        "now processing security MLM\n",
        "mean => 0.000313620184681 and std. deviation => 0.019498497848 for security => MLM"
       ]
      },
      {
       "output_type": "stream",
       "stream": "stdout",
       "text": [
        "\n",
        "now processing security URI\n",
        "mean => 0.00207327865322 and std. deviation => 0.0337971103199 for security => URI"
       ]
      },
      {
       "output_type": "stream",
       "stream": "stdout",
       "text": [
        "\n",
        "now processing security UTX\n",
        "mean => 0.000706540133647 and std. deviation => 0.0140812699014 for security => UTX"
       ]
      },
      {
       "output_type": "stream",
       "stream": "stdout",
       "text": [
        "\n",
        "now processing security UHS\n",
        "mean => 0.00135008796306 and std. deviation => 0.0201596238891 for security => UHS"
       ]
      },
      {
       "output_type": "stream",
       "stream": "stdout",
       "text": [
        "\n",
        "now processing security UNM\n",
        "mean => 0.0007316575201 and std. deviation => 0.0242719002597 for security => UNM"
       ]
      },
      {
       "output_type": "stream",
       "stream": "stdout",
       "text": [
        "\n",
        "now processing security URBN\n",
        "mean => 0.000798460525847 and std. deviation => 0.0236476822748 for security => URBN"
       ]
      },
      {
       "output_type": "stream",
       "stream": "stdout",
       "text": [
        "\n",
        "now processing security VFC\n",
        "mean => 0.00129811345454 and std. deviation => 0.0168602252846 for security => VFC"
       ]
      },
      {
       "output_type": "stream",
       "stream": "stdout",
       "text": [
        "\n",
        "now processing security VLO\n",
        "mean => 0.000955109746375 and std. deviation => 0.0249633927871 for security => VLO"
       ]
      },
      {
       "output_type": "stream",
       "stream": "stdout",
       "text": [
        "\n",
        "now processing security VAR\n",
        "mean => 0.000717614623596 and std. deviation => 0.0168485086228 for security => VAR"
       ]
      },
      {
       "output_type": "stream",
       "stream": "stdout",
       "text": [
        "\n",
        "now processing security VTR\n",
        "mean => 0.00102069766709 and std. deviation => 0.0214954449205 for security => VTR"
       ]
      },
      {
       "output_type": "stream",
       "stream": "stdout",
       "text": [
        "\n",
        "now processing security VRSN\n",
        "mean => 0.000963432939517 and std. deviation => 0.0195101391826 for security => VRSN"
       ]
      },
      {
       "output_type": "stream",
       "stream": "stdout",
       "text": [
        "\n",
        "now processing security VZ\n",
        "mean => 0.000521579201345 and std. deviation => 0.0114624528782 for security => VZ"
       ]
      },
      {
       "output_type": "stream",
       "stream": "stdout",
       "text": [
        "\n",
        "now processing security VRTX\n",
        "mean => 0.00144629760772 and std. deviation => 0.0344571683874 for security => VRTX"
       ]
      },
      {
       "output_type": "stream",
       "stream": "stdout",
       "text": [
        "\n",
        "now processing security VIAB\n",
        "mean => 0.00103889318831 and std. deviation => 0.0185401550847 for security => VIAB"
       ]
      },
      {
       "output_type": "stream",
       "stream": "stdout",
       "text": [
        "\n",
        "now processing security V\n",
        "mean => 0.0012282653345 and std. deviation => 0.0181799485243 for security => V"
       ]
      },
      {
       "output_type": "stream",
       "stream": "stdout",
       "text": [
        "\n",
        "now processing security VNO\n",
        "mean => 0.000955844859217 and std. deviation => 0.0242615945217 for security => VNO"
       ]
      },
      {
       "output_type": "stream",
       "stream": "stdout",
       "text": [
        "\n",
        "now processing security VMC\n",
        "mean => 0.000329589413121 and std. deviation => 0.0235187889389 for security => VMC"
       ]
      },
      {
       "output_type": "stream",
       "stream": "stdout",
       "text": [
        "\n",
        "now processing security WMT\n",
        "mean => 0.000433537098122 and std. deviation => 0.0101806217122 for security => WMT"
       ]
      },
      {
       "output_type": "stream",
       "stream": "stdout",
       "text": [
        "\n",
        "now processing security WBA\n",
        "mean => 0.000936846422718 and std. deviation => 0.0167586876143 for security => WBA"
       ]
      },
      {
       "output_type": "stream",
       "stream": "stdout",
       "text": [
        "\n",
        "now processing security DIS\n",
        "mean => 0.00108714465668 and std. deviation => 0.0162655167891 for security => DIS"
       ]
      },
      {
       "output_type": "stream",
       "stream": "stdout",
       "text": [
        "\n",
        "now processing security WM\n",
        "mean => 0.000523456476187 and std. deviation => 0.0123972839949 for security => WM"
       ]
      },
      {
       "output_type": "stream",
       "stream": "stdout",
       "text": [
        "\n",
        "now processing security WAT\n",
        "mean => 0.000873632424445 and std. deviation => 0.017461737727 for security => WAT"
       ]
      },
      {
       "output_type": "stream",
       "stream": "stdout",
       "text": [
        "\n",
        "now processing security ANTM\n",
        "mean => 0.000982533660017 and std. deviation => 0.018486511847 for security => ANTM"
       ]
      },
      {
       "output_type": "stream",
       "stream": "stdout",
       "text": [
        "\n",
        "now processing security WFC\n",
        "mean => 0.000934757299978 and std. deviation => 0.0311678583936 for security => WFC"
       ]
      },
      {
       "output_type": "stream",
       "stream": "stdout",
       "text": [
        "\n",
        "now processing security WDC\n",
        "mean => 0.00176968640192 and std. deviation => 0.0256959090845 for security => WDC"
       ]
      },
      {
       "output_type": "stream",
       "stream": "stdout",
       "text": [
        "\n",
        "now processing security WU\n",
        "mean => 0.000378218171193 and std. deviation => 0.0197505397005 for security => WU"
       ]
      },
      {
       "output_type": "stream",
       "stream": "stdout",
       "text": [
        "\n",
        "now processing security WY\n",
        "mean => 0.0010460674264 and std. deviation => 0.0208942133746 for security => WY"
       ]
      },
      {
       "output_type": "stream",
       "stream": "stdout",
       "text": [
        "\n",
        "now processing security WHR\n",
        "mean => 0.00145513334264 and std. deviation => 0.0265909748686 for security => WHR"
       ]
      },
      {
       "output_type": "stream",
       "stream": "stdout",
       "text": [
        "\n",
        "now processing security WFM\n",
        "mean => 0.00190553214394 and std. deviation => 0.0252494721257 for security => WFM"
       ]
      },
      {
       "output_type": "stream",
       "stream": "stdout",
       "text": [
        "\n",
        "now processing security WMB\n",
        "mean => 0.00118328765057 and std. deviation => 0.0215582404684 for security => WMB"
       ]
      },
      {
       "output_type": "stream",
       "stream": "stdout",
       "text": [
        "\n",
        "now processing security WIN\n",
        "mean => 0.000428893775937 and std. deviation => 0.0158506153618 for security => WIN"
       ]
      },
      {
       "output_type": "stream",
       "stream": "stdout",
       "text": [
        "\n",
        "now processing security WEC\n",
        "mean => 0.000823558411003 and std. deviation => 0.0103084236511 for security => WEC"
       ]
      },
      {
       "output_type": "stream",
       "stream": "stdout",
       "text": [
        "\n",
        "now processing security WYN\n",
        "mean => 0.00209793668188 and std. deviation => 0.0289594214201 for security => WYN"
       ]
      },
      {
       "output_type": "stream",
       "stream": "stdout",
       "text": [
        "\n",
        "now processing security WYNN\n",
        "mean => 0.00144554852735 and std. deviation => 0.0309378116295 for security => WYNN"
       ]
      },
      {
       "output_type": "stream",
       "stream": "stdout",
       "text": [
        "\n",
        "now processing security XEL\n",
        "mean => 0.000669697332661 and std. deviation => 0.00977915266727 for security => XEL"
       ]
      },
      {
       "output_type": "stream",
       "stream": "stdout",
       "text": [
        "\n",
        "now processing security XRX\n",
        "mean => 0.000667284918195 and std. deviation => 0.0225513541827 for security => XRX"
       ]
      },
      {
       "output_type": "stream",
       "stream": "stdout",
       "text": [
        "\n",
        "now processing security XLNX\n",
        "mean => 0.000755361265309 and std. deviation => 0.0179233955739 for security => XLNX"
       ]
      },
      {
       "output_type": "stream",
       "stream": "stdout",
       "text": [
        "\n",
        "now processing security XL\n",
        "mean => 0.00205708094934 and std. deviation => 0.033341284913 for security => XL"
       ]
      },
      {
       "output_type": "stream",
       "stream": "stdout",
       "text": [
        "\n",
        "now processing security XYL\n",
        "mean => 0.000640951283669 and std. deviation => 0.0159764714632 for security => XYL"
       ]
      },
      {
       "output_type": "stream",
       "stream": "stdout",
       "text": [
        "\n",
        "now processing security YHOO\n",
        "mean => 0.00108894251766 and std. deviation => 0.0205414219757 for security => YHOO"
       ]
      },
      {
       "output_type": "stream",
       "stream": "stdout",
       "text": [
        "\n",
        "now processing security YUM\n",
        "mean => 0.000764881328149 and std. deviation => 0.0160269874748 for security => YUM"
       ]
      },
      {
       "output_type": "stream",
       "stream": "stdout",
       "text": [
        "\n",
        "now processing security ZMH\n",
        "mean => 0.000816153590623 and std. deviation => 0.0155176873694 for security => ZMH"
       ]
      },
      {
       "output_type": "stream",
       "stream": "stdout",
       "text": [
        "\n",
        "now processing security ZION\n",
        "mean => 0.000634395177939 and std. deviation => 0.0356615600756 for security => ZION"
       ]
      },
      {
       "output_type": "stream",
       "stream": "stdout",
       "text": [
        "\n",
        "now processing security ZTS\n",
        "mean => 0.000838028773216 and std. deviation => 0.0137740529344 for security => ZTS"
       ]
      },
      {
       "output_type": "stream",
       "stream": "stdout",
       "text": [
        "\n"
       ]
      }
     ],
     "prompt_number": 128
    },
    {
     "cell_type": "code",
     "collapsed": false,
     "input": [
      "securities_df = DataFrame(securities_data)"
     ],
     "language": "python",
     "metadata": {},
     "outputs": [],
     "prompt_number": 106
    },
    {
     "cell_type": "code",
     "collapsed": false,
     "input": [
      "h = df_AAPL.AdjClose.pct_change().fillna(0).hist(bins=50, histtype='stepfilled', alpha=0.5)"
     ],
     "language": "python",
     "metadata": {},
     "outputs": [
      {
       "metadata": {},
       "output_type": "display_data",
       "png": "[encoded data removed]",
       "text": [
        "<matplotlib.figure.Figure at 0x113d77d90>"
       ]
      }
     ],
     "prompt_number": 169
    },
    {
     "cell_type": "code",
     "collapsed": false,
     "input": [
      "fig = plt.figure()\n",
      "fig.set_size_inches(10,3)\n",
      "df_AAPL.AdjClose.pct_change().plot()\n",
      "plt.title(u\"$AAPL stock daily returns\", weight='bold');"
     ],
     "language": "python",
     "metadata": {},
     "outputs": [
      {
       "metadata": {},
       "output_type": "display_data",
       "png": "[encoded data removed]",
       "text": [
        "<matplotlib.figure.Figure at 0x108026810>"
       ]
      }
     ],
     "prompt_number": 168
    },
    {
     "cell_type": "code",
     "collapsed": false,
     "input": [],
     "language": "python",
     "metadata": {},
     "outputs": []
    }
   ],
   "metadata": {}
  }
 ]
}