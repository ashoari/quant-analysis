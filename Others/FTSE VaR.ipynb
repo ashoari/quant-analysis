{
 "cells": [
  {
   "cell_type": "code",
   "execution_count": 2,
   "metadata": {
    "collapsed": false
   },
   "outputs": [],
   "source": [
    "#importing all the libraries\n",
    "import pandas as pd\n",
    "import Quandl\n",
    "from scipy.stats import norm\n",
    "import datetime\n",
    "import pandas as pd\n",
    "import numpy as np\n",
    "import matplotlib as plt"
   ]
  },
  {
   "cell_type": "markdown",
   "metadata": {},
   "source": [
    "##Getting FTSE data from Quandl and cleaning data as per our requirement"
   ]
  },
  {
   "cell_type": "code",
   "execution_count": 4,
   "metadata": {
    "collapsed": false
   },
   "outputs": [],
   "source": [
    "ftse_data = Quandl.get('YAHOO/HK_4337', trim_start=\"2009-01-01\", trim_end=\"2014-01-01\")\n",
    "ftse_data.columns = ['Open','High','Low','Close','Volume','AdjustedClose']\n",
    "returns = ftse_data.AdjustedClose.pct_change()\n",
    "returns.fillna(0)\n",
    "mean = returns.mean()\n",
    "std_dev = returns.std()"
   ]
  },
  {
   "cell_type": "markdown",
   "metadata": {},
   "source": [
    "## VaR calculations using Variance Covariance method"
   ]
  },
  {
   "cell_type": "code",
   "execution_count": 5,
   "metadata": {
    "collapsed": false
   },
   "outputs": [
    {
     "name": "stdout",
     "output_type": "stream",
     "text": [
      "Value at Risk is $25767.40\n"
     ]
    }
   ],
   "source": [
    "portfolio_value = 1e6\n",
    "concidence_level = 0.99\n",
    "alpha = norm.ppf(1- concidence_level, mean, std_dev)\n",
    "var = portfolio_value - portfolio_value*(alpha + 1)\n",
    "print \"Value at Risk is $%0.2f\" % var"
   ]
  },
  {
   "cell_type": "markdown",
   "metadata": {},
   "source": [
    "## VaR using Pandas"
   ]
  },
  {
   "cell_type": "code",
   "execution_count": 7,
   "metadata": {
    "collapsed": false
   },
   "outputs": [
    {
     "data": {
      "text/plain": [
       "<matplotlib.axes._subplots.AxesSubplot at 0x110321350>"
      ]
     },
     "execution_count": 7,
     "metadata": {},
     "output_type": "execute_result"
    }
   ],
   "source": [
    "quantile= 1.0 - concidence_level\n",
    "volwindow = 10 # 10 day volatility\n",
    "varwindow = 21 # we need 21 day rolling VaR\n",
    "#21 day rolling VaR \n",
    "unnormedquantileR = pd.rolling_quantile(returns,varwindow,quantile)\n",
    "\n",
    "returns_2=returns.shift(-1)\n",
    "\n",
    "all_data_frame=pd.DataFrame({'returns':returns_2,\n",
    "              'Rolling quantiles':unnormedquantileR\n",
    "              })\n",
    "all_data_frame.plot()"
   ]
  },
  {
   "cell_type": "code",
   "execution_count": null,
   "metadata": {
    "collapsed": true
   },
   "outputs": [],
   "source": []
  }
 ],
 "metadata": {
  "kernelspec": {
   "display_name": "Python 2",
   "language": "python",
   "name": "python2"
  },
  "language_info": {
   "codemirror_mode": {
    "name": "ipython",
    "version": 2
   },
   "file_extension": ".py",
   "mimetype": "text/x-python",
   "name": "python",
   "nbconvert_exporter": "python",
   "pygments_lexer": "ipython2",
   "version": "2.7.6"
  }
 },
 "nbformat": 4,
 "nbformat_minor": 0
}
