{
 "cells": [
  {
   "cell_type": "markdown",
   "metadata": {
    "collapsed": false
   },
   "source": [
    "#Rolling 21 Day Sample standard Deviation"
   ]
  },
  {
   "cell_type": "code",
   "execution_count": 2,
   "metadata": {
    "collapsed": true
   },
   "outputs": [],
   "source": [
    "#importing all the important libraries\n",
    "from pandas.io.data import DataReader\n",
    "import matplotlib.pyplot as plt\n",
    "import datetime\n",
    "import pandas as pd\n",
    "import numpy as np\n"
   ]
  },
  {
   "cell_type": "code",
   "execution_count": 7,
   "metadata": {
    "collapsed": false
   },
   "outputs": [],
   "source": [
    "# Choose a time period \n",
    "d1 = datetime.datetime(2001, 01, 01)\n",
    "d2 = datetime.datetime(2012, 01, 01)\n",
    "\n",
    "#get the tickers\n",
    "price = DataReader(\"^FTSE\", \"yahoo\",d1,d2)['Adj Close']\n",
    "price = price.asfreq('B').fillna(method='pad')\n",
    "\n",
    "returns = price.pct_change()"
   ]
  },
  {
   "cell_type": "markdown",
   "metadata": {},
   "source": [
    "### Rolling 21 day Standard Deviation\n",
    "A rolling analysis of a time series model is often used to assess the model’s\n",
    "stability over time. When analyzing financial time series data using a statistical\n",
    "model, a key assumption is that the parameters of the model are\n",
    "constant over time. However, the economic environment often changes considerably,\n",
    "and it may not be reasonable to assume that a model’s parameters\n",
    "are constant. A common technique to assess the constancy of a model’s\n",
    "parameters is to compute parameter estimates over a rolling window of a\n",
    "fixed size through the sample. If the parameters are truly constant over the\n",
    "entire sample, then the estimates over the rolling windows should not be\n",
    "too di􀀎erent. If the parameters change at some point during the sample,\n",
    "then the rolling estimates should capture this instability."
   ]
  },
  {
   "cell_type": "code",
   "execution_count": 9,
   "metadata": {
    "collapsed": false
   },
   "outputs": [
    {
     "data": {
      "text/plain": [
       "2001-01-01    0\n",
       "2001-01-02    0\n",
       "2001-01-03    0\n",
       "2001-01-04    0\n",
       "2001-01-05    0\n",
       "2001-01-08    0\n",
       "2001-01-09    0\n",
       "2001-01-10    0\n",
       "2001-01-11    0\n",
       "2001-01-12    0\n",
       "2001-01-15    0\n",
       "2001-01-16    0\n",
       "2001-01-17    0\n",
       "2001-01-18    0\n",
       "2001-01-19    0\n",
       "...\n",
       "2011-12-12    0.013832\n",
       "2011-12-13    0.014059\n",
       "2011-12-14    0.014879\n",
       "2011-12-15    0.014970\n",
       "2011-12-16    0.014593\n",
       "2011-12-19    0.014411\n",
       "2011-12-20    0.013231\n",
       "2011-12-21    0.013288\n",
       "2011-12-22    0.013045\n",
       "2011-12-23    0.013078\n",
       "2011-12-26    0.013071\n",
       "2011-12-27    0.011701\n",
       "2011-12-28    0.011699\n",
       "2011-12-29    0.009753\n",
       "2011-12-30    0.009720\n",
       "Freq: B, Length: 2870"
      ]
     },
     "execution_count": 9,
     "metadata": {},
     "output_type": "execute_result"
    }
   ],
   "source": [
    "pd.rolling_std(returns, 21).fillna(0)"
   ]
  },
  {
   "cell_type": "code",
   "execution_count": null,
   "metadata": {
    "collapsed": true
   },
   "outputs": [],
   "source": []
  },
  {
   "cell_type": "code",
   "execution_count": null,
   "metadata": {
    "collapsed": true
   },
   "outputs": [],
   "source": []
  },
  {
   "cell_type": "code",
   "execution_count": null,
   "metadata": {
    "collapsed": true
   },
   "outputs": [],
   "source": []
  },
  {
   "cell_type": "code",
   "execution_count": null,
   "metadata": {
    "collapsed": true
   },
   "outputs": [],
   "source": [
    "\n",
    "\n",
    "#choose the quantile\n",
    "quantile=0.05\n",
    "#the vol window\n",
    "volwindow=50\n",
    "#and the Var window for rolling \n",
    "varwindow=250\n",
    "\n",
    "#simple VaR using all the data\n",
    "unnormedquantile=pd.expanding_quantile(ret,quantile)\n",
    "\n",
    "#similar one using a rolling window \n",
    "unnormedquantileR=pd.rolling_quantile(ret,varwindow,quantile)\n",
    "\n",
    "#we can also normalize the returns by the vol\n",
    "vol=pd.rolling_std(ret,volwindow)*np.sqrt(256)\n",
    "unitvol=ret/vol\n",
    "\n",
    "#and get the expanding or rolling quantiles\n",
    "Var=pd.expanding_quantile(unitvol,quantile)\n",
    "VarR=pd.rolling_quantile(unitvol,varwindow,quantile)\n",
    "\n",
    "normedquantile=Var*vol\n",
    "normedquantileR=VarR*vol\n",
    "\n",
    "ret2=ret.shift(-1)\n",
    "\n",
    "courbe=pd.DataFrame({'returns':ret2,\n",
    "              'quantiles':unnormedquantile,\n",
    "              'Rolling quantiles':unnormedquantileR,\n",
    "              'Normed quantiles':normedquantile,\n",
    "              'Rolling Normed quantiles':normedquantileR,\n",
    "              })\n",
    "courbe.plot()\n",
    "plt.show()\n",
    "\n",
    "courbe['nqBreak']=np.sign(ret2-normedquantile)/(-2) +0.5\n",
    "courbe['nqBreakR']=np.sign(ret2-normedquantileR)/(-2) +0.5\n",
    "courbe['UnqBreak']=np.sign(ret2-unnormedquantile)/(-2) +0.5\n",
    "courbe['UnqBreakR']=np.sign(ret2-unnormedquantileR)/(-2) +0.5\n",
    "\n",
    "\n",
    "nbdays=price.count()\n",
    "\n",
    "print 'Number of returns worse than the VaR'\n",
    "print 'Ideal Var                : ', (quantile)*nbdays\n",
    "print 'Simple VaR               : ', np.sum(courbe['UnqBreak'])\n",
    "print 'Normalized VaR           : ', np.sum(courbe['nqBreak'])\n",
    "print '---------------------------'\n",
    "print 'Ideal Rolling Var        : ', (quantile)*(nbdays-varwindow)\n",
    "print 'Rolling VaR              : ', np.sum(courbe['UnqBreakR'])\n",
    "print 'Rolling Normalized VaR   : ', np.sum(courbe['nqBreakR'])"
   ]
  }
 ],
 "metadata": {
  "kernelspec": {
   "display_name": "Python 2",
   "language": "python",
   "name": "python2"
  },
  "language_info": {
   "codemirror_mode": {
    "name": "ipython",
    "version": 2
   },
   "file_extension": ".py",
   "mimetype": "text/x-python",
   "name": "python",
   "nbconvert_exporter": "python",
   "pygments_lexer": "ipython2",
   "version": "2.7.9"
  }
 },
 "nbformat": 4,
 "nbformat_minor": 0
}
