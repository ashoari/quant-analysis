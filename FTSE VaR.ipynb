{
cells: [
{
cell_type: "code",
execution_count: 5,
metadata: {
collapsed: false
},
outputs: [ ],
source: [
"#importing all the libraries ",
"import pandas as pd ",
"import Quandl ",
"from scipy.stats import norm ",
"import datetime ",
"import pandas as pd ",
"import numpy as np ",
"import matplotlib as plt"
]
},
{
cell_type: "markdown",
metadata: { },
source: [
"##Getting FTSE data from Quandl and cleaning data as per our requirement"
]
},
{
cell_type: "code",
execution_count: 2,
metadata: {
collapsed: false
},
outputs: [ ],
source: [
"ftse_data = Quandl.get('YAHOO/HK_4337', trim_start="2009-01-01", trim_end="2014-01-01") ",
"ftse_data.columns = ['Open','High','Low','Close','Volume','AdjustedClose'] ",
"returns = ftse_data.AdjustedClose.pct_change() ",
"returns.fillna(0) ",
"mean = returns.mean() ",
"std_dev = returns.std()"
]
},
{
cell_type: "markdown",
metadata: { },
source: [
"## VaR calculations using Variance Covariance method"
]
},
{
cell_type: "code",
execution_count: 1,
metadata: {
collapsed: false
},
outputs: [
{
ename: "NameError",
evalue: "name 'norm' is not defined",
output_type: "error",
traceback: [
"[0;31m---------------------------------------------------------------------------[0m",
"[0;31mNameError[0m Traceback (most recent call last)",
"[0;32m<ipython-input-1-42cd9022a0e7>[0m in [0;36m<module>[0;34m()[0m [1;32m 1[0m [0mportfolio_value[0m [0;34m=[0m [0;36m1e6[0m[0;34m[0m[0m [1;32m 2[0m [0mconcidence_level[0m [0;34m=[0m [0;36m0.99[0m[0;34m[0m[0m [0;32m----> 3[0;31m [0malpha[0m [0;34m=[0m [0mnorm[0m[0;34m.[0m[0mppf[0m[0;34m([0m[0;36m1[0m[0;34m-[0m [0mconcidence_level[0m[0;34m,[0m [0mmean[0m[0;34m,[0m [0mstd_dev[0m[0;34m)[0m[0;34m[0m[0m [0m[1;32m 4[0m [0mvar[0m [0;34m=[0m [0mportfolio_value[0m [0;34m-[0m [0mportfolio_value[0m[0;34m*[0m[0;34m([0m[0malpha[0m [0;34m+[0m [0;36m1[0m[0;34m)[0m[0;34m[0m[0m [1;32m 5[0m [0;32mprint[0m [0;34m"Value at Risk is $%0.2f"[0m [0;34m%[0m [0mvar[0m[0;34m[0m[0m ",
"[0;31mNameError[0m: name 'norm' is not defined"
]
}
],
source: [
"portfolio_value = 1e6 ",
"concidence_level = 0.99 ",
"alpha = norm.ppf(1- concidence_level, mean, std_dev) ",
"var = portfolio_value - portfolio_value*(alpha + 1) ",
"print "Value at Risk is $%0.2f" % var"
]
},
{
cell_type: "markdown",
metadata: { },
source: [
"## VaR using Pandas"
]
},
{
cell_type: "code",
execution_count: 8,
metadata: {
collapsed: false
},
outputs: [
{
data: {
text/plain: [
"<matplotlib.axes._subplots.AxesSubplot at 0x10db5cc10>"
]
},
execution_count: 8,
metadata: { },
output_type: "execute_result"
}
],
source: [
"quantile= 1.0 - concidence_level ",
"volwindow = 10 # 10 day volatility ",
"varwindow = 21 # we need 21 day rolling VaR ",
"#21 day rolling VaR ",
"unnormedquantileR = pd.rolling_quantile(returns,varwindow,quantile) ",
" ",
"returns_2=returns.shift(-1) ",
" ",
"all_data_frame=pd.DataFrame({'returns':returns_2, ",
" 'Rolling quantiles':unnormedquantileR ",
" }) ",
"all_data_frame.plot() ",
"plt.show()"
]
},
{
cell_type: "code",
execution_count: 9,
metadata: {
collapsed: false
},
outputs: [ ],
source: [ ]
},
{
cell_type: "code",
execution_count: null,
metadata: {
collapsed: true
},
outputs: [ ],
source: [ ]
},
{
cell_type: "code",
execution_count: null,
metadata: {
collapsed: true
},
outputs: [ ],
source: [ ]
},
{
cell_type: "code",
execution_count: null,
metadata: {
collapsed: true
},
outputs: [ ],
source: [ ]
},
{
cell_type: "code",
execution_count: null,
metadata: {
collapsed: true
},
outputs: [ ],
source: [ ]
},
{
cell_type: "code",
execution_count: null,
metadata: {
collapsed: true
},
outputs: [ ],
source: [ ]
},
{
cell_type: "code",
execution_count: null,
metadata: {
collapsed: true
},
outputs: [ ],
source: [ ]
},
{
cell_type: "code",
execution_count: null,
metadata: {
collapsed: true
},
outputs: [ ],
source: [ ]
},
{
cell_type: "code",
execution_count: null,
metadata: {
collapsed: true
},
outputs: [ ],
source: [ ]
},
{
cell_type: "code",
execution_count: null,
metadata: {
collapsed: false
},
outputs: [ ],
source: [ ]
}
],
metadata: {
kernelspec: {
display_name: "Python 2",
language: "python",
name: "python2"
},
language_info: {
codemirror_mode: {
name: "ipython",
version: 2
},
file_extension: ".py",
mimetype: "text/x-python",
name: "python",
nbconvert_exporter: "python",
pygments_lexer: "ipython2",
version: "2.7.9"
}
},
nbformat: 4,
nbformat_minor: 0
}